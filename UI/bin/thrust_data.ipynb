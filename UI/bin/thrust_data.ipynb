{
 "cells": [
  {
   "cell_type": "code",
   "execution_count": null,
   "metadata": {},
   "outputs": [],
   "source": [
    "import include.init_rocket.MyRocket as rckt\n",
    "\n",
    "%run -i widgets/widgets.py"
   ]
  },
  {
   "attachments": {},
   "cell_type": "markdown",
   "metadata": {},
   "source": [
    "## Motor picker"
   ]
  },
  {
   "attachments": {},
   "cell_type": "markdown",
   "metadata": {},
   "source": [
    "### Load data"
   ]
  },
  {
   "cell_type": "code",
   "execution_count": 1,
   "metadata": {},
   "outputs": [],
   "source": [
    "import json\n",
    "import matplotlib.pyplot as plt\n",
    "import ipywidgets as widgets\n",
    "\n",
    "\n",
    "f = open('data.json')\n",
    "data = json.load(f)"
   ]
  },
  {
   "attachments": {},
   "cell_type": "markdown",
   "metadata": {},
   "source": [
    "The motors have the following attributes : \n",
    "- availability\n",
    "- average thrust\n",
    "- burn times\n",
    "- common name\n",
    "- designation\n",
    "- diameter\n",
    "- impulse class \n",
    "- manufacturer\n",
    "- max thrust\n",
    "- motor ID\n",
    "- propellant info\n",
    "- propellant weight\n",
    "- thrust curve"
   ]
  },
  {
   "attachments": {},
   "cell_type": "markdown",
   "metadata": {},
   "source": [
    "### Impulse class : \n",
    "The <b>impulse class</b> is a letter code assigned to a range of total impulse with each letter being twice as powerful as the previous.<br><br>\n",
    "A : 1.26–2.50 (N.s),\n",
    "B: 2.51–5.00,\n",
    "C : 5.01–10.0,\n",
    "D: 10.01–20.0,\n",
    "E: 20.01–40.0,\n",
    "F: 40.01–80.0,\n",
    "G: 80.01–160,\n",
    "H: 160.01–320,\n",
    "I: 320.01–640,\n",
    "J: 640.01–1,280,\n",
    "K: 1,280.01–2,560,\n",
    "L: 2,560.01–5,120,\n",
    "M: 5,120.01–10,240,\n",
    "N: 10,240.01–20,480,\n",
    "O: 20,480.01–40,960"
   ]
  },
  {
   "cell_type": "code",
   "execution_count": 41,
   "metadata": {},
   "outputs": [
    {
     "data": {
      "application/vnd.jupyter.widget-view+json": {
       "model_id": "8b5153a18bec482ea25916d1cc899a3e",
       "version_major": 2,
       "version_minor": 0
      },
      "text/plain": [
       "Select(description='impulse Class:', options=(('[1.26 - 2.50]', 'A'), ('[2.51 - 5.00]', 'B'), ('[5.01 - 10.0]'…"
      ]
     },
     "metadata": {},
     "output_type": "display_data"
    }
   ],
   "source": [
    "impulseClass = widgets.Select(\n",
    "    options=[(\"[1.26 - 2.50]\",'A'),\n",
    "             (\"[2.51 - 5.00]\",'B'),\n",
    "             (\"[5.01 - 10.0]\",'C'),\n",
    "             (\"[10.01 - 20.0]\",'D'),\n",
    "             (\"[20.01 - 40.0]\",'E'),\n",
    "             (\"[40.01 - 80.0]\",'F'),\n",
    "             (\"[80.01 - 160]\",'G'),\n",
    "             (\"[160.01 - 320]\",'H'),\n",
    "             (\"[320.01 - 640]\",'I'),\n",
    "             (\"[640.01 - 1280]\",'J'),\n",
    "             (\"[1,280.01 - 2,560]\",'K'),\n",
    "             (\"[2,560.01 - 5,120]\",'L'),\n",
    "             (\"[5,120.01 - 10,240]\",'M'),\n",
    "             (\"[10,240.01 - 20,480]\",'N'),\n",
    "             (\"[20,480.01 - 40,960]\",'O')],\n",
    "    description='impulse Class:',\n",
    "    disabled=False\n",
    ")\n",
    "display(impulseClass)"
   ]
  },
  {
   "attachments": {},
   "cell_type": "markdown",
   "metadata": {},
   "source": [
    "### Diameter \n",
    "The main diameter of the motor in millimeters."
   ]
  },
  {
   "cell_type": "code",
   "execution_count": 35,
   "metadata": {},
   "outputs": [
    {
     "data": {
      "application/vnd.jupyter.widget-view+json": {
       "model_id": "b235cd8ee79e4bed8b5b96bca9c843d5",
       "version_major": 2,
       "version_minor": 0
      },
      "text/plain": [
       "FloatRangeSlider(value=(6.0, 161.0), continuous_update=False, description='Diameter (mm):', max=161.0, min=6.0…"
      ]
     },
     "metadata": {},
     "output_type": "display_data"
    }
   ],
   "source": [
    "diameter = widgets.FloatRangeSlider(\n",
    "    value=[6, 161],\n",
    "    min=6,\n",
    "    max=161,\n",
    "    step=1,\n",
    "    description='Diameter (mm):',\n",
    "    disabled=False,\n",
    "    continuous_update=False,\n",
    "    orientation='horizontal',\n",
    "    readout=True,\n",
    "    readout_format='.1f',\n",
    ")\n",
    "diameter"
   ]
  },
  {
   "attachments": {},
   "cell_type": "markdown",
   "metadata": {},
   "source": [
    "### Possible motors according to selected attributes : "
   ]
  },
  {
   "cell_type": "code",
   "execution_count": 38,
   "metadata": {},
   "outputs": [
    {
     "data": {
      "application/vnd.jupyter.widget-view+json": {
       "model_id": "22e2b19996b0476eb74419da22badb87",
       "version_major": 2,
       "version_minor": 0
      },
      "text/plain": [
       "Select(description='designation:', options=('K185W', 'K234-BG', '835CC125J-K240', 'K240H', 'K250-LW', 'K250W',…"
      ]
     },
     "metadata": {},
     "output_type": "display_data"
    }
   ],
   "source": [
    "motors = []\n",
    "for motor in data:\n",
    "    if motor['impulseClass']==impulseClass.value and motor['diameter']>diameter.value[0] and motor['diameter']<diameter.value[1]:\n",
    "        motors.append(motor['designation'])\n",
    "\n",
    "\t\n",
    "m = widgets.Select(\n",
    "    options=[motor for motor in motors],\n",
    "    description='designation:',\n",
    "    disabled=False\n",
    ")\n",
    "m"
   ]
  },
  {
   "attachments": {},
   "cell_type": "markdown",
   "metadata": {},
   "source": [
    "### Thrust Curve : "
   ]
  },
  {
   "cell_type": "code",
   "execution_count": 37,
   "metadata": {},
   "outputs": [
    {
     "data": {
      "image/png": "[encoded data removed]",
      "text/plain": [
       "<Figure size 640x480 with 1 Axes>"
      ]
     },
     "metadata": {},
     "output_type": "display_data"
    }
   ],
   "source": [
    "motor_name = m.value\n",
    "d=[]\n",
    "for elem in data:\n",
    "\tif elem['designation'] == motor_name:\n",
    "\t\td = elem['samples']\n",
    "\t\tmotor = elem\n",
    "x = [d[i][0] for i in range(len(d))]\n",
    "y = [d[i][1] for i in range(len(d))]\n",
    "\n",
    "plt.plot(x,y)\n",
    "plt.xlabel('time (s)')\n",
    "plt.ylabel('impulse (N)')\n",
    "plt.show()"
   ]
  },
  {
   "attachments": {},
   "cell_type": "markdown",
   "metadata": {},
   "source": [
    "### Motor infos : \n"
   ]
  },
  {
   "cell_type": "code",
   "execution_count": 8,
   "metadata": {},
   "outputs": [
    {
     "name": "stdout",
     "output_type": "stream",
     "text": [
      "{'availability': 'regular', 'avgThrustN': 19.1, 'burnTimeS': 0.52, 'certOrg': 'Tripoli Rocketry Association, Inc.', 'commonName': 'C18', 'dataFiles': 2, 'delays': '4,6,8', 'designation': 'C18W', 'diameter': 18, 'impulseClass': 'C', 'length': 81, 'manufacturer': 'Quest Aerospace', 'manufacturerAbbrev': 'Quest', 'maxThrustN': 23.6, 'motorId': '5f7d2f71606b5d00041d9aba', 'propInfo': 'Fast White Lightning', 'propWeightG': 5.6, 'samples': [[0, 0], [0.013, 0.043], [0.022, 0.937], [0.03, 2.428], [0.039, 6.218], [0.044, 12.44], [0.052, 20.06], [0.059, 21.72], [0.071, 22.02], [0.08, 21.85], [0.088, 22.19], [0.122, 21.38], [0.132, 21.42], [0.143, 21.08], [0.152, 21.55], [0.167, 21.68], [0.177, 21.72], [0.187, 21.93], [0.197, 21.21], [0.218, 21.25], [0.225, 21.98], [0.232, 22.06], [0.241, 21.08], [0.247, 20.95], [0.261, 21.34], [0.268, 21.38], [0.277, 20.91], [0.294, 21.08], [0.313, 21.17], [0.324, 21.38], [0.331, 21.38], [0.34, 21.12], [0.347, 21.12], [0.356, 21.04], [0.363, 21.12], [0.377, 21.55], [0.384, 21.68], [0.396, 22.15], [0.404, 22.79], [0.414, 22.91], [0.424, 22.79], [0.436, 22.06], [0.443, 21.34], [0.454, 20.78], [0.461, 20.14], [0.468, 19.46], [0.477, 17.97], [0.482, 15.93], [0.49, 13.03], [0.5, 9.114], [0.509, 6.133], [0.52, 3.279], [0.532, 0.894], [0.539, 0.256], [0.543, 0]], 'totImpulseNs': 9.83, 'totalWeightG': 20.9, 'type': 'SU', 'updatedOn': '2020-10-07'}\n"
     ]
    }
   ],
   "source": [
    "print(motor)"
   ]
  }
 ],
 "metadata": {
  "kernelspec": {
   "display_name": "base",
   "language": "python",
   "name": "python3"
  },
  "language_info": {
   "codemirror_mode": {
    "name": "ipython",
    "version": 3
   },
   "file_extension": ".py",
   "mimetype": "text/x-python",
   "name": "python",
   "nbconvert_exporter": "python",
   "pygments_lexer": "ipython3",
   "version": "3.10.0"
  },
  "orig_nbformat": 4
 },
 "nbformat": 4,
 "nbformat_minor": 2
}
