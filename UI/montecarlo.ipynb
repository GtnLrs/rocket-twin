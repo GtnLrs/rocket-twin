{
 "cells": [
  {
   "cell_type": "code",
   "execution_count": 7,
   "metadata": {},
   "outputs": [],
   "source": [
    "from cosapp.drivers import RungeKutta\n",
    "from cosapp.recorders import DataFrameRecorder\n",
    "from cosapp.drivers import NonLinearSolver, RunOnce, MonteCarlo, RunSingleCase\n",
    "from cosapp.utils.distributions import Normal\n",
    "import sys\n",
    "sys.path.append('./model')\n",
    "from Earth import Earth\n",
    "import json\n",
    "import numpy as np\n",
    "\n",
    "earth = Earth(\"earth\")\n",
    "\n",
    "l = 10 #Rocket's length on the plot\n",
    "dt = 0.05 #Time-step\n",
    "\n",
    "\n",
    "from cosapp.utils.distributions import Normal\n",
    "from cosapp.drivers import MonteCarlo\n",
    "from cosapp.recorders import DataFrameRecorder"
   ]
  },
  {
   "cell_type": "code",
   "execution_count": 8,
   "metadata": {},
   "outputs": [],
   "source": [
    "\n",
    "LOAD = True\n",
    "\n",
    "if LOAD:\n",
    "    with open(\"./include/init_rocket/rocket_dict.json\", \"r\") as f:\n",
    "        rocket_dict = json.load(f)\n",
    "    l = rocket_dict['tube_length'] + rocket_dict['nose_length'] #Rocket's length on the plot\n",
    "    angz = - rocket_dict['rocket_launch_angle']\n",
    "    # Load the thrust.txt\n",
    "    thrust = rocket_dict['motor']['samples']\n",
    "    with open(\"model/Utility/thrust.txt\", \"w\") as f:\n",
    "        for i in range(len(thrust[0])):\n",
    "            f.write(\", \".join([str(point[i]) for point in thrust]))\n",
    "            if i < len(thrust[0]) - 1:\n",
    "                f.write(\"\\n\")\n",
    "\n",
    "init = {\n",
    "    'Traj.r' : np.array([-(l/2)*np.sin(angz), 0., (l/2)*np.cos(angz)]),\n",
    "    'Rocket.Kin.v' : np.array([0,0,0]),\n",
    "    'Rocket.Kin.ar' : 'initrot',\n",
    "    'Rocket.Kin.av' : np.zeros(3),\n",
    "    'Para.DynPar.r1' : np.array([0., 0., l/2]),\n",
    "    'Para.DynPar.r2' : np.array([0., 0., l/2]),\n",
    "    'Para.DynPar.v1' : np.array([0,0,0]),\n",
    "    'Para.DynPar.v2' : np.array([0,0,0]),\n",
    "    'Traj.ParaDepStatus': False\n",
    "}\n",
    "# rocket_dict parameters\n",
    "if LOAD:\n",
    "    init = {**init, \n",
    "            'Traj.r' : np.array([0,0, rocket_dict['rocket_cog'][0]]),\n",
    "            'Para.DynPar.r1' : np.array([0., 0., rocket_dict['rocket_cog'][0]]),\n",
    "            'Para.DynPar.r2' : np.array([0., 0., rocket_dict['rocket_cog'][0]]),\n",
    "            'Rocket.CG': rocket_dict['rocket_cog'][0],\n",
    "            'Rocket.l' : l,\n",
    "            'Rocket.Mass.m' : rocket_dict['rocket_mass'],\n",
    "            'Rocket.Mass.m0' : rocket_dict['rocket_mass'],\n",
    "            'Rocket.Mass.Dm' : rocket_dict['rocket_prop_weight']/thrust[-1][0],\n",
    "            'Rocket.Mass.lastEngineTime' : thrust[-1][0],\n",
    "            'Rocket.Mass.I0_geom' : [rocket_dict['rocket_inertia'][i][i] for i in range(3)],\n",
    "\n",
    "            'Rocket.Aero.Coefs.ln' : rocket_dict['nose_length'],\n",
    "            'Rocket.Aero.Coefs.d' : 2*rocket_dict['tube_radius'],\n",
    "            'Rocket.Aero.Coefs.NFins' : rocket_dict['fins_number'],\n",
    "            'Rocket.Aero.Coefs.s' : rocket_dict['fins_s'],\n",
    "            'Rocket.Aero.Coefs.Xt' : rocket_dict['fins_Xt'],\n",
    "            'Rocket.Aero.Coefs.Cr' : rocket_dict['fins_Cr'],\n",
    "            'Rocket.Aero.Coefs.Ct' : rocket_dict['fins_Ct'],\n",
    "            'Rocket.Aero.Coefs.tf' : rocket_dict['fins_thickness'],\n",
    "            'Rocket.Aero.Coefs.delta' : rocket_dict['delta'],\n",
    "\n",
    "            'Wind.wind_on' : rocket_dict['wind_on'],\n",
    "            # 'Wind.wind_average_speed' : rocket_dict['wind_average_speed'],\n",
    "\n",
    "            'Para.l0' : rocket_dict['parachute_l0'],\n",
    "            'Para.m1' : rocket_dict['parachute_weight'] + rocket_dict['ejected_nose_mass'],\n",
    "            'Para.m2' : rocket_dict['rocket_mass'] - rocket_dict['ejected_nose_mass'],\n",
    "            'Para.DynPar.S_ref' : rocket_dict['parachute_sref'],\n",
    "            'Para.DynPar.Cd' : rocket_dict['parachute_Cd'],\n",
    "\n",
    "            'Traj.parachute_deploy_method' : 0 if rocket_dict['parachute_deploy_method'] == 'velocity' else 1,\n",
    "            'Traj.parachute_deploy_timer' : rocket_dict['parachute_deploy_timer'],\n",
    "            }"
   ]
  },
  {
   "cell_type": "code",
   "execution_count": 14,
   "metadata": {},
   "outputs": [],
   "source": [
    "def run_analysis(syst, draws=10, linear=True):\n",
    "    syst.drivers.clear()  # Remove all drivers on the System\n",
    "\n",
    "    runonce = syst.add_driver(RunOnce(\"runonce\"))\n",
    "    driver = syst.add_driver(RungeKutta(order=4, dt=dt))\n",
    "    # driver.add_recorder(DataFrameRecorder(includes=['Rocket.Kin.ar', 'Traj.r', 'initrot']))\n",
    "    driver.add_child(NonLinearSolver('solver', factor=1.0))\n",
    "    driver.time_interval = (0, 40)\n",
    "\n",
    "    # Define a simulation scenario\n",
    "    driver.set_scenario(\n",
    "        init = init,\n",
    "        stop = 'Para.DynPar.r2[2] < -1'\n",
    "    )\n",
    "\n",
    "    syst.run_drivers()\n",
    "\n",
    "    # return driver.recorder.export_data()\n",
    "\n",
    "    print(\"MONTECARLO\")\n",
    "    # Montecarlo\n",
    "    syst.drivers.clear()\n",
    "    montecarlo = syst.add_driver(MonteCarlo('mc'))\n",
    "    montecarlo.add_recorder(DataFrameRecorder(includes=['Rocket.Kin.ar', 'Traj.r', 'initrot']))\n",
    "    montecarlo.add_child(driver)\n",
    "    montecarlo.draws = draws\n",
    "    # montecarlo.linear = linear\n",
    "\n",
    "    # parameters for uncertainties in the data\n",
    "    pitch_attr = syst.inwards.get_details('pitch_init')\n",
    "    yaw_attr = syst.inwards.get_details('yaw_init')\n",
    "    \n",
    "    # Set the distribution around the current value\n",
    "    pitch_attr.distribution = Normal(best=.2, worst=-0.02)\n",
    "    yaw_attr.distribution = Normal(best=.3, worst=-0.3)\n",
    "\n",
    "    montecarlo.add_random_variable('pitch_init')\n",
    "    montecarlo.add_random_variable('yaw_init')\n",
    "\n",
    "    # Computation\n",
    "    syst.run_drivers()\n",
    "\n",
    "    return montecarlo.recorder.export_data()"
   ]
  },
  {
   "cell_type": "code",
   "execution_count": 15,
   "metadata": {},
   "outputs": [
    {
     "name": "stdout",
     "output_type": "stream",
     "text": [
      "MONTECARLO\n"
     ]
    }
   ],
   "source": [
    "\n",
    "results = run_analysis(earth, draws=10, linear=False)"
   ]
  },
  {
   "cell_type": "code",
   "execution_count": 16,
   "metadata": {},
   "outputs": [
    {
     "data": {
      "text/html": [
       "<div>\n",
       "<style scoped>\n",
       "    .dataframe tbody tr th:only-of-type {\n",
       "        vertical-align: middle;\n",
       "    }\n",
       "\n",
       "    .dataframe tbody tr th {\n",
       "        vertical-align: top;\n",
       "    }\n",
       "\n",
       "    .dataframe thead th {\n",
       "        text-align: right;\n",
       "    }\n",
       "</style>\n",
       "<table border=\"1\" class=\"dataframe\">\n",
       "  <thead>\n",
       "    <tr style=\"text-align: right;\">\n",
       "      <th></th>\n",
       "      <th>Section</th>\n",
       "      <th>Status</th>\n",
       "      <th>Error code</th>\n",
       "      <th>Reference</th>\n",
       "      <th>Rocket.Kin.ar</th>\n",
       "      <th>Traj.r</th>\n",
       "      <th>initrot</th>\n",
       "    </tr>\n",
       "  </thead>\n",
       "  <tbody>\n",
       "    <tr>\n",
       "      <th>0</th>\n",
       "      <td></td>\n",
       "      <td></td>\n",
       "      <td>0</td>\n",
       "      <td>0</td>\n",
       "      <td>[1.8418955572286565e-06, -1.4802440955795837, ...</td>\n",
       "      <td>[2.781565202540398, -5.680039534635829e-07, 10...</td>\n",
       "      <td>[0.0, -1.4707963267948965, 0.09000000000000001]</td>\n",
       "    </tr>\n",
       "    <tr>\n",
       "      <th>1</th>\n",
       "      <td></td>\n",
       "      <td></td>\n",
       "      <td>0</td>\n",
       "      <td>1</td>\n",
       "      <td>[-2.061470080135557e-05, -1.4802440152841225, ...</td>\n",
       "      <td>[2.7703094685440033, 0.2500076182571723, 10.46...</td>\n",
       "      <td>[0.0, -1.6660302194019785, 0.16158576062259672]</td>\n",
       "    </tr>\n",
       "    <tr>\n",
       "      <th>2</th>\n",
       "      <td></td>\n",
       "      <td></td>\n",
       "      <td>0</td>\n",
       "      <td>2</td>\n",
       "      <td>[3.9271940995465404e-05, -1.6570940737995172, ...</td>\n",
       "      <td>[-2.6150839167812694, -0.42626489044302746, 10...</td>\n",
       "      <td>[0.0, -1.2755624341878145, 0.018414239377403288]</td>\n",
       "    </tr>\n",
       "    <tr>\n",
       "      <th>3</th>\n",
       "      <td></td>\n",
       "      <td></td>\n",
       "      <td>0</td>\n",
       "      <td>3</td>\n",
       "      <td>[-1.1854467610701468e-17, -1.3091729588261953,...</td>\n",
       "      <td>[8.069615764546153, 0.1486087720413232, 9.4815...</td>\n",
       "      <td>[0.0, -1.563027829714733, 0.05618178226272662]</td>\n",
       "    </tr>\n",
       "    <tr>\n",
       "      <th>4</th>\n",
       "      <td></td>\n",
       "      <td></td>\n",
       "      <td>0</td>\n",
       "      <td>4</td>\n",
       "      <td>[-0.00015755055927279104, -1.5640053734505448,...</td>\n",
       "      <td>[0.21213869759320514, 0.011935203484731434, 10...</td>\n",
       "      <td>[0.0, -1.1378228645241018, 0.21209026949929144]</td>\n",
       "    </tr>\n",
       "    <tr>\n",
       "      <th>5</th>\n",
       "      <td></td>\n",
       "      <td></td>\n",
       "      <td>0</td>\n",
       "      <td>5</td>\n",
       "      <td>[5.89534137757945e-17, -1.1959474666458996, 0....</td>\n",
       "      <td>[11.333389625021798, 2.4404080282581107, 8.273...</td>\n",
       "      <td>[0.0, -1.8037697890656912, 0.1238182177372734]</td>\n",
       "    </tr>\n",
       "    <tr>\n",
       "      <th>6</th>\n",
       "      <td></td>\n",
       "      <td></td>\n",
       "      <td>0</td>\n",
       "      <td>6</td>\n",
       "      <td>[1.0391589237529197e-06, -1.7791295707996448, ...</td>\n",
       "      <td>[-6.366840307131113, -0.7923821816348376, 9.89...</td>\n",
       "      <td>[0.0, -1.3785648238750599, -0.032090269499291404]</td>\n",
       "    </tr>\n",
       "    <tr>\n",
       "      <th>7</th>\n",
       "      <td></td>\n",
       "      <td></td>\n",
       "      <td>0</td>\n",
       "      <td>7</td>\n",
       "      <td>[5.658997167785273e-07, -1.3980237139278644, -...</td>\n",
       "      <td>[5.3123874075689175, -0.17054272021998085, 10....</td>\n",
       "      <td>[0.0, -1.6122747129804464, -0.004155709842326605]</td>\n",
       "    </tr>\n",
       "    <tr>\n",
       "      <th>8</th>\n",
       "      <td></td>\n",
       "      <td></td>\n",
       "      <td>0</td>\n",
       "      <td>8</td>\n",
       "      <td>[-6.705387561938318e-06, -1.6083466126584636, ...</td>\n",
       "      <td>[-1.153830154718134, 0.004795795418271609, 10....</td>\n",
       "      <td>[0.0, -1.214008027224915, 0.14187540826803496]</td>\n",
       "    </tr>\n",
       "    <tr>\n",
       "      <th>9</th>\n",
       "      <td></td>\n",
       "      <td></td>\n",
       "      <td>0</td>\n",
       "      <td>9</td>\n",
       "      <td>[-8.29751742730633e-17, -1.2577820296914208, 0...</td>\n",
       "      <td>[9.573176091647472, 1.3673888836535275, 8.9905...</td>\n",
       "      <td>[0.0, -1.914853965202851, 0.2528211340829166]</td>\n",
       "    </tr>\n",
       "  </tbody>\n",
       "</table>\n",
       "</div>"
      ],
      "text/plain": [
       "  Section Status Error code Reference   \n",
       "0                         0         0  \\\n",
       "1                         0         1   \n",
       "2                         0         2   \n",
       "3                         0         3   \n",
       "4                         0         4   \n",
       "5                         0         5   \n",
       "6                         0         6   \n",
       "7                         0         7   \n",
       "8                         0         8   \n",
       "9                         0         9   \n",
       "\n",
       "                                       Rocket.Kin.ar   \n",
       "0  [1.8418955572286565e-06, -1.4802440955795837, ...  \\\n",
       "1  [-2.061470080135557e-05, -1.4802440152841225, ...   \n",
       "2  [3.9271940995465404e-05, -1.6570940737995172, ...   \n",
       "3  [-1.1854467610701468e-17, -1.3091729588261953,...   \n",
       "4  [-0.00015755055927279104, -1.5640053734505448,...   \n",
       "5  [5.89534137757945e-17, -1.1959474666458996, 0....   \n",
       "6  [1.0391589237529197e-06, -1.7791295707996448, ...   \n",
       "7  [5.658997167785273e-07, -1.3980237139278644, -...   \n",
       "8  [-6.705387561938318e-06, -1.6083466126584636, ...   \n",
       "9  [-8.29751742730633e-17, -1.2577820296914208, 0...   \n",
       "\n",
       "                                              Traj.r   \n",
       "0  [2.781565202540398, -5.680039534635829e-07, 10...  \\\n",
       "1  [2.7703094685440033, 0.2500076182571723, 10.46...   \n",
       "2  [-2.6150839167812694, -0.42626489044302746, 10...   \n",
       "3  [8.069615764546153, 0.1486087720413232, 9.4815...   \n",
       "4  [0.21213869759320514, 0.011935203484731434, 10...   \n",
       "5  [11.333389625021798, 2.4404080282581107, 8.273...   \n",
       "6  [-6.366840307131113, -0.7923821816348376, 9.89...   \n",
       "7  [5.3123874075689175, -0.17054272021998085, 10....   \n",
       "8  [-1.153830154718134, 0.004795795418271609, 10....   \n",
       "9  [9.573176091647472, 1.3673888836535275, 8.9905...   \n",
       "\n",
       "                                             initrot  \n",
       "0    [0.0, -1.4707963267948965, 0.09000000000000001]  \n",
       "1    [0.0, -1.6660302194019785, 0.16158576062259672]  \n",
       "2   [0.0, -1.2755624341878145, 0.018414239377403288]  \n",
       "3     [0.0, -1.563027829714733, 0.05618178226272662]  \n",
       "4    [0.0, -1.1378228645241018, 0.21209026949929144]  \n",
       "5     [0.0, -1.8037697890656912, 0.1238182177372734]  \n",
       "6  [0.0, -1.3785648238750599, -0.032090269499291404]  \n",
       "7  [0.0, -1.6122747129804464, -0.004155709842326605]  \n",
       "8     [0.0, -1.214008027224915, 0.14187540826803496]  \n",
       "9      [0.0, -1.914853965202851, 0.2528211340829166]  "
      ]
     },
     "execution_count": 16,
     "metadata": {},
     "output_type": "execute_result"
    }
   ],
   "source": [
    "results"
   ]
  },
  {
   "cell_type": "code",
   "execution_count": 17,
   "metadata": {},
   "outputs": [
    {
     "data": {
      "text/plain": [
       "array([[ 2.78156520e+00, -5.68003953e-07,  1.04610602e+01],\n",
       "       [ 2.77030947e+00,  2.50007618e-01,  1.04610602e+01],\n",
       "       [-2.61508392e+00, -4.26264890e-01,  1.04732020e+01],\n",
       "       [ 8.06961576e+00,  1.48608772e-01,  9.48158308e+00],\n",
       "       [ 2.12138698e-01,  1.19352035e-02,  1.05913409e+01],\n",
       "       [ 1.13333896e+01,  2.44040803e+00,  8.27317247e+00],\n",
       "       [-6.36684031e+00, -7.92382182e-01,  9.89268445e+00],\n",
       "       [ 5.31238741e+00, -1.70542720e-01,  1.01128339e+01],\n",
       "       [-1.15383015e+00,  4.79579542e-03,  1.05695831e+01],\n",
       "       [ 9.57317609e+00,  1.36738888e+00,  8.99055836e+00]])"
      ]
     },
     "execution_count": 17,
     "metadata": {},
     "output_type": "execute_result"
    }
   ],
   "source": [
    "traj = np.asarray(results['Traj.r'].tolist())\n",
    "traj"
   ]
  },
  {
   "cell_type": "code",
   "execution_count": 18,
   "metadata": {},
   "outputs": [
    {
     "data": {
      "application/vnd.plotly.v1+json": {
       "config": {
        "plotlyServerURL": "https://plot.ly"
       },
       "data": [
        {
         "mode": "markers",
         "type": "scatter",
         "x": [
          2.781565202540398,
          2.7703094685440033,
          -2.6150839167812694,
          8.069615764546153,
          0.21213869759320514,
          11.333389625021798,
          -6.366840307131113,
          5.3123874075689175,
          -1.153830154718134,
          9.573176091647472
         ],
         "xaxis": "x",
         "y": [
          -5.680039534635829e-7,
          0.2500076182571723,
          -0.42626489044302746,
          0.1486087720413232,
          0.011935203484731434,
          2.4404080282581107,
          -0.7923821816348376,
          -0.17054272021998085,
          0.004795795418271609,
          1.3673888836535275
         ],
         "yaxis": "y"
        }
       ],
       "layout": {
        "template": {
         "data": {
          "bar": [
           {
            "error_x": {
             "color": "#2a3f5f"
            },
            "error_y": {
             "color": "#2a3f5f"
            },
            "marker": {
             "line": {
              "color": "#E5ECF6",
              "width": 0.5
             },
             "pattern": {
              "fillmode": "overlay",
              "size": 10,
              "solidity": 0.2
             }
            },
            "type": "bar"
           }
          ],
          "barpolar": [
           {
            "marker": {
             "line": {
              "color": "#E5ECF6",
              "width": 0.5
             },
             "pattern": {
              "fillmode": "overlay",
              "size": 10,
              "solidity": 0.2
             }
            },
            "type": "barpolar"
           }
          ],
          "carpet": [
           {
            "aaxis": {
             "endlinecolor": "#2a3f5f",
             "gridcolor": "white",
             "linecolor": "white",
             "minorgridcolor": "white",
             "startlinecolor": "#2a3f5f"
            },
            "baxis": {
             "endlinecolor": "#2a3f5f",
             "gridcolor": "white",
             "linecolor": "white",
             "minorgridcolor": "white",
             "startlinecolor": "#2a3f5f"
            },
            "type": "carpet"
           }
          ],
          "choropleth": [
           {
            "colorbar": {
             "outlinewidth": 0,
             "ticks": ""
            },
            "type": "choropleth"
           }
          ],
          "contour": [
           {
            "colorbar": {
             "outlinewidth": 0,
             "ticks": ""
            },
            "colorscale": [
             [
              0,
              "#0d0887"
             ],
             [
              0.1111111111111111,
              "#46039f"
             ],
             [
              0.2222222222222222,
              "#7201a8"
             ],
             [
              0.3333333333333333,
              "#9c179e"
             ],
             [
              0.4444444444444444,
              "#bd3786"
             ],
             [
              0.5555555555555556,
              "#d8576b"
             ],
             [
              0.6666666666666666,
              "#ed7953"
             ],
             [
              0.7777777777777778,
              "#fb9f3a"
             ],
             [
              0.8888888888888888,
              "#fdca26"
             ],
             [
              1,
              "#f0f921"
             ]
            ],
            "type": "contour"
           }
          ],
          "contourcarpet": [
           {
            "colorbar": {
             "outlinewidth": 0,
             "ticks": ""
            },
            "type": "contourcarpet"
           }
          ],
          "heatmap": [
           {
            "colorbar": {
             "outlinewidth": 0,
             "ticks": ""
            },
            "colorscale": [
             [
              0,
              "#0d0887"
             ],
             [
              0.1111111111111111,
              "#46039f"
             ],
             [
              0.2222222222222222,
              "#7201a8"
             ],
             [
              0.3333333333333333,
              "#9c179e"
             ],
             [
              0.4444444444444444,
              "#bd3786"
             ],
             [
              0.5555555555555556,
              "#d8576b"
             ],
             [
              0.6666666666666666,
              "#ed7953"
             ],
             [
              0.7777777777777778,
              "#fb9f3a"
             ],
             [
              0.8888888888888888,
              "#fdca26"
             ],
             [
              1,
              "#f0f921"
             ]
            ],
            "type": "heatmap"
           }
          ],
          "heatmapgl": [
           {
            "colorbar": {
             "outlinewidth": 0,
             "ticks": ""
            },
            "colorscale": [
             [
              0,
              "#0d0887"
             ],
             [
              0.1111111111111111,
              "#46039f"
             ],
             [
              0.2222222222222222,
              "#7201a8"
             ],
             [
              0.3333333333333333,
              "#9c179e"
             ],
             [
              0.4444444444444444,
              "#bd3786"
             ],
             [
              0.5555555555555556,
              "#d8576b"
             ],
             [
              0.6666666666666666,
              "#ed7953"
             ],
             [
              0.7777777777777778,
              "#fb9f3a"
             ],
             [
              0.8888888888888888,
              "#fdca26"
             ],
             [
              1,
              "#f0f921"
             ]
            ],
            "type": "heatmapgl"
           }
          ],
          "histogram": [
           {
            "marker": {
             "pattern": {
              "fillmode": "overlay",
              "size": 10,
              "solidity": 0.2
             }
            },
            "type": "histogram"
           }
          ],
          "histogram2d": [
           {
            "colorbar": {
             "outlinewidth": 0,
             "ticks": ""
            },
            "colorscale": [
             [
              0,
              "#0d0887"
             ],
             [
              0.1111111111111111,
              "#46039f"
             ],
             [
              0.2222222222222222,
              "#7201a8"
             ],
             [
              0.3333333333333333,
              "#9c179e"
             ],
             [
              0.4444444444444444,
              "#bd3786"
             ],
             [
              0.5555555555555556,
              "#d8576b"
             ],
             [
              0.6666666666666666,
              "#ed7953"
             ],
             [
              0.7777777777777778,
              "#fb9f3a"
             ],
             [
              0.8888888888888888,
              "#fdca26"
             ],
             [
              1,
              "#f0f921"
             ]
            ],
            "type": "histogram2d"
           }
          ],
          "histogram2dcontour": [
           {
            "colorbar": {
             "outlinewidth": 0,
             "ticks": ""
            },
            "colorscale": [
             [
              0,
              "#0d0887"
             ],
             [
              0.1111111111111111,
              "#46039f"
             ],
             [
              0.2222222222222222,
              "#7201a8"
             ],
             [
              0.3333333333333333,
              "#9c179e"
             ],
             [
              0.4444444444444444,
              "#bd3786"
             ],
             [
              0.5555555555555556,
              "#d8576b"
             ],
             [
              0.6666666666666666,
              "#ed7953"
             ],
             [
              0.7777777777777778,
              "#fb9f3a"
             ],
             [
              0.8888888888888888,
              "#fdca26"
             ],
             [
              1,
              "#f0f921"
             ]
            ],
            "type": "histogram2dcontour"
           }
          ],
          "mesh3d": [
           {
            "colorbar": {
             "outlinewidth": 0,
             "ticks": ""
            },
            "type": "mesh3d"
           }
          ],
          "parcoords": [
           {
            "line": {
             "colorbar": {
              "outlinewidth": 0,
              "ticks": ""
             }
            },
            "type": "parcoords"
           }
          ],
          "pie": [
           {
            "automargin": true,
            "type": "pie"
           }
          ],
          "scatter": [
           {
            "fillpattern": {
             "fillmode": "overlay",
             "size": 10,
             "solidity": 0.2
            },
            "type": "scatter"
           }
          ],
          "scatter3d": [
           {
            "line": {
             "colorbar": {
              "outlinewidth": 0,
              "ticks": ""
             }
            },
            "marker": {
             "colorbar": {
              "outlinewidth": 0,
              "ticks": ""
             }
            },
            "type": "scatter3d"
           }
          ],
          "scattercarpet": [
           {
            "marker": {
             "colorbar": {
              "outlinewidth": 0,
              "ticks": ""
             }
            },
            "type": "scattercarpet"
           }
          ],
          "scattergeo": [
           {
            "marker": {
             "colorbar": {
              "outlinewidth": 0,
              "ticks": ""
             }
            },
            "type": "scattergeo"
           }
          ],
          "scattergl": [
           {
            "marker": {
             "colorbar": {
              "outlinewidth": 0,
              "ticks": ""
             }
            },
            "type": "scattergl"
           }
          ],
          "scattermapbox": [
           {
            "marker": {
             "colorbar": {
              "outlinewidth": 0,
              "ticks": ""
             }
            },
            "type": "scattermapbox"
           }
          ],
          "scatterpolar": [
           {
            "marker": {
             "colorbar": {
              "outlinewidth": 0,
              "ticks": ""
             }
            },
            "type": "scatterpolar"
           }
          ],
          "scatterpolargl": [
           {
            "marker": {
             "colorbar": {
              "outlinewidth": 0,
              "ticks": ""
             }
            },
            "type": "scatterpolargl"
           }
          ],
          "scatterternary": [
           {
            "marker": {
             "colorbar": {
              "outlinewidth": 0,
              "ticks": ""
             }
            },
            "type": "scatterternary"
           }
          ],
          "surface": [
           {
            "colorbar": {
             "outlinewidth": 0,
             "ticks": ""
            },
            "colorscale": [
             [
              0,
              "#0d0887"
             ],
             [
              0.1111111111111111,
              "#46039f"
             ],
             [
              0.2222222222222222,
              "#7201a8"
             ],
             [
              0.3333333333333333,
              "#9c179e"
             ],
             [
              0.4444444444444444,
              "#bd3786"
             ],
             [
              0.5555555555555556,
              "#d8576b"
             ],
             [
              0.6666666666666666,
              "#ed7953"
             ],
             [
              0.7777777777777778,
              "#fb9f3a"
             ],
             [
              0.8888888888888888,
              "#fdca26"
             ],
             [
              1,
              "#f0f921"
             ]
            ],
            "type": "surface"
           }
          ],
          "table": [
           {
            "cells": {
             "fill": {
              "color": "#EBF0F8"
             },
             "line": {
              "color": "white"
             }
            },
            "header": {
             "fill": {
              "color": "#C8D4E3"
             },
             "line": {
              "color": "white"
             }
            },
            "type": "table"
           }
          ]
         },
         "layout": {
          "annotationdefaults": {
           "arrowcolor": "#2a3f5f",
           "arrowhead": 0,
           "arrowwidth": 1
          },
          "autotypenumbers": "strict",
          "coloraxis": {
           "colorbar": {
            "outlinewidth": 0,
            "ticks": ""
           }
          },
          "colorscale": {
           "diverging": [
            [
             0,
             "#8e0152"
            ],
            [
             0.1,
             "#c51b7d"
            ],
            [
             0.2,
             "#de77ae"
            ],
            [
             0.3,
             "#f1b6da"
            ],
            [
             0.4,
             "#fde0ef"
            ],
            [
             0.5,
             "#f7f7f7"
            ],
            [
             0.6,
             "#e6f5d0"
            ],
            [
             0.7,
             "#b8e186"
            ],
            [
             0.8,
             "#7fbc41"
            ],
            [
             0.9,
             "#4d9221"
            ],
            [
             1,
             "#276419"
            ]
           ],
           "sequential": [
            [
             0,
             "#0d0887"
            ],
            [
             0.1111111111111111,
             "#46039f"
            ],
            [
             0.2222222222222222,
             "#7201a8"
            ],
            [
             0.3333333333333333,
             "#9c179e"
            ],
            [
             0.4444444444444444,
             "#bd3786"
            ],
            [
             0.5555555555555556,
             "#d8576b"
            ],
            [
             0.6666666666666666,
             "#ed7953"
            ],
            [
             0.7777777777777778,
             "#fb9f3a"
            ],
            [
             0.8888888888888888,
             "#fdca26"
            ],
            [
             1,
             "#f0f921"
            ]
           ],
           "sequentialminus": [
            [
             0,
             "#0d0887"
            ],
            [
             0.1111111111111111,
             "#46039f"
            ],
            [
             0.2222222222222222,
             "#7201a8"
            ],
            [
             0.3333333333333333,
             "#9c179e"
            ],
            [
             0.4444444444444444,
             "#bd3786"
            ],
            [
             0.5555555555555556,
             "#d8576b"
            ],
            [
             0.6666666666666666,
             "#ed7953"
            ],
            [
             0.7777777777777778,
             "#fb9f3a"
            ],
            [
             0.8888888888888888,
             "#fdca26"
            ],
            [
             1,
             "#f0f921"
            ]
           ]
          },
          "colorway": [
           "#636efa",
           "#EF553B",
           "#00cc96",
           "#ab63fa",
           "#FFA15A",
           "#19d3f3",
           "#FF6692",
           "#B6E880",
           "#FF97FF",
           "#FECB52"
          ],
          "font": {
           "color": "#2a3f5f"
          },
          "geo": {
           "bgcolor": "white",
           "lakecolor": "white",
           "landcolor": "#E5ECF6",
           "showlakes": true,
           "showland": true,
           "subunitcolor": "white"
          },
          "hoverlabel": {
           "align": "left"
          },
          "hovermode": "closest",
          "mapbox": {
           "style": "light"
          },
          "paper_bgcolor": "white",
          "plot_bgcolor": "#E5ECF6",
          "polar": {
           "angularaxis": {
            "gridcolor": "white",
            "linecolor": "white",
            "ticks": ""
           },
           "bgcolor": "#E5ECF6",
           "radialaxis": {
            "gridcolor": "white",
            "linecolor": "white",
            "ticks": ""
           }
          },
          "scene": {
           "xaxis": {
            "backgroundcolor": "#E5ECF6",
            "gridcolor": "white",
            "gridwidth": 2,
            "linecolor": "white",
            "showbackground": true,
            "ticks": "",
            "zerolinecolor": "white"
           },
           "yaxis": {
            "backgroundcolor": "#E5ECF6",
            "gridcolor": "white",
            "gridwidth": 2,
            "linecolor": "white",
            "showbackground": true,
            "ticks": "",
            "zerolinecolor": "white"
           },
           "zaxis": {
            "backgroundcolor": "#E5ECF6",
            "gridcolor": "white",
            "gridwidth": 2,
            "linecolor": "white",
            "showbackground": true,
            "ticks": "",
            "zerolinecolor": "white"
           }
          },
          "shapedefaults": {
           "line": {
            "color": "#2a3f5f"
           }
          },
          "ternary": {
           "aaxis": {
            "gridcolor": "white",
            "linecolor": "white",
            "ticks": ""
           },
           "baxis": {
            "gridcolor": "white",
            "linecolor": "white",
            "ticks": ""
           },
           "bgcolor": "#E5ECF6",
           "caxis": {
            "gridcolor": "white",
            "linecolor": "white",
            "ticks": ""
           }
          },
          "title": {
           "x": 0.05
          },
          "xaxis": {
           "automargin": true,
           "gridcolor": "white",
           "linecolor": "white",
           "ticks": "",
           "title": {
            "standoff": 15
           },
           "zerolinecolor": "white",
           "zerolinewidth": 2
          },
          "yaxis": {
           "automargin": true,
           "gridcolor": "white",
           "linecolor": "white",
           "ticks": "",
           "title": {
            "standoff": 15
           },
           "zerolinecolor": "white",
           "zerolinewidth": 2
          }
         }
        },
        "title": {
         "text": "Probability"
        },
        "xaxis": {
         "anchor": "y",
         "domain": [
          0,
          1
         ],
         "title": {
          "text": "X Position"
         }
        },
        "yaxis": {
         "anchor": "x",
         "domain": [
          0,
          1
         ],
         "title": {
          "text": "Y Position"
         }
        }
       }
      }
     },
     "metadata": {},
     "output_type": "display_data"
    }
   ],
   "source": [
    "\n",
    "import plotly.graph_objs as go\n",
    "from plotly.subplots import make_subplots\n",
    "\n",
    "traj = np.asarray(results['Traj.r'].tolist())\n",
    "\n",
    "# Create the figure object\n",
    "fig = make_subplots(rows=1, cols=1)\n",
    "fig.layout.title = \"Probability\"\n",
    "fig.layout.yaxis.title = 'Y Position'\n",
    "\n",
    "fig.add_trace(\n",
    "    go.Scatter(\n",
    "        x=traj[:,0],\n",
    "        y=traj[:,1],\n",
    "        mode = 'markers'\n",
    "    ),\n",
    "    row = 1,\n",
    "    col = 1,\n",
    ")\n",
    "fig.get_subplot(1, 1).xaxis.title = \"X Position\"\n",
    "\n",
    "fig.show()"
   ]
  }
 ],
 "metadata": {
  "kernelspec": {
   "display_name": "PSC",
   "language": "python",
   "name": "python3"
  },
  "language_info": {
   "codemirror_mode": {
    "name": "ipython",
    "version": 3
   },
   "file_extension": ".py",
   "mimetype": "text/x-python",
   "name": "python",
   "nbconvert_exporter": "python",
   "pygments_lexer": "ipython3",
   "version": "3.10.9"
  },
  "orig_nbformat": 4
 },
 "nbformat": 4,
 "nbformat_minor": 2
}
