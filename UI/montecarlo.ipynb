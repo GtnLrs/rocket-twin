{
 "cells": [
  {
   "cell_type": "code",
   "execution_count": 3,
   "metadata": {},
   "outputs": [],
   "source": [
    "from cosapp.drivers import RungeKutta\n",
    "from cosapp.recorders import DataFrameRecorder\n",
    "from cosapp.drivers import NonLinearSolver, RunOnce, MonteCarlo, RunSingleCase\n",
    "from cosapp.utils.distributions import Normal\n",
    "import sys\n",
    "sys.path.append('./model')\n",
    "from Earth import Earth\n",
    "import numpy as np\n",
    "\n",
    "earth = Earth(\"earth\")\n",
    "\n",
    "l = 10 #Rocket's length on the plot\n",
    "dt = 0.05 #Time-step\n",
    "\n",
    "\n",
    "from cosapp.utils.distributions import Normal\n",
    "from cosapp.drivers import MonteCarlo\n",
    "from cosapp.recorders import DataFrameRecorder"
   ]
  },
  {
   "cell_type": "code",
   "execution_count": 4,
   "metadata": {},
   "outputs": [],
   "source": [
    "\n",
    "def run_analysis(syst, draws=10, linear=True):\n",
    "    syst.drivers.clear()  # Remove all drivers on the System\n",
    "\n",
    "    runonce = syst.add_driver(RunOnce(\"runonce\"))\n",
    "    driver = syst.add_driver(RungeKutta(order=4, dt=dt))\n",
    "    driver.add_child(NonLinearSolver('solver', factor=1.0))\n",
    "    driver.time_interval = (0, 40)\n",
    "\n",
    "    # Define a simulation scenario\n",
    "    driver.set_scenario(\n",
    "        init = {\n",
    "        'Traj.r' : np.array([0., 0., l/2]),\n",
    "        'Rocket.Kin.v' : np.array([0,0,0]),\n",
    "        'Rocket.Kin.ar' : np.array([0, -np.pi/2 + 0.2, 0]),\n",
    "        'Rocket.Kin.av' : np.zeros(3),\n",
    "        'Para.DynPar.r1' : np.array([0., 0., l/2]), #(should be l because the parachute is at the tip of the rocket)\n",
    "        'Para.DynPar.r2' : np.array([0., 0., l/2]),\n",
    "        'Para.DynPar.v1' : np.array([0,0,0]),\n",
    "        'Para.DynPar.v2' : np.array([0,0,0]),\n",
    "        'Traj.ParaDepStatus': False\n",
    "    },\n",
    "    stop='Para.DynPar.r1[2] < -1'\n",
    "    )\n",
    "\n",
    "    syst.run_drivers()\n",
    "    print(\"MONTECARLO\")\n",
    "    # Montecarlo\n",
    "    syst.drivers.clear()\n",
    "    montecarlo = syst.add_driver(MonteCarlo('mc'))\n",
    "    montecarlo.add_recorder(DataFrameRecorder(includes=['Rocket.Kin.ar', 'Traj.r']))\n",
    "    montecarlo.add_child(driver)\n",
    "    montecarlo.draws = draws\n",
    "    # montecarlo.linear = linear\n",
    "\n",
    "    # parameters for uncertainties in the data\n",
    "    cant_attr = syst.Rocket.Aero.Coefs.inwards.get_details('delta')\n",
    "    # Set the distribution around the current value\n",
    "    cant_attr.distribution = Normal(best=.05, worst=-0.05)\n",
    "    montecarlo.add_random_variable('Rocket.Aero.Coefs.delta')\n",
    "\n",
    "    # Computation\n",
    "    syst.run_drivers()\n",
    "\n",
    "    return montecarlo.recorder.export_data()\n"
   ]
  },
  {
   "cell_type": "code",
   "execution_count": 5,
   "metadata": {},
   "outputs": [
    {
     "name": "stdout",
     "output_type": "stream",
     "text": [
      "___PARACHUTE DEPLOYMENT___\n",
      "\n",
      "\n",
      "Point 1 X Coordinate at Deployment:  78.45898728473324 m\n",
      "\n",
      "\n",
      "Point 1 Y Coordinate at Deployment:  -1.4159470513277265e-15 m\n",
      "\n",
      "\n",
      "Point 1 Z Coordinate at Deployment:  231.9151213348103 m\n",
      "\n",
      "\n",
      "Point 2 X Coordinate at Deployment:  78.24128125589692 m\n",
      "\n",
      "\n",
      "Point 2 Y Coordinate at Deployment:  -1.4186611931462264e-15 m\n",
      "\n",
      "\n",
      "Point 2 Z Coordinate at Deployment:  231.46500569965826 m\n",
      "\n",
      "\n",
      "___PARACHUTE DEPLOYMENT___\n",
      "Parachute fully deployed !\n",
      "MONTECARLO\n"
     ]
    },
    {
     "name": "stderr",
     "output_type": "stream",
     "text": [
      "c:\\Users\\aoyag\\Desktop\\Etudes\\PSC\\CosappRepo\\rocket-twin\\UI\\./model\\Aerodynamics\\Coefficients.py:194: RuntimeWarning: invalid value encountered in scalar power\n",
      "  C_D_fin_pressure = (1 - M**2)**(-0.417) - 1\n"
     ]
    },
    {
     "name": "stdout",
     "output_type": "stream",
     "text": [
      "___PARACHUTE DEPLOYMENT___\n",
      "\n",
      "\n",
      "Point 1 X Coordinate at Deployment:  82.54323118889045 m\n",
      "\n",
      "\n",
      "Point 1 Y Coordinate at Deployment:  -1.4190633056694566e-15 m\n",
      "\n",
      "\n",
      "Point 1 Z Coordinate at Deployment:  244.54926477153668 m\n",
      "\n",
      "\n",
      "Point 2 X Coordinate at Deployment:  82.32610899882637 m\n",
      "\n",
      "\n",
      "Point 2 Y Coordinate at Deployment:  -1.4218208989364267e-15 m\n",
      "\n",
      "\n",
      "Point 2 Z Coordinate at Deployment:  244.09886721983176 m\n",
      "\n",
      "\n",
      "___PARACHUTE DEPLOYMENT___\n",
      "Parachute fully deployed !\n",
      "___PARACHUTE DEPLOYMENT___\n",
      "\n",
      "\n",
      "Point 1 X Coordinate at Deployment:  82.54323118889046 m\n",
      "\n",
      "\n",
      "Point 1 Y Coordinate at Deployment:  -1.4190633056694566e-15 m\n",
      "\n",
      "\n",
      "Point 1 Z Coordinate at Deployment:  244.54926477153668 m\n",
      "\n",
      "\n",
      "Point 2 X Coordinate at Deployment:  82.32610899882638 m\n",
      "\n",
      "\n",
      "Point 2 Y Coordinate at Deployment:  -1.4218208989364267e-15 m\n",
      "\n",
      "\n",
      "Point 2 Z Coordinate at Deployment:  244.09886721983176 m\n",
      "\n",
      "\n",
      "___PARACHUTE DEPLOYMENT___\n",
      "Parachute fully deployed !\n",
      "___PARACHUTE DEPLOYMENT___\n",
      "\n",
      "\n",
      "Point 1 X Coordinate at Deployment:  82.54323118889046 m\n",
      "\n",
      "\n",
      "Point 1 Y Coordinate at Deployment:  -1.4235719047364379e-15 m\n",
      "\n",
      "\n",
      "Point 1 Z Coordinate at Deployment:  244.54926477153668 m\n",
      "\n",
      "\n",
      "Point 2 X Coordinate at Deployment:  82.32610899882638 m\n",
      "\n",
      "\n",
      "Point 2 Y Coordinate at Deployment:  -1.4218208989364267e-15 m\n",
      "\n",
      "\n",
      "Point 2 Z Coordinate at Deployment:  244.09886721983176 m\n",
      "\n",
      "\n",
      "___PARACHUTE DEPLOYMENT___\n",
      "Parachute fully deployed !\n",
      "___PARACHUTE DEPLOYMENT___\n",
      "\n",
      "\n",
      "Point 1 X Coordinate at Deployment:  81.9044413286407 m\n",
      "\n",
      "\n",
      "Point 1 Y Coordinate at Deployment:  4.716494803863921 m\n",
      "\n",
      "\n",
      "Point 1 Z Coordinate at Deployment:  244.6824693792402 m\n",
      "\n",
      "\n",
      "Point 2 X Coordinate at Deployment:  81.69518272159225 m\n",
      "\n",
      "\n",
      "Point 2 Y Coordinate at Deployment:  4.678295288540073 m\n",
      "\n",
      "\n",
      "Point 2 Z Coordinate at Deployment:  244.2299744815837 m\n",
      "\n",
      "\n",
      "___PARACHUTE DEPLOYMENT___\n",
      "Parachute fully deployed !\n",
      "___PARACHUTE DEPLOYMENT___\n",
      "\n",
      "\n",
      "Point 1 X Coordinate at Deployment:  81.9044413286407 m\n",
      "\n",
      "\n",
      "Point 1 Y Coordinate at Deployment:  -4.716494803863921 m\n",
      "\n",
      "\n",
      "Point 1 Z Coordinate at Deployment:  244.68246937924025 m\n",
      "\n",
      "\n",
      "Point 2 X Coordinate at Deployment:  81.69518272159225 m\n",
      "\n",
      "\n",
      "Point 2 Y Coordinate at Deployment:  -4.678295288540073 m\n",
      "\n",
      "\n",
      "Point 2 Z Coordinate at Deployment:  244.22997448158375 m\n",
      "\n",
      "\n",
      "___PARACHUTE DEPLOYMENT___\n",
      "Parachute fully deployed !\n",
      "___PARACHUTE DEPLOYMENT___\n",
      "\n",
      "\n",
      "Point 1 X Coordinate at Deployment:  82.39913826735949 m\n",
      "\n",
      "\n",
      "Point 1 Y Coordinate at Deployment:  -2.2577485165984204 m\n",
      "\n",
      "\n",
      "Point 1 Z Coordinate at Deployment:  244.5792906335504 m\n",
      "\n",
      "\n",
      "Point 2 X Coordinate at Deployment:  82.18380071770744 m\n",
      "\n",
      "\n",
      "Point 2 Y Coordinate at Deployment:  -2.2392199085012625 m\n",
      "\n",
      "\n",
      "Point 2 Z Coordinate at Deployment:  244.1284176687456 m\n",
      "\n",
      "\n",
      "___PARACHUTE DEPLOYMENT___\n",
      "Parachute fully deployed !\n",
      "___PARACHUTE DEPLOYMENT___\n",
      "\n",
      "\n",
      "Point 1 X Coordinate at Deployment:  80.730033803055 m\n",
      "\n",
      "\n",
      "Point 1 Y Coordinate at Deployment:  7.787138135939864 m\n",
      "\n",
      "\n",
      "Point 1 Z Coordinate at Deployment:  244.92641333896026 m\n",
      "\n",
      "\n",
      "Point 2 X Coordinate at Deployment:  80.53486158708716 m\n",
      "\n",
      "\n",
      "Point 2 Y Coordinate at Deployment:  7.726096123174562 m\n",
      "\n",
      "\n",
      "Point 2 Z Coordinate at Deployment:  244.47014403384347 m\n",
      "\n",
      "\n",
      "___PARACHUTE DEPLOYMENT___\n",
      "Parachute fully deployed !\n",
      "___PARACHUTE DEPLOYMENT___\n",
      "\n",
      "\n",
      "Point 1 X Coordinate at Deployment:  82.3991382673595 m\n",
      "\n",
      "\n",
      "Point 1 Y Coordinate at Deployment:  2.2577485165984217 m\n",
      "\n",
      "\n",
      "Point 1 Z Coordinate at Deployment:  244.5792906335504 m\n",
      "\n",
      "\n",
      "Point 2 X Coordinate at Deployment:  82.18380071770746 m\n",
      "\n",
      "\n",
      "Point 2 Y Coordinate at Deployment:  2.239219908501264 m\n",
      "\n",
      "\n",
      "Point 2 Z Coordinate at Deployment:  244.1284176687456 m\n",
      "\n",
      "\n",
      "___PARACHUTE DEPLOYMENT___\n",
      "Parachute fully deployed !\n",
      "___PARACHUTE DEPLOYMENT___\n",
      "\n",
      "\n",
      "Point 1 X Coordinate at Deployment:  80.73003380305497 m\n",
      "\n",
      "\n",
      "Point 1 Y Coordinate at Deployment:  -7.787138135939863 m\n",
      "\n",
      "\n",
      "Point 1 Z Coordinate at Deployment:  244.92641333896026 m\n",
      "\n",
      "\n",
      "Point 2 X Coordinate at Deployment:  80.53486158708714 m\n",
      "\n",
      "\n",
      "Point 2 Y Coordinate at Deployment:  -7.72609612317456 m\n",
      "\n",
      "\n",
      "Point 2 Z Coordinate at Deployment:  244.47014403384347 m\n",
      "\n",
      "\n",
      "___PARACHUTE DEPLOYMENT___\n",
      "Parachute fully deployed !\n",
      "___PARACHUTE DEPLOYMENT___\n",
      "\n",
      "\n",
      "Point 1 X Coordinate at Deployment:  81.44877309400876 m\n",
      "\n",
      "\n",
      "Point 1 Y Coordinate at Deployment:  -6.127054824017028 m\n",
      "\n",
      "\n",
      "Point 1 Z Coordinate at Deployment:  244.77755979780872 m\n",
      "\n",
      "\n",
      "Point 2 X Coordinate at Deployment:  81.24504241744614 m\n",
      "\n",
      "\n",
      "Point 2 Y Coordinate at Deployment:  -6.078045312402026 m\n",
      "\n",
      "\n",
      "Point 2 Z Coordinate at Deployment:  244.3235863633452 m\n",
      "\n",
      "\n",
      "___PARACHUTE DEPLOYMENT___\n",
      "Parachute fully deployed !\n",
      "___PARACHUTE DEPLOYMENT___\n",
      "\n",
      "\n",
      "Point 1 X Coordinate at Deployment:  82.20572779166221 m\n",
      "\n",
      "\n",
      "Point 1 Y Coordinate at Deployment:  3.445562952461653 m\n",
      "\n",
      "\n",
      "Point 1 Z Coordinate at Deployment:  244.61955637815086 m\n",
      "\n",
      "\n",
      "Point 2 X Coordinate at Deployment:  81.99277760502635 m\n",
      "\n",
      "\n",
      "Point 2 Y Coordinate at Deployment:  3.417430866161419 m\n",
      "\n",
      "\n",
      "Point 2 Z Coordinate at Deployment:  244.16804690567864 m\n",
      "\n",
      "\n",
      "___PARACHUTE DEPLOYMENT___\n",
      "Parachute fully deployed !\n",
      "___PARACHUTE DEPLOYMENT___\n",
      "\n",
      "\n",
      "Point 1 X Coordinate at Deployment:  79.40525150159928 m\n",
      "\n",
      "\n",
      "Point 1 Y Coordinate at Deployment:  9.992237958327017 m\n",
      "\n",
      "\n",
      "Point 1 Z Coordinate at Deployment:  245.19494800077717 m\n",
      "\n",
      "\n",
      "Point 2 X Coordinate at Deployment:  79.22530512820575 m\n",
      "\n",
      "\n",
      "Point 2 Y Coordinate at Deployment:  9.916918669830185 m\n",
      "\n",
      "\n",
      "Point 2 Z Coordinate at Deployment:  244.73457173348828 m\n",
      "\n",
      "\n",
      "___PARACHUTE DEPLOYMENT___\n",
      "Parachute fully deployed !\n"
     ]
    }
   ],
   "source": [
    "\n",
    "results = run_analysis(earth, draws=10, linear=False)"
   ]
  },
  {
   "cell_type": "code",
   "execution_count": 7,
   "metadata": {},
   "outputs": [
    {
     "name": "stdout",
     "output_type": "stream",
     "text": [
      "[-116.58053476  475.26448663  475.26448662  200.64817675  437.58289507\n",
      "  200.64817674  437.58289507  247.77813642  400.62071504  378.48341897]\n"
     ]
    },
    {
     "data": {
      "application/vnd.plotly.v1+json": {
       "config": {
        "plotlyServerURL": "https://plot.ly"
       },
       "data": [
        {
         "mode": "markers",
         "type": "scatter",
         "x": [
          -116.58053476013143,
          475.2644866320452,
          475.2644866191011,
          200.64817674884978,
          437.58289506696394,
          200.64817673803367,
          437.5828950669604,
          247.7781364169151,
          400.62071503607626,
          378.4834189650703
         ],
         "xaxis": "x",
         "y": [
          -137.83794604762753,
          -917.6461183794315,
          917.646118304411,
          819.6366304079777,
          -1262.7053244647525,
          -819.6366304531276,
          1262.7053244647525,
          940.9552765832087,
          -964.979401976116,
          -665.5944819440216
         ],
         "yaxis": "y"
        }
       ],
       "layout": {
        "template": {
         "data": {
          "bar": [
           {
            "error_x": {
             "color": "#2a3f5f"
            },
            "error_y": {
             "color": "#2a3f5f"
            },
            "marker": {
             "line": {
              "color": "#E5ECF6",
              "width": 0.5
             },
             "pattern": {
              "fillmode": "overlay",
              "size": 10,
              "solidity": 0.2
             }
            },
            "type": "bar"
           }
          ],
          "barpolar": [
           {
            "marker": {
             "line": {
              "color": "#E5ECF6",
              "width": 0.5
             },
             "pattern": {
              "fillmode": "overlay",
              "size": 10,
              "solidity": 0.2
             }
            },
            "type": "barpolar"
           }
          ],
          "carpet": [
           {
            "aaxis": {
             "endlinecolor": "#2a3f5f",
             "gridcolor": "white",
             "linecolor": "white",
             "minorgridcolor": "white",
             "startlinecolor": "#2a3f5f"
            },
            "baxis": {
             "endlinecolor": "#2a3f5f",
             "gridcolor": "white",
             "linecolor": "white",
             "minorgridcolor": "white",
             "startlinecolor": "#2a3f5f"
            },
            "type": "carpet"
           }
          ],
          "choropleth": [
           {
            "colorbar": {
             "outlinewidth": 0,
             "ticks": ""
            },
            "type": "choropleth"
           }
          ],
          "contour": [
           {
            "colorbar": {
             "outlinewidth": 0,
             "ticks": ""
            },
            "colorscale": [
             [
              0,
              "#0d0887"
             ],
             [
              0.1111111111111111,
              "#46039f"
             ],
             [
              0.2222222222222222,
              "#7201a8"
             ],
             [
              0.3333333333333333,
              "#9c179e"
             ],
             [
              0.4444444444444444,
              "#bd3786"
             ],
             [
              0.5555555555555556,
              "#d8576b"
             ],
             [
              0.6666666666666666,
              "#ed7953"
             ],
             [
              0.7777777777777778,
              "#fb9f3a"
             ],
             [
              0.8888888888888888,
              "#fdca26"
             ],
             [
              1,
              "#f0f921"
             ]
            ],
            "type": "contour"
           }
          ],
          "contourcarpet": [
           {
            "colorbar": {
             "outlinewidth": 0,
             "ticks": ""
            },
            "type": "contourcarpet"
           }
          ],
          "heatmap": [
           {
            "colorbar": {
             "outlinewidth": 0,
             "ticks": ""
            },
            "colorscale": [
             [
              0,
              "#0d0887"
             ],
             [
              0.1111111111111111,
              "#46039f"
             ],
             [
              0.2222222222222222,
              "#7201a8"
             ],
             [
              0.3333333333333333,
              "#9c179e"
             ],
             [
              0.4444444444444444,
              "#bd3786"
             ],
             [
              0.5555555555555556,
              "#d8576b"
             ],
             [
              0.6666666666666666,
              "#ed7953"
             ],
             [
              0.7777777777777778,
              "#fb9f3a"
             ],
             [
              0.8888888888888888,
              "#fdca26"
             ],
             [
              1,
              "#f0f921"
             ]
            ],
            "type": "heatmap"
           }
          ],
          "heatmapgl": [
           {
            "colorbar": {
             "outlinewidth": 0,
             "ticks": ""
            },
            "colorscale": [
             [
              0,
              "#0d0887"
             ],
             [
              0.1111111111111111,
              "#46039f"
             ],
             [
              0.2222222222222222,
              "#7201a8"
             ],
             [
              0.3333333333333333,
              "#9c179e"
             ],
             [
              0.4444444444444444,
              "#bd3786"
             ],
             [
              0.5555555555555556,
              "#d8576b"
             ],
             [
              0.6666666666666666,
              "#ed7953"
             ],
             [
              0.7777777777777778,
              "#fb9f3a"
             ],
             [
              0.8888888888888888,
              "#fdca26"
             ],
             [
              1,
              "#f0f921"
             ]
            ],
            "type": "heatmapgl"
           }
          ],
          "histogram": [
           {
            "marker": {
             "pattern": {
              "fillmode": "overlay",
              "size": 10,
              "solidity": 0.2
             }
            },
            "type": "histogram"
           }
          ],
          "histogram2d": [
           {
            "colorbar": {
             "outlinewidth": 0,
             "ticks": ""
            },
            "colorscale": [
             [
              0,
              "#0d0887"
             ],
             [
              0.1111111111111111,
              "#46039f"
             ],
             [
              0.2222222222222222,
              "#7201a8"
             ],
             [
              0.3333333333333333,
              "#9c179e"
             ],
             [
              0.4444444444444444,
              "#bd3786"
             ],
             [
              0.5555555555555556,
              "#d8576b"
             ],
             [
              0.6666666666666666,
              "#ed7953"
             ],
             [
              0.7777777777777778,
              "#fb9f3a"
             ],
             [
              0.8888888888888888,
              "#fdca26"
             ],
             [
              1,
              "#f0f921"
             ]
            ],
            "type": "histogram2d"
           }
          ],
          "histogram2dcontour": [
           {
            "colorbar": {
             "outlinewidth": 0,
             "ticks": ""
            },
            "colorscale": [
             [
              0,
              "#0d0887"
             ],
             [
              0.1111111111111111,
              "#46039f"
             ],
             [
              0.2222222222222222,
              "#7201a8"
             ],
             [
              0.3333333333333333,
              "#9c179e"
             ],
             [
              0.4444444444444444,
              "#bd3786"
             ],
             [
              0.5555555555555556,
              "#d8576b"
             ],
             [
              0.6666666666666666,
              "#ed7953"
             ],
             [
              0.7777777777777778,
              "#fb9f3a"
             ],
             [
              0.8888888888888888,
              "#fdca26"
             ],
             [
              1,
              "#f0f921"
             ]
            ],
            "type": "histogram2dcontour"
           }
          ],
          "mesh3d": [
           {
            "colorbar": {
             "outlinewidth": 0,
             "ticks": ""
            },
            "type": "mesh3d"
           }
          ],
          "parcoords": [
           {
            "line": {
             "colorbar": {
              "outlinewidth": 0,
              "ticks": ""
             }
            },
            "type": "parcoords"
           }
          ],
          "pie": [
           {
            "automargin": true,
            "type": "pie"
           }
          ],
          "scatter": [
           {
            "fillpattern": {
             "fillmode": "overlay",
             "size": 10,
             "solidity": 0.2
            },
            "type": "scatter"
           }
          ],
          "scatter3d": [
           {
            "line": {
             "colorbar": {
              "outlinewidth": 0,
              "ticks": ""
             }
            },
            "marker": {
             "colorbar": {
              "outlinewidth": 0,
              "ticks": ""
             }
            },
            "type": "scatter3d"
           }
          ],
          "scattercarpet": [
           {
            "marker": {
             "colorbar": {
              "outlinewidth": 0,
              "ticks": ""
             }
            },
            "type": "scattercarpet"
           }
          ],
          "scattergeo": [
           {
            "marker": {
             "colorbar": {
              "outlinewidth": 0,
              "ticks": ""
             }
            },
            "type": "scattergeo"
           }
          ],
          "scattergl": [
           {
            "marker": {
             "colorbar": {
              "outlinewidth": 0,
              "ticks": ""
             }
            },
            "type": "scattergl"
           }
          ],
          "scattermapbox": [
           {
            "marker": {
             "colorbar": {
              "outlinewidth": 0,
              "ticks": ""
             }
            },
            "type": "scattermapbox"
           }
          ],
          "scatterpolar": [
           {
            "marker": {
             "colorbar": {
              "outlinewidth": 0,
              "ticks": ""
             }
            },
            "type": "scatterpolar"
           }
          ],
          "scatterpolargl": [
           {
            "marker": {
             "colorbar": {
              "outlinewidth": 0,
              "ticks": ""
             }
            },
            "type": "scatterpolargl"
           }
          ],
          "scatterternary": [
           {
            "marker": {
             "colorbar": {
              "outlinewidth": 0,
              "ticks": ""
             }
            },
            "type": "scatterternary"
           }
          ],
          "surface": [
           {
            "colorbar": {
             "outlinewidth": 0,
             "ticks": ""
            },
            "colorscale": [
             [
              0,
              "#0d0887"
             ],
             [
              0.1111111111111111,
              "#46039f"
             ],
             [
              0.2222222222222222,
              "#7201a8"
             ],
             [
              0.3333333333333333,
              "#9c179e"
             ],
             [
              0.4444444444444444,
              "#bd3786"
             ],
             [
              0.5555555555555556,
              "#d8576b"
             ],
             [
              0.6666666666666666,
              "#ed7953"
             ],
             [
              0.7777777777777778,
              "#fb9f3a"
             ],
             [
              0.8888888888888888,
              "#fdca26"
             ],
             [
              1,
              "#f0f921"
             ]
            ],
            "type": "surface"
           }
          ],
          "table": [
           {
            "cells": {
             "fill": {
              "color": "#EBF0F8"
             },
             "line": {
              "color": "white"
             }
            },
            "header": {
             "fill": {
              "color": "#C8D4E3"
             },
             "line": {
              "color": "white"
             }
            },
            "type": "table"
           }
          ]
         },
         "layout": {
          "annotationdefaults": {
           "arrowcolor": "#2a3f5f",
           "arrowhead": 0,
           "arrowwidth": 1
          },
          "autotypenumbers": "strict",
          "coloraxis": {
           "colorbar": {
            "outlinewidth": 0,
            "ticks": ""
           }
          },
          "colorscale": {
           "diverging": [
            [
             0,
             "#8e0152"
            ],
            [
             0.1,
             "#c51b7d"
            ],
            [
             0.2,
             "#de77ae"
            ],
            [
             0.3,
             "#f1b6da"
            ],
            [
             0.4,
             "#fde0ef"
            ],
            [
             0.5,
             "#f7f7f7"
            ],
            [
             0.6,
             "#e6f5d0"
            ],
            [
             0.7,
             "#b8e186"
            ],
            [
             0.8,
             "#7fbc41"
            ],
            [
             0.9,
             "#4d9221"
            ],
            [
             1,
             "#276419"
            ]
           ],
           "sequential": [
            [
             0,
             "#0d0887"
            ],
            [
             0.1111111111111111,
             "#46039f"
            ],
            [
             0.2222222222222222,
             "#7201a8"
            ],
            [
             0.3333333333333333,
             "#9c179e"
            ],
            [
             0.4444444444444444,
             "#bd3786"
            ],
            [
             0.5555555555555556,
             "#d8576b"
            ],
            [
             0.6666666666666666,
             "#ed7953"
            ],
            [
             0.7777777777777778,
             "#fb9f3a"
            ],
            [
             0.8888888888888888,
             "#fdca26"
            ],
            [
             1,
             "#f0f921"
            ]
           ],
           "sequentialminus": [
            [
             0,
             "#0d0887"
            ],
            [
             0.1111111111111111,
             "#46039f"
            ],
            [
             0.2222222222222222,
             "#7201a8"
            ],
            [
             0.3333333333333333,
             "#9c179e"
            ],
            [
             0.4444444444444444,
             "#bd3786"
            ],
            [
             0.5555555555555556,
             "#d8576b"
            ],
            [
             0.6666666666666666,
             "#ed7953"
            ],
            [
             0.7777777777777778,
             "#fb9f3a"
            ],
            [
             0.8888888888888888,
             "#fdca26"
            ],
            [
             1,
             "#f0f921"
            ]
           ]
          },
          "colorway": [
           "#636efa",
           "#EF553B",
           "#00cc96",
           "#ab63fa",
           "#FFA15A",
           "#19d3f3",
           "#FF6692",
           "#B6E880",
           "#FF97FF",
           "#FECB52"
          ],
          "font": {
           "color": "#2a3f5f"
          },
          "geo": {
           "bgcolor": "white",
           "lakecolor": "white",
           "landcolor": "#E5ECF6",
           "showlakes": true,
           "showland": true,
           "subunitcolor": "white"
          },
          "hoverlabel": {
           "align": "left"
          },
          "hovermode": "closest",
          "mapbox": {
           "style": "light"
          },
          "paper_bgcolor": "white",
          "plot_bgcolor": "#E5ECF6",
          "polar": {
           "angularaxis": {
            "gridcolor": "white",
            "linecolor": "white",
            "ticks": ""
           },
           "bgcolor": "#E5ECF6",
           "radialaxis": {
            "gridcolor": "white",
            "linecolor": "white",
            "ticks": ""
           }
          },
          "scene": {
           "xaxis": {
            "backgroundcolor": "#E5ECF6",
            "gridcolor": "white",
            "gridwidth": 2,
            "linecolor": "white",
            "showbackground": true,
            "ticks": "",
            "zerolinecolor": "white"
           },
           "yaxis": {
            "backgroundcolor": "#E5ECF6",
            "gridcolor": "white",
            "gridwidth": 2,
            "linecolor": "white",
            "showbackground": true,
            "ticks": "",
            "zerolinecolor": "white"
           },
           "zaxis": {
            "backgroundcolor": "#E5ECF6",
            "gridcolor": "white",
            "gridwidth": 2,
            "linecolor": "white",
            "showbackground": true,
            "ticks": "",
            "zerolinecolor": "white"
           }
          },
          "shapedefaults": {
           "line": {
            "color": "#2a3f5f"
           }
          },
          "ternary": {
           "aaxis": {
            "gridcolor": "white",
            "linecolor": "white",
            "ticks": ""
           },
           "baxis": {
            "gridcolor": "white",
            "linecolor": "white",
            "ticks": ""
           },
           "bgcolor": "#E5ECF6",
           "caxis": {
            "gridcolor": "white",
            "linecolor": "white",
            "ticks": ""
           }
          },
          "title": {
           "x": 0.05
          },
          "xaxis": {
           "automargin": true,
           "gridcolor": "white",
           "linecolor": "white",
           "ticks": "",
           "title": {
            "standoff": 15
           },
           "zerolinecolor": "white",
           "zerolinewidth": 2
          },
          "yaxis": {
           "automargin": true,
           "gridcolor": "white",
           "linecolor": "white",
           "ticks": "",
           "title": {
            "standoff": 15
           },
           "zerolinecolor": "white",
           "zerolinewidth": 2
          }
         }
        },
        "title": {
         "text": "Probability"
        },
        "xaxis": {
         "anchor": "y",
         "domain": [
          0,
          1
         ],
         "title": {
          "text": "X Position"
         }
        },
        "yaxis": {
         "anchor": "x",
         "domain": [
          0,
          1
         ],
         "title": {
          "text": "Y Position"
         }
        }
       }
      }
     },
     "metadata": {},
     "output_type": "display_data"
    }
   ],
   "source": [
    "\n",
    "import plotly.graph_objs as go\n",
    "from plotly.subplots import make_subplots\n",
    "\n",
    "traj = np.asarray(results['Traj.r'].tolist())\n",
    "print(traj[:, 0])\n",
    "\n",
    "# Create the figure object\n",
    "fig = make_subplots(rows=1, cols=1)\n",
    "fig.layout.title = \"Probability\"\n",
    "fig.layout.yaxis.title = 'Y Position'\n",
    "\n",
    "fig.add_trace(\n",
    "    go.Scatter(\n",
    "        x=traj[:,0],\n",
    "        y=traj[:,1],\n",
    "        mode = 'markers'\n",
    "    ),\n",
    "    row = 1,\n",
    "    col = 1,\n",
    ")\n",
    "fig.get_subplot(1, 1).xaxis.title = \"X Position\"\n",
    "\n",
    "fig.show()"
   ]
  }
 ],
 "metadata": {
  "kernelspec": {
   "display_name": "PSC",
   "language": "python",
   "name": "python3"
  },
  "language_info": {
   "codemirror_mode": {
    "name": "ipython",
    "version": 3
   },
   "file_extension": ".py",
   "mimetype": "text/x-python",
   "name": "python",
   "nbconvert_exporter": "python",
   "pygments_lexer": "ipython3",
   "version": "3.10.9"
  },
  "orig_nbformat": 4
 },
 "nbformat": 4,
 "nbformat_minor": 2
}
