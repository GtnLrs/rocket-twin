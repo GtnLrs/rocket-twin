{
 "cells": [
  {
   "cell_type": "code",
   "execution_count": 1,
   "metadata": {},
   "outputs": [],
   "source": [
    "from cosapp.drivers import RungeKutta\n",
    "from cosapp.recorders import DataFrameRecorder\n",
    "from cosapp.drivers import NonLinearSolver, RunOnce, MonteCarlo, RunSingleCase\n",
    "from cosapp.utils.distributions import Normal\n",
    "import sys\n",
    "sys.path.append('./model')\n",
    "from Earth import Earth\n",
    "import numpy as np\n",
    "\n",
    "earth = Earth(\"earth\")\n",
    "\n",
    "l = 10 #Rocket's length on the plot\n",
    "dt = 0.05 #Time-step\n",
    "\n",
    "\n",
    "from cosapp.utils.distributions import Normal\n",
    "from cosapp.drivers import MonteCarlo\n",
    "from cosapp.recorders import DataFrameRecorder"
   ]
  },
  {
   "cell_type": "code",
   "execution_count": 6,
   "metadata": {},
   "outputs": [],
   "source": [
    "def run_analysis(syst, draws=10, linear=True):\n",
    "    syst.drivers.clear()  # Remove all drivers on the System\n",
    "\n",
    "    runonce = syst.add_driver(RunOnce(\"runonce\"))\n",
    "    driver = syst.add_driver(RungeKutta(order=4, dt=dt))\n",
    "    driver.add_child(NonLinearSolver('solver', factor=1.0))\n",
    "    driver.time_interval = (0, 40)\n",
    "\n",
    "    # Define a simulation scenario\n",
    "    driver.set_scenario(\n",
    "        init = {\n",
    "        'Traj.r' : np.array([0., 0., l/2]),\n",
    "        'Rocket.Kin.ar' : 'initrot',\n",
    "        'Rocket.Kin.v' : np.array([0,0,0]),\n",
    "        # 'Rocket.Kin.ar' : np.array([0., -np.pi/2 + 0.1, 0.0]),\n",
    "        'Rocket.Kin.av' : np.zeros(3),\n",
    "        'Para.DynPar.r1' : np.array([0., 0., l/2]), #(should be l because the parachute is at the tip of the rocket)\n",
    "        'Para.DynPar.r2' : np.array([0., 0., l/2]),\n",
    "        'Para.DynPar.v1' : np.array([0,0,0]),\n",
    "        'Para.DynPar.v2' : np.array([0,0,0]),\n",
    "        'Traj.ParaDepStatus': False,\n",
    "        \n",
    "    },\n",
    "    stop='Para.DynPar.r1[2] < -1'\n",
    "    )\n",
    "\n",
    "    syst.run_drivers()\n",
    "    print(\"MONTECARLO\")\n",
    "    # Montecarlo\n",
    "    syst.drivers.clear()\n",
    "    montecarlo = syst.add_driver(MonteCarlo('mc'))\n",
    "    montecarlo.add_recorder(DataFrameRecorder(includes=['Rocket.Kin.ar', 'Traj.r', 'initrot']))\n",
    "    montecarlo.add_child(driver)\n",
    "    montecarlo.draws = draws\n",
    "    # montecarlo.linear = linear\n",
    "\n",
    "    # parameters for uncertainties in the data\n",
    "    pitch_attr = syst.inwards.get_details('pitch_init')\n",
    "    yaw_attr = syst.inwards.get_details('yaw_init')\n",
    "    \n",
    "    # Set the distribution around the current value\n",
    "    pitch_attr.distribution = Normal(best=.1, worst=-0.02)\n",
    "    yaw_attr.distribution = Normal(best=.05, worst=-0.05)\n",
    "\n",
    "    montecarlo.add_random_variable('pitch_init')\n",
    "    montecarlo.add_random_variable('yaw_init')\n",
    "\n",
    "    # Computation\n",
    "    syst.run_drivers()\n",
    "\n",
    "    return montecarlo.recorder.export_data()"
   ]
  },
  {
   "cell_type": "code",
   "execution_count": 7,
   "metadata": {},
   "outputs": [
    {
     "name": "stdout",
     "output_type": "stream",
     "text": [
      "MONTECARLO\n",
      "___PARACHUTE DEPLOYMENT___\n",
      "\n",
      "\n",
      "Point 1 X Coordinate at Deployment:  112.5856501438863 m\n",
      "\n",
      "\n",
      "Point 1 Y Coordinate at Deployment:  1.1694872059807009 m\n",
      "\n",
      "\n",
      "Point 1 Z Coordinate at Deployment:  807.359616558416 m\n",
      "\n",
      "\n",
      "Point 2 X Coordinate at Deployment:  112.53656298349539 m\n",
      "\n",
      "\n",
      "Point 2 Y Coordinate at Deployment:  1.1871594760651778 m\n",
      "\n",
      "\n",
      "Point 2 Z Coordinate at Deployment:  806.862345865981 m\n",
      "\n",
      "\n",
      "___PARACHUTE DEPLOYMENT___\n",
      "Parachute fully deployed !\n",
      "___PARACHUTE DEPLOYMENT___\n",
      "\n",
      "\n",
      "Point 1 X Coordinate at Deployment:  114.60432894229778 m\n",
      "\n",
      "\n",
      "Point 1 Y Coordinate at Deployment:  1.5212674658238834 m\n",
      "\n",
      "\n",
      "Point 1 Z Coordinate at Deployment:  829.1198129691037 m\n",
      "\n",
      "\n",
      "Point 2 X Coordinate at Deployment:  114.5549355694813 m\n",
      "\n",
      "\n",
      "Point 2 Y Coordinate at Deployment:  1.5405200419550091 m\n",
      "\n",
      "\n",
      "Point 2 Z Coordinate at Deployment:  828.6226312789399 m\n",
      "\n",
      "\n",
      "___PARACHUTE DEPLOYMENT___\n",
      "Parachute fully deployed !\n",
      "Parachute fully deployed !\n",
      "___PARACHUTE DEPLOYMENT___\n",
      "\n",
      "\n",
      "Point 1 X Coordinate at Deployment:  114.50530936294619 m\n",
      "\n",
      "\n",
      "Point 1 Y Coordinate at Deployment:  6.520175391326546 m\n",
      "\n",
      "\n",
      "Point 1 Z Coordinate at Deployment:  829.1252500690016 m\n",
      "\n",
      "\n",
      "Point 2 X Coordinate at Deployment:  114.45604961967535 m\n",
      "\n",
      "\n",
      "Point 2 Y Coordinate at Deployment:  6.532639519953187 m\n",
      "\n",
      "\n",
      "Point 2 Z Coordinate at Deployment:  828.6278386465448 m\n",
      "\n",
      "\n",
      "___PARACHUTE DEPLOYMENT___\n",
      "Parachute fully deployed !\n",
      "___PARACHUTE DEPLOYMENT___\n",
      "\n",
      "\n",
      "Point 1 X Coordinate at Deployment:  73.91204060482323 m\n",
      "\n",
      "\n",
      "Point 1 Y Coordinate at Deployment:  8.233155748392669 m\n",
      "\n",
      "\n",
      "Point 1 Z Coordinate at Deployment:  832.1118775167567 m\n",
      "\n",
      "\n",
      "Point 2 X Coordinate at Deployment:  73.9180915459643 m\n",
      "\n",
      "\n",
      "Point 2 Y Coordinate at Deployment:  8.243826712337768 m\n",
      "\n",
      "\n",
      "Point 2 Z Coordinate at Deployment:  831.612028022769 m\n",
      "\n",
      "\n",
      "___PARACHUTE DEPLOYMENT___\n",
      "Parachute fully deployed !\n"
     ]
    }
   ],
   "source": [
    "\n",
    "results = run_analysis(earth, draws=2, linear=False)"
   ]
  },
  {
   "cell_type": "code",
   "execution_count": 8,
   "metadata": {},
   "outputs": [
    {
     "data": {
      "text/html": [
       "<div>\n",
       "<style scoped>\n",
       "    .dataframe tbody tr th:only-of-type {\n",
       "        vertical-align: middle;\n",
       "    }\n",
       "\n",
       "    .dataframe tbody tr th {\n",
       "        vertical-align: top;\n",
       "    }\n",
       "\n",
       "    .dataframe thead th {\n",
       "        text-align: right;\n",
       "    }\n",
       "</style>\n",
       "<table border=\"1\" class=\"dataframe\">\n",
       "  <thead>\n",
       "    <tr style=\"text-align: right;\">\n",
       "      <th></th>\n",
       "      <th>Section</th>\n",
       "      <th>Status</th>\n",
       "      <th>Error code</th>\n",
       "      <th>Reference</th>\n",
       "      <th>Rocket.Kin.ar</th>\n",
       "      <th>Traj.r</th>\n",
       "      <th>initrot</th>\n",
       "    </tr>\n",
       "  </thead>\n",
       "  <tbody>\n",
       "    <tr>\n",
       "      <th>0</th>\n",
       "      <td></td>\n",
       "      <td></td>\n",
       "      <td>0</td>\n",
       "      <td>0</td>\n",
       "      <td>[0.4209909584678674, -0.742397063651149, -0.38...</td>\n",
       "      <td>[-1322.6397532566054, 741.2026358120689, -2918...</td>\n",
       "      <td>[0.0, -1.4707963267948965, 0.04]</td>\n",
       "    </tr>\n",
       "    <tr>\n",
       "      <th>1</th>\n",
       "      <td></td>\n",
       "      <td></td>\n",
       "      <td>0</td>\n",
       "      <td>1</td>\n",
       "      <td>[2.2019615931222845, -1.2295404465711959, -2.1...</td>\n",
       "      <td>[635.2353915025869, 728.483206611399, -3235.40...</td>\n",
       "      <td>[0.0, -1.5033353088960768, 0.0790467785214164]</td>\n",
       "    </tr>\n",
       "  </tbody>\n",
       "</table>\n",
       "</div>"
      ],
      "text/plain": [
       "  Section Status Error code Reference   \n",
       "0                         0         0  \\\n",
       "1                         0         1   \n",
       "\n",
       "                                       Rocket.Kin.ar   \n",
       "0  [0.4209909584678674, -0.742397063651149, -0.38...  \\\n",
       "1  [2.2019615931222845, -1.2295404465711959, -2.1...   \n",
       "\n",
       "                                              Traj.r   \n",
       "0  [-1322.6397532566054, 741.2026358120689, -2918...  \\\n",
       "1  [635.2353915025869, 728.483206611399, -3235.40...   \n",
       "\n",
       "                                          initrot  \n",
       "0                [0.0, -1.4707963267948965, 0.04]  \n",
       "1  [0.0, -1.5033353088960768, 0.0790467785214164]  "
      ]
     },
     "execution_count": 8,
     "metadata": {},
     "output_type": "execute_result"
    }
   ],
   "source": [
    "results"
   ]
  },
  {
   "cell_type": "code",
   "execution_count": 16,
   "metadata": {},
   "outputs": [
    {
     "data": {
      "text/plain": [
       "array([[ -599.83199755,  2711.02561626, -1848.34171724],\n",
       "       [ -601.61349086,  2525.91744493, -2100.02004344]])"
      ]
     },
     "execution_count": 16,
     "metadata": {},
     "output_type": "execute_result"
    }
   ],
   "source": [
    "traj = np.asarray(results['Traj.r'].tolist())\n",
    "traj"
   ]
  },
  {
   "cell_type": "code",
   "execution_count": 14,
   "metadata": {},
   "outputs": [
    {
     "name": "stdout",
     "output_type": "stream",
     "text": [
      "[-599.83199755 -601.61349086]\n"
     ]
    },
    {
     "data": {
      "application/vnd.plotly.v1+json": {
       "config": {
        "plotlyServerURL": "https://plot.ly"
       },
       "data": [
        {
         "mode": "markers",
         "type": "scatter",
         "x": [
          -599.8319975506666,
          -601.6134908611583
         ],
         "xaxis": "x",
         "y": [
          2711.025616258255,
          2525.917444928295
         ],
         "yaxis": "y"
        }
       ],
       "layout": {
        "template": {
         "data": {
          "bar": [
           {
            "error_x": {
             "color": "#2a3f5f"
            },
            "error_y": {
             "color": "#2a3f5f"
            },
            "marker": {
             "line": {
              "color": "#E5ECF6",
              "width": 0.5
             },
             "pattern": {
              "fillmode": "overlay",
              "size": 10,
              "solidity": 0.2
             }
            },
            "type": "bar"
           }
          ],
          "barpolar": [
           {
            "marker": {
             "line": {
              "color": "#E5ECF6",
              "width": 0.5
             },
             "pattern": {
              "fillmode": "overlay",
              "size": 10,
              "solidity": 0.2
             }
            },
            "type": "barpolar"
           }
          ],
          "carpet": [
           {
            "aaxis": {
             "endlinecolor": "#2a3f5f",
             "gridcolor": "white",
             "linecolor": "white",
             "minorgridcolor": "white",
             "startlinecolor": "#2a3f5f"
            },
            "baxis": {
             "endlinecolor": "#2a3f5f",
             "gridcolor": "white",
             "linecolor": "white",
             "minorgridcolor": "white",
             "startlinecolor": "#2a3f5f"
            },
            "type": "carpet"
           }
          ],
          "choropleth": [
           {
            "colorbar": {
             "outlinewidth": 0,
             "ticks": ""
            },
            "type": "choropleth"
           }
          ],
          "contour": [
           {
            "colorbar": {
             "outlinewidth": 0,
             "ticks": ""
            },
            "colorscale": [
             [
              0,
              "#0d0887"
             ],
             [
              0.1111111111111111,
              "#46039f"
             ],
             [
              0.2222222222222222,
              "#7201a8"
             ],
             [
              0.3333333333333333,
              "#9c179e"
             ],
             [
              0.4444444444444444,
              "#bd3786"
             ],
             [
              0.5555555555555556,
              "#d8576b"
             ],
             [
              0.6666666666666666,
              "#ed7953"
             ],
             [
              0.7777777777777778,
              "#fb9f3a"
             ],
             [
              0.8888888888888888,
              "#fdca26"
             ],
             [
              1,
              "#f0f921"
             ]
            ],
            "type": "contour"
           }
          ],
          "contourcarpet": [
           {
            "colorbar": {
             "outlinewidth": 0,
             "ticks": ""
            },
            "type": "contourcarpet"
           }
          ],
          "heatmap": [
           {
            "colorbar": {
             "outlinewidth": 0,
             "ticks": ""
            },
            "colorscale": [
             [
              0,
              "#0d0887"
             ],
             [
              0.1111111111111111,
              "#46039f"
             ],
             [
              0.2222222222222222,
              "#7201a8"
             ],
             [
              0.3333333333333333,
              "#9c179e"
             ],
             [
              0.4444444444444444,
              "#bd3786"
             ],
             [
              0.5555555555555556,
              "#d8576b"
             ],
             [
              0.6666666666666666,
              "#ed7953"
             ],
             [
              0.7777777777777778,
              "#fb9f3a"
             ],
             [
              0.8888888888888888,
              "#fdca26"
             ],
             [
              1,
              "#f0f921"
             ]
            ],
            "type": "heatmap"
           }
          ],
          "heatmapgl": [
           {
            "colorbar": {
             "outlinewidth": 0,
             "ticks": ""
            },
            "colorscale": [
             [
              0,
              "#0d0887"
             ],
             [
              0.1111111111111111,
              "#46039f"
             ],
             [
              0.2222222222222222,
              "#7201a8"
             ],
             [
              0.3333333333333333,
              "#9c179e"
             ],
             [
              0.4444444444444444,
              "#bd3786"
             ],
             [
              0.5555555555555556,
              "#d8576b"
             ],
             [
              0.6666666666666666,
              "#ed7953"
             ],
             [
              0.7777777777777778,
              "#fb9f3a"
             ],
             [
              0.8888888888888888,
              "#fdca26"
             ],
             [
              1,
              "#f0f921"
             ]
            ],
            "type": "heatmapgl"
           }
          ],
          "histogram": [
           {
            "marker": {
             "pattern": {
              "fillmode": "overlay",
              "size": 10,
              "solidity": 0.2
             }
            },
            "type": "histogram"
           }
          ],
          "histogram2d": [
           {
            "colorbar": {
             "outlinewidth": 0,
             "ticks": ""
            },
            "colorscale": [
             [
              0,
              "#0d0887"
             ],
             [
              0.1111111111111111,
              "#46039f"
             ],
             [
              0.2222222222222222,
              "#7201a8"
             ],
             [
              0.3333333333333333,
              "#9c179e"
             ],
             [
              0.4444444444444444,
              "#bd3786"
             ],
             [
              0.5555555555555556,
              "#d8576b"
             ],
             [
              0.6666666666666666,
              "#ed7953"
             ],
             [
              0.7777777777777778,
              "#fb9f3a"
             ],
             [
              0.8888888888888888,
              "#fdca26"
             ],
             [
              1,
              "#f0f921"
             ]
            ],
            "type": "histogram2d"
           }
          ],
          "histogram2dcontour": [
           {
            "colorbar": {
             "outlinewidth": 0,
             "ticks": ""
            },
            "colorscale": [
             [
              0,
              "#0d0887"
             ],
             [
              0.1111111111111111,
              "#46039f"
             ],
             [
              0.2222222222222222,
              "#7201a8"
             ],
             [
              0.3333333333333333,
              "#9c179e"
             ],
             [
              0.4444444444444444,
              "#bd3786"
             ],
             [
              0.5555555555555556,
              "#d8576b"
             ],
             [
              0.6666666666666666,
              "#ed7953"
             ],
             [
              0.7777777777777778,
              "#fb9f3a"
             ],
             [
              0.8888888888888888,
              "#fdca26"
             ],
             [
              1,
              "#f0f921"
             ]
            ],
            "type": "histogram2dcontour"
           }
          ],
          "mesh3d": [
           {
            "colorbar": {
             "outlinewidth": 0,
             "ticks": ""
            },
            "type": "mesh3d"
           }
          ],
          "parcoords": [
           {
            "line": {
             "colorbar": {
              "outlinewidth": 0,
              "ticks": ""
             }
            },
            "type": "parcoords"
           }
          ],
          "pie": [
           {
            "automargin": true,
            "type": "pie"
           }
          ],
          "scatter": [
           {
            "fillpattern": {
             "fillmode": "overlay",
             "size": 10,
             "solidity": 0.2
            },
            "type": "scatter"
           }
          ],
          "scatter3d": [
           {
            "line": {
             "colorbar": {
              "outlinewidth": 0,
              "ticks": ""
             }
            },
            "marker": {
             "colorbar": {
              "outlinewidth": 0,
              "ticks": ""
             }
            },
            "type": "scatter3d"
           }
          ],
          "scattercarpet": [
           {
            "marker": {
             "colorbar": {
              "outlinewidth": 0,
              "ticks": ""
             }
            },
            "type": "scattercarpet"
           }
          ],
          "scattergeo": [
           {
            "marker": {
             "colorbar": {
              "outlinewidth": 0,
              "ticks": ""
             }
            },
            "type": "scattergeo"
           }
          ],
          "scattergl": [
           {
            "marker": {
             "colorbar": {
              "outlinewidth": 0,
              "ticks": ""
             }
            },
            "type": "scattergl"
           }
          ],
          "scattermapbox": [
           {
            "marker": {
             "colorbar": {
              "outlinewidth": 0,
              "ticks": ""
             }
            },
            "type": "scattermapbox"
           }
          ],
          "scatterpolar": [
           {
            "marker": {
             "colorbar": {
              "outlinewidth": 0,
              "ticks": ""
             }
            },
            "type": "scatterpolar"
           }
          ],
          "scatterpolargl": [
           {
            "marker": {
             "colorbar": {
              "outlinewidth": 0,
              "ticks": ""
             }
            },
            "type": "scatterpolargl"
           }
          ],
          "scatterternary": [
           {
            "marker": {
             "colorbar": {
              "outlinewidth": 0,
              "ticks": ""
             }
            },
            "type": "scatterternary"
           }
          ],
          "surface": [
           {
            "colorbar": {
             "outlinewidth": 0,
             "ticks": ""
            },
            "colorscale": [
             [
              0,
              "#0d0887"
             ],
             [
              0.1111111111111111,
              "#46039f"
             ],
             [
              0.2222222222222222,
              "#7201a8"
             ],
             [
              0.3333333333333333,
              "#9c179e"
             ],
             [
              0.4444444444444444,
              "#bd3786"
             ],
             [
              0.5555555555555556,
              "#d8576b"
             ],
             [
              0.6666666666666666,
              "#ed7953"
             ],
             [
              0.7777777777777778,
              "#fb9f3a"
             ],
             [
              0.8888888888888888,
              "#fdca26"
             ],
             [
              1,
              "#f0f921"
             ]
            ],
            "type": "surface"
           }
          ],
          "table": [
           {
            "cells": {
             "fill": {
              "color": "#EBF0F8"
             },
             "line": {
              "color": "white"
             }
            },
            "header": {
             "fill": {
              "color": "#C8D4E3"
             },
             "line": {
              "color": "white"
             }
            },
            "type": "table"
           }
          ]
         },
         "layout": {
          "annotationdefaults": {
           "arrowcolor": "#2a3f5f",
           "arrowhead": 0,
           "arrowwidth": 1
          },
          "autotypenumbers": "strict",
          "coloraxis": {
           "colorbar": {
            "outlinewidth": 0,
            "ticks": ""
           }
          },
          "colorscale": {
           "diverging": [
            [
             0,
             "#8e0152"
            ],
            [
             0.1,
             "#c51b7d"
            ],
            [
             0.2,
             "#de77ae"
            ],
            [
             0.3,
             "#f1b6da"
            ],
            [
             0.4,
             "#fde0ef"
            ],
            [
             0.5,
             "#f7f7f7"
            ],
            [
             0.6,
             "#e6f5d0"
            ],
            [
             0.7,
             "#b8e186"
            ],
            [
             0.8,
             "#7fbc41"
            ],
            [
             0.9,
             "#4d9221"
            ],
            [
             1,
             "#276419"
            ]
           ],
           "sequential": [
            [
             0,
             "#0d0887"
            ],
            [
             0.1111111111111111,
             "#46039f"
            ],
            [
             0.2222222222222222,
             "#7201a8"
            ],
            [
             0.3333333333333333,
             "#9c179e"
            ],
            [
             0.4444444444444444,
             "#bd3786"
            ],
            [
             0.5555555555555556,
             "#d8576b"
            ],
            [
             0.6666666666666666,
             "#ed7953"
            ],
            [
             0.7777777777777778,
             "#fb9f3a"
            ],
            [
             0.8888888888888888,
             "#fdca26"
            ],
            [
             1,
             "#f0f921"
            ]
           ],
           "sequentialminus": [
            [
             0,
             "#0d0887"
            ],
            [
             0.1111111111111111,
             "#46039f"
            ],
            [
             0.2222222222222222,
             "#7201a8"
            ],
            [
             0.3333333333333333,
             "#9c179e"
            ],
            [
             0.4444444444444444,
             "#bd3786"
            ],
            [
             0.5555555555555556,
             "#d8576b"
            ],
            [
             0.6666666666666666,
             "#ed7953"
            ],
            [
             0.7777777777777778,
             "#fb9f3a"
            ],
            [
             0.8888888888888888,
             "#fdca26"
            ],
            [
             1,
             "#f0f921"
            ]
           ]
          },
          "colorway": [
           "#636efa",
           "#EF553B",
           "#00cc96",
           "#ab63fa",
           "#FFA15A",
           "#19d3f3",
           "#FF6692",
           "#B6E880",
           "#FF97FF",
           "#FECB52"
          ],
          "font": {
           "color": "#2a3f5f"
          },
          "geo": {
           "bgcolor": "white",
           "lakecolor": "white",
           "landcolor": "#E5ECF6",
           "showlakes": true,
           "showland": true,
           "subunitcolor": "white"
          },
          "hoverlabel": {
           "align": "left"
          },
          "hovermode": "closest",
          "mapbox": {
           "style": "light"
          },
          "paper_bgcolor": "white",
          "plot_bgcolor": "#E5ECF6",
          "polar": {
           "angularaxis": {
            "gridcolor": "white",
            "linecolor": "white",
            "ticks": ""
           },
           "bgcolor": "#E5ECF6",
           "radialaxis": {
            "gridcolor": "white",
            "linecolor": "white",
            "ticks": ""
           }
          },
          "scene": {
           "xaxis": {
            "backgroundcolor": "#E5ECF6",
            "gridcolor": "white",
            "gridwidth": 2,
            "linecolor": "white",
            "showbackground": true,
            "ticks": "",
            "zerolinecolor": "white"
           },
           "yaxis": {
            "backgroundcolor": "#E5ECF6",
            "gridcolor": "white",
            "gridwidth": 2,
            "linecolor": "white",
            "showbackground": true,
            "ticks": "",
            "zerolinecolor": "white"
           },
           "zaxis": {
            "backgroundcolor": "#E5ECF6",
            "gridcolor": "white",
            "gridwidth": 2,
            "linecolor": "white",
            "showbackground": true,
            "ticks": "",
            "zerolinecolor": "white"
           }
          },
          "shapedefaults": {
           "line": {
            "color": "#2a3f5f"
           }
          },
          "ternary": {
           "aaxis": {
            "gridcolor": "white",
            "linecolor": "white",
            "ticks": ""
           },
           "baxis": {
            "gridcolor": "white",
            "linecolor": "white",
            "ticks": ""
           },
           "bgcolor": "#E5ECF6",
           "caxis": {
            "gridcolor": "white",
            "linecolor": "white",
            "ticks": ""
           }
          },
          "title": {
           "x": 0.05
          },
          "xaxis": {
           "automargin": true,
           "gridcolor": "white",
           "linecolor": "white",
           "ticks": "",
           "title": {
            "standoff": 15
           },
           "zerolinecolor": "white",
           "zerolinewidth": 2
          },
          "yaxis": {
           "automargin": true,
           "gridcolor": "white",
           "linecolor": "white",
           "ticks": "",
           "title": {
            "standoff": 15
           },
           "zerolinecolor": "white",
           "zerolinewidth": 2
          }
         }
        },
        "title": {
         "text": "Probability"
        },
        "xaxis": {
         "anchor": "y",
         "domain": [
          0,
          1
         ],
         "title": {
          "text": "X Position"
         }
        },
        "yaxis": {
         "anchor": "x",
         "domain": [
          0,
          1
         ],
         "title": {
          "text": "Y Position"
         }
        }
       }
      }
     },
     "metadata": {},
     "output_type": "display_data"
    }
   ],
   "source": [
    "\n",
    "import plotly.graph_objs as go\n",
    "from plotly.subplots import make_subplots\n",
    "\n",
    "traj = np.asarray(results['Traj.r'].tolist())\n",
    "print(traj[:, 0])\n",
    "\n",
    "# Create the figure object\n",
    "fig = make_subplots(rows=1, cols=1)\n",
    "fig.layout.title = \"Probability\"\n",
    "fig.layout.yaxis.title = 'Y Position'\n",
    "\n",
    "fig.add_trace(\n",
    "    go.Scatter(\n",
    "        x=traj[:,0],\n",
    "        y=traj[:,1],\n",
    "        mode = 'markers'\n",
    "    ),\n",
    "    row = 1,\n",
    "    col = 1,\n",
    ")\n",
    "fig.get_subplot(1, 1).xaxis.title = \"X Position\"\n",
    "\n",
    "fig.show()"
   ]
  }
 ],
 "metadata": {
  "kernelspec": {
   "display_name": "PSC",
   "language": "python",
   "name": "python3"
  },
  "language_info": {
   "codemirror_mode": {
    "name": "ipython",
    "version": 3
   },
   "file_extension": ".py",
   "mimetype": "text/x-python",
   "name": "python",
   "nbconvert_exporter": "python",
   "pygments_lexer": "ipython3",
   "version": "3.10.9"
  },
  "orig_nbformat": 4
 },
 "nbformat": 4,
 "nbformat_minor": 2
}
