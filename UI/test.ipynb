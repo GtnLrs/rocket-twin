{
 "cells": [
  {
   "cell_type": "code",
   "execution_count": null,
   "metadata": {},
   "outputs": [],
   "source": [
    "'tangent_ogive','ellipse','parabole','power_series','haack_series','cone'"
   ]
  },
  {
   "cell_type": "code",
   "execution_count": 12,
   "metadata": {},
   "outputs": [
    {
     "name": "stdout",
     "output_type": "stream",
     "text": [
      "[ 2.23634919e+00 -3.71810734e-10  6.67538803e-12]\n",
      "-20.8022357068027\n",
      "[1. 0. 0.]\n",
      "32.147973898099735\n",
      "[0.07777778 0.         0.        ]\n",
      "1.6020000415543714\n",
      "[0.019 0.    0.   ]\n",
      "0.0007480275844118454\n"
     ]
    },
    {
     "data": {
      "text/plain": [
       "array([-1.10039696e+00,  5.97328087e-10, -1.07242648e-11])"
      ]
     },
     "execution_count": 12,
     "metadata": {},
     "output_type": "execute_result"
    }
   ],
   "source": [
    "rodict={'tube_length': 2.0,\n",
    "        'tube_radius': 0.1,\n",
    "        'tube_thickness': 0.01,\n",
    "        'tube_density': 2700.0,\n",
    "        'nose_type': 'power_series',\n",
    "        'nose_parameter': 0.1,\n",
    "        'nose_length': 0.5,\n",
    "        'nose_radius': 0.1,\n",
    "        'nose_thickness': 0.01,\n",
    "        'nose_density': 7850.0,\n",
    "        'fins_Cr': 0.2,\n",
    "        'fins_Ct': 0.1,\n",
    "        'fins_Xt': 0.1,\n",
    "        'fins_s': 0.15,\n",
    "        'fins_thickness': 0.01,\n",
    "        'fins_number': 4,\n",
    "        'fins_density': 1780.0,\n",
    "        'fins_position': 0.0,\n",
    "        'motor': {'availability': 'OOP',\n",
    "                'avgThrustN': 2.48,\n",
    "                'burnTimeS': 0.23,\n",
    "                'certOrg': 'National Association of Rocketry',\n",
    "                'commonName': '1/4A2',\n",
    "                'dataFiles': 2,\n",
    "                'delays': '2,4',\n",
    "                'designation': '1/4A2',\n",
    "                'diameter': 10.5,\n",
    "                'impulseClass': 'A',\n",
    "                'infoUrl': 'http://nar.org/SandT/pdf/Apogee/qtrA2.pdf',\n",
    "                'length': 38,\n",
    "                'manufacturer': 'Apogee Components',\n",
    "                'manufacturerAbbrev': 'Apogee',\n",
    "                'maxThrustN': 5.4,\n",
    "                'motorId': '5f4294d20002310000000003',\n",
    "                'propWeightG': 0.75,\n",
    "                'samples': [[0, 0], [0.007, 0.162], [0.023, 0.65], [0.041, 1.463], [0.058, 2.519], [0.074, 3.738], [0.079, 3.9], [0.088, 4.915], [0.097, 5.119], [0.106, 5.4], [0.11, 5.119], [0.118, 3.981], [0.125, 3.656], [0.132, 3.453], [0.136, 3.209], [0.151, 3.169], [0.156, 2.966], [0.168, 2.884], [0.18, 2.397], [0.194, 1.625], [0.207, 1.056], [0.218, 0.406], [0.23, 0]],\n",
    "                'totImpulseNs': 0.57,\n",
    "                'type': 'SU',\n",
    "                'updatedOn': '2019-04-17'},\n",
    "        'motor_position': 0.0}\n",
    "\n",
    "rocket = MyRocket.fromDict(rodict)\n",
    "\n",
    "rocket.get_cog()"
   ]
  },
  {
   "cell_type": "code",
   "execution_count": 20,
   "metadata": {},
   "outputs": [
    {
     "name": "stdout",
     "output_type": "stream",
     "text": [
      "[('m1', 1), ('m2', 2), ('m3', 3)]\n"
     ]
    }
   ],
   "source": [
    "d = {'m1':1, 'm2':2,'m3':3}\n",
    "print(list(d.items()))"
   ]
  },
  {
   "cell_type": "code",
   "execution_count": 3,
   "metadata": {},
   "outputs": [],
   "source": [
    "import pyvista as pv\n",
    "import include.init_rocket.mesh_creation as mc\n",
    "import include.init_rocket.nose_creation as nc\n",
    "import numpy as np\n",
    "from scipy.spatial.transform import Rotation as R\n",
    "\n",
    "import test as test\n"
   ]
  },
  {
   "cell_type": "code",
   "execution_count": 5,
   "metadata": {},
   "outputs": [],
   "source": [
    "cylinder = test.nose(shape_function = 'ellipse', OVpnum=4,Cpnum=4)\n",
    "\n",
    "my_mesh = cylinder.stl_mesh\n",
    "my_mesh.save('cylinder.stl')\n"
   ]
  },
  {
   "cell_type": "code",
   "execution_count": 6,
   "metadata": {},
   "outputs": [
    {
     "name": "stderr",
     "output_type": "stream",
     "text": [
      "Your mesh is not closed, the mass methods will not function\n",
      "            correctly on this mesh.  For more info:\n",
      "            https://github.com/WoLpH/numpy-stl/issues/69\n"
     ]
    },
    {
     "name": "stdout",
     "output_type": "stream",
     "text": [
      "[ 5.5999994e-01 -1.4901161e-08  0.0000000e+00]\n"
     ]
    },
    {
     "data": {
      "text/plain": [
       "(0.07243106576303641,\n",
       " array([0.21638332, 0.        , 0.        ]),\n",
       " array([[ 6.61018409e-03, -0.00000000e+00, -0.00000000e+00],\n",
       "        [-0.00000000e+00,  4.32105779e-03,  1.16415322e-11],\n",
       "        [-0.00000000e+00,  1.16415322e-11,  4.32105779e-03]]))"
      ]
     },
     "execution_count": 6,
     "metadata": {},
     "output_type": "execute_result"
    }
   ],
   "source": [
    "print(my_mesh.normals.sum(axis=0))\n",
    "\n",
    "my_mesh.get_mass_properties()"
   ]
  },
  {
   "cell_type": "code",
   "execution_count": 7,
   "metadata": {},
   "outputs": [
    {
     "ename": "AttributeError",
     "evalue": "type object 'DataImage' has no attribute '_instance_inits'",
     "output_type": "error",
     "traceback": [
      "\u001b[0;31m---------------------------------------------------------------------------\u001b[0m",
      "\u001b[0;31mAttributeError\u001b[0m                            Traceback (most recent call last)",
      "Cell \u001b[0;32mIn[7], line 6\u001b[0m\n\u001b[1;32m      3\u001b[0m faces \u001b[39m=\u001b[39m np\u001b[39m.\u001b[39mpad(faces,pad_width\u001b[39m=\u001b[39m((\u001b[39m0\u001b[39m,\u001b[39m0\u001b[39m),(\u001b[39m1\u001b[39m,\u001b[39m0\u001b[39m)), mode\u001b[39m=\u001b[39m\u001b[39m'\u001b[39m\u001b[39mconstant\u001b[39m\u001b[39m'\u001b[39m, constant_values\u001b[39m=\u001b[39m\u001b[39m3\u001b[39m)\n\u001b[1;32m      5\u001b[0m mesh \u001b[39m=\u001b[39m pv\u001b[39m.\u001b[39mPolyData(cylinder\u001b[39m.\u001b[39mbrute_mesh\u001b[39m.\u001b[39mvertices,faces)\n\u001b[0;32m----> 6\u001b[0m mesh\u001b[39m.\u001b[39;49mplot(jupyter_backend\u001b[39m=\u001b[39;49m\u001b[39m'\u001b[39;49m\u001b[39mpythreejs\u001b[39;49m\u001b[39m'\u001b[39;49m)\n",
      "File \u001b[0;32m/opt/anaconda3/lib/python3.8/site-packages/pyvista/plotting/helpers.py:296\u001b[0m, in \u001b[0;36mplot\u001b[0;34m(var_item, off_screen, full_screen, screenshot, interactive, cpos, window_size, show_bounds, show_axes, notebook, background, text, return_img, eye_dome_lighting, volume, parallel_projection, jupyter_backend, return_viewer, return_cpos, jupyter_kwargs, theme, hidden_line_removal, anti_aliasing, zoom, border, border_color, border_width, ssao, **kwargs)\u001b[0m\n\u001b[1;32m    293\u001b[0m \u001b[39mif\u001b[39;00m zoom \u001b[39mis\u001b[39;00m \u001b[39mnot\u001b[39;00m \u001b[39mNone\u001b[39;00m:\n\u001b[1;32m    294\u001b[0m     pl\u001b[39m.\u001b[39mcamera\u001b[39m.\u001b[39mzoom(zoom)\n\u001b[0;32m--> 296\u001b[0m \u001b[39mreturn\u001b[39;00m pl\u001b[39m.\u001b[39;49mshow(\n\u001b[1;32m    297\u001b[0m     auto_close\u001b[39m=\u001b[39;49mauto_close,\n\u001b[1;32m    298\u001b[0m     interactive\u001b[39m=\u001b[39;49minteractive,\n\u001b[1;32m    299\u001b[0m     full_screen\u001b[39m=\u001b[39;49mfull_screen,\n\u001b[1;32m    300\u001b[0m     screenshot\u001b[39m=\u001b[39;49mscreenshot,\n\u001b[1;32m    301\u001b[0m     return_img\u001b[39m=\u001b[39;49mreturn_img,\n\u001b[1;32m    302\u001b[0m     jupyter_backend\u001b[39m=\u001b[39;49mjupyter_backend,\n\u001b[1;32m    303\u001b[0m     before_close_callback\u001b[39m=\u001b[39;49mbefore_close_callback,\n\u001b[1;32m    304\u001b[0m     jupyter_kwargs\u001b[39m=\u001b[39;49mjupyter_kwargs,\n\u001b[1;32m    305\u001b[0m     return_viewer\u001b[39m=\u001b[39;49mreturn_viewer,\n\u001b[1;32m    306\u001b[0m     return_cpos\u001b[39m=\u001b[39;49mreturn_cpos,\n\u001b[1;32m    307\u001b[0m )\n",
      "File \u001b[0;32m/opt/anaconda3/lib/python3.8/site-packages/pyvista/plotting/plotting.py:6522\u001b[0m, in \u001b[0;36mPlotter.show\u001b[0;34m(self, title, window_size, interactive, auto_close, interactive_update, full_screen, screenshot, return_img, cpos, jupyter_backend, return_viewer, return_cpos, before_close_callback, **kwargs)\u001b[0m\n\u001b[1;32m   6519\u001b[0m         jupyter_backend \u001b[39m=\u001b[39m \u001b[39mself\u001b[39m\u001b[39m.\u001b[39m_theme\u001b[39m.\u001b[39mjupyter_backend\n\u001b[1;32m   6521\u001b[0m     \u001b[39mif\u001b[39;00m jupyter_backend\u001b[39m.\u001b[39mlower() \u001b[39m!=\u001b[39m \u001b[39m'\u001b[39m\u001b[39mnone\u001b[39m\u001b[39m'\u001b[39m:\n\u001b[0;32m-> 6522\u001b[0m         jupyter_disp \u001b[39m=\u001b[39m handle_plotter(\u001b[39mself\u001b[39;49m, backend\u001b[39m=\u001b[39;49mjupyter_backend, \u001b[39m*\u001b[39;49m\u001b[39m*\u001b[39;49mjupyter_kwargs)\n\u001b[1;32m   6524\u001b[0m \u001b[39mself\u001b[39m\u001b[39m.\u001b[39mrender()\n\u001b[1;32m   6526\u001b[0m \u001b[39m# initial double render needed for certain passes when offscreen\u001b[39;00m\n",
      "File \u001b[0;32m/opt/anaconda3/lib/python3.8/site-packages/pyvista/jupyter/notebook.py:39\u001b[0m, in \u001b[0;36mhandle_plotter\u001b[0;34m(plotter, backend, screenshot, **kwargs)\u001b[0m\n\u001b[1;32m     37\u001b[0m \u001b[39mtry\u001b[39;00m:\n\u001b[1;32m     38\u001b[0m     \u001b[39mif\u001b[39;00m backend \u001b[39m==\u001b[39m \u001b[39m'\u001b[39m\u001b[39mpythreejs\u001b[39m\u001b[39m'\u001b[39m:\n\u001b[0;32m---> 39\u001b[0m         \u001b[39mreturn\u001b[39;00m show_pythreejs(plotter, \u001b[39m*\u001b[39;49m\u001b[39m*\u001b[39;49mkwargs)\n\u001b[1;32m     40\u001b[0m     \u001b[39mif\u001b[39;00m backend \u001b[39m==\u001b[39m \u001b[39m'\u001b[39m\u001b[39mipyvtklink\u001b[39m\u001b[39m'\u001b[39m:\n\u001b[1;32m     41\u001b[0m         warnings\u001b[39m.\u001b[39mwarn(\n\u001b[1;32m     42\u001b[0m             \u001b[39m'\u001b[39m\u001b[39m`ipyvtklink` backend is deprecated and has been replaced by the `trame` backend.\u001b[39m\u001b[39m'\u001b[39m,\n\u001b[1;32m     43\u001b[0m             PyVistaDeprecationWarning,\n\u001b[1;32m     44\u001b[0m         )\n",
      "File \u001b[0;32m/opt/anaconda3/lib/python3.8/site-packages/pyvista/jupyter/notebook.py:174\u001b[0m, in \u001b[0;36mshow_pythreejs\u001b[0;34m(plotter, **kwargs)\u001b[0m\n\u001b[1;32m    172\u001b[0m \u001b[39mdef\u001b[39;00m \u001b[39mshow_pythreejs\u001b[39m(plotter, \u001b[39m*\u001b[39m\u001b[39m*\u001b[39mkwargs):\n\u001b[1;32m    173\u001b[0m     \u001b[39m\"\"\"Show a pyvista plotting scene using pythreejs.\"\"\"\u001b[39;00m\n\u001b[0;32m--> 174\u001b[0m     \u001b[39mfrom\u001b[39;00m \u001b[39m.\u001b[39;00m\u001b[39mpv_pythreejs\u001b[39;00m \u001b[39mimport\u001b[39;00m convert_plotter\n\u001b[1;32m    176\u001b[0m     renderer \u001b[39m=\u001b[39m convert_plotter(plotter)\n\u001b[1;32m    177\u001b[0m     \u001b[39mreturn\u001b[39;00m renderer\n",
      "File \u001b[0;32m/opt/anaconda3/lib/python3.8/site-packages/pyvista/jupyter/pv_pythreejs.py:8\u001b[0m\n\u001b[1;32m      5\u001b[0m \u001b[39mimport\u001b[39;00m \u001b[39mnumpy\u001b[39;00m \u001b[39mas\u001b[39;00m \u001b[39mnp\u001b[39;00m\n\u001b[1;32m      7\u001b[0m \u001b[39mtry\u001b[39;00m:\n\u001b[0;32m----> 8\u001b[0m     \u001b[39mimport\u001b[39;00m \u001b[39mpythreejs\u001b[39;00m \u001b[39mas\u001b[39;00m \u001b[39mtjs\u001b[39;00m\n\u001b[1;32m      9\u001b[0m \u001b[39mexcept\u001b[39;00m \u001b[39mImportError\u001b[39;00m:  \u001b[39m# pragma: no cover\u001b[39;00m\n\u001b[1;32m     10\u001b[0m     \u001b[39mraise\u001b[39;00m \u001b[39mImportError\u001b[39;00m(\u001b[39m'\u001b[39m\u001b[39mPlease install pythreejs to use this feature\u001b[39m\u001b[39m'\u001b[39m)\n",
      "File \u001b[0;32m/opt/anaconda3/lib/python3.8/site-packages/pythreejs/__init__.py:6\u001b[0m\n\u001b[1;32m      1\u001b[0m \u001b[39m#\u001b[39;00m\n\u001b[1;32m      2\u001b[0m \u001b[39m# This file automatically generated by \u001b[39;00m\n\u001b[1;32m      3\u001b[0m \u001b[39m#\u001b[39;00m\n\u001b[1;32m      5\u001b[0m \u001b[39mfrom\u001b[39;00m \u001b[39m.\u001b[39;00m\u001b[39menums\u001b[39;00m \u001b[39mimport\u001b[39;00m \u001b[39m*\u001b[39m\n\u001b[0;32m----> 6\u001b[0m \u001b[39mfrom\u001b[39;00m \u001b[39m.\u001b[39;00m\u001b[39mpythreejs\u001b[39;00m \u001b[39mimport\u001b[39;00m \u001b[39m*\u001b[39m\n\u001b[1;32m      7\u001b[0m \u001b[39mfrom\u001b[39;00m \u001b[39m.\u001b[39;00m\u001b[39mtraits\u001b[39;00m \u001b[39mimport\u001b[39;00m \u001b[39m*\u001b[39m\n\u001b[1;32m      8\u001b[0m \u001b[39mfrom\u001b[39;00m \u001b[39m.\u001b[39;00m\u001b[39m_example_helper\u001b[39;00m \u001b[39mimport\u001b[39;00m \u001b[39m*\u001b[39m\n",
      "File \u001b[0;32m/opt/anaconda3/lib/python3.8/site-packages/pythreejs/pythreejs.py:20\u001b[0m\n\u001b[1;32m     16\u001b[0m \u001b[39mfrom\u001b[39;00m \u001b[39m.\u001b[39;00m\u001b[39m_package\u001b[39;00m \u001b[39mimport\u001b[39;00m npm_pkg_name\n\u001b[1;32m     17\u001b[0m \u001b[39mfrom\u001b[39;00m \u001b[39m.\u001b[39;00m\u001b[39m_version\u001b[39;00m \u001b[39mimport\u001b[39;00m EXTENSION_SPEC_VERSION\n\u001b[0;32m---> 20\u001b[0m \u001b[39mfrom\u001b[39;00m \u001b[39m.\u001b[39;00m\u001b[39mcore\u001b[39;00m\u001b[39m.\u001b[39;00m\u001b[39mBufferAttribute\u001b[39;00m \u001b[39mimport\u001b[39;00m BufferAttribute\n\u001b[1;32m     21\u001b[0m \u001b[39mfrom\u001b[39;00m \u001b[39m.\u001b[39;00m\u001b[39mcore\u001b[39;00m\u001b[39m.\u001b[39;00m\u001b[39mGeometry\u001b[39;00m \u001b[39mimport\u001b[39;00m Geometry\n\u001b[1;32m     22\u001b[0m \u001b[39mfrom\u001b[39;00m \u001b[39m.\u001b[39;00m\u001b[39mcore\u001b[39;00m\u001b[39m.\u001b[39;00m\u001b[39mBufferGeometry\u001b[39;00m \u001b[39mimport\u001b[39;00m BufferGeometry\n",
      "File \u001b[0;32m/opt/anaconda3/lib/python3.8/site-packages/pythreejs/core/BufferAttribute.py:4\u001b[0m\n\u001b[1;32m      1\u001b[0m \u001b[39mfrom\u001b[39;00m \u001b[39mipywidgets\u001b[39;00m \u001b[39mimport\u001b[39;00m register\n\u001b[1;32m      3\u001b[0m \u001b[39mfrom\u001b[39;00m \u001b[39m.\u001b[39;00m\u001b[39m.\u001b[39;00m\u001b[39m_base\u001b[39;00m\u001b[39m.\u001b[39;00m\u001b[39mThree\u001b[39;00m \u001b[39mimport\u001b[39;00m ThreeWidget\n\u001b[0;32m----> 4\u001b[0m \u001b[39mfrom\u001b[39;00m \u001b[39m.\u001b[39;00m\u001b[39mBufferAttribute_autogen\u001b[39;00m \u001b[39mimport\u001b[39;00m BufferAttribute \u001b[39mas\u001b[39;00m BaseBufferAttribute\n\u001b[1;32m      7\u001b[0m \u001b[39m@register\u001b[39m\n\u001b[1;32m      8\u001b[0m \u001b[39mclass\u001b[39;00m \u001b[39mBufferAttribute\u001b[39;00m(BaseBufferAttribute):\n\u001b[1;32m     10\u001b[0m     _previewable \u001b[39m=\u001b[39m \u001b[39mFalse\u001b[39;00m\n",
      "File \u001b[0;32m/opt/anaconda3/lib/python3.8/site-packages/pythreejs/core/BufferAttribute_autogen.py:13\u001b[0m\n\u001b[1;32m     11\u001b[0m \u001b[39mfrom\u001b[39;00m \u001b[39m.\u001b[39;00m\u001b[39m.\u001b[39;00m\u001b[39m_base\u001b[39;00m\u001b[39m.\u001b[39;00m\u001b[39muniforms\u001b[39;00m \u001b[39mimport\u001b[39;00m uniforms_serialization\n\u001b[1;32m     12\u001b[0m \u001b[39mfrom\u001b[39;00m \u001b[39m.\u001b[39;00m\u001b[39m.\u001b[39;00m\u001b[39menums\u001b[39;00m \u001b[39mimport\u001b[39;00m \u001b[39m*\u001b[39m\n\u001b[0;32m---> 13\u001b[0m \u001b[39mfrom\u001b[39;00m \u001b[39m.\u001b[39;00m\u001b[39m.\u001b[39;00m\u001b[39mtraits\u001b[39;00m \u001b[39mimport\u001b[39;00m \u001b[39m*\u001b[39m\n\u001b[1;32m     15\u001b[0m \u001b[39mfrom\u001b[39;00m \u001b[39m.\u001b[39;00m\u001b[39m.\u001b[39;00m\u001b[39m_base\u001b[39;00m\u001b[39m.\u001b[39;00m\u001b[39mThree\u001b[39;00m \u001b[39mimport\u001b[39;00m ThreeWidget\n\u001b[1;32m     18\u001b[0m \u001b[39mclass\u001b[39;00m \u001b[39mBufferAttribute\u001b[39;00m(ThreeWidget):\n",
      "File \u001b[0;32m/opt/anaconda3/lib/python3.8/site-packages/pythreejs/traits.py:18\u001b[0m\n\u001b[1;32m     11\u001b[0m \u001b[39mfrom\u001b[39;00m \u001b[39mtraitlets\u001b[39;00m \u001b[39mimport\u001b[39;00m (\n\u001b[1;32m     12\u001b[0m     Unicode, Int, CInt, Instance, Enum, List, Dict, Float, CFloat,\n\u001b[1;32m     13\u001b[0m     Bool, Tuple, Undefined, TraitError, Union, TraitType, CaselessStrEnum\n\u001b[1;32m     14\u001b[0m )\n\u001b[1;32m     16\u001b[0m \u001b[39mfrom\u001b[39;00m \u001b[39mipywidgets\u001b[39;00m \u001b[39mimport\u001b[39;00m widget_serialization\n\u001b[0;32m---> 18\u001b[0m \u001b[39mfrom\u001b[39;00m \u001b[39mipydatawidgets\u001b[39;00m \u001b[39mimport\u001b[39;00m DataUnion, NDArrayWidget, shape_constraints\n\u001b[1;32m     20\u001b[0m \u001b[39mimport\u001b[39;00m \u001b[39mnumpy\u001b[39;00m \u001b[39mas\u001b[39;00m \u001b[39mnp\u001b[39;00m\n\u001b[1;32m     23\u001b[0m \u001b[39mdef\u001b[39;00m \u001b[39m_castable_namedtuple\u001b[39m(typename, field_names):\n",
      "File \u001b[0;32m/opt/anaconda3/lib/python3.8/site-packages/ipydatawidgets/__init__.py:7\u001b[0m\n\u001b[1;32m      1\u001b[0m \u001b[39m#!/usr/bin/env python\u001b[39;00m\n\u001b[1;32m      2\u001b[0m \u001b[39m# coding: utf-8\u001b[39;00m\n\u001b[1;32m      3\u001b[0m \n\u001b[1;32m      4\u001b[0m \u001b[39m# Copyright (c) Jupyter Development Team.\u001b[39;00m\n\u001b[1;32m      5\u001b[0m \u001b[39m# Distributed under the terms of the Modified BSD License.\u001b[39;00m\n\u001b[0;32m----> 7\u001b[0m \u001b[39mfrom\u001b[39;00m \u001b[39m.\u001b[39;00m\u001b[39mndarray\u001b[39;00m \u001b[39mimport\u001b[39;00m \u001b[39m*\u001b[39m\n\u001b[1;32m      8\u001b[0m \u001b[39mfrom\u001b[39;00m \u001b[39m.\u001b[39;00m\u001b[39mwidgets\u001b[39;00m \u001b[39mimport\u001b[39;00m DataWidget\n\u001b[1;32m      9\u001b[0m \u001b[39mfrom\u001b[39;00m \u001b[39m.\u001b[39;00m\u001b[39m_version\u001b[39;00m \u001b[39mimport\u001b[39;00m __version__, version_info\n",
      "File \u001b[0;32m/opt/anaconda3/lib/python3.8/site-packages/ipydatawidgets/ndarray/__init__.py:7\u001b[0m\n\u001b[1;32m      1\u001b[0m \u001b[39m#!/usr/bin/env python\u001b[39;00m\n\u001b[1;32m      2\u001b[0m \u001b[39m# coding: utf-8\u001b[39;00m\n\u001b[1;32m      3\u001b[0m \n\u001b[1;32m      4\u001b[0m \u001b[39m# Copyright (c) Jupyter Development Team.\u001b[39;00m\n\u001b[1;32m      5\u001b[0m \u001b[39m# Distributed under the terms of the Modified BSD License.\u001b[39;00m\n\u001b[0;32m----> 7\u001b[0m \u001b[39mfrom\u001b[39;00m \u001b[39m.\u001b[39;00m\u001b[39mmedia\u001b[39;00m \u001b[39mimport\u001b[39;00m DataImage\n\u001b[1;32m      8\u001b[0m \u001b[39mfrom\u001b[39;00m \u001b[39m.\u001b[39;00m\u001b[39mserializers\u001b[39;00m \u001b[39mimport\u001b[39;00m array_serialization, data_union_serialization\n\u001b[1;32m      9\u001b[0m \u001b[39mfrom\u001b[39;00m \u001b[39m.\u001b[39;00m\u001b[39mtraits\u001b[39;00m \u001b[39mimport\u001b[39;00m NDArray, shape_constraints\n",
      "File \u001b[0;32m/opt/anaconda3/lib/python3.8/site-packages/ipydatawidgets/ndarray/media.py:17\u001b[0m\n\u001b[1;32m     13\u001b[0m \u001b[39mfrom\u001b[39;00m \u001b[39m.\u001b[39;00m\u001b[39munion\u001b[39;00m \u001b[39mimport\u001b[39;00m DataUnion, data_union_serialization\n\u001b[1;32m     14\u001b[0m \u001b[39mfrom\u001b[39;00m \u001b[39m.\u001b[39;00m\u001b[39mtraits\u001b[39;00m \u001b[39mimport\u001b[39;00m shape_constraints\n\u001b[0;32m---> 17\u001b[0m \u001b[39mclass\u001b[39;00m \u001b[39mDataImage\u001b[39;00m(DataWidget, DOMWidget):\n\u001b[1;32m     18\u001b[0m     \u001b[39m\"\"\"A data-widgets based Image widget.\u001b[39;00m\n\u001b[1;32m     19\u001b[0m \u001b[39m    \"\"\"\u001b[39;00m\n\u001b[1;32m     20\u001b[0m     _model_name \u001b[39m=\u001b[39m Unicode(\u001b[39m'\u001b[39m\u001b[39mDataImageModel\u001b[39m\u001b[39m'\u001b[39m)\u001b[39m.\u001b[39mtag(sync\u001b[39m=\u001b[39m\u001b[39mTrue\u001b[39;00m)\n",
      "File \u001b[0;32m/opt/anaconda3/lib/python3.8/site-packages/traitlets/traitlets.py:805\u001b[0m, in \u001b[0;36mMetaHasDescriptors.__init__\u001b[0;34m(cls, name, bases, classdict)\u001b[0m\n\u001b[1;32m    803\u001b[0m \u001b[39m\"\"\"Finish initializing the HasDescriptors class.\"\"\"\u001b[39;00m\n\u001b[1;32m    804\u001b[0m \u001b[39msuper\u001b[39m(MetaHasDescriptors, \u001b[39mcls\u001b[39m)\u001b[39m.\u001b[39m\u001b[39m__init__\u001b[39m(name, bases, classdict)\n\u001b[0;32m--> 805\u001b[0m \u001b[39mcls\u001b[39;49m\u001b[39m.\u001b[39;49msetup_class(classdict)\n",
      "File \u001b[0;32m/opt/anaconda3/lib/python3.8/site-packages/traitlets/traitlets.py:828\u001b[0m, in \u001b[0;36mMetaHasTraits.setup_class\u001b[0;34m(cls, classdict)\u001b[0m\n\u001b[1;32m    826\u001b[0m \u001b[39mdef\u001b[39;00m \u001b[39msetup_class\u001b[39m(\u001b[39mcls\u001b[39m, classdict):\n\u001b[1;32m    827\u001b[0m     \u001b[39mcls\u001b[39m\u001b[39m.\u001b[39m_trait_default_generators \u001b[39m=\u001b[39m {}\n\u001b[0;32m--> 828\u001b[0m     \u001b[39msuper\u001b[39;49m(MetaHasTraits, \u001b[39mcls\u001b[39;49m)\u001b[39m.\u001b[39;49msetup_class(classdict)\n",
      "File \u001b[0;32m/opt/anaconda3/lib/python3.8/site-packages/traitlets/traitlets.py:820\u001b[0m, in \u001b[0;36mMetaHasDescriptors.setup_class\u001b[0;34m(cls, classdict)\u001b[0m\n\u001b[1;32m    818\u001b[0m \u001b[39mfor\u001b[39;00m k, v \u001b[39min\u001b[39;00m getmembers(\u001b[39mcls\u001b[39m):\n\u001b[1;32m    819\u001b[0m     \u001b[39mif\u001b[39;00m \u001b[39misinstance\u001b[39m(v, BaseDescriptor):\n\u001b[0;32m--> 820\u001b[0m         v\u001b[39m.\u001b[39;49msubclass_init(\u001b[39mcls\u001b[39;49m)\n",
      "File \u001b[0;32m/opt/anaconda3/lib/python3.8/site-packages/ipydatawidgets/ndarray/union.py:59\u001b[0m, in \u001b[0;36mDataUnion.subclass_init\u001b[0;34m(self, cls)\u001b[0m\n\u001b[1;32m     58\u001b[0m \u001b[39mdef\u001b[39;00m \u001b[39msubclass_init\u001b[39m(\u001b[39mself\u001b[39m, \u001b[39mcls\u001b[39m):\n\u001b[0;32m---> 59\u001b[0m     \u001b[39mcls\u001b[39;49m\u001b[39m.\u001b[39;49m_instance_inits\u001b[39m.\u001b[39mappend(\u001b[39mself\u001b[39m\u001b[39m.\u001b[39minstance_init)\n\u001b[1;32m     60\u001b[0m     \u001b[39mreturn\u001b[39;00m \u001b[39msuper\u001b[39m()\u001b[39m.\u001b[39msubclass_init(\u001b[39mcls\u001b[39m)\n",
      "\u001b[0;31mAttributeError\u001b[0m: type object 'DataImage' has no attribute '_instance_inits'"
     ]
    }
   ],
   "source": [
    "faces = cylinder.brute_mesh.faces\n",
    "\n",
    "faces = np.pad(faces,pad_width=((0,0),(1,0)), mode='constant', constant_values=3)\n",
    "\n",
    "mesh = pv.PolyData(cylinder.brute_mesh.vertices,faces)\n",
    "mesh.plot(jupyter_backend='pythreejs')"
   ]
  },
  {
   "cell_type": "code",
   "execution_count": 8,
   "metadata": {},
   "outputs": [],
   "source": [
    "length = .5\n",
    "OVpnum = 20\n",
    "Cpnum=20\n",
    "radius=.5\n",
    "curve_param = 0\n",
    "thick = .1\n",
    "pos=0\n",
    "\n",
    "def translate(vertices, trans_vect  = np.zeros(3)):\n",
    "    return vertices + trans_vect\n",
    "\n",
    "x = np.linspace(0, length, OVpnum, endpoint=True)\n",
    "nose_points = eval(\"nc.ellipse(x, radius, length, C=curve_param, thick=thick)\")\n",
    "\n",
    "out_vertices = nose_points.out_points\n",
    "in_vertices = nose_points.in_points\n",
    "\n",
    "rotation_xz = R.from_euler('xyz',angles=[np.pi,0,np.pi], degrees=False)\n",
    "transvect = np.array([pos+length, 0, 0])\n",
    "out_vertices = translate(rotation_xz.apply(out_vertices), trans_vect  = transvect)\n",
    "in_vertices = translate(rotation_xz.apply(in_vertices), trans_vect  = transvect)\n",
    "\n",
    "nose_points = nc.Nose(out_vertices,in_vertices)\n",
    "\n",
    "plot_brute_mesh, my_mesh = mc.half_nose(nose_points, Cpnum = Cpnum//2)\n",
    "\n",
    "my_mesh.save('cylinder.stl')"
   ]
  },
  {
   "cell_type": "code",
   "execution_count": 4,
   "metadata": {},
   "outputs": [
    {
     "name": "stderr",
     "output_type": "stream",
     "text": [
      "/opt/anaconda3/lib/python3.8/site-packages/pyvista/jupyter/notebook.py:58: UserWarning: Failed to use notebook backend: \n",
      "\n",
      "No module named 'trame'\n",
      "\n",
      "Falling back to a static output.\n",
      "  warnings.warn(\n"
     ]
    },
    {
     "data": {
      "image/png": "[encoded data removed]",
      "text/plain": [
       "<PIL.Image.Image image mode=RGB size=1024x768>"
      ]
     },
     "metadata": {},
     "output_type": "display_data"
    },
    {
     "name": "stderr",
     "output_type": "stream",
     "text": [
      "/opt/anaconda3/lib/python3.8/site-packages/pyvista/jupyter/notebook.py:58: UserWarning: Failed to use notebook backend: \n",
      "\n",
      "No module named 'trame'\n",
      "\n",
      "Falling back to a static output.\n",
      "  warnings.warn(\n"
     ]
    },
    {
     "data": {
      "image/png": "[encoded data removed]",
      "text/plain": [
       "<PIL.Image.Image image mode=RGB size=1024x768>"
      ]
     },
     "metadata": {},
     "output_type": "display_data"
    },
    {
     "ename": "AttributeError",
     "evalue": "type object 'DataImage' has no attribute '_instance_inits'",
     "output_type": "error",
     "traceback": [
      "\u001b[0;31m---------------------------------------------------------------------------\u001b[0m",
      "\u001b[0;31mAttributeError\u001b[0m                            Traceback (most recent call last)",
      "Cell \u001b[0;32mIn[4], line 18\u001b[0m\n\u001b[1;32m     15\u001b[0m \u001b[39m# Extract those cells\u001b[39;00m\n\u001b[1;32m     16\u001b[0m top \u001b[39m=\u001b[39m mesh\u001b[39m.\u001b[39mextract_cells(ids)\n\u001b[0;32m---> 18\u001b[0m top\u001b[39m.\u001b[39;49mplot(jupyter_backend\u001b[39m=\u001b[39;49m\u001b[39m'\u001b[39;49m\u001b[39mpythreejs\u001b[39;49m\u001b[39m'\u001b[39;49m)\n",
      "File \u001b[0;32m/opt/anaconda3/lib/python3.8/site-packages/pyvista/plotting/helpers.py:296\u001b[0m, in \u001b[0;36mplot\u001b[0;34m(var_item, off_screen, full_screen, screenshot, interactive, cpos, window_size, show_bounds, show_axes, notebook, background, text, return_img, eye_dome_lighting, volume, parallel_projection, jupyter_backend, return_viewer, return_cpos, jupyter_kwargs, theme, hidden_line_removal, anti_aliasing, zoom, border, border_color, border_width, ssao, **kwargs)\u001b[0m\n\u001b[1;32m    293\u001b[0m \u001b[39mif\u001b[39;00m zoom \u001b[39mis\u001b[39;00m \u001b[39mnot\u001b[39;00m \u001b[39mNone\u001b[39;00m:\n\u001b[1;32m    294\u001b[0m     pl\u001b[39m.\u001b[39mcamera\u001b[39m.\u001b[39mzoom(zoom)\n\u001b[0;32m--> 296\u001b[0m \u001b[39mreturn\u001b[39;00m pl\u001b[39m.\u001b[39;49mshow(\n\u001b[1;32m    297\u001b[0m     auto_close\u001b[39m=\u001b[39;49mauto_close,\n\u001b[1;32m    298\u001b[0m     interactive\u001b[39m=\u001b[39;49minteractive,\n\u001b[1;32m    299\u001b[0m     full_screen\u001b[39m=\u001b[39;49mfull_screen,\n\u001b[1;32m    300\u001b[0m     screenshot\u001b[39m=\u001b[39;49mscreenshot,\n\u001b[1;32m    301\u001b[0m     return_img\u001b[39m=\u001b[39;49mreturn_img,\n\u001b[1;32m    302\u001b[0m     jupyter_backend\u001b[39m=\u001b[39;49mjupyter_backend,\n\u001b[1;32m    303\u001b[0m     before_close_callback\u001b[39m=\u001b[39;49mbefore_close_callback,\n\u001b[1;32m    304\u001b[0m     jupyter_kwargs\u001b[39m=\u001b[39;49mjupyter_kwargs,\n\u001b[1;32m    305\u001b[0m     return_viewer\u001b[39m=\u001b[39;49mreturn_viewer,\n\u001b[1;32m    306\u001b[0m     return_cpos\u001b[39m=\u001b[39;49mreturn_cpos,\n\u001b[1;32m    307\u001b[0m )\n",
      "File \u001b[0;32m/opt/anaconda3/lib/python3.8/site-packages/pyvista/plotting/plotting.py:6522\u001b[0m, in \u001b[0;36mPlotter.show\u001b[0;34m(self, title, window_size, interactive, auto_close, interactive_update, full_screen, screenshot, return_img, cpos, jupyter_backend, return_viewer, return_cpos, before_close_callback, **kwargs)\u001b[0m\n\u001b[1;32m   6519\u001b[0m         jupyter_backend \u001b[39m=\u001b[39m \u001b[39mself\u001b[39m\u001b[39m.\u001b[39m_theme\u001b[39m.\u001b[39mjupyter_backend\n\u001b[1;32m   6521\u001b[0m     \u001b[39mif\u001b[39;00m jupyter_backend\u001b[39m.\u001b[39mlower() \u001b[39m!=\u001b[39m \u001b[39m'\u001b[39m\u001b[39mnone\u001b[39m\u001b[39m'\u001b[39m:\n\u001b[0;32m-> 6522\u001b[0m         jupyter_disp \u001b[39m=\u001b[39m handle_plotter(\u001b[39mself\u001b[39;49m, backend\u001b[39m=\u001b[39;49mjupyter_backend, \u001b[39m*\u001b[39;49m\u001b[39m*\u001b[39;49mjupyter_kwargs)\n\u001b[1;32m   6524\u001b[0m \u001b[39mself\u001b[39m\u001b[39m.\u001b[39mrender()\n\u001b[1;32m   6526\u001b[0m \u001b[39m# initial double render needed for certain passes when offscreen\u001b[39;00m\n",
      "File \u001b[0;32m/opt/anaconda3/lib/python3.8/site-packages/pyvista/jupyter/notebook.py:39\u001b[0m, in \u001b[0;36mhandle_plotter\u001b[0;34m(plotter, backend, screenshot, **kwargs)\u001b[0m\n\u001b[1;32m     37\u001b[0m \u001b[39mtry\u001b[39;00m:\n\u001b[1;32m     38\u001b[0m     \u001b[39mif\u001b[39;00m backend \u001b[39m==\u001b[39m \u001b[39m'\u001b[39m\u001b[39mpythreejs\u001b[39m\u001b[39m'\u001b[39m:\n\u001b[0;32m---> 39\u001b[0m         \u001b[39mreturn\u001b[39;00m show_pythreejs(plotter, \u001b[39m*\u001b[39;49m\u001b[39m*\u001b[39;49mkwargs)\n\u001b[1;32m     40\u001b[0m     \u001b[39mif\u001b[39;00m backend \u001b[39m==\u001b[39m \u001b[39m'\u001b[39m\u001b[39mipyvtklink\u001b[39m\u001b[39m'\u001b[39m:\n\u001b[1;32m     41\u001b[0m         warnings\u001b[39m.\u001b[39mwarn(\n\u001b[1;32m     42\u001b[0m             \u001b[39m'\u001b[39m\u001b[39m`ipyvtklink` backend is deprecated and has been replaced by the `trame` backend.\u001b[39m\u001b[39m'\u001b[39m,\n\u001b[1;32m     43\u001b[0m             PyVistaDeprecationWarning,\n\u001b[1;32m     44\u001b[0m         )\n",
      "File \u001b[0;32m/opt/anaconda3/lib/python3.8/site-packages/pyvista/jupyter/notebook.py:174\u001b[0m, in \u001b[0;36mshow_pythreejs\u001b[0;34m(plotter, **kwargs)\u001b[0m\n\u001b[1;32m    172\u001b[0m \u001b[39mdef\u001b[39;00m \u001b[39mshow_pythreejs\u001b[39m(plotter, \u001b[39m*\u001b[39m\u001b[39m*\u001b[39mkwargs):\n\u001b[1;32m    173\u001b[0m     \u001b[39m\"\"\"Show a pyvista plotting scene using pythreejs.\"\"\"\u001b[39;00m\n\u001b[0;32m--> 174\u001b[0m     \u001b[39mfrom\u001b[39;00m \u001b[39m.\u001b[39;00m\u001b[39mpv_pythreejs\u001b[39;00m \u001b[39mimport\u001b[39;00m convert_plotter\n\u001b[1;32m    176\u001b[0m     renderer \u001b[39m=\u001b[39m convert_plotter(plotter)\n\u001b[1;32m    177\u001b[0m     \u001b[39mreturn\u001b[39;00m renderer\n",
      "File \u001b[0;32m/opt/anaconda3/lib/python3.8/site-packages/pyvista/jupyter/pv_pythreejs.py:8\u001b[0m\n\u001b[1;32m      5\u001b[0m \u001b[39mimport\u001b[39;00m \u001b[39mnumpy\u001b[39;00m \u001b[39mas\u001b[39;00m \u001b[39mnp\u001b[39;00m\n\u001b[1;32m      7\u001b[0m \u001b[39mtry\u001b[39;00m:\n\u001b[0;32m----> 8\u001b[0m     \u001b[39mimport\u001b[39;00m \u001b[39mpythreejs\u001b[39;00m \u001b[39mas\u001b[39;00m \u001b[39mtjs\u001b[39;00m\n\u001b[1;32m      9\u001b[0m \u001b[39mexcept\u001b[39;00m \u001b[39mImportError\u001b[39;00m:  \u001b[39m# pragma: no cover\u001b[39;00m\n\u001b[1;32m     10\u001b[0m     \u001b[39mraise\u001b[39;00m \u001b[39mImportError\u001b[39;00m(\u001b[39m'\u001b[39m\u001b[39mPlease install pythreejs to use this feature\u001b[39m\u001b[39m'\u001b[39m)\n",
      "File \u001b[0;32m/opt/anaconda3/lib/python3.8/site-packages/pythreejs/__init__.py:6\u001b[0m\n\u001b[1;32m      1\u001b[0m \u001b[39m#\u001b[39;00m\n\u001b[1;32m      2\u001b[0m \u001b[39m# This file automatically generated by \u001b[39;00m\n\u001b[1;32m      3\u001b[0m \u001b[39m#\u001b[39;00m\n\u001b[1;32m      5\u001b[0m \u001b[39mfrom\u001b[39;00m \u001b[39m.\u001b[39;00m\u001b[39menums\u001b[39;00m \u001b[39mimport\u001b[39;00m \u001b[39m*\u001b[39m\n\u001b[0;32m----> 6\u001b[0m \u001b[39mfrom\u001b[39;00m \u001b[39m.\u001b[39;00m\u001b[39mpythreejs\u001b[39;00m \u001b[39mimport\u001b[39;00m \u001b[39m*\u001b[39m\n\u001b[1;32m      7\u001b[0m \u001b[39mfrom\u001b[39;00m \u001b[39m.\u001b[39;00m\u001b[39mtraits\u001b[39;00m \u001b[39mimport\u001b[39;00m \u001b[39m*\u001b[39m\n\u001b[1;32m      8\u001b[0m \u001b[39mfrom\u001b[39;00m \u001b[39m.\u001b[39;00m\u001b[39m_example_helper\u001b[39;00m \u001b[39mimport\u001b[39;00m \u001b[39m*\u001b[39m\n",
      "File \u001b[0;32m/opt/anaconda3/lib/python3.8/site-packages/pythreejs/pythreejs.py:20\u001b[0m\n\u001b[1;32m     16\u001b[0m \u001b[39mfrom\u001b[39;00m \u001b[39m.\u001b[39;00m\u001b[39m_package\u001b[39;00m \u001b[39mimport\u001b[39;00m npm_pkg_name\n\u001b[1;32m     17\u001b[0m \u001b[39mfrom\u001b[39;00m \u001b[39m.\u001b[39;00m\u001b[39m_version\u001b[39;00m \u001b[39mimport\u001b[39;00m EXTENSION_SPEC_VERSION\n\u001b[0;32m---> 20\u001b[0m \u001b[39mfrom\u001b[39;00m \u001b[39m.\u001b[39;00m\u001b[39mcore\u001b[39;00m\u001b[39m.\u001b[39;00m\u001b[39mBufferAttribute\u001b[39;00m \u001b[39mimport\u001b[39;00m BufferAttribute\n\u001b[1;32m     21\u001b[0m \u001b[39mfrom\u001b[39;00m \u001b[39m.\u001b[39;00m\u001b[39mcore\u001b[39;00m\u001b[39m.\u001b[39;00m\u001b[39mGeometry\u001b[39;00m \u001b[39mimport\u001b[39;00m Geometry\n\u001b[1;32m     22\u001b[0m \u001b[39mfrom\u001b[39;00m \u001b[39m.\u001b[39;00m\u001b[39mcore\u001b[39;00m\u001b[39m.\u001b[39;00m\u001b[39mBufferGeometry\u001b[39;00m \u001b[39mimport\u001b[39;00m BufferGeometry\n",
      "File \u001b[0;32m/opt/anaconda3/lib/python3.8/site-packages/pythreejs/core/BufferAttribute.py:4\u001b[0m\n\u001b[1;32m      1\u001b[0m \u001b[39mfrom\u001b[39;00m \u001b[39mipywidgets\u001b[39;00m \u001b[39mimport\u001b[39;00m register\n\u001b[1;32m      3\u001b[0m \u001b[39mfrom\u001b[39;00m \u001b[39m.\u001b[39;00m\u001b[39m.\u001b[39;00m\u001b[39m_base\u001b[39;00m\u001b[39m.\u001b[39;00m\u001b[39mThree\u001b[39;00m \u001b[39mimport\u001b[39;00m ThreeWidget\n\u001b[0;32m----> 4\u001b[0m \u001b[39mfrom\u001b[39;00m \u001b[39m.\u001b[39;00m\u001b[39mBufferAttribute_autogen\u001b[39;00m \u001b[39mimport\u001b[39;00m BufferAttribute \u001b[39mas\u001b[39;00m BaseBufferAttribute\n\u001b[1;32m      7\u001b[0m \u001b[39m@register\u001b[39m\n\u001b[1;32m      8\u001b[0m \u001b[39mclass\u001b[39;00m \u001b[39mBufferAttribute\u001b[39;00m(BaseBufferAttribute):\n\u001b[1;32m     10\u001b[0m     _previewable \u001b[39m=\u001b[39m \u001b[39mFalse\u001b[39;00m\n",
      "File \u001b[0;32m/opt/anaconda3/lib/python3.8/site-packages/pythreejs/core/BufferAttribute_autogen.py:13\u001b[0m\n\u001b[1;32m     11\u001b[0m \u001b[39mfrom\u001b[39;00m \u001b[39m.\u001b[39;00m\u001b[39m.\u001b[39;00m\u001b[39m_base\u001b[39;00m\u001b[39m.\u001b[39;00m\u001b[39muniforms\u001b[39;00m \u001b[39mimport\u001b[39;00m uniforms_serialization\n\u001b[1;32m     12\u001b[0m \u001b[39mfrom\u001b[39;00m \u001b[39m.\u001b[39;00m\u001b[39m.\u001b[39;00m\u001b[39menums\u001b[39;00m \u001b[39mimport\u001b[39;00m \u001b[39m*\u001b[39m\n\u001b[0;32m---> 13\u001b[0m \u001b[39mfrom\u001b[39;00m \u001b[39m.\u001b[39;00m\u001b[39m.\u001b[39;00m\u001b[39mtraits\u001b[39;00m \u001b[39mimport\u001b[39;00m \u001b[39m*\u001b[39m\n\u001b[1;32m     15\u001b[0m \u001b[39mfrom\u001b[39;00m \u001b[39m.\u001b[39;00m\u001b[39m.\u001b[39;00m\u001b[39m_base\u001b[39;00m\u001b[39m.\u001b[39;00m\u001b[39mThree\u001b[39;00m \u001b[39mimport\u001b[39;00m ThreeWidget\n\u001b[1;32m     18\u001b[0m \u001b[39mclass\u001b[39;00m \u001b[39mBufferAttribute\u001b[39;00m(ThreeWidget):\n",
      "File \u001b[0;32m/opt/anaconda3/lib/python3.8/site-packages/pythreejs/traits.py:18\u001b[0m\n\u001b[1;32m     11\u001b[0m \u001b[39mfrom\u001b[39;00m \u001b[39mtraitlets\u001b[39;00m \u001b[39mimport\u001b[39;00m (\n\u001b[1;32m     12\u001b[0m     Unicode, Int, CInt, Instance, Enum, List, Dict, Float, CFloat,\n\u001b[1;32m     13\u001b[0m     Bool, Tuple, Undefined, TraitError, Union, TraitType, CaselessStrEnum\n\u001b[1;32m     14\u001b[0m )\n\u001b[1;32m     16\u001b[0m \u001b[39mfrom\u001b[39;00m \u001b[39mipywidgets\u001b[39;00m \u001b[39mimport\u001b[39;00m widget_serialization\n\u001b[0;32m---> 18\u001b[0m \u001b[39mfrom\u001b[39;00m \u001b[39mipydatawidgets\u001b[39;00m \u001b[39mimport\u001b[39;00m DataUnion, NDArrayWidget, shape_constraints\n\u001b[1;32m     20\u001b[0m \u001b[39mimport\u001b[39;00m \u001b[39mnumpy\u001b[39;00m \u001b[39mas\u001b[39;00m \u001b[39mnp\u001b[39;00m\n\u001b[1;32m     23\u001b[0m \u001b[39mdef\u001b[39;00m \u001b[39m_castable_namedtuple\u001b[39m(typename, field_names):\n",
      "File \u001b[0;32m/opt/anaconda3/lib/python3.8/site-packages/ipydatawidgets/__init__.py:7\u001b[0m\n\u001b[1;32m      1\u001b[0m \u001b[39m#!/usr/bin/env python\u001b[39;00m\n\u001b[1;32m      2\u001b[0m \u001b[39m# coding: utf-8\u001b[39;00m\n\u001b[1;32m      3\u001b[0m \n\u001b[1;32m      4\u001b[0m \u001b[39m# Copyright (c) Jupyter Development Team.\u001b[39;00m\n\u001b[1;32m      5\u001b[0m \u001b[39m# Distributed under the terms of the Modified BSD License.\u001b[39;00m\n\u001b[0;32m----> 7\u001b[0m \u001b[39mfrom\u001b[39;00m \u001b[39m.\u001b[39;00m\u001b[39mndarray\u001b[39;00m \u001b[39mimport\u001b[39;00m \u001b[39m*\u001b[39m\n\u001b[1;32m      8\u001b[0m \u001b[39mfrom\u001b[39;00m \u001b[39m.\u001b[39;00m\u001b[39mwidgets\u001b[39;00m \u001b[39mimport\u001b[39;00m DataWidget\n\u001b[1;32m      9\u001b[0m \u001b[39mfrom\u001b[39;00m \u001b[39m.\u001b[39;00m\u001b[39m_version\u001b[39;00m \u001b[39mimport\u001b[39;00m __version__, version_info\n",
      "File \u001b[0;32m/opt/anaconda3/lib/python3.8/site-packages/ipydatawidgets/ndarray/__init__.py:7\u001b[0m\n\u001b[1;32m      1\u001b[0m \u001b[39m#!/usr/bin/env python\u001b[39;00m\n\u001b[1;32m      2\u001b[0m \u001b[39m# coding: utf-8\u001b[39;00m\n\u001b[1;32m      3\u001b[0m \n\u001b[1;32m      4\u001b[0m \u001b[39m# Copyright (c) Jupyter Development Team.\u001b[39;00m\n\u001b[1;32m      5\u001b[0m \u001b[39m# Distributed under the terms of the Modified BSD License.\u001b[39;00m\n\u001b[0;32m----> 7\u001b[0m \u001b[39mfrom\u001b[39;00m \u001b[39m.\u001b[39;00m\u001b[39mmedia\u001b[39;00m \u001b[39mimport\u001b[39;00m DataImage\n\u001b[1;32m      8\u001b[0m \u001b[39mfrom\u001b[39;00m \u001b[39m.\u001b[39;00m\u001b[39mserializers\u001b[39;00m \u001b[39mimport\u001b[39;00m array_serialization, data_union_serialization\n\u001b[1;32m      9\u001b[0m \u001b[39mfrom\u001b[39;00m \u001b[39m.\u001b[39;00m\u001b[39mtraits\u001b[39;00m \u001b[39mimport\u001b[39;00m NDArray, shape_constraints\n",
      "File \u001b[0;32m/opt/anaconda3/lib/python3.8/site-packages/ipydatawidgets/ndarray/media.py:17\u001b[0m\n\u001b[1;32m     13\u001b[0m \u001b[39mfrom\u001b[39;00m \u001b[39m.\u001b[39;00m\u001b[39munion\u001b[39;00m \u001b[39mimport\u001b[39;00m DataUnion, data_union_serialization\n\u001b[1;32m     14\u001b[0m \u001b[39mfrom\u001b[39;00m \u001b[39m.\u001b[39;00m\u001b[39mtraits\u001b[39;00m \u001b[39mimport\u001b[39;00m shape_constraints\n\u001b[0;32m---> 17\u001b[0m \u001b[39mclass\u001b[39;00m \u001b[39mDataImage\u001b[39;00m(DataWidget, DOMWidget):\n\u001b[1;32m     18\u001b[0m     \u001b[39m\"\"\"A data-widgets based Image widget.\u001b[39;00m\n\u001b[1;32m     19\u001b[0m \u001b[39m    \"\"\"\u001b[39;00m\n\u001b[1;32m     20\u001b[0m     _model_name \u001b[39m=\u001b[39m Unicode(\u001b[39m'\u001b[39m\u001b[39mDataImageModel\u001b[39m\u001b[39m'\u001b[39m)\u001b[39m.\u001b[39mtag(sync\u001b[39m=\u001b[39m\u001b[39mTrue\u001b[39;00m)\n",
      "File \u001b[0;32m/opt/anaconda3/lib/python3.8/site-packages/traitlets/traitlets.py:805\u001b[0m, in \u001b[0;36mMetaHasDescriptors.__init__\u001b[0;34m(cls, name, bases, classdict)\u001b[0m\n\u001b[1;32m    803\u001b[0m \u001b[39m\"\"\"Finish initializing the HasDescriptors class.\"\"\"\u001b[39;00m\n\u001b[1;32m    804\u001b[0m \u001b[39msuper\u001b[39m(MetaHasDescriptors, \u001b[39mcls\u001b[39m)\u001b[39m.\u001b[39m\u001b[39m__init__\u001b[39m(name, bases, classdict)\n\u001b[0;32m--> 805\u001b[0m \u001b[39mcls\u001b[39;49m\u001b[39m.\u001b[39;49msetup_class(classdict)\n",
      "File \u001b[0;32m/opt/anaconda3/lib/python3.8/site-packages/traitlets/traitlets.py:828\u001b[0m, in \u001b[0;36mMetaHasTraits.setup_class\u001b[0;34m(cls, classdict)\u001b[0m\n\u001b[1;32m    826\u001b[0m \u001b[39mdef\u001b[39;00m \u001b[39msetup_class\u001b[39m(\u001b[39mcls\u001b[39m, classdict):\n\u001b[1;32m    827\u001b[0m     \u001b[39mcls\u001b[39m\u001b[39m.\u001b[39m_trait_default_generators \u001b[39m=\u001b[39m {}\n\u001b[0;32m--> 828\u001b[0m     \u001b[39msuper\u001b[39;49m(MetaHasTraits, \u001b[39mcls\u001b[39;49m)\u001b[39m.\u001b[39;49msetup_class(classdict)\n",
      "File \u001b[0;32m/opt/anaconda3/lib/python3.8/site-packages/traitlets/traitlets.py:820\u001b[0m, in \u001b[0;36mMetaHasDescriptors.setup_class\u001b[0;34m(cls, classdict)\u001b[0m\n\u001b[1;32m    818\u001b[0m \u001b[39mfor\u001b[39;00m k, v \u001b[39min\u001b[39;00m getmembers(\u001b[39mcls\u001b[39m):\n\u001b[1;32m    819\u001b[0m     \u001b[39mif\u001b[39;00m \u001b[39misinstance\u001b[39m(v, BaseDescriptor):\n\u001b[0;32m--> 820\u001b[0m         v\u001b[39m.\u001b[39;49msubclass_init(\u001b[39mcls\u001b[39;49m)\n",
      "File \u001b[0;32m/opt/anaconda3/lib/python3.8/site-packages/ipydatawidgets/ndarray/union.py:59\u001b[0m, in \u001b[0;36mDataUnion.subclass_init\u001b[0;34m(self, cls)\u001b[0m\n\u001b[1;32m     58\u001b[0m \u001b[39mdef\u001b[39;00m \u001b[39msubclass_init\u001b[39m(\u001b[39mself\u001b[39m, \u001b[39mcls\u001b[39m):\n\u001b[0;32m---> 59\u001b[0m     \u001b[39mcls\u001b[39;49m\u001b[39m.\u001b[39;49m_instance_inits\u001b[39m.\u001b[39mappend(\u001b[39mself\u001b[39m\u001b[39m.\u001b[39minstance_init)\n\u001b[1;32m     60\u001b[0m     \u001b[39mreturn\u001b[39;00m \u001b[39msuper\u001b[39m()\u001b[39m.\u001b[39msubclass_init(\u001b[39mcls\u001b[39m)\n",
      "\u001b[0;31mAttributeError\u001b[0m: type object 'DataImage' has no attribute '_instance_inits'"
     ]
    },
    {
     "ename": "",
     "evalue": "",
     "output_type": "error",
     "traceback": [
      "\u001b[1;31mThe Kernel crashed while executing code in the the current cell or a previous cell. Please review the code in the cell(s) to identify a possible cause of the failure. Click <a href='https://aka.ms/vscodeJupyterKernelCrash'>here</a> for more info. View Jupyter <a href='command:jupyter.viewOutput'>log</a> for further details."
     ]
    }
   ],
   "source": [
    "mesh = pv.read('cylinder.stl')\n",
    "\n",
    "# Compute normals\n",
    "mesh.compute_normals(cell_normals=True, point_normals=False, inplace=True)\n",
    "\n",
    "mesh.plot_normals(mag=0.2)\n",
    "\n",
    "mesh.flip_normals()\n",
    "mesh.plot_normals(mag=1)\n",
    "\n",
    "\n",
    "# Get list of cell IDs that meet condition\n",
    "ids = np.arange(mesh.n_cells)[mesh['Normals'][:, 0] < 0.0]\n",
    "\n",
    "# Extract those cells\n",
    "top = mesh.extract_cells(ids)\n",
    "\n",
    "top.plot(jupyter_backend='pythreejs')"
   ]
  },
  {
   "cell_type": "code",
   "execution_count": 2,
   "metadata": {},
   "outputs": [
    {
     "ename": "NameError",
     "evalue": "name 'pv' is not defined",
     "output_type": "error",
     "traceback": [
      "\u001b[0;31m---------------------------------------------------------------------------\u001b[0m",
      "\u001b[0;31mNameError\u001b[0m                                 Traceback (most recent call last)",
      "Cell \u001b[0;32mIn[2], line 1\u001b[0m\n\u001b[0;32m----> 1\u001b[0m mesh \u001b[39m=\u001b[39m pv\u001b[39m.\u001b[39mread(\u001b[39m'\u001b[39m\u001b[39mcylinder.stl\u001b[39m\u001b[39m'\u001b[39m)\n\u001b[1;32m      2\u001b[0m mesh\u001b[39m.\u001b[39mplot(jupyter_backend\u001b[39m=\u001b[39m\u001b[39m'\u001b[39m\u001b[39mpythreejs\u001b[39m\u001b[39m'\u001b[39m)\n\u001b[1;32m      3\u001b[0m mesh\n",
      "\u001b[0;31mNameError\u001b[0m: name 'pv' is not defined"
     ]
    }
   ],
   "source": [
    "mesh = pv.read('cylinder.stl')\n",
    "mesh.plot(jupyter_backend='pythreejs')\n",
    "mesh"
   ]
  },
  {
   "cell_type": "code",
   "execution_count": 1,
   "metadata": {},
   "outputs": [
    {
     "data": {
      "text/plain": [
       "array([[ 5.0000000e-01,  0.0000000e+00,  0.0000000e+00,  3.3333334e-01,\n",
       "         3.7267798e-01,  4.5638383e-17,  3.3333334e-01,  3.7112755e-17,\n",
       "         3.7267798e-01],\n",
       "       [ 3.3333334e-01,  3.7267798e-01,  4.5638383e-17,  1.6666667e-01,\n",
       "         4.6944333e-17,  4.7140452e-01,  3.3333334e-01,  3.7112755e-17,\n",
       "         3.7267798e-01],\n",
       "       [ 3.3333334e-01,  3.7267798e-01,  4.5638383e-17,  1.6666667e-01,\n",
       "         4.7140452e-01,  5.7728498e-17,  1.6666667e-01,  4.6944333e-17,\n",
       "         4.7140452e-01],\n",
       "       [ 1.6666667e-01,  4.7140452e-01,  5.7728498e-17,  5.5511151e-17,\n",
       "         4.9791985e-17,  5.0000000e-01,  1.6666667e-01,  4.6944333e-17,\n",
       "         4.7140452e-01],\n",
       "       [ 1.6666667e-01,  4.7140452e-01,  5.7728498e-17,  5.5511151e-17,\n",
       "         5.0000000e-01,  6.1230318e-17,  5.5511151e-17,  4.9791985e-17,\n",
       "         5.0000000e-01],\n",
       "       [ 5.0000000e-01,  0.0000000e+00,  0.0000000e+00,  3.3333334e-01,\n",
       "         3.7112755e-17,  3.7267798e-01,  3.3333334e-01, -3.7267798e-01,\n",
       "         0.0000000e+00],\n",
       "       [ 3.3333334e-01,  3.7112755e-17,  3.7267798e-01,  1.6666667e-01,\n",
       "        -4.7140452e-01,  1.2325952e-32,  3.3333334e-01, -3.7267798e-01,\n",
       "         0.0000000e+00],\n",
       "       [ 3.3333334e-01,  3.7112755e-17,  3.7267798e-01,  1.6666667e-01,\n",
       "         4.6944333e-17,  4.7140452e-01,  1.6666667e-01, -4.7140452e-01,\n",
       "         1.2325952e-32],\n",
       "       [ 1.6666667e-01,  4.6944333e-17,  4.7140452e-01,  5.5511151e-17,\n",
       "        -5.0000000e-01,  1.2325952e-32,  1.6666667e-01, -4.7140452e-01,\n",
       "         1.2325952e-32],\n",
       "       [ 1.6666667e-01,  4.6944333e-17,  4.7140452e-01,  5.5511151e-17,\n",
       "         4.9791985e-17,  5.0000000e-01,  5.5511151e-17, -5.0000000e-01,\n",
       "         1.2325952e-32],\n",
       "       [ 5.0000000e-01,  0.0000000e+00,  0.0000000e+00,  3.3333334e-01,\n",
       "        -3.7267798e-01,  0.0000000e+00,  3.3333334e-01, -3.7112755e-17,\n",
       "        -3.7267798e-01],\n",
       "       [ 3.3333334e-01, -3.7267798e-01,  0.0000000e+00,  1.6666667e-01,\n",
       "        -4.6944333e-17, -4.7140452e-01,  3.3333334e-01, -3.7112755e-17,\n",
       "        -3.7267798e-01],\n",
       "       [ 3.3333334e-01, -3.7267798e-01,  0.0000000e+00,  1.6666667e-01,\n",
       "        -4.7140452e-01,  1.2325952e-32,  1.6666667e-01, -4.6944333e-17,\n",
       "        -4.7140452e-01],\n",
       "       [ 1.6666667e-01, -4.7140452e-01,  1.2325952e-32,  5.5511151e-17,\n",
       "        -4.9791985e-17, -5.0000000e-01,  1.6666667e-01, -4.6944333e-17,\n",
       "        -4.7140452e-01],\n",
       "       [ 1.6666667e-01, -4.7140452e-01,  1.2325952e-32,  5.5511151e-17,\n",
       "        -5.0000000e-01,  1.2325952e-32,  5.5511151e-17, -4.9791985e-17,\n",
       "        -5.0000000e-01],\n",
       "       [ 3.3333334e-01, -3.7112755e-17, -3.7267798e-01,  3.3333334e-01,\n",
       "         3.7267798e-01,  4.5638383e-17,  5.0000000e-01,  0.0000000e+00,\n",
       "         0.0000000e+00],\n",
       "       [ 3.3333334e-01, -3.7112755e-17, -3.7267798e-01,  1.6666667e-01,\n",
       "        -4.6944333e-17, -4.7140452e-01,  1.6666667e-01,  4.7140452e-01,\n",
       "         5.7728498e-17],\n",
       "       [ 3.3333334e-01, -3.7112755e-17, -3.7267798e-01,  1.6666667e-01,\n",
       "         4.7140452e-01,  5.7728498e-17,  3.3333334e-01,  3.7267798e-01,\n",
       "         4.5638383e-17],\n",
       "       [ 1.6666667e-01, -4.6944333e-17, -4.7140452e-01,  5.5511151e-17,\n",
       "        -4.9791985e-17, -5.0000000e-01,  5.5511151e-17,  5.0000000e-01,\n",
       "         6.1230318e-17],\n",
       "       [ 1.6666667e-01, -4.6944333e-17, -4.7140452e-01,  5.5511151e-17,\n",
       "         5.0000000e-01,  6.1230318e-17,  1.6666667e-01,  4.7140452e-01,\n",
       "         5.7728498e-17],\n",
       "       [ 2.6666668e-01,  2.9690202e-17,  2.9814240e-01,  2.6666668e-01,\n",
       "         2.9814240e-01,  3.6510707e-17,  4.0000001e-01,  1.2246063e-17,\n",
       "         0.0000000e+00],\n",
       "       [ 2.6666668e-01,  2.9690202e-17,  2.9814240e-01,  1.3333334e-01,\n",
       "         3.7555466e-17,  3.7712362e-01,  2.6666668e-01,  2.9814240e-01,\n",
       "         3.6510707e-17],\n",
       "       [ 1.3333334e-01,  3.7555466e-17,  3.7712362e-01,  1.3333334e-01,\n",
       "         3.7712362e-01,  4.6182797e-17,  2.6666668e-01,  2.9814240e-01,\n",
       "         3.6510707e-17],\n",
       "       [ 1.3333334e-01,  3.7555466e-17,  3.7712362e-01,  5.5511151e-17,\n",
       "         4.2249901e-17,  4.2426407e-01,  1.3333334e-01,  3.7712362e-01,\n",
       "         4.6182797e-17],\n",
       "       [ 5.5511151e-17,  4.2249901e-17,  4.2426407e-01,  5.5511151e-17,\n",
       "         4.2426407e-01,  5.1955648e-17,  1.3333334e-01,  3.7712362e-01,\n",
       "         4.6182797e-17],\n",
       "       [ 2.6666668e-01, -2.9814240e-01,  6.1629758e-33,  2.6666668e-01,\n",
       "         2.9690202e-17,  2.9814240e-01,  4.0000001e-01,  1.2246063e-17,\n",
       "         0.0000000e+00],\n",
       "       [ 2.6666668e-01, -2.9814240e-01,  6.1629758e-33,  1.3333334e-01,\n",
       "        -3.7712362e-01,  6.1629758e-33,  2.6666668e-01,  2.9690202e-17,\n",
       "         2.9814240e-01],\n",
       "       [ 1.3333334e-01, -3.7712362e-01,  6.1629758e-33,  1.3333334e-01,\n",
       "         3.7555466e-17,  3.7712362e-01,  2.6666668e-01,  2.9690202e-17,\n",
       "         2.9814240e-01],\n",
       "       [ 1.3333334e-01, -3.7712362e-01,  6.1629758e-33,  5.5511151e-17,\n",
       "        -4.2426407e-01,  6.1629758e-33,  1.3333334e-01,  3.7555466e-17,\n",
       "         3.7712362e-01],\n",
       "       [ 5.5511151e-17, -4.2426407e-01,  6.1629758e-33,  5.5511151e-17,\n",
       "         4.2249901e-17,  4.2426407e-01,  1.3333334e-01,  3.7555466e-17,\n",
       "         3.7712362e-01],\n",
       "       [ 2.6666668e-01, -2.9690202e-17, -2.9814240e-01,  2.6666668e-01,\n",
       "        -2.9814240e-01,  6.1629758e-33,  4.0000001e-01,  1.2246063e-17,\n",
       "         0.0000000e+00],\n",
       "       [ 2.6666668e-01, -2.9690202e-17, -2.9814240e-01,  1.3333334e-01,\n",
       "        -3.7555466e-17, -3.7712362e-01,  2.6666668e-01, -2.9814240e-01,\n",
       "         6.1629758e-33],\n",
       "       [ 1.3333334e-01, -3.7555466e-17, -3.7712362e-01,  1.3333334e-01,\n",
       "        -3.7712362e-01,  6.1629758e-33,  2.6666668e-01, -2.9814240e-01,\n",
       "         6.1629758e-33],\n",
       "       [ 1.3333334e-01, -3.7555466e-17, -3.7712362e-01,  5.5511151e-17,\n",
       "        -4.2249901e-17, -4.2426407e-01,  1.3333334e-01, -3.7712362e-01,\n",
       "         6.1629758e-33],\n",
       "       [ 5.5511151e-17, -4.2249901e-17, -4.2426407e-01,  5.5511151e-17,\n",
       "        -4.2426407e-01,  6.1629758e-33,  1.3333334e-01, -3.7712362e-01,\n",
       "         6.1629758e-33],\n",
       "       [ 4.0000001e-01,  1.2246063e-17,  0.0000000e+00,  2.6666668e-01,\n",
       "         2.9814240e-01,  3.6510707e-17,  2.6666668e-01, -2.9690202e-17,\n",
       "        -2.9814240e-01],\n",
       "       [ 1.3333334e-01,  3.7712362e-01,  4.6182797e-17,  1.3333334e-01,\n",
       "        -3.7555466e-17, -3.7712362e-01,  2.6666668e-01, -2.9690202e-17,\n",
       "        -2.9814240e-01],\n",
       "       [ 2.6666668e-01,  2.9814240e-01,  3.6510707e-17,  1.3333334e-01,\n",
       "         3.7712362e-01,  4.6182797e-17,  2.6666668e-01, -2.9690202e-17,\n",
       "        -2.9814240e-01],\n",
       "       [ 5.5511151e-17,  4.2426407e-01,  5.1955648e-17,  5.5511151e-17,\n",
       "        -4.2249901e-17, -4.2426407e-01,  1.3333334e-01, -3.7555466e-17,\n",
       "        -3.7712362e-01],\n",
       "       [ 1.3333334e-01,  3.7712362e-01,  4.6182797e-17,  5.5511151e-17,\n",
       "         4.2426407e-01,  5.1955648e-17,  1.3333334e-01, -3.7555466e-17,\n",
       "        -3.7712362e-01],\n",
       "       [ 5.5511151e-17,  5.0000000e-01,  6.1230318e-17,  5.5511151e-17,\n",
       "         4.9791985e-17,  5.0000000e-01,  5.5511151e-17,  4.2426407e-01,\n",
       "         5.1955648e-17],\n",
       "       [ 5.5511151e-17,  4.9791985e-17,  5.0000000e-01,  5.5511151e-17,\n",
       "         4.2249901e-17,  4.2426407e-01,  5.5511151e-17,  4.2426407e-01,\n",
       "         5.1955648e-17],\n",
       "       [ 5.5511151e-17,  4.9791985e-17,  5.0000000e-01,  5.5511151e-17,\n",
       "        -5.0000000e-01,  1.2325952e-32,  5.5511151e-17,  4.2249901e-17,\n",
       "         4.2426407e-01],\n",
       "       [ 5.5511151e-17, -5.0000000e-01,  1.2325952e-32,  5.5511151e-17,\n",
       "        -4.2426407e-01,  6.1629758e-33,  5.5511151e-17,  4.2249901e-17,\n",
       "         4.2426407e-01],\n",
       "       [ 5.5511151e-17, -5.0000000e-01,  1.2325952e-32,  5.5511151e-17,\n",
       "        -4.9791985e-17, -5.0000000e-01,  5.5511151e-17, -4.2426407e-01,\n",
       "         6.1629758e-33],\n",
       "       [ 5.5511151e-17, -4.9791985e-17, -5.0000000e-01,  5.5511151e-17,\n",
       "        -4.2249901e-17, -4.2426407e-01,  5.5511151e-17, -4.2426407e-01,\n",
       "         6.1629758e-33],\n",
       "       [ 5.5511151e-17, -4.9791985e-17, -5.0000000e-01,  5.5511151e-17,\n",
       "         5.0000000e-01,  6.1230318e-17,  5.5511151e-17, -4.2249901e-17,\n",
       "        -4.2426407e-01],\n",
       "       [ 5.5511151e-17,  5.0000000e-01,  6.1230318e-17,  5.5511151e-17,\n",
       "         4.2426407e-01,  5.1955648e-17,  5.5511151e-17, -4.2249901e-17,\n",
       "        -4.2426407e-01]], dtype=float32)"
      ]
     },
     "execution_count": 1,
     "metadata": {},
     "output_type": "execute_result"
    }
   ],
   "source": [
    "from stl import mesh as msh\n",
    "\n",
    "\n",
    "your_mesh = msh.Mesh.from_file('cylinder.stl')\n",
    "\n",
    "(your_mesh.points)"
   ]
  },
  {
   "cell_type": "code",
   "execution_count": null,
   "metadata": {},
   "outputs": [],
   "source": []
  }
 ],
 "metadata": {
  "kernelspec": {
   "display_name": "PSC-WAaCNLZg",
   "language": "python",
   "name": "python3"
  },
  "language_info": {
   "codemirror_mode": {
    "name": "ipython",
    "version": 3
   },
   "file_extension": ".py",
   "mimetype": "text/x-python",
   "name": "python",
   "nbconvert_exporter": "python",
   "pygments_lexer": "ipython3",
   "version": "3.8.8"
  },
  "orig_nbformat": 4
 },
 "nbformat": 4,
 "nbformat_minor": 2
}
