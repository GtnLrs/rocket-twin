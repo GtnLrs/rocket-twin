{
 "cells": [
  {
   "cell_type": "code",
   "execution_count": null,
   "metadata": {},
   "outputs": [],
   "source": [
    "'tangent_ogive','ellipse','parabole','power_series','haack_series','cone'"
   ]
  },
  {
   "cell_type": "code",
   "execution_count": 12,
   "metadata": {},
   "outputs": [
    {
     "name": "stdout",
     "output_type": "stream",
     "text": [
      "[ 2.23634919e+00 -3.71810734e-10  6.67538803e-12]\n",
      "-20.8022357068027\n",
      "[1. 0. 0.]\n",
      "32.147973898099735\n",
      "[0.07777778 0.         0.        ]\n",
      "1.6020000415543714\n",
      "[0.019 0.    0.   ]\n",
      "0.0007480275844118454\n"
     ]
    },
    {
     "data": {
      "text/plain": [
       "array([-1.10039696e+00,  5.97328087e-10, -1.07242648e-11])"
      ]
     },
     "execution_count": 12,
     "metadata": {},
     "output_type": "execute_result"
    }
   ],
   "source": [
    "rodict={'tube_length': 2.0,\n",
    "        'tube_radius': 0.1,\n",
    "        'tube_thickness': 0.01,\n",
    "        'tube_density': 2700.0,\n",
    "        'nose_type': 'power_series',\n",
    "        'nose_parameter': 0.1,\n",
    "        'nose_length': 0.5,\n",
    "        'nose_radius': 0.1,\n",
    "        'nose_thickness': 0.01,\n",
    "        'nose_density': 7850.0,\n",
    "        'fins_Cr': 0.2,\n",
    "        'fins_Ct': 0.1,\n",
    "        'fins_Xt': 0.1,\n",
    "        'fins_s': 0.15,\n",
    "        'fins_thickness': 0.01,\n",
    "        'fins_number': 4,\n",
    "        'fins_density': 1780.0,\n",
    "        'fins_position': 0.0,\n",
    "        'motor': {'availability': 'OOP',\n",
    "                'avgThrustN': 2.48,\n",
    "                'burnTimeS': 0.23,\n",
    "                'certOrg': 'National Association of Rocketry',\n",
    "                'commonName': '1/4A2',\n",
    "                'dataFiles': 2,\n",
    "                'delays': '2,4',\n",
    "                'designation': '1/4A2',\n",
    "                'diameter': 10.5,\n",
    "                'impulseClass': 'A',\n",
    "                'infoUrl': 'http://nar.org/SandT/pdf/Apogee/qtrA2.pdf',\n",
    "                'length': 38,\n",
    "                'manufacturer': 'Apogee Components',\n",
    "                'manufacturerAbbrev': 'Apogee',\n",
    "                'maxThrustN': 5.4,\n",
    "                'motorId': '5f4294d20002310000000003',\n",
    "                'propWeightG': 0.75,\n",
    "                'samples': [[0, 0], [0.007, 0.162], [0.023, 0.65], [0.041, 1.463], [0.058, 2.519], [0.074, 3.738], [0.079, 3.9], [0.088, 4.915], [0.097, 5.119], [0.106, 5.4], [0.11, 5.119], [0.118, 3.981], [0.125, 3.656], [0.132, 3.453], [0.136, 3.209], [0.151, 3.169], [0.156, 2.966], [0.168, 2.884], [0.18, 2.397], [0.194, 1.625], [0.207, 1.056], [0.218, 0.406], [0.23, 0]],\n",
    "                'totImpulseNs': 0.57,\n",
    "                'type': 'SU',\n",
    "                'updatedOn': '2019-04-17'},\n",
    "        'motor_position': 0.0}\n",
    "\n",
    "rocket = MyRocket.fromDict(rodict)\n",
    "\n",
    "rocket.get_cog()"
   ]
  },
  {
   "cell_type": "code",
   "execution_count": 20,
   "metadata": {},
   "outputs": [
    {
     "name": "stdout",
     "output_type": "stream",
     "text": [
      "[('m1', 1), ('m2', 2), ('m3', 3)]\n"
     ]
    }
   ],
   "source": [
    "d = {'m1':1, 'm2':2,'m3':3}\n",
    "print(list(d.items()))"
   ]
  },
  {
   "cell_type": "code",
   "execution_count": 1,
   "metadata": {},
   "outputs": [],
   "source": [
    "import pyvista as pv\n",
    "import include.init_rocket.mesh_creation as mc\n",
    "import include.init_rocket.nose_creation as nc\n",
    "import numpy as np\n",
    "from scipy.spatial.transform import Rotation as R\n",
    "\n",
    "import test as test\n"
   ]
  },
  {
   "cell_type": "code",
   "execution_count": 2,
   "metadata": {},
   "outputs": [],
   "source": [
    "cylinder = test.nose(shape_function = 'ellipse', OVpnum=4,Cpnum=4)\n",
    "\n",
    "my_mesh = cylinder.stl_mesh\n",
    "my_mesh.save('cylinder.stl')\n"
   ]
  },
  {
   "cell_type": "code",
   "execution_count": 3,
   "metadata": {},
   "outputs": [
    {
     "name": "stderr",
     "output_type": "stream",
     "text": [
      "Your mesh is not closed, the mass methods will not function\n",
      "            correctly on this mesh.  For more info:\n",
      "            https://github.com/WoLpH/numpy-stl/issues/69\n"
     ]
    },
    {
     "name": "stdout",
     "output_type": "stream",
     "text": [
      "[ 5.5999994e-01 -1.4901161e-08  0.0000000e+00]\n"
     ]
    },
    {
     "data": {
      "text/plain": [
       "(0.07243106576303641,\n",
       " array([0.21638332, 0.        , 0.        ]),\n",
       " array([[ 6.61018409e-03, -0.00000000e+00, -0.00000000e+00],\n",
       "        [-0.00000000e+00,  4.32105779e-03,  1.16415322e-11],\n",
       "        [-0.00000000e+00,  1.16415322e-11,  4.32105779e-03]]))"
      ]
     },
     "execution_count": 3,
     "metadata": {},
     "output_type": "execute_result"
    }
   ],
   "source": [
    "print(my_mesh.normals.sum(axis=0))\n",
    "\n",
    "my_mesh.get_mass_properties()"
   ]
  },
  {
   "cell_type": "code",
   "execution_count": null,
   "metadata": {},
   "outputs": [],
   "source": [
    "faces = cylinder.brute_mesh.faces\n",
    "\n",
    "faces = np.pad(faces,pad_width=((0,0),(1,0)), mode='constant', constant_values=3)\n",
    "\n",
    "mesh = pv.PolyData(cylinder.brute_mesh.vertices,faces)\n",
    "mesh.plot(jupyter_backend='pythreejs')"
   ]
  },
  {
   "cell_type": "code",
   "execution_count": 5,
   "metadata": {},
   "outputs": [],
   "source": [
    "length = .5\n",
    "OVpnum = 20\n",
    "Cpnum=20\n",
    "radius=.5\n",
    "curve_param = 0\n",
    "thick = .1\n",
    "pos=0\n",
    "\n",
    "def translate(vertices, trans_vect  = np.zeros(3)):\n",
    "    return vertices + trans_vect\n",
    "\n",
    "x = np.linspace(0, length, OVpnum, endpoint=True)\n",
    "nose_points = eval(\"nc.ellipse(x, radius, length, C=curve_param, thick=thick)\")\n",
    "\n",
    "out_vertices = nose_points.out_points\n",
    "in_vertices = nose_points.in_points\n",
    "\n",
    "rotation_xz = R.from_euler('xyz',angles=[np.pi,0,np.pi], degrees=False)\n",
    "transvect = np.array([pos+length, 0, 0])\n",
    "out_vertices = translate(rotation_xz.apply(out_vertices), trans_vect  = transvect)\n",
    "in_vertices = translate(rotation_xz.apply(in_vertices), trans_vect  = transvect)\n",
    "\n",
    "nose_points = nc.Nose(out_vertices,in_vertices)\n",
    "\n",
    "plot_brute_mesh, my_mesh = mc.half_nose(nose_points, Cpnum = Cpnum//2)\n",
    "\n",
    "my_mesh.save('cylinder.stl')"
   ]
  },
  {
   "cell_type": "code",
   "execution_count": null,
   "metadata": {},
   "outputs": [],
   "source": [
    "mesh = pv.read('cylinder.stl')\n",
    "\n",
    "# Compute normals\n",
    "mesh.compute_normals(cell_normals=True, point_normals=False, inplace=True)\n",
    "\n",
    "mesh.plot_normals(mag=0.2)\n",
    "\n",
    "mesh.flip_normals()\n",
    "mesh.plot_normals(mag=1)\n",
    "\n",
    "\n",
    "# Get list of cell IDs that meet condition\n",
    "ids = np.arange(mesh.n_cells)[mesh['Normals'][:, 0] < 0.0]\n",
    "\n",
    "# Extract those cells\n",
    "top = mesh.extract_cells(ids)\n",
    "\n",
    "top.plot(jupyter_backend='pythreejs')"
   ]
  },
  {
   "cell_type": "code",
   "execution_count": null,
   "metadata": {},
   "outputs": [],
   "source": [
    "mesh = pv.read('cylinder.stl')\n",
    "mesh.plot(jupyter_backend='pythreejs')\n",
    "mesh"
   ]
  },
  {
   "cell_type": "code",
   "execution_count": 10,
   "metadata": {},
   "outputs": [
    {
     "data": {
      "text/plain": [
       "array([[ 5.0000000e-01,  0.0000000e+00,  0.0000000e+00,  3.3333334e-01,\n",
       "         3.7267798e-01,  4.5638383e-17,  3.3333334e-01,  3.7112755e-17,\n",
       "         3.7267798e-01],\n",
       "       [ 3.3333334e-01,  3.7267798e-01,  4.5638383e-17,  1.6666667e-01,\n",
       "         4.6944333e-17,  4.7140452e-01,  3.3333334e-01,  3.7112755e-17,\n",
       "         3.7267798e-01],\n",
       "       [ 3.3333334e-01,  3.7267798e-01,  4.5638383e-17,  1.6666667e-01,\n",
       "         4.7140452e-01,  5.7728498e-17,  1.6666667e-01,  4.6944333e-17,\n",
       "         4.7140452e-01],\n",
       "       [ 1.6666667e-01,  4.7140452e-01,  5.7728498e-17,  5.5511151e-17,\n",
       "         4.9791985e-17,  5.0000000e-01,  1.6666667e-01,  4.6944333e-17,\n",
       "         4.7140452e-01],\n",
       "       [ 1.6666667e-01,  4.7140452e-01,  5.7728498e-17,  5.5511151e-17,\n",
       "         5.0000000e-01,  6.1230318e-17,  5.5511151e-17,  4.9791985e-17,\n",
       "         5.0000000e-01],\n",
       "       [ 5.0000000e-01,  0.0000000e+00,  0.0000000e+00,  3.3333334e-01,\n",
       "         3.7112755e-17,  3.7267798e-01,  3.3333334e-01, -3.7267798e-01,\n",
       "         0.0000000e+00],\n",
       "       [ 3.3333334e-01,  3.7112755e-17,  3.7267798e-01,  1.6666667e-01,\n",
       "        -4.7140452e-01,  1.2325952e-32,  3.3333334e-01, -3.7267798e-01,\n",
       "         0.0000000e+00],\n",
       "       [ 3.3333334e-01,  3.7112755e-17,  3.7267798e-01,  1.6666667e-01,\n",
       "         4.6944333e-17,  4.7140452e-01,  1.6666667e-01, -4.7140452e-01,\n",
       "         1.2325952e-32],\n",
       "       [ 1.6666667e-01,  4.6944333e-17,  4.7140452e-01,  5.5511151e-17,\n",
       "        -5.0000000e-01,  1.2325952e-32,  1.6666667e-01, -4.7140452e-01,\n",
       "         1.2325952e-32],\n",
       "       [ 1.6666667e-01,  4.6944333e-17,  4.7140452e-01,  5.5511151e-17,\n",
       "         4.9791985e-17,  5.0000000e-01,  5.5511151e-17, -5.0000000e-01,\n",
       "         1.2325952e-32],\n",
       "       [ 5.0000000e-01,  0.0000000e+00,  0.0000000e+00,  3.3333334e-01,\n",
       "        -3.7267798e-01,  0.0000000e+00,  3.3333334e-01, -3.7112755e-17,\n",
       "        -3.7267798e-01],\n",
       "       [ 3.3333334e-01, -3.7267798e-01,  0.0000000e+00,  1.6666667e-01,\n",
       "        -4.6944333e-17, -4.7140452e-01,  3.3333334e-01, -3.7112755e-17,\n",
       "        -3.7267798e-01],\n",
       "       [ 3.3333334e-01, -3.7267798e-01,  0.0000000e+00,  1.6666667e-01,\n",
       "        -4.7140452e-01,  1.2325952e-32,  1.6666667e-01, -4.6944333e-17,\n",
       "        -4.7140452e-01],\n",
       "       [ 1.6666667e-01, -4.7140452e-01,  1.2325952e-32,  5.5511151e-17,\n",
       "        -4.9791985e-17, -5.0000000e-01,  1.6666667e-01, -4.6944333e-17,\n",
       "        -4.7140452e-01],\n",
       "       [ 1.6666667e-01, -4.7140452e-01,  1.2325952e-32,  5.5511151e-17,\n",
       "        -5.0000000e-01,  1.2325952e-32,  5.5511151e-17, -4.9791985e-17,\n",
       "        -5.0000000e-01],\n",
       "       [ 3.3333334e-01, -3.7112755e-17, -3.7267798e-01,  3.3333334e-01,\n",
       "         3.7267798e-01,  4.5638383e-17,  5.0000000e-01,  0.0000000e+00,\n",
       "         0.0000000e+00],\n",
       "       [ 3.3333334e-01, -3.7112755e-17, -3.7267798e-01,  1.6666667e-01,\n",
       "        -4.6944333e-17, -4.7140452e-01,  3.3333334e-01,  3.7267798e-01,\n",
       "         4.5638383e-17],\n",
       "       [ 1.6666667e-01, -4.6944333e-17, -4.7140452e-01,  1.6666667e-01,\n",
       "         4.7140452e-01,  5.7728498e-17,  3.3333334e-01,  3.7267798e-01,\n",
       "         4.5638383e-17],\n",
       "       [ 1.6666667e-01, -4.6944333e-17, -4.7140452e-01,  5.5511151e-17,\n",
       "        -4.9791985e-17, -5.0000000e-01,  1.6666667e-01,  4.7140452e-01,\n",
       "         5.7728498e-17],\n",
       "       [ 5.5511151e-17, -4.9791985e-17, -5.0000000e-01,  5.5511151e-17,\n",
       "         5.0000000e-01,  6.1230318e-17,  1.6666667e-01,  4.7140452e-01,\n",
       "         5.7728498e-17],\n",
       "       [ 2.6666668e-01,  2.9690202e-17,  2.9814240e-01,  2.6666668e-01,\n",
       "         2.9814240e-01,  3.6510707e-17,  4.0000001e-01,  1.2246063e-17,\n",
       "         0.0000000e+00],\n",
       "       [ 2.6666668e-01,  2.9690202e-17,  2.9814240e-01,  1.3333334e-01,\n",
       "         3.7555466e-17,  3.7712362e-01,  2.6666668e-01,  2.9814240e-01,\n",
       "         3.6510707e-17],\n",
       "       [ 1.3333334e-01,  3.7555466e-17,  3.7712362e-01,  1.3333334e-01,\n",
       "         3.7712362e-01,  4.6182797e-17,  2.6666668e-01,  2.9814240e-01,\n",
       "         3.6510707e-17],\n",
       "       [ 1.3333334e-01,  3.7555466e-17,  3.7712362e-01,  5.5511151e-17,\n",
       "         4.2249901e-17,  4.2426407e-01,  1.3333334e-01,  3.7712362e-01,\n",
       "         4.6182797e-17],\n",
       "       [ 5.5511151e-17,  4.2249901e-17,  4.2426407e-01,  5.5511151e-17,\n",
       "         4.2426407e-01,  5.1955648e-17,  1.3333334e-01,  3.7712362e-01,\n",
       "         4.6182797e-17],\n",
       "       [ 2.6666668e-01, -2.9814240e-01,  6.1629758e-33,  2.6666668e-01,\n",
       "         2.9690202e-17,  2.9814240e-01,  4.0000001e-01,  1.2246063e-17,\n",
       "         0.0000000e+00],\n",
       "       [ 2.6666668e-01, -2.9814240e-01,  6.1629758e-33,  1.3333334e-01,\n",
       "        -3.7712362e-01,  6.1629758e-33,  2.6666668e-01,  2.9690202e-17,\n",
       "         2.9814240e-01],\n",
       "       [ 1.3333334e-01, -3.7712362e-01,  6.1629758e-33,  1.3333334e-01,\n",
       "         3.7555466e-17,  3.7712362e-01,  2.6666668e-01,  2.9690202e-17,\n",
       "         2.9814240e-01],\n",
       "       [ 1.3333334e-01, -3.7712362e-01,  6.1629758e-33,  5.5511151e-17,\n",
       "        -4.2426407e-01,  6.1629758e-33,  1.3333334e-01,  3.7555466e-17,\n",
       "         3.7712362e-01],\n",
       "       [ 5.5511151e-17, -4.2426407e-01,  6.1629758e-33,  5.5511151e-17,\n",
       "         4.2249901e-17,  4.2426407e-01,  1.3333334e-01,  3.7555466e-17,\n",
       "         3.7712362e-01],\n",
       "       [ 2.6666668e-01, -2.9690202e-17, -2.9814240e-01,  2.6666668e-01,\n",
       "        -2.9814240e-01,  6.1629758e-33,  4.0000001e-01,  1.2246063e-17,\n",
       "         0.0000000e+00],\n",
       "       [ 2.6666668e-01, -2.9690202e-17, -2.9814240e-01,  1.3333334e-01,\n",
       "        -3.7555466e-17, -3.7712362e-01,  2.6666668e-01, -2.9814240e-01,\n",
       "         6.1629758e-33],\n",
       "       [ 1.3333334e-01, -3.7555466e-17, -3.7712362e-01,  1.3333334e-01,\n",
       "        -3.7712362e-01,  6.1629758e-33,  2.6666668e-01, -2.9814240e-01,\n",
       "         6.1629758e-33],\n",
       "       [ 1.3333334e-01, -3.7555466e-17, -3.7712362e-01,  5.5511151e-17,\n",
       "        -4.2249901e-17, -4.2426407e-01,  1.3333334e-01, -3.7712362e-01,\n",
       "         6.1629758e-33],\n",
       "       [ 5.5511151e-17, -4.2249901e-17, -4.2426407e-01,  5.5511151e-17,\n",
       "        -4.2426407e-01,  6.1629758e-33,  1.3333334e-01, -3.7712362e-01,\n",
       "         6.1629758e-33],\n",
       "       [ 4.0000001e-01,  1.2246063e-17,  0.0000000e+00,  2.6666668e-01,\n",
       "         2.9814240e-01,  3.6510707e-17,  2.6666668e-01, -2.9690202e-17,\n",
       "        -2.9814240e-01],\n",
       "       [ 2.6666668e-01,  2.9814240e-01,  3.6510707e-17,  1.3333334e-01,\n",
       "        -3.7555466e-17, -3.7712362e-01,  2.6666668e-01, -2.9690202e-17,\n",
       "        -2.9814240e-01],\n",
       "       [ 2.6666668e-01,  2.9814240e-01,  3.6510707e-17,  1.3333334e-01,\n",
       "         3.7712362e-01,  4.6182797e-17,  1.3333334e-01, -3.7555466e-17,\n",
       "        -3.7712362e-01],\n",
       "       [ 1.3333334e-01,  3.7712362e-01,  4.6182797e-17,  5.5511151e-17,\n",
       "        -4.2249901e-17, -4.2426407e-01,  1.3333334e-01, -3.7555466e-17,\n",
       "        -3.7712362e-01],\n",
       "       [ 1.3333334e-01,  3.7712362e-01,  4.6182797e-17,  5.5511151e-17,\n",
       "         4.2426407e-01,  5.1955648e-17,  5.5511151e-17, -4.2249901e-17,\n",
       "        -4.2426407e-01],\n",
       "       [ 5.5511151e-17,  5.0000000e-01,  6.1230318e-17,  5.5511151e-17,\n",
       "         4.9791985e-17,  5.0000000e-01,  5.5511151e-17,  4.2426407e-01,\n",
       "         5.1955648e-17],\n",
       "       [ 5.5511151e-17,  4.9791985e-17,  5.0000000e-01,  5.5511151e-17,\n",
       "         4.2249901e-17,  4.2426407e-01,  5.5511151e-17,  4.2426407e-01,\n",
       "         5.1955648e-17],\n",
       "       [ 5.5511151e-17,  4.9791985e-17,  5.0000000e-01,  5.5511151e-17,\n",
       "        -5.0000000e-01,  1.2325952e-32,  5.5511151e-17,  4.2249901e-17,\n",
       "         4.2426407e-01],\n",
       "       [ 5.5511151e-17, -5.0000000e-01,  1.2325952e-32,  5.5511151e-17,\n",
       "        -4.2426407e-01,  6.1629758e-33,  5.5511151e-17,  4.2249901e-17,\n",
       "         4.2426407e-01],\n",
       "       [ 5.5511151e-17, -5.0000000e-01,  1.2325952e-32,  5.5511151e-17,\n",
       "        -4.9791985e-17, -5.0000000e-01,  5.5511151e-17, -4.2426407e-01,\n",
       "         6.1629758e-33],\n",
       "       [ 5.5511151e-17, -4.9791985e-17, -5.0000000e-01,  5.5511151e-17,\n",
       "        -4.2249901e-17, -4.2426407e-01,  5.5511151e-17, -4.2426407e-01,\n",
       "         6.1629758e-33],\n",
       "       [ 5.5511151e-17, -4.9791985e-17, -5.0000000e-01,  5.5511151e-17,\n",
       "         5.0000000e-01,  6.1230318e-17,  5.5511151e-17, -4.2249901e-17,\n",
       "        -4.2426407e-01],\n",
       "       [ 5.5511151e-17,  5.0000000e-01,  6.1230318e-17,  5.5511151e-17,\n",
       "         4.2426407e-01,  5.1955648e-17,  5.5511151e-17, -4.2249901e-17,\n",
       "        -4.2426407e-01]], dtype=float32)"
      ]
     },
     "execution_count": 10,
     "metadata": {},
     "output_type": "execute_result"
    }
   ],
   "source": [
    "from stl import mesh as msh\n",
    "\n",
    "\n",
    "your_mesh = msh.Mesh.from_file('cylinder.stl')\n",
    "\n",
    "(your_mesh.points)"
   ]
  },
  {
   "cell_type": "code",
   "execution_count": null,
   "metadata": {},
   "outputs": [],
   "source": []
  }
 ],
 "metadata": {
  "kernelspec": {
   "display_name": "PSC-WAaCNLZg",
   "language": "python",
   "name": "python3"
  },
  "language_info": {
   "codemirror_mode": {
    "name": "ipython",
    "version": 3
   },
   "file_extension": ".py",
   "mimetype": "text/x-python",
   "name": "python",
   "nbconvert_exporter": "python",
   "pygments_lexer": "ipython3",
   "version": "3.10.0"
  },
  "orig_nbformat": 4
 },
 "nbformat": 4,
 "nbformat_minor": 2
}
