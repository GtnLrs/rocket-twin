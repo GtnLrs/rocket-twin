{
 "cells": [
  {
   "cell_type": "code",
   "execution_count": null,
   "metadata": {},
   "outputs": [],
   "source": [
    "# Run this cell to import all the necessary components\n",
    "from include.init_rocket.CustomRocket import CustomRocket\n",
    "from include.init_rocket.RocketPlotter import RocketPlotter"
   ]
  },
  {
   "cell_type": "code",
   "execution_count": null,
   "metadata": {},
   "outputs": [],
   "source": [
    "# Run this cell to create all necessary widgets\n",
    "%run -i include/widgets/widgets.py"
   ]
  },
  {
   "cell_type": "markdown",
   "metadata": {},
   "source": [
    "# Rocket construction\n",
    "## Geometry and Mass \n",
    "The first step is to chose the geometry and mass properties of your rocket. Each component (nose, tube, fins) can have its own density and shape. Fill the following form to specify your rocket's properties."
   ]
  },
  {
   "cell_type": "code",
   "execution_count": null,
   "metadata": {},
   "outputs": [],
   "source": [
    "# Run this cell\n",
    "rocket_properties_widget"
   ]
  },
  {
   "cell_type": "markdown",
   "metadata": {},
   "source": [
    "## Motor picker\n",
    "\n",
    "This section will allow you to chose the right motor for your rocket based on the desired impulse class and diameter.\n",
    "\n",
    "$(\\textit{Motors data is loaded from the JSON file :  } \\texttt{include/widgets/motor\\_data.json})$\n",
    "\n",
    "You will have to chose the two following properties in order to access the motor choice.\n",
    "### Impulse class : \n",
    "The <b>impulse class</b> is a letter code assigned to a range of total impulse with each letter being twice as powerful as the previous.\n",
    "- A : 1.26–2.50 (N.s),\n",
    "- B : 2.51–5.00,\n",
    "- C : 5.01–10.0,\n",
    "- D : 10.01–20.0,\n",
    "- E : 20.01–40.0,\n",
    "- F : 40.01–80.0,\n",
    "- G : 80.01–160,\n",
    "- H : 160.01–320,\n",
    "- I : 320.01–640,\n",
    "- J : 640.01–1,280,\n",
    "- K : 1,280.01–2,560,\n",
    "- L : 2,560.01–5,120,\n",
    "- M : 5,120.01–10,240,\n",
    "- N : 10,240.01–20,480,\n",
    "- O : 20,480.01–40,960\n",
    "### Motor geometry :\n",
    "The main diameter of the motor is expressed in millimeters.\n",
    "\n",
    "The position of the motor corresponds to the distance between the bottom of the motor and the bottom of the tube in meters."
   ]
  },
  {
   "cell_type": "code",
   "execution_count": null,
   "metadata": {},
   "outputs": [],
   "source": [
    "# Run this cell\n",
    "motor_selection_widget"
   ]
  },
  {
   "cell_type": "markdown",
   "metadata": {},
   "source": [
    "## Parachutes settings\n",
    "\n",
    "In this section, you will have to specify the various properties of the parachute."
   ]
  },
  {
   "cell_type": "code",
   "execution_count": null,
   "metadata": {},
   "outputs": [],
   "source": [
    "# Run this cell\n",
    "parachute_widget"
   ]
  },
  {
   "cell_type": "markdown",
   "metadata": {},
   "source": [
    "## Additional masses\n",
    "In this section you can create additional mass component to add to your rocket.\n",
    "\n",
    "These components are represented as cylinders or empty cylinders, but can play the role of various inner components for your rocket such as a partition or an electrical component."
   ]
  },
  {
   "cell_type": "code",
   "execution_count": null,
   "metadata": {},
   "outputs": [],
   "source": [
    "# Run this cell\n",
    "additional_masses_widget"
   ]
  },
  {
   "cell_type": "markdown",
   "metadata": {},
   "source": [
    "## Launching parameters\n",
    "Last parameters to ajust for launching.\n",
    "\n",
    "Specify launching parameters for the simulation."
   ]
  },
  {
   "cell_type": "code",
   "execution_count": null,
   "metadata": {},
   "outputs": [],
   "source": [
    "# Run this cell\n",
    "launching_parameters_widget"
   ]
  },
  {
   "cell_type": "markdown",
   "metadata": {},
   "source": [
    "## Creation of the rocket\n",
    "All properties you have previously entered will be stored in the $\\texttt{'rocket'}$ object as you run this cell.\n",
    "\n",
    "It's properties are stored in the $\\texttt{'rocket\\_dict.json'}$ file.\n",
    "\n",
    "You can also create your rocket by directly specifying its properties in the file. All properties must be specified in the dictionary.\n",
    "\n",
    "(Please refer to the documentation for more details about the format of each entry.)"
   ]
  },
  {
   "cell_type": "code",
   "execution_count": null,
   "metadata": {},
   "outputs": [],
   "source": [
    "# Run this cell to update the rocket and create its corresponding CustomRocket object\n",
    "# Look at the documentation from widgets.py for the use of data_source parameter\n",
    "myrocket = rocket_creation(data_source=\"widgets\")"
   ]
  },
  {
   "cell_type": "markdown",
   "metadata": {},
   "source": [
    "## Plot the rocket"
   ]
  },
  {
   "cell_type": "code",
   "execution_count": null,
   "metadata": {},
   "outputs": [],
   "source": [
    "# Print mass properties of your rocket\n",
    "myrocket.print_properties()\n",
    "\n",
    "# Plot your rocket using PyVista and pythreejs\n",
    "rocketPlotter = RocketPlotter(myrocket)\n",
    "# You can chose to plot only the outside of the rocket and/or to plot an opened version of the rocket to visualize its interior\n",
    "rocketPlotter.plot(only_ext=False, opened=True)"
   ]
  },
  {
   "cell_type": "markdown",
   "metadata": {},
   "source": [
    "## Simulation\n",
    "In this section you will simulate your rocket's flight.\n",
    "\n",
    "A new window containing the plot of your rocket's trajectory will appear."
   ]
  },
  {
   "cell_type": "code",
   "execution_count": null,
   "metadata": {},
   "outputs": [],
   "source": [
    "# Run this cell to start the simulation\n",
    "%run model/rocket_trajectory.py"
   ]
  },
  {
   "cell_type": "code",
   "execution_count": null,
   "metadata": {},
   "outputs": [],
   "source": [
    "# Run this cell for additional plots concerning the simulation\n",
    "simulation_2d_plots()"
   ]
  }
 ],
 "metadata": {
  "kernelspec": {
   "display_name": "PSC-WAaCNLZg",
   "language": "python",
   "name": "psc-waacnlzg"
  },
  "language_info": {
   "codemirror_mode": {
    "name": "ipython",
    "version": 3
   },
   "file_extension": ".py",
   "mimetype": "text/x-python",
   "name": "python",
   "nbconvert_exporter": "python",
   "pygments_lexer": "ipython3",
   "version": "3.10.0"
  }
 },
 "nbformat": 4,
 "nbformat_minor": 2
}
