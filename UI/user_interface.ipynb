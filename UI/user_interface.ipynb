{
 "cells": [
  {
   "cell_type": "code",
   "execution_count": 1,
   "metadata": {},
   "outputs": [],
   "source": [
    "# Run this cell to import all the necessary components\n",
    "from include.init_rocket.CustomRocket import CustomRocket\n",
    "from include.init_rocket.RocketPlotter import RocketPlotter"
   ]
  },
  {
   "cell_type": "code",
   "execution_count": 2,
   "metadata": {},
   "outputs": [],
   "source": [
    "# Run this cell to create all necessary widgets\n",
    "%run -i include/widgets/widgets.py"
   ]
  },
  {
   "attachments": {},
   "cell_type": "markdown",
   "metadata": {},
   "source": [
    "# Rocket construction\n",
    "## Geometry and Mass \n",
    "The first step is to chose the geometry and mass properties of your rocket. Each component (nose, tube, fins) can have its own density and shape. Fill the following form to specify your rocket's properties."
   ]
  },
  {
   "cell_type": "code",
   "execution_count": 3,
   "metadata": {},
   "outputs": [
    {
     "data": {
      "application/vnd.jupyter.widget-view+json": {
       "model_id": "8214361f988047b6aaf7707bfc3a9159",
       "version_major": 2,
       "version_minor": 0
      },
      "text/plain": [
       "Tab(children=(VBox(children=(BoundedFloatText(value=2.0, description='Tube length ($m$):', max=500.0, step=0.1…"
      ]
     },
     "execution_count": 3,
     "metadata": {},
     "output_type": "execute_result"
    }
   ],
   "source": [
    "# Run this cell\n",
    "rocket_properties_widget"
   ]
  },
  {
   "attachments": {},
   "cell_type": "markdown",
   "metadata": {},
   "source": [
    "## Motor picker\n",
    "\n",
    "This section will allow you to chose the right motor for your rocket based on the desired impulse class and diameter.\n",
    "\n",
    "$(\\textit{Motors data is loaded from the JSON file :  } \\texttt{include/widgets/motor\\_data.json})$\n",
    "\n",
    "You will have to chose the two following properties in order to access the motor choice.\n",
    "### Impulse class : \n",
    "The <b>impulse class</b> is a letter code assigned to a range of total impulse with each letter being twice as powerful as the previous.\n",
    "- A : 1.26–2.50 (N.s),\n",
    "- B : 2.51–5.00,\n",
    "- C : 5.01–10.0,\n",
    "- D : 10.01–20.0,\n",
    "- E : 20.01–40.0,\n",
    "- F : 40.01–80.0,\n",
    "- G : 80.01–160,\n",
    "- H : 160.01–320,\n",
    "- I : 320.01–640,\n",
    "- J : 640.01–1,280,\n",
    "- K : 1,280.01–2,560,\n",
    "- L : 2,560.01–5,120,\n",
    "- M : 5,120.01–10,240,\n",
    "- N : 10,240.01–20,480,\n",
    "- O : 20,480.01–40,960\n",
    "### Motor geometry :\n",
    "The main diameter of the motor is expressed in millimeters.\n",
    "\n",
    "The position of the motor corresponds to the distance between the bottom of the motor and the bottom of the tube in meters."
   ]
  },
  {
   "cell_type": "code",
   "execution_count": 4,
   "metadata": {},
   "outputs": [
    {
     "data": {
      "application/vnd.jupyter.widget-view+json": {
       "model_id": "65a9515c8a5c4f41bfce7a16dac232b1",
       "version_major": 2,
       "version_minor": 0
      },
      "text/plain": [
       "Accordion(children=(Dropdown(description='Impulse Class (N.s):', options=(('[1.26 - 2.50]', 'A'), ('[2.51 - 5.…"
      ]
     },
     "execution_count": 4,
     "metadata": {},
     "output_type": "execute_result"
    }
   ],
   "source": [
    "# Run this cell\n",
    "motor_selection_widget"
   ]
  },
  {
   "attachments": {},
   "cell_type": "markdown",
   "metadata": {},
   "source": [
    "## Additional masses\n",
    "In this section you can create additional mass component to add to your rocket.\n",
    "\n",
    "These components are represented as cylinders or empty cylinders, but can play the role of various inner components for your rocket such as the parachute or a partition."
   ]
  },
  {
   "cell_type": "code",
   "execution_count": 5,
   "metadata": {},
   "outputs": [
    {
     "data": {
      "application/vnd.jupyter.widget-view+json": {
       "model_id": "46a86f7cbc6344afa7b1d351ec1fa7f7",
       "version_major": 2,
       "version_minor": 0
      },
      "text/plain": [
       "Accordion(children=(VBox(children=(BoundedIntText(value=0, description='Number of additional masses', style=De…"
      ]
     },
     "execution_count": 5,
     "metadata": {},
     "output_type": "execute_result"
    }
   ],
   "source": [
    "# Run this cell\n",
    "additional_masses_widget"
   ]
  },
  {
   "attachments": {},
   "cell_type": "markdown",
   "metadata": {},
   "source": [
    "## Creation of the rocket\n",
    "All properties you have previously entered will be stored in the $\\texttt{'my\\_rocket'}$ dictionary as you run this cell.\n",
    "\n",
    "You can also create your rocket by directly specifying its properties a the dictionary. All properties must be specified.\n",
    "\n",
    "(Please refer to the documentation for more details about the format of each entry.)"
   ]
  },
  {
   "cell_type": "code",
   "execution_count": null,
   "metadata": {},
   "outputs": [],
   "source": [
    "# Run this cell to update the rocket and create its corresponding CustomRocket object\n",
    "rocket = rocket_from_widgets()"
   ]
  },
  {
   "attachments": {},
   "cell_type": "markdown",
   "metadata": {},
   "source": [
    "## Plot the rocket"
   ]
  },
  {
   "cell_type": "code",
   "execution_count": 7,
   "metadata": {},
   "outputs": [
    {
     "name": "stdout",
     "output_type": "stream",
     "text": [
      "Volume (m^3)                                 = 0.03971458694481574\n",
      "Mass   (kg)                                  = 233.99808550552606\n",
      "\n",
      "\n",
      "Position of the center of gravity (COG)      = [1.05654317 0.         0.        ]\n",
      "\n",
      "\n",
      "Inertia matrix expressed at the COG (kg*m^2) = [0.39151895 0.         0.        ]\n",
      "                                               [  0.         104.03647709   0.        ]\n",
      "                                               [  0.           0.         104.03647709]\n"
     ]
    },
    {
     "data": {
      "application/vnd.jupyter.widget-view+json": {
       "model_id": "bc04565a50424288899b6a55b8f1d9ea",
       "version_major": 2,
       "version_minor": 0
      },
      "text/plain": [
       "Renderer(camera=PerspectiveCamera(aspect=1.3333333333333333, children=(DirectionalLight(intensity=0.25, positi…"
      ]
     },
     "metadata": {},
     "output_type": "display_data"
    }
   ],
   "source": [
    "# Print mass properties of your rocket\n",
    "rocket.print_mass_properties()\n",
    "\n",
    "# Plot your rocket using PyVista\n",
    "rocketPlotter = RocketPlotter(rocket)\n",
    "rocketPlotter.plot(only_ext=False, opened=False)"
   ]
<<<<<<< HEAD
  },
  {
   "cell_type": "code",
   "execution_count": 9,
   "metadata": {},
   "outputs": [
    {
     "name": "stdout",
     "output_type": "stream",
     "text": [
      "Volume (m^3)                                 = 0.03971458694481574\n",
      "Mass   (kg)                                  = 233.99808550552606\n",
      "\n",
      "\n",
      "Position of the center of gravity (COG)      = [1.05654317 0.         0.        ]\n",
      "\n",
      "\n",
      "Inertia matrix expressed at the COG (kg*m^2) = [0.39151895 0.         0.        ]\n",
      "                                               [  0.         104.03647709   0.        ]\n",
      "                                               [  0.           0.         104.03647709]\n"
     ]
    },
    {
     "data": {
      "application/vnd.jupyter.widget-view+json": {
       "model_id": "8dbfd853e84646df8731da14fd245005",
       "version_major": 2,
       "version_minor": 0
      },
      "text/plain": [
       "Renderer(camera=PerspectiveCamera(aspect=1.3333333333333333, children=(DirectionalLight(intensity=0.25, positi…"
      ]
     },
     "metadata": {},
     "output_type": "display_data"
    }
   ],
   "source": [
    "import json\n",
    "# Run this cell to import all the necessary components\n",
    "from include.init_rocket.CustomRocket import CustomRocket\n",
    "from include.init_rocket.RocketPlotter import RocketPlotter\n",
    "\n",
    "\n",
    "with open(\"include/init_rocket/rocket_dict.json\", \"r\") as f:\n",
    "        my_rocket = json.load(f)\n",
    "rocket = CustomRocket.fromDict(my_rocket)\n",
    "\n",
    "# Print mass properties of your rocket\n",
    "volume, mass, cog, inertia = rocket.print_mass_properties()\n",
    "\n",
    "# Plot your rocket using PyVista\n",
    "rocketPlotter = RocketPlotter(rocket)\n",
    "rocketPlotter.plot(only_ext=False, opened=True)"
   ]
=======
>>>>>>> 479e6320345cd07630788dbe573f670142e43cd7
  }
 ],
 "metadata": {
  "kernelspec": {
   "display_name": "PSC-WAaCNLZg",
   "language": "python",
   "name": "python3"
  },
  "language_info": {
   "codemirror_mode": {
    "name": "ipython",
    "version": 3
   },
   "file_extension": ".py",
   "mimetype": "text/x-python",
   "name": "python",
   "nbconvert_exporter": "python",
   "pygments_lexer": "ipython3",
   "version": "3.10.9"
  },
  "orig_nbformat": 4,
  "vscode": {
   "interpreter": {
    "hash": "73e742c95b50b5d233b18ddcd55c3c8f8f8e02e4965770b2342f263a24df29e8"
   }
  }
 },
 "nbformat": 4,
 "nbformat_minor": 2
}
