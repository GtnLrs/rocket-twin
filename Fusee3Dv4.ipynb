{
 "cells": [
  {
   "cell_type": "code",
   "execution_count": 1,
   "id": "c38f97a8",
   "metadata": {},
   "outputs": [],
   "source": [
    "from cosapp.base import System, Port, BaseConnector\n",
    "import numpy as np\n",
    "from cosapp.drivers import RungeKutta\n",
    "import plotly.graph_objs as go\n",
    "from cosapp.recorders import DataFrameRecorder\n",
    "import plotly.express as px\n",
    "import matplotlib.pyplot as plt"
   ]
  },
  {
   "cell_type": "code",
   "execution_count": 2,
   "id": "1d942bd1",
   "metadata": {},
   "outputs": [],
   "source": [
    "def RotMat3D(ang):\n",
    "    \n",
    "    #ang[0] = phi, ang[1] = theta, ang[2] = psi\n",
    "    \n",
    "    l1 = np.array([np.cos(ang[2])*np.cos(ang[1]), -np.sin(ang[2])*np.cos(ang[0]) + np.cos(ang[2])*np.sin(ang[1])*np.sin(ang[0]),\n",
    "                    np.sin(ang[2])*np.sin(ang[0]) + np.cos(ang[2])*np.sin(ang[1])*np.cos(ang[0])])\n",
    "    l2 = np.array([np.sin(ang[2])*np.cos(ang[1]),  np.cos(ang[2])*np.cos(ang[0]) + np.sin(ang[2])*np.sin(ang[1])*np.sin(ang[0]),\n",
    "                   -np.cos(ang[2])*np.sin(ang[0]) + np.sin(ang[2])*np.sin(ang[1])*np.cos(ang[0])])\n",
    "    l3 = np.array([-np.sin(ang[1]), np.cos(ang[1])*np.sin(ang[0]), np.cos(ang[1])*np.cos(ang[0])])\n",
    "    \n",
    "    A = np.round(np.array([l1,l2,l3]), 5)\n",
    "    \n",
    "    return A"
   ]
  },
  {
   "cell_type": "code",
   "execution_count": 3,
   "id": "35b2b81b",
   "metadata": {},
   "outputs": [],
   "source": [
    "class PosPort(Port):\n",
    "    \"\"\"Position Port \"\"\"\n",
    "    def setup(self):\n",
    "        self.add_variable('val', np.zeros(3), desc = \"Velocity Components\", unit = 'm')\n",
    "        self.add_variable('ang', np.zeros(3), desc = \"Axes' Euler's Angles\", unit = '')\n",
    "        \n",
    "\n",
    "    class Connector(BaseConnector):\n",
    "        \"\"\"Custom connector for `PosPort` objects\n",
    "        \"\"\"\n",
    "        def __init__(self, name: str, sink: Port, source: Port, *args, **kwargs):\n",
    "            super().__init__(name, sink, source)\n",
    "\n",
    "        def transfer(self) -> None:\n",
    "            sink = self.sink\n",
    "            source = self.source\n",
    "            \n",
    "            sink.val = np.matmul(RotMat3D(-source.ang), source.val)"
   ]
  },
  {
   "cell_type": "code",
   "execution_count": 4,
   "id": "ea2f8453",
   "metadata": {},
   "outputs": [],
   "source": [
    "class VelPort(Port):\n",
    "    \"\"\"Position Port \"\"\"\n",
    "    def setup(self):\n",
    "        self.add_variable('val', np.zeros(3), desc = \"Velocity Components\", unit = 'm/s')\n",
    "        self.add_variable('ang', np.zeros(3), desc = \"Axes' Euler's Angles\", unit = '')\n",
    "        \n",
    "\n",
    "    class Connector(BaseConnector):\n",
    "        \"\"\"Custom connector for `PosPort` objects\n",
    "        \"\"\"\n",
    "        def __init__(self, name: str, sink: Port, source: Port, *args, **kwargs):\n",
    "            super().__init__(name, sink, source)\n",
    "\n",
    "        def transfer(self) -> None:\n",
    "            sink = self.sink\n",
    "            source = self.source\n",
    "            \n",
    "            sink.val = np.matmul(RotMat3D(-source.ang), source.val)"
   ]
  },
  {
   "cell_type": "code",
   "execution_count": 5,
   "id": "c8fd7881",
   "metadata": {},
   "outputs": [],
   "source": [
    "class AclPort(Port):\n",
    "    \"\"\"Position Port \"\"\"\n",
    "    def setup(self):\n",
    "        self.add_variable('val', np.zeros(3), desc = \"Acceleration Components\", unit = 'm/s**2')\n",
    "        self.add_variable('ang', np.zeros(3), desc = \"Axes' Euler's Angles\", unit = '')\n",
    "        \n",
    "\n",
    "    class Connector(BaseConnector):\n",
    "        \"\"\"Custom connector for `PosPort` objects\n",
    "        \"\"\"\n",
    "        def __init__(self, name: str, sink: Port, source: Port, *args, **kwargs):\n",
    "            super().__init__(name, sink, source)\n",
    "\n",
    "        def transfer(self) -> None:\n",
    "            sink = self.sink\n",
    "            source = self.source\n",
    "            \n",
    "            sink.val = np.matmul(RotMat3D(-source.ang), source.val)"
   ]
  },
  {
   "cell_type": "code",
   "execution_count": 6,
   "id": "c1af4d09",
   "metadata": {},
   "outputs": [],
   "source": [
    "class Earth(System):\n",
    "    \n",
    "    def setup(self):\n",
    "        \n",
    "        #Parent-Child connections\n",
    "        self.add_child(Gravity('Grav'))\n",
    "        self.add_child(Atmosphere('Atmo'), pulling = ['V_wind'])\n",
    "        self.add_child(Rocket('Rocket'))\n",
    "        self.add_child(Trajectory('Traj'))\n",
    "        \n",
    "        #Child-Child connections\n",
    "        self.connect(self.Rocket, self.Traj, ['v_out'])\n",
    "        self.connect(self.Rocket, self.Grav, ['g', 'ar'])\n",
    "        self.connect(self.Traj, self.Atmo, ['r'])\n",
    "        \n",
    "        #Execution Order\n",
    "        self.exec_order = ['Grav', 'Atmo', 'Rocket', 'Traj']\n",
    "        "
   ]
  },
  {
   "cell_type": "code",
   "execution_count": 7,
   "id": "88089ae9",
   "metadata": {},
   "outputs": [],
   "source": [
    "class Rocket(System):\n",
    "    \n",
    "    def setup(self):\n",
    "        \n",
    "        #Parent-Child connections\n",
    "        self.add_child(Dynamics('Dyn'), pulling = ['a', 'aa', 'g'])\n",
    "        self.add_child(Thrust('Thrust'))\n",
    "        self.add_child(Geometry('Geom'))\n",
    "        self.add_child(Aerodynamics('Aero'))\n",
    "        \n",
    "        #Child-Child connections\n",
    "        self.connect(self.Dyn, self.Thrust, ['Fp', 'Mp'])\n",
    "        \n",
    "        #Transient Variables\n",
    "        self.add_transient('v', der = 'a', desc = \"Rocket Velocity\")\n",
    "        self.add_transient('av', der = 'aa', desc = \"Rocket Angular Velocity\")\n",
    "        self.add_transient('ar', der = 'av', desc = \"Rocket Angular Position\")\n",
    "        \n",
    "        #Rocket outputs\n",
    "        self.add_output(VelPort, 'v_out')\n",
    "        \n",
    "        #Execution Order\n",
    "        self.exec_order = ['Geom', 'Aero', 'Thrust', 'Dyn']\n",
    "        \n",
    "    def compute(self):\n",
    "        \n",
    "        self.v_out.val = self.v\n",
    "        self.v_out.ang = self.ar\n",
    "    "
   ]
  },
  {
   "cell_type": "code",
   "execution_count": 8,
   "id": "ff3857a5",
   "metadata": {},
   "outputs": [],
   "source": [
    "class Gravity(System):\n",
    "    \n",
    "    def setup(self):\n",
    "        \n",
    "        #System Constants\n",
    "        self.add_inward('G', 6.6743*10**(-11), desc = \"Gravitational Constant\")\n",
    "        self.add_inward('M', 5.972*10**24, desc = \"Earth's Mass\")\n",
    "        self.add_inward('R', 6.371*10**6, desc = \"Earth's Radius\")\n",
    "        \n",
    "        #Rocket inputs\n",
    "        self.add_inward('ar', np.zeros(3), desc = \"Rocket's Angular Position\")\n",
    "        \n",
    "        #Trajectory inputs\n",
    "        self.add_inward('r', np.zeros(3), desc = \"Rocket's Position\")\n",
    "        \n",
    "        #Gravity outputs\n",
    "        self.add_output(AclPort, 'g')\n",
    "        \n",
    "    def compute(self):\n",
    "        \n",
    "        self.g.val = np.array([0., 0., -self.G*self.M/(self.R + self.r[-1])**2])\n",
    "        self.g.ang = -self.ar\n",
    "        \n",
    "        "
   ]
  },
  {
   "cell_type": "code",
   "execution_count": 9,
   "id": "d9946aac",
   "metadata": {},
   "outputs": [],
   "source": [
    "class Atmosphere(System):\n",
    "    \n",
    "    def setup(self):\n",
    "        \n",
    "        #Parent-Child connections\n",
    "        self.add_child(Density('Dens'), pulling = ['r'])\n",
    "        self.add_child(Pressure('Pres'), pulling = ['r'])\n",
    "        self.add_child(Wind('Wind'), pulling = ['V_wind'])\n",
    "        \n",
    "        #Execution order\n",
    "        self.exec_order = ['Dens', 'Pres', 'Wind']\n",
    "        "
   ]
  },
  {
   "cell_type": "code",
   "execution_count": 10,
   "id": "243f7bcb",
   "metadata": {},
   "outputs": [],
   "source": [
    "class Density(System):\n",
    "    \n",
    "    def setup(self):\n",
    "        \n",
    "        #System constants\n",
    "        self.add_inward('rho0', 1.225, desc = \"Air Density at Sea Level\")\n",
    "        \n",
    "        #Trajectory inputs\n",
    "        self.add_inward('r', np.zeros(3), desc = \"Rocket's Position\")\n",
    "        \n",
    "        #Density outputs\n",
    "        self.add_outward('rho', 1.225, desc = \"Air Density at Rocket's Height\")\n",
    "        \n",
    "    def compute(self):\n",
    "        \n",
    "        self.rho = self.rho0 * (20000. - self.r[-1]) / (20000. + self.r[-1])\n",
    "        \n",
    "        "
   ]
  },
  {
   "cell_type": "code",
   "execution_count": 11,
   "id": "cfc489df",
   "metadata": {},
   "outputs": [],
   "source": [
    "class Pressure(System):\n",
    "    \n",
    "    def setup(self):\n",
    "        \n",
    "        #System constants\n",
    "        self.add_inward('P0', 101325., desc = \"Atmospheric Pressure at Sea Level\")\n",
    "        \n",
    "        #Trajectory inputs\n",
    "        self.add_inward('r', np.zeros(3), desc = \"Rocket's Position\")\n",
    "        \n",
    "        #Pressure outputs\n",
    "        self.add_outward('P', 101325., desc = \"Atmospheric Pressure at Rocket's Height\")\n",
    "        \n",
    "    def compute(self):\n",
    "        \n",
    "        self.P = self.P0 * (20000. - self.r[-1]) / (20000. + self.r[-1])\n",
    "        "
   ]
  },
  {
   "cell_type": "code",
   "execution_count": 12,
   "id": "9ba64c01",
   "metadata": {},
   "outputs": [],
   "source": [
    "class Wind(System):\n",
    "    \n",
    "    def setup(self):\n",
    "        \n",
    "        #Wind inputs\n",
    "        self.add_inward('V', 5., desc = \"Wind speed\")\n",
    "        self.add_inward('eps', np.pi/6, desc = \"Wind Direction\")\n",
    "        \n",
    "        #Wind outputs\n",
    "        self.add_output(VelPort, 'V_wind')\n",
    "        \n",
    "    def compute(self):\n",
    "        \n",
    "        self.V_wind.val = np.array([self.V, 0., 0.])\n",
    "        self.V_wind.ang = np.array([0., 0., -self.eps])\n",
    "        "
   ]
  },
  {
   "cell_type": "code",
   "execution_count": 13,
   "id": "2fac3ed3",
   "metadata": {},
   "outputs": [],
   "source": [
    "class Trajectory(System):\n",
    "    \n",
    "    def setup(self):\n",
    "        \n",
    "        self.add_input(VelPort, 'v_out')\n",
    "        \n",
    "        self.add_transient('r', der = 'v_out.val', desc = 'Rocket Position')\n",
    "        "
   ]
  },
  {
   "cell_type": "code",
   "execution_count": 14,
   "id": "28041f6f",
   "metadata": {},
   "outputs": [],
   "source": [
    "class Dynamics(System):\n",
    "    \n",
    "    def setup(self):\n",
    "        \n",
    "        #Rocket inputs\n",
    "        self.add_inward('v', np.zeros(3), desc = \"Rocket's Velocity\", unit = 'm/s')\n",
    "        self.add_inward('av', np.zeros(3), desc = \"Rocket's Angular Velocity\", unit = '1/s')\n",
    "        \n",
    "        #Thrust inputs\n",
    "        self.add_inward('Fp', np.zeros(3), desc = \"Thrust Force\", unit = 'N')\n",
    "        self.add_inward('Mp', np.zeros(3), desc = \"Thrust Moment\", unit = 'N*m')\n",
    "        \n",
    "        #Geometry inputs\n",
    "        self.add_inward('m', 100., desc = \"Rocket Mass\", unit = 'kg')\n",
    "        self.add_inward('I', np.array([10., 100., 100.]), desc = \"Rocket Moments of Inertia\")\n",
    "        \n",
    "        #Gravity inputs\n",
    "        self.add_input(AclPort, 'g')\n",
    "        \n",
    "        #Dynamics outputs\n",
    "        self.add_outward('a', np.zeros(3), desc = \"Rocket Acceleration\", unit = 'm/s**2')\n",
    "        self.add_outward('aa', np.zeros(3), desc = \"Rocket Angular Acceleration\", unit = '1/s**2')\n",
    "        \n",
    "    def compute(self):\n",
    "        \n",
    "        self.a[0] = (self.Fp[0])/self.m + self.g.val[0] + self.av[2]*self.v[1] - self.av[1]*self.v[2]\n",
    "        self.a[1] = (self.Fp[1])/self.m + self.g.val[1] + self.av[0]*self.v[2] - self.av[2]*self.v[0]\n",
    "        self.a[2] = (self.Fp[2])/self.m + self.g.val[2] + self.av[1]*self.v[0] - self.av[0]*self.v[1]\n",
    "        \n",
    "        self.aa[0] = (self.Mp[0] + (self.I[1] - self.I[2])*self.av[1]*self.av[2])/self.I[0]\n",
    "        self.aa[1] = (self.Mp[1] + (self.I[2] - self.I[0])*self.av[2]*self.av[0])/self.I[1]\n",
    "        self.aa[2] = (self.Mp[2] + (self.I[0] - self.I[1])*self.av[0]*self.av[1])/self.I[2]\n",
    "        \n",
    "        "
   ]
  },
  {
   "cell_type": "code",
   "execution_count": 15,
   "id": "0928ba39",
   "metadata": {},
   "outputs": [],
   "source": [
    "class Thrust(System):\n",
    "    \n",
    "    def setup(self):\n",
    "        \n",
    "        #System constants\n",
    "        self.add_inward('g0', 9.81, desc = \"Gravity on Earth's Surface\", unit = 'm/s**2')\n",
    "        \n",
    "        #Rocket inputs\n",
    "        self.add_inward('qp', 10., desc = \"Engine's Propulsive Debit\", unit = 'kg/s')\n",
    "        self.add_inward('isp', 100., desc = \"Specific Impulsion in Vacuum\", unit = 's')\n",
    "        self.add_inward('gc', 1., desc = \"GC Distance\")\n",
    "        \n",
    "        #Thrust outputs\n",
    "        self.add_outward('Fp', np.zeros(3), desc = \"Thrust Force\", unit = 'N')\n",
    "        self.add_outward('Mp', np.zeros(3), desc = \"Thrust Moment\", unit = 'N*m')\n",
    "        \n",
    "    def compute(self):\n",
    "        \n",
    "        self.Fp[0] = self.qp*self.g0*self.isp\n",
    "        self.Fp[1] = 0.\n",
    "        self.Fp[2] = 0.\n",
    "        \n",
    "        self.Mp[0] = 0.\n",
    "        self.Mp[1] = 0.\n",
    "        self.Mp[2] = 0.\n",
    "        \n",
    "        "
   ]
  },
  {
   "cell_type": "code",
   "execution_count": 16,
   "id": "ce23a497",
   "metadata": {},
   "outputs": [],
   "source": [
    "class Geometry(System):\n",
    "    \n",
    "    def setup(self):\n",
    "        \n",
    "        self.add_inward('a', 1.)\n",
    "        "
   ]
  },
  {
   "cell_type": "code",
   "execution_count": 17,
   "id": "14111a94",
   "metadata": {},
   "outputs": [],
   "source": [
    "class Aerodynamics(System):\n",
    "    \n",
    "    def setup(self):\n",
    "        \n",
    "        self.add_inward('a', 1.)\n",
    "        "
   ]
  },
  {
   "cell_type": "code",
   "execution_count": 18,
   "id": "23b91723",
   "metadata": {},
   "outputs": [],
   "source": [
    "#Main function\n",
    "\n",
    "#Time-step\n",
    "dt = 0.01\n",
    "\n",
    "#Add RungeKutta driver\n",
    "earth = Earth('earth')\n",
    "driver = earth.add_driver(RungeKutta(order=4, dt=dt))\n",
    "driver.time_interval = (0, 9)\n",
    "\n",
    "# Add a recorder to capture time evolution in a dataframe\n",
    "driver.add_recorder(\n",
    "    DataFrameRecorder(includes=['Traj.r', 'Rocket.v', 'Rocket.a']),\n",
    "    period=1,\n",
    ")\n",
    "\n",
    "#Initial conditions and constants\n",
    "driver.set_scenario(\n",
    "    init = {\n",
    "        'Rocket.v' : np.zeros(3),\n",
    "        'Rocket.ar' : np.array([0., np.pi/2, 0.]),\n",
    "        'Rocket.av' : 0.*np.array([np.pi/20, np.pi/20, 0.])\n",
    "    })\n",
    "\n",
    "\n",
    "earth.run_drivers()"
   ]
  },
  {
   "cell_type": "code",
   "execution_count": 64,
   "id": "02ff1327",
   "metadata": {},
   "outputs": [],
   "source": [
    "data = driver.recorder.export_data()\n",
    "data = data.drop(['Section', 'Status', 'Error code'], axis=1)\n",
    "time = np.asarray(data['time'])\n",
    "traj = np.asarray(data['Traj.r'].tolist())\n",
    "velo = np.asarray(data['Rocket.v'].tolist())\n",
    "acel = np.asarray(data['Rocket.a'].tolist())"
   ]
  },
  {
   "cell_type": "code",
   "execution_count": 65,
   "id": "75f764ea",
   "metadata": {},
   "outputs": [
    {
     "data": {
      "text/plain": [
       "array([[   0.        ,    0.        ,    0.        ],\n",
       "       [   0.        ,    0.        ,   44.14001329],\n",
       "       [   0.        ,    0.        ,  176.56005315],\n",
       "       [   0.        ,    0.        ,  397.26011958],\n",
       "       [   0.        ,    0.        ,  706.24021259],\n",
       "       [   0.        ,    0.        , 1103.50033217],\n",
       "       [   0.        ,    0.        , 1589.04047833],\n",
       "       [   0.        ,    0.        , 2162.86065106],\n",
       "       [   0.        ,    0.        , 2824.96085036],\n",
       "       [   0.        ,    0.        , 3575.34107624]])"
      ]
     },
     "execution_count": 65,
     "metadata": {},
     "output_type": "execute_result"
    }
   ],
   "source": [
    "traj"
   ]
  },
  {
   "cell_type": "code",
   "execution_count": 66,
   "id": "6a2955cc",
   "metadata": {},
   "outputs": [
    {
     "data": {
      "text/plain": [
       "array([[  0.        ,   0.        ,   0.        ],\n",
       "       [ 88.28002657,   0.        ,   0.        ],\n",
       "       [176.56005315,   0.        ,   0.        ],\n",
       "       [264.84007972,   0.        ,   0.        ],\n",
       "       [353.1201063 ,   0.        ,   0.        ],\n",
       "       [441.40013287,   0.        ,   0.        ],\n",
       "       [529.68015944,   0.        ,   0.        ],\n",
       "       [617.96018602,   0.        ,   0.        ],\n",
       "       [706.24021259,   0.        ,   0.        ],\n",
       "       [794.52023916,   0.        ,   0.        ]])"
      ]
     },
     "execution_count": 66,
     "metadata": {},
     "output_type": "execute_result"
    }
   ],
   "source": [
    "velo"
   ]
  },
  {
   "cell_type": "code",
   "execution_count": 67,
   "id": "a6082022",
   "metadata": {
    "scrolled": true
   },
   "outputs": [
    {
     "data": {
      "text/plain": [
       "array([[88.28002657,  0.        ,  0.        ],\n",
       "       [88.28002657,  0.        ,  0.        ],\n",
       "       [88.28002657,  0.        ,  0.        ],\n",
       "       [88.28002657,  0.        ,  0.        ],\n",
       "       [88.28002657,  0.        ,  0.        ],\n",
       "       [88.28002657,  0.        ,  0.        ],\n",
       "       [88.28002657,  0.        ,  0.        ],\n",
       "       [88.28002657,  0.        ,  0.        ],\n",
       "       [88.28002657,  0.        ,  0.        ],\n",
       "       [88.28002657,  0.        ,  0.        ]])"
      ]
     },
     "execution_count": 67,
     "metadata": {},
     "output_type": "execute_result"
    }
   ],
   "source": [
    "acel"
   ]
  },
  {
   "cell_type": "code",
   "execution_count": 58,
   "id": "6327d4d9",
   "metadata": {},
   "outputs": [
    {
     "data": {
      "text/html": [
       "\n",
       "        <iframe\n",
       "            width=\"810px\"\n",
       "            height=\"650px\"\n",
       "            src=\"earth.html\"\n",
       "            frameborder=\"0\"\n",
       "            allowfullscreen\n",
       "            \n",
       "        ></iframe>\n",
       "        "
      ],
      "text/markdown": [
       "\n",
       "### Child components\n",
       "\n",
       "- `Grav`: Gravity\n",
       "- `Atmo`: Atmosphere\n",
       "- `Rocket`: Rocket\n",
       "- `Traj`: Trajectory\n",
       "\n",
       "### Inputs\n",
       "\n",
       "- `inwards`: ExtensiblePort\n",
       "<div class='cosapp-port-table' style='margin-left: 25px; margin-top: -12px'><style type='text/css'>.cosapp-port-table >table >thead{display: none}.cosapp-port-table tbody tr{background: rgba(255, 255, 255, 0)!important}.cosapp-port-table tbody tr:hover{background: #e1f5fe!important}.cosapp-port-table >table {margin-left: unset; margin-right: unset}</style>\n",
       "\n",
       "|  |  |\n",
       "---|---\n",
       "  **Grav_ar** &#128274;&#128274; : [0.         1.57079633 0.        ] | Rocket's Angular Position\n",
       "  **Atmo_r** &#128274;&#128274; : [   0.            0.         3575.34107624] | Rocket's Position\n",
       "</div>\n",
       "\n",
       "\n",
       "### Outputs\n",
       "\n",
       "- `V_wind`: VelPort\n",
       "<div class='cosapp-port-table' style='margin-left: 25px; margin-top: -12px'><style type='text/css'>.cosapp-port-table >table >thead{display: none}.cosapp-port-table tbody tr{background: rgba(255, 255, 255, 0)!important}.cosapp-port-table tbody tr:hover{background: #e1f5fe!important}.cosapp-port-table >table {margin-left: unset; margin-right: unset}</style>\n",
       "\n",
       "|  |  |\n",
       "---|---\n",
       "  **val**: [4.33015 2.5     0.     ] m/s | Velocity Components\n",
       "  **ang**: [0. 0. 0.] | Axes' Euler's Angles\n",
       "</div>\n"
      ],
      "text/plain": [
       "earth - Earth"
      ]
     },
     "execution_count": 58,
     "metadata": {},
     "output_type": "execute_result"
    }
   ],
   "source": [
    "earth"
   ]
  },
  {
   "cell_type": "code",
   "execution_count": null,
   "id": "d0f25a04",
   "metadata": {},
   "outputs": [],
   "source": []
  },
  {
   "cell_type": "code",
   "execution_count": null,
   "id": "2219e4e8",
   "metadata": {},
   "outputs": [],
   "source": []
  },
  {
   "cell_type": "code",
   "execution_count": null,
   "id": "8c67873f",
   "metadata": {},
   "outputs": [],
   "source": []
  },
  {
   "cell_type": "code",
   "execution_count": null,
   "id": "1bdbe4cb",
   "metadata": {},
   "outputs": [],
   "source": []
  },
  {
   "cell_type": "code",
   "execution_count": null,
   "id": "587a0c6b",
   "metadata": {},
   "outputs": [],
   "source": []
  },
  {
   "cell_type": "code",
   "execution_count": null,
   "id": "91f6db3f",
   "metadata": {},
   "outputs": [],
   "source": []
  },
  {
   "cell_type": "code",
   "execution_count": null,
   "id": "e58de636",
   "metadata": {},
   "outputs": [],
   "source": []
  }
 ],
 "metadata": {
  "kernelspec": {
   "display_name": "Python 3 (ipykernel)",
   "language": "python",
   "name": "python3"
  },
  "language_info": {
   "codemirror_mode": {
    "name": "ipython",
    "version": 3
   },
   "file_extension": ".py",
   "mimetype": "text/x-python",
   "name": "python",
   "nbconvert_exporter": "python",
   "pygments_lexer": "ipython3",
   "version": "3.9.13"
  }
 },
 "nbformat": 4,
 "nbformat_minor": 5
}
