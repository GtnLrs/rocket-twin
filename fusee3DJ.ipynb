{
 "cells": [
  {
   "cell_type": "code",
   "execution_count": 493,
   "metadata": {},
   "outputs": [],
   "source": [
    "import numpy as np\n",
    "import pandas as pd\n",
    "import plotly.graph_objs as go\n",
    "from cosapp.base import System, Port, BaseConnector\n",
    "from cosapp.drivers import RungeKutta, NonLinearSolver\n",
    "from cosapp.recorders import DataFrameRecorder\n",
    "from scipy.spatial.transform import Rotation as R"
   ]
  },
  {
   "cell_type": "code",
   "execution_count": 494,
   "metadata": {},
   "outputs": [],
   "source": [
    "###PORTS\n",
    "def RotMat3D(ang):\n",
    "    \n",
    "    #ang[0] = phi, ang[1] = theta, ang[2] = psi\n",
    "    #rotation matrix to go from R0 (earth frame) to R (rocket frame)\n",
    "    \n",
    "    l1 = np.array([np.cos(ang[2])*np.cos(ang[1]), np.sin(ang[2])*np.cos(ang[1]), -np.sin(ang[1])])\n",
    "    l2 = np.array([-np.sin(ang[2])*np.cos(ang[0]) + np.cos(ang[2])*np.sin(ang[1])*np.sin(ang[0]), \n",
    "                    np.cos(ang[2])*np.cos(ang[0]) + np.sin(ang[2])*np.sin(ang[1])*np.sin(ang[0]), np.cos(ang[1])*np.sin(ang[0])])\n",
    "    l3 = np.array([ np.sin(ang[2])*np.sin(ang[0]) + np.cos(ang[2])*np.sin(ang[1])*np.cos(ang[0]), \n",
    "                   -np.cos(ang[2])*np.sin(ang[0]) + np.sin(ang[2])*np.sin(ang[1])*np.cos(ang[0]), np.cos(ang[1])*np.cos(ang[0])])\n",
    "    \n",
    "    A = np.round(np.array([l1,l2,l3]), 5)\n",
    "    \n",
    "    return A\n",
    "\n",
    "\n",
    "class VelPort(Port):\n",
    "    \"\"\"Velocity Port \"\"\"\n",
    "    def setup(self):\n",
    "        self.add_variable('val', np.zeros(3), desc = \"Velocity Components\", unit = 'm/s')\n",
    "        \n",
    "\n",
    "    class Connector(BaseConnector):\n",
    "        \"\"\"Custom connector for `VelPort` objects\n",
    "        \"\"\"\n",
    "        def __init__(self, name: str, sink: Port, source: Port, *args, **kwargs):\n",
    "            super().__init__(name, sink, source)\n",
    "\n",
    "        def transfer(self) -> None:\n",
    "            sink = self.sink\n",
    "            source = self.source\n",
    "            \n",
    "            #Parent --> Child\n",
    "            if sink.owner.parent == source.owner:\n",
    "                sink.val = np.matmul(RotMat3D(sink.owner[f'{sink.owner.name}_ang']), source.val)\n",
    "\n",
    "            #Child --> Parent\n",
    "            elif sink.owner == source.owner.parent:\n",
    "                sink.val = np.matmul(np.transpose(RotMat3D(source.owner[f'{source.owner.name}_ang'])), source.val)\n",
    "                \n",
    "            else:\n",
    "                sink.val = source.val\n",
    "\n",
    "\n",
    "\n",
    "class AclPort(Port):\n",
    "    \"\"\"Acceleration Port \"\"\"\n",
    "    def setup(self):\n",
    "        self.add_variable('val', np.zeros(3), desc = \"Acceleration Components\", unit = 'm/s**2')\n",
    "        \n",
    "\n",
    "    class Connector(BaseConnector):\n",
    "        \"\"\"Custom connector for `AclPort` objects\n",
    "        \"\"\"\n",
    "        def __init__(self, name: str, sink: Port, source: Port, *args, **kwargs):\n",
    "            super().__init__(name, sink, source)\n",
    "\n",
    "        def transfer(self) -> None:\n",
    "            sink = self.sink\n",
    "            source = self.source\n",
    "\n",
    "            #Parent --> Child\n",
    "            if sink.owner.parent == source.owner:\n",
    "                sink.val = np.matmul((RotMat3D(sink.owner[f'{sink.owner.name}_ang'])), source.val)\n",
    "\n",
    "            #Child --> Parent\n",
    "            elif sink.owner == source.owner.parent:\n",
    "                sink.val = np.matmul(np.transpose(RotMat3D(source.owner[f'{source.owner.name}_ang'])), source.val)\n",
    "                \n",
    "            else:\n",
    "                sink.val = source.val"
   ]
  },
  {
   "cell_type": "code",
   "execution_count": 495,
   "metadata": {},
   "outputs": [],
   "source": [
    "###KINEMATICS\n",
    "class Kinematics(System):\n",
    "    \n",
    "    def setup(self):\n",
    "    \n",
    "        #System orientation\n",
    "        self.add_outward('Kin_ang', np.zeros(3), desc = \"Rocket Euler Angles\", unit = '')\n",
    "        \n",
    "        #Dynamics inputs\n",
    "        self.add_inward('a', np.zeros(3), desc = \"Rocket Acceleration\", unit = 'm/s**2')\n",
    "        self.add_inward('aa', np.zeros(3), desc = \"Rocket Angular Acceleration\", unit = '1/s**2')\n",
    "        self.add_outward('av2', np.zeros(3), desc = \"Rocket Angular Velocity\", unit = '1/s')\n",
    "        \n",
    "        #Kinematics transients\n",
    "        self.add_transient('v', der = 'a', desc = \"Rocket Velocity\")\n",
    "        self.add_transient('av', der = 'aa', desc = \"Rocket Angular Velocity (pqr)\")\n",
    "        self.add_transient('ar', der = 'av2', desc = \"Rocket Angular Position\")\n",
    "        \n",
    "        #Kinematics outputs\n",
    "        self.add_output(VelPort, 'v_out')\n",
    "        self.add_outward('av_out', np.zeros(3), desc = \"Rocket Angular Velocity (pqr)\", unit = '1/s')\n",
    "        \n",
    "    def compute(self):\n",
    "        #compute angular velocity to obtain angular position\n",
    "        self.av2[0] = self.av[0] + np.tan(self.ar[1])*(self.av[2]*np.cos(self.ar[0]) + self.av[1]*np.sin(self.ar[0]))\n",
    "        self.av2[1] = self.av[1]*np.cos(self.ar[0]) - self.av[2]*np.sin(self.ar[0])\n",
    "        self.av2[2] = (self.av[2]*np.cos(self.ar[0]) + self.av[1]*np.sin(self.ar[0]))/(np.cos(self.ar[1]))\n",
    "\n",
    "        self.v_out.val = self.v\n",
    "        self.av_out = self.av\n",
    "        self.Kin_ang = self.ar\n"
   ]
  },
  {
   "cell_type": "code",
   "execution_count": 496,
   "metadata": {},
   "outputs": [],
   "source": [
    "###THRUST\n",
    "thrust_data = pd.read_csv(\"thrust.txt\", header=None)\n",
    "times = list(thrust_data.iloc[0])\n",
    "thrusts = list(thrust_data.iloc[1])\n",
    "\n",
    "def mean(x, y, fx, fy, t):\n",
    "    \"\"\"Calculates the linear regression between x and y and evaluates it at t\"\"\"\n",
    "    percent = (t - x)/(y - x)\n",
    "    return (fx + (fy - fx)*percent)\n",
    "\n",
    "\n",
    "def thrust(time):\n",
    "    \"\"\"Calculates the thrust of the rocket\"\"\"\n",
    "\n",
    "    #If the time is superior to the last data point there is no more thrust\n",
    "    if time >= times[-1]:\n",
    "        return 0\n",
    "\n",
    "    i=0\n",
    "    while times[i] <= time:\n",
    "        i += 1\n",
    "\n",
    "    return mean(times[i - 1], times[i], thrusts[i - 1], thrusts[i], time) "
   ]
  },
  {
   "cell_type": "code",
   "execution_count": 497,
   "metadata": {},
   "outputs": [],
   "source": [
    "###DYNAMICS\n",
    "class Dynamics(System):\n",
    "    def setup(self):\n",
    "    \n",
    "        #System orientation\n",
    "        self.add_inward('Dyn_ang', np.zeros(3), desc = \"Rocket Euler Angles\", unit = '')\n",
    "        \n",
    "        #Geometry\n",
    "        self.add_inward('l', desc = \"Rocket length\", unit = 'm')\n",
    "        self.add_inward('I', desc = \"Matrix of inertia\")\n",
    "        self.add_inward('m', desc = \"mass\", unit = 'kg')\n",
    "        self.add_inward('S_ref', desc = \"aerodynaamic reference area\", unit = 'm**2')\n",
    "        \n",
    "        #Kinematics inputs\n",
    "        self.add_input(VelPort, 'v_in')\n",
    "        self.add_inward('av_in', np.zeros(3), desc = \"Rocket Angular Velocity\", unit = '1/s')\n",
    "        \n",
    "        #AeroForces inputs\n",
    "        self.add_inward('Fa', np.zeros(3), desc = \"Thrust Force\", unit = 'N')\n",
    "        self.add_inward('Ma', np.zeros(3), desc = \"Aerodynamic Moment\", unit = 'N*m')\n",
    "        \n",
    "        #Gravity inputs\n",
    "        self.add_input(AclPort, 'g')\n",
    "        \n",
    "        #Dynamics outputs\n",
    "        self.add_outward('a', np.zeros(3), desc = \"Rocket Acceleration\", unit = 'm/s**2')\n",
    "        self.add_outward('aa', np.zeros(3), desc = \"Rocket Angular Acceleration\", unit = '1/s**2')\n",
    "        \n",
    "    def compute(self):\n",
    "\n",
    "        I = self.I\n",
    "        \n",
    "        v = self.v_in.val\n",
    "        av = self.av_in\n",
    "\n",
    "        Fp = thrust(self.time)\n",
    "        \n",
    "        #Acceleration\n",
    "        self.a[0] = (self.Fa[0] + Fp)/self.m + self.g.val[0] + av[2]*v[1] - av[1]*v[2]\n",
    "        self.a[1] = self.Fa[1]/self.m + self.g.val[1] + av[0]*v[2] - av[2]*v[0]\n",
    "        self.a[2] = self.Fa[2]/self.m + self.g.val[2] + av[1]*v[0] - av[0]*v[1]\n",
    "        \n",
    "        #Angular acceleration (no momentum associated to thrust)\n",
    "        self.aa[0] = (self.Ma[0] + (I[1] - I[2])*av[1]*av[2])/I[0] \n",
    "        self.aa[1] = (self.Ma[1] + (I[2] - I[0])*av[2]*av[0])/I[1]\n",
    "        self.aa[2] = (self.Ma[2] + (I[0] - I[1])*av[0]*av[1])/I[2]"
   ]
  },
  {
   "cell_type": "code",
   "execution_count": 498,
   "metadata": {},
   "outputs": [],
   "source": [
    "###AERO\n",
    "class Aerodynamics(System):\n",
    "    def setup(self):\n",
    "        #System orientation\n",
    "        self.add_inward('Aero_ang', np.zeros(3), desc = \"Rocket Euler Angles\")\n",
    "        \n",
    "        #Geometry\n",
    "        self.add_inward('l', desc = \"Rocket length\", unit = 'm')\n",
    "        self.add_inward('I', desc = \"Matrix of inertia\")\n",
    "        self.add_inward('m', desc = \"mass\", unit = 'kg')\n",
    "        self.add_inward('S_ref', desc = \"aerodynamic reference area\", unit = 'm**2')\n",
    "        self.add_inward('L_ref', 0.07, desc = \"Rocket caliber\", unit = 'm')\n",
    "\n",
    "        self.add_input(VelPort, 'v_in')\n",
    "        self.add_inward('av_in', np.zeros(3), desc = \"Rocket Angular Velocity (pqr)\", unit = '1/s')\n",
    "        \n",
    "        self.add_outward('Fa', np.zeros(3), desc = \"Aerodynamics Forces\", unit = 'N')\n",
    "        self.add_outward('Ma', np.zeros(3), desc = \"Aerodynamics Moments\", unit = 'N*m')\n",
    "                \n",
    "    def compute(self):\n",
    "        rho = 1         #atmospheric density\n",
    "        S = self.S_ref  # aerodynamic reference area, m^2\n",
    "        self.L_ref = 0.07\n",
    "\n",
    "        v = self.v_in.val\n",
    "\n",
    "        av = self.av_in\n",
    "        \n",
    "        alpha, beta = 0.001,0\n",
    "\n",
    "        #moment coefficients\n",
    "        Cna = 0.2\n",
    "        Cd = 0.5\n",
    "        Cmq = -40\n",
    "        Xcg = 0\n",
    "        Xcp = -0.1\n",
    "        Ca = (Cd - Cna*alpha*np.sin(alpha))/np.cos(alpha)\n",
    "        Cyb = - Cna\n",
    "        Cma = Cna*(Xcg - Xcp)/self.L_ref\n",
    "        Cnb = - Cma\n",
    "        Cnr = Cmq\n",
    "        Cl = 0\n",
    "        Cnp = 0\n",
    "        Cmap = -2\n",
    "        Clp = - 0.22\n",
    "\n",
    "        #computation of the magnitutde of velocity vector of the center of mass of the rocket, m/s\n",
    "        Vm = np.linalg.norm(v)\n",
    "        \n",
    "        #Aero forces\n",
    "        # self.Fa[0] = -0.5*rho*S*Vm**2*Ca\n",
    "        # self.Fa[1] = -0.5*rho*S*Vm**2*Cyb*beta\n",
    "        # self.Fa[2] = -0.5*rho*S*Vm**2*Cna*alpha\n",
    "        # #Aero moment\n",
    "        if Vm == 0:\n",
    "            self.Ma = np.zeros(3)\n",
    "        else:\n",
    "            self.Ma[0] = 0.5*rho*Vm**2*self.L_ref*(Cl + Clp*av[0]*self.L_ref/(2*Vm))\n",
    "            self.Ma[1] = 0.5*rho*Vm**2*self.L_ref*(Cma*alpha + (Cmap + Cmq)*av[1]*self.L_ref/(2*Vm))\n",
    "            self.Ma[2] = 0.5*rho*Vm**2*self.L_ref*(Cnb*beta + (Cnr*av[2] + Cnp*av[1])*self.L_ref/(2*Vm))\n",
    "\n"
   ]
  },
  {
   "cell_type": "code",
   "execution_count": 499,
   "metadata": {},
   "outputs": [],
   "source": [
    "###TRAJECTORY\n",
    "class Trajectory(System):\n",
    "    \n",
    "    def setup(self):\n",
    "    \n",
    "        #Rocket inputs\n",
    "        self.add_input(VelPort, 'v')\n",
    "        \n",
    "        #Trajectory transients\n",
    "        self.add_transient('r', der = 'v.val', desc = \"Rocket Position\")"
   ]
  },
  {
   "cell_type": "code",
   "execution_count": 500,
   "metadata": {},
   "outputs": [],
   "source": [
    "###ROCKET\n",
    "class Rocket(System):\n",
    "    \n",
    "    def setup(self):\n",
    "\n",
    "        #System orientation\n",
    "        self.add_inward('Rocket_ang', np.zeros(3), desc = \"Earth Euler Angles\", unit = '')\n",
    "        \n",
    "        #Gravity input\n",
    "        self.add_input(AclPort, 'g')\n",
    "        \n",
    "        #Rocket Geometry\n",
    "        self.add_inward('l', 2, desc = \"Rocket length\", unit = 'm')\n",
    "        self.add_inward('I', np.array([10., 100., 100.]), desc = \"Matrix of inertia\")\n",
    "        self.add_inward('m', 15, desc = \"mass\", unit = 'kg')\n",
    "        self.add_inward('S_ref', 1, desc = \"aerodynaamic reference area\", unit = 'm**2')\n",
    "        \n",
    "        #Rocket children\n",
    "        self.add_child(Kinematics('Kin'), pulling = ['v_out'])\n",
    "        self.add_child(Dynamics('Dyn'), pulling = ['g', 'l', 'I', 'm', 'S_ref'])\n",
    "        self.add_child(Aerodynamics('Aero'), pulling = ['l', 'I', 'm', 'S_ref'])\n",
    "        \n",
    "        #Child-Child connections\n",
    "        self.connect(self.Kin, self.Dyn, {'Kin_ang' : 'Dyn_ang', 'v_out' : 'v_in', 'a': 'a', 'aa' : 'aa'})\n",
    "        self.connect(self.Kin, self.Aero, {'Kin_ang' : 'Aero_ang','v_out' : 'v_in', 'av_out': 'av_in'})\n",
    "        self.connect(self.Dyn, self.Aero, ['Fa', 'Ma'])\n",
    "        \n",
    "        #Execution order\n",
    "        self.exec_order = ['Aero', 'Dyn', 'Kin']"
   ]
  },
  {
   "cell_type": "code",
   "execution_count": 501,
   "metadata": {},
   "outputs": [],
   "source": [
    "###GRAVITY\n",
    "class Gravity(System):\n",
    "    \n",
    "    def setup(self):\n",
    "        #Gravity outputs\n",
    "        self.add_output(AclPort, 'g')\n",
    "        \n",
    "    def compute(self):\n",
    "        \n",
    "        # self.g.val = np.array([0., 0., self.G*self.M/(self.R - self.r_in[2])**2])\n",
    "        self.g.val = np.array([0, 0, -9.8])"
   ]
  },
  {
   "cell_type": "code",
   "execution_count": 502,
   "metadata": {},
   "outputs": [],
   "source": [
    "###EARTH\n",
    "class Earth(System):\n",
    "    \n",
    "    def setup(self):\n",
    "        \n",
    "        #Earth children\n",
    "        self.add_child(Rocket('Rocket'))\n",
    "        self.add_child(Trajectory('Traj'))\n",
    "        self.add_child(Gravity('Grav'))\n",
    "        \n",
    "        self.connect(self.Rocket, self.Traj, {'v_out' : 'v'})\n",
    "        self.connect(self.Rocket, self.Grav, ['g'])\n",
    "        \n",
    "        #Execution order\n",
    "        self.exec_order = ['Grav', 'Rocket', 'Traj']"
   ]
  },
  {
   "cell_type": "code",
   "execution_count": 503,
   "metadata": {},
   "outputs": [
    {
     "data": {
      "application/vnd.plotly.v1+json": {
       "config": {
        "plotlyServerURL": "https://plot.ly"
       },
       "data": [
        {
         "line": {
          "color": "darkblue",
          "width": 2
         },
         "marker": {
          "color": [
           0.85,
           22.550675235370907,
           83.95444731677607,
           175.32022860462337,
           279.172980779246,
           374.65630646479633,
           460.30032067180707,
           536.0964355526747,
           602.0376501891662,
           658.1187336379016,
           704.3356841512117,
           740.6858525400766,
           767.1675748586142,
           783.7799503804204,
           790.5226029929107,
           787.3955428057516,
           774.399079640087,
           751.5335556420436,
           718.7993768732564,
           676.1964703112345,
           623.7247025039466,
           561.3829498294111,
           489.16971546949543,
           407.0826462588117,
           315.1189388002299,
           213.27541407623605,
           101.54925126363852,
           2.1316282072803006e-13,
           2.1316282072803006e-13
          ],
          "colorscale": [
           [
            0,
            "#440154"
           ],
           [
            0.1111111111111111,
            "#482878"
           ],
           [
            0.2222222222222222,
            "#3e4989"
           ],
           [
            0.3333333333333333,
            "#31688e"
           ],
           [
            0.4444444444444444,
            "#26828e"
           ],
           [
            0.5555555555555556,
            "#1f9e89"
           ],
           [
            0.6666666666666666,
            "#35b779"
           ],
           [
            0.7777777777777778,
            "#6ece58"
           ],
           [
            0.8888888888888888,
            "#b5de2b"
           ],
           [
            1,
            "#fde725"
           ]
          ],
          "size": 4
         },
         "type": "scatter3d",
         "x": [
          0,
          1.887287829898075,
          7.2886633670661505,
          15.525400550182253,
          25.384479188845596,
          35.40632483168012,
          45.49935792179703,
          55.66798129814828,
          65.91068886688213,
          76.2215737874413,
          86.59188767914932,
          97.01057685972233,
          107.46592315092899,
          117.94560742459008,
          128.43707715010936,
          138.92798967817333,
          149.40583750096138,
          159.85829122027565,
          170.27286741963843,
          180.6367685434424,
          190.936286641336,
          201.15606137583026,
          211.27862963612264,
          221.28290870359254,
          231.14391744886663,
          240.83142785522827,
          250.3084621075431,
          258.07873793289207,
          258.07873793289207
         ],
         "y": [
          0,
          1.8873836342585513,
          7.294067060998616,
          15.57493782387365,
          25.588670883740033,
          35.92932609613115,
          46.53977701250003,
          57.4377176079336,
          68.61866390149115,
          80.06176075509102,
          91.73513277907296,
          103.59976898348059,
          115.61225113046474,
          127.72748136432037,
          139.89951102959077,
          152.08246646680422,
          164.23067875135305,
          176.29852498895744,
          188.24013944957673,
          200.00809684092957,
          211.55167368702058,
          222.8147741845083,
          233.7326215656257,
          244.22890721967008,
          254.2117012215905,
          263.56946311627405,
          272.1671351329303,
          278.68682511059546,
          278.68682511059546
         ],
         "z": [
          0.85,
          22.550675235370907,
          83.95444731677607,
          175.32022860462337,
          279.172980779246,
          374.65630646479633,
          460.30032067180707,
          536.0964355526747,
          602.0376501891662,
          658.1187336379016,
          704.3356841512117,
          740.6858525400766,
          767.1675748586142,
          783.7799503804204,
          790.5226029929107,
          787.3955428057516,
          774.399079640087,
          751.5335556420436,
          718.7993768732564,
          676.1964703112345,
          623.7247025039466,
          561.3829498294111,
          489.16971546949543,
          407.0826462588117,
          315.1189388002299,
          213.27541407623605,
          101.54925126363852,
          2.1316282072803006e-13,
          2.1316282072803006e-13
         ]
        }
       ],
       "layout": {
        "margin": {
         "b": 10,
         "l": 10,
         "r": 20,
         "t": 10
        },
        "scene": {
         "xaxis": {
          "nticks": 2,
          "range": [
           -1000,
           1000
          ]
         },
         "yaxis": {
          "nticks": 2,
          "range": [
           -1000,
           1000
          ]
         },
         "zaxis": {
          "nticks": 2,
          "range": [
           0,
           1000
          ]
         }
        },
        "template": {
         "data": {
          "bar": [
           {
            "error_x": {
             "color": "#2a3f5f"
            },
            "error_y": {
             "color": "#2a3f5f"
            },
            "marker": {
             "line": {
              "color": "#E5ECF6",
              "width": 0.5
             },
             "pattern": {
              "fillmode": "overlay",
              "size": 10,
              "solidity": 0.2
             }
            },
            "type": "bar"
           }
          ],
          "barpolar": [
           {
            "marker": {
             "line": {
              "color": "#E5ECF6",
              "width": 0.5
             },
             "pattern": {
              "fillmode": "overlay",
              "size": 10,
              "solidity": 0.2
             }
            },
            "type": "barpolar"
           }
          ],
          "carpet": [
           {
            "aaxis": {
             "endlinecolor": "#2a3f5f",
             "gridcolor": "white",
             "linecolor": "white",
             "minorgridcolor": "white",
             "startlinecolor": "#2a3f5f"
            },
            "baxis": {
             "endlinecolor": "#2a3f5f",
             "gridcolor": "white",
             "linecolor": "white",
             "minorgridcolor": "white",
             "startlinecolor": "#2a3f5f"
            },
            "type": "carpet"
           }
          ],
          "choropleth": [
           {
            "colorbar": {
             "outlinewidth": 0,
             "ticks": ""
            },
            "type": "choropleth"
           }
          ],
          "contour": [
           {
            "colorbar": {
             "outlinewidth": 0,
             "ticks": ""
            },
            "colorscale": [
             [
              0,
              "#0d0887"
             ],
             [
              0.1111111111111111,
              "#46039f"
             ],
             [
              0.2222222222222222,
              "#7201a8"
             ],
             [
              0.3333333333333333,
              "#9c179e"
             ],
             [
              0.4444444444444444,
              "#bd3786"
             ],
             [
              0.5555555555555556,
              "#d8576b"
             ],
             [
              0.6666666666666666,
              "#ed7953"
             ],
             [
              0.7777777777777778,
              "#fb9f3a"
             ],
             [
              0.8888888888888888,
              "#fdca26"
             ],
             [
              1,
              "#f0f921"
             ]
            ],
            "type": "contour"
           }
          ],
          "contourcarpet": [
           {
            "colorbar": {
             "outlinewidth": 0,
             "ticks": ""
            },
            "type": "contourcarpet"
           }
          ],
          "heatmap": [
           {
            "colorbar": {
             "outlinewidth": 0,
             "ticks": ""
            },
            "colorscale": [
             [
              0,
              "#0d0887"
             ],
             [
              0.1111111111111111,
              "#46039f"
             ],
             [
              0.2222222222222222,
              "#7201a8"
             ],
             [
              0.3333333333333333,
              "#9c179e"
             ],
             [
              0.4444444444444444,
              "#bd3786"
             ],
             [
              0.5555555555555556,
              "#d8576b"
             ],
             [
              0.6666666666666666,
              "#ed7953"
             ],
             [
              0.7777777777777778,
              "#fb9f3a"
             ],
             [
              0.8888888888888888,
              "#fdca26"
             ],
             [
              1,
              "#f0f921"
             ]
            ],
            "type": "heatmap"
           }
          ],
          "heatmapgl": [
           {
            "colorbar": {
             "outlinewidth": 0,
             "ticks": ""
            },
            "colorscale": [
             [
              0,
              "#0d0887"
             ],
             [
              0.1111111111111111,
              "#46039f"
             ],
             [
              0.2222222222222222,
              "#7201a8"
             ],
             [
              0.3333333333333333,
              "#9c179e"
             ],
             [
              0.4444444444444444,
              "#bd3786"
             ],
             [
              0.5555555555555556,
              "#d8576b"
             ],
             [
              0.6666666666666666,
              "#ed7953"
             ],
             [
              0.7777777777777778,
              "#fb9f3a"
             ],
             [
              0.8888888888888888,
              "#fdca26"
             ],
             [
              1,
              "#f0f921"
             ]
            ],
            "type": "heatmapgl"
           }
          ],
          "histogram": [
           {
            "marker": {
             "pattern": {
              "fillmode": "overlay",
              "size": 10,
              "solidity": 0.2
             }
            },
            "type": "histogram"
           }
          ],
          "histogram2d": [
           {
            "colorbar": {
             "outlinewidth": 0,
             "ticks": ""
            },
            "colorscale": [
             [
              0,
              "#0d0887"
             ],
             [
              0.1111111111111111,
              "#46039f"
             ],
             [
              0.2222222222222222,
              "#7201a8"
             ],
             [
              0.3333333333333333,
              "#9c179e"
             ],
             [
              0.4444444444444444,
              "#bd3786"
             ],
             [
              0.5555555555555556,
              "#d8576b"
             ],
             [
              0.6666666666666666,
              "#ed7953"
             ],
             [
              0.7777777777777778,
              "#fb9f3a"
             ],
             [
              0.8888888888888888,
              "#fdca26"
             ],
             [
              1,
              "#f0f921"
             ]
            ],
            "type": "histogram2d"
           }
          ],
          "histogram2dcontour": [
           {
            "colorbar": {
             "outlinewidth": 0,
             "ticks": ""
            },
            "colorscale": [
             [
              0,
              "#0d0887"
             ],
             [
              0.1111111111111111,
              "#46039f"
             ],
             [
              0.2222222222222222,
              "#7201a8"
             ],
             [
              0.3333333333333333,
              "#9c179e"
             ],
             [
              0.4444444444444444,
              "#bd3786"
             ],
             [
              0.5555555555555556,
              "#d8576b"
             ],
             [
              0.6666666666666666,
              "#ed7953"
             ],
             [
              0.7777777777777778,
              "#fb9f3a"
             ],
             [
              0.8888888888888888,
              "#fdca26"
             ],
             [
              1,
              "#f0f921"
             ]
            ],
            "type": "histogram2dcontour"
           }
          ],
          "mesh3d": [
           {
            "colorbar": {
             "outlinewidth": 0,
             "ticks": ""
            },
            "type": "mesh3d"
           }
          ],
          "parcoords": [
           {
            "line": {
             "colorbar": {
              "outlinewidth": 0,
              "ticks": ""
             }
            },
            "type": "parcoords"
           }
          ],
          "pie": [
           {
            "automargin": true,
            "type": "pie"
           }
          ],
          "scatter": [
           {
            "fillpattern": {
             "fillmode": "overlay",
             "size": 10,
             "solidity": 0.2
            },
            "type": "scatter"
           }
          ],
          "scatter3d": [
           {
            "line": {
             "colorbar": {
              "outlinewidth": 0,
              "ticks": ""
             }
            },
            "marker": {
             "colorbar": {
              "outlinewidth": 0,
              "ticks": ""
             }
            },
            "type": "scatter3d"
           }
          ],
          "scattercarpet": [
           {
            "marker": {
             "colorbar": {
              "outlinewidth": 0,
              "ticks": ""
             }
            },
            "type": "scattercarpet"
           }
          ],
          "scattergeo": [
           {
            "marker": {
             "colorbar": {
              "outlinewidth": 0,
              "ticks": ""
             }
            },
            "type": "scattergeo"
           }
          ],
          "scattergl": [
           {
            "marker": {
             "colorbar": {
              "outlinewidth": 0,
              "ticks": ""
             }
            },
            "type": "scattergl"
           }
          ],
          "scattermapbox": [
           {
            "marker": {
             "colorbar": {
              "outlinewidth": 0,
              "ticks": ""
             }
            },
            "type": "scattermapbox"
           }
          ],
          "scatterpolar": [
           {
            "marker": {
             "colorbar": {
              "outlinewidth": 0,
              "ticks": ""
             }
            },
            "type": "scatterpolar"
           }
          ],
          "scatterpolargl": [
           {
            "marker": {
             "colorbar": {
              "outlinewidth": 0,
              "ticks": ""
             }
            },
            "type": "scatterpolargl"
           }
          ],
          "scatterternary": [
           {
            "marker": {
             "colorbar": {
              "outlinewidth": 0,
              "ticks": ""
             }
            },
            "type": "scatterternary"
           }
          ],
          "surface": [
           {
            "colorbar": {
             "outlinewidth": 0,
             "ticks": ""
            },
            "colorscale": [
             [
              0,
              "#0d0887"
             ],
             [
              0.1111111111111111,
              "#46039f"
             ],
             [
              0.2222222222222222,
              "#7201a8"
             ],
             [
              0.3333333333333333,
              "#9c179e"
             ],
             [
              0.4444444444444444,
              "#bd3786"
             ],
             [
              0.5555555555555556,
              "#d8576b"
             ],
             [
              0.6666666666666666,
              "#ed7953"
             ],
             [
              0.7777777777777778,
              "#fb9f3a"
             ],
             [
              0.8888888888888888,
              "#fdca26"
             ],
             [
              1,
              "#f0f921"
             ]
            ],
            "type": "surface"
           }
          ],
          "table": [
           {
            "cells": {
             "fill": {
              "color": "#EBF0F8"
             },
             "line": {
              "color": "white"
             }
            },
            "header": {
             "fill": {
              "color": "#C8D4E3"
             },
             "line": {
              "color": "white"
             }
            },
            "type": "table"
           }
          ]
         },
         "layout": {
          "annotationdefaults": {
           "arrowcolor": "#2a3f5f",
           "arrowhead": 0,
           "arrowwidth": 1
          },
          "autotypenumbers": "strict",
          "coloraxis": {
           "colorbar": {
            "outlinewidth": 0,
            "ticks": ""
           }
          },
          "colorscale": {
           "diverging": [
            [
             0,
             "#8e0152"
            ],
            [
             0.1,
             "#c51b7d"
            ],
            [
             0.2,
             "#de77ae"
            ],
            [
             0.3,
             "#f1b6da"
            ],
            [
             0.4,
             "#fde0ef"
            ],
            [
             0.5,
             "#f7f7f7"
            ],
            [
             0.6,
             "#e6f5d0"
            ],
            [
             0.7,
             "#b8e186"
            ],
            [
             0.8,
             "#7fbc41"
            ],
            [
             0.9,
             "#4d9221"
            ],
            [
             1,
             "#276419"
            ]
           ],
           "sequential": [
            [
             0,
             "#0d0887"
            ],
            [
             0.1111111111111111,
             "#46039f"
            ],
            [
             0.2222222222222222,
             "#7201a8"
            ],
            [
             0.3333333333333333,
             "#9c179e"
            ],
            [
             0.4444444444444444,
             "#bd3786"
            ],
            [
             0.5555555555555556,
             "#d8576b"
            ],
            [
             0.6666666666666666,
             "#ed7953"
            ],
            [
             0.7777777777777778,
             "#fb9f3a"
            ],
            [
             0.8888888888888888,
             "#fdca26"
            ],
            [
             1,
             "#f0f921"
            ]
           ],
           "sequentialminus": [
            [
             0,
             "#0d0887"
            ],
            [
             0.1111111111111111,
             "#46039f"
            ],
            [
             0.2222222222222222,
             "#7201a8"
            ],
            [
             0.3333333333333333,
             "#9c179e"
            ],
            [
             0.4444444444444444,
             "#bd3786"
            ],
            [
             0.5555555555555556,
             "#d8576b"
            ],
            [
             0.6666666666666666,
             "#ed7953"
            ],
            [
             0.7777777777777778,
             "#fb9f3a"
            ],
            [
             0.8888888888888888,
             "#fdca26"
            ],
            [
             1,
             "#f0f921"
            ]
           ]
          },
          "colorway": [
           "#636efa",
           "#EF553B",
           "#00cc96",
           "#ab63fa",
           "#FFA15A",
           "#19d3f3",
           "#FF6692",
           "#B6E880",
           "#FF97FF",
           "#FECB52"
          ],
          "font": {
           "color": "#2a3f5f"
          },
          "geo": {
           "bgcolor": "white",
           "lakecolor": "white",
           "landcolor": "#E5ECF6",
           "showlakes": true,
           "showland": true,
           "subunitcolor": "white"
          },
          "hoverlabel": {
           "align": "left"
          },
          "hovermode": "closest",
          "mapbox": {
           "style": "light"
          },
          "paper_bgcolor": "white",
          "plot_bgcolor": "#E5ECF6",
          "polar": {
           "angularaxis": {
            "gridcolor": "white",
            "linecolor": "white",
            "ticks": ""
           },
           "bgcolor": "#E5ECF6",
           "radialaxis": {
            "gridcolor": "white",
            "linecolor": "white",
            "ticks": ""
           }
          },
          "scene": {
           "xaxis": {
            "backgroundcolor": "#E5ECF6",
            "gridcolor": "white",
            "gridwidth": 2,
            "linecolor": "white",
            "showbackground": true,
            "ticks": "",
            "zerolinecolor": "white"
           },
           "yaxis": {
            "backgroundcolor": "#E5ECF6",
            "gridcolor": "white",
            "gridwidth": 2,
            "linecolor": "white",
            "showbackground": true,
            "ticks": "",
            "zerolinecolor": "white"
           },
           "zaxis": {
            "backgroundcolor": "#E5ECF6",
            "gridcolor": "white",
            "gridwidth": 2,
            "linecolor": "white",
            "showbackground": true,
            "ticks": "",
            "zerolinecolor": "white"
           }
          },
          "shapedefaults": {
           "line": {
            "color": "#2a3f5f"
           }
          },
          "ternary": {
           "aaxis": {
            "gridcolor": "white",
            "linecolor": "white",
            "ticks": ""
           },
           "baxis": {
            "gridcolor": "white",
            "linecolor": "white",
            "ticks": ""
           },
           "bgcolor": "#E5ECF6",
           "caxis": {
            "gridcolor": "white",
            "linecolor": "white",
            "ticks": ""
           }
          },
          "title": {
           "x": 0.05
          },
          "xaxis": {
           "automargin": true,
           "gridcolor": "white",
           "linecolor": "white",
           "ticks": "",
           "title": {
            "standoff": 15
           },
           "zerolinecolor": "white",
           "zerolinewidth": 2
          },
          "yaxis": {
           "automargin": true,
           "gridcolor": "white",
           "linecolor": "white",
           "ticks": "",
           "title": {
            "standoff": 15
           },
           "zerolinecolor": "white",
           "zerolinewidth": 2
          }
         }
        },
        "width": 700
       }
      }
     },
     "metadata": {},
     "output_type": "display_data"
    },
    {
     "data": {
      "application/vnd.plotly.v1+json": {
       "config": {
        "plotlyServerURL": "https://plot.ly"
       },
       "data": [
        {
         "type": "scatter3d",
         "x": [
          0,
          0.12000790260416293
         ],
         "y": [
          0,
          0.12000790178872153
         ],
         "z": [
          0.85,
          2.5415070815166034
         ]
        }
       ],
       "frames": [
        {
         "data": [
          {
           "type": "scatter3d",
           "x": [
            0,
            0.12000790260416293
           ],
           "y": [
            0,
            0.12000790178872153
           ],
           "z": [
            0.85,
            2.5415070815166034
           ]
          }
         ]
        },
        {
         "data": [
          {
           "type": "scatter3d",
           "x": [
            1.887287829898075,
            2.007304205691493
           ],
           "y": [
            1.8873836342585513,
            2.007423433712106
           ],
           "z": [
            22.550675235370907,
            24.242179452359018
           ]
          }
         ]
        },
        {
         "data": [
          {
           "type": "scatter3d",
           "x": [
            7.2886633670661505,
            7.408784950724735
           ],
           "y": [
            7.294067060998616,
            7.414502773938169
           ],
           "z": [
            83.95444731677607,
            85.64591592251136
           ]
          }
         ]
        },
        {
         "data": [
          {
           "type": "scatter3d",
           "x": [
            15.525400550182253,
            15.645898065333505
           ],
           "y": [
            15.57493782387365,
            15.696786932042068
           ],
           "z": [
            175.32022860462337,
            177.01156923964663
           ]
          }
         ]
        },
        {
         "data": [
          {
           "type": "scatter3d",
           "x": [
            25.384479188845596,
            25.505771994702492
           ],
           "y": [
            25.588670883740033,
            25.713506243727725
           ],
           "z": [
            279.172980779246,
            280.86404677090457
           ]
          }
         ]
        },
        {
         "data": [
          {
           "type": "scatter3d",
           "x": [
            35.40632483168012,
            35.52880523654748
           ],
           "y": [
            35.92932609613115,
            36.05861672814671
           ],
           "z": [
            374.65630646479633,
            376.34695204648887
           ]
          }
         ]
        },
        {
         "data": [
          {
           "type": "scatter3d",
           "x": [
            45.49935792179703,
            45.6233265345532
           ],
           "y": [
            46.53977701250003,
            46.67464903073821
           ],
           "z": [
            460.30032067180707,
            461.99042165155583
           ]
          }
         ]
        },
        {
         "data": [
          {
           "type": "scatter3d",
           "x": [
            55.66798129814828,
            55.79366070550834
           ],
           "y": [
            57.4377176079336,
            57.57900728176869
           ],
           "z": [
            536.0964355526747,
            537.7858857338382
           ]
          }
         ]
        },
        {
         "data": [
          {
           "type": "scatter3d",
           "x": [
            65.91068886688213,
            66.0382371859329
           ],
           "y": [
            68.61866390149115,
            68.76696877465281
           ],
           "z": [
            602.0376501891662,
            603.7263588943324
           ]
          }
         ]
        },
        {
         "data": [
          {
           "type": "scatter3d",
           "x": [
            76.2215737874413,
            76.35109692550203
           ],
           "y": [
            80.06176075509102,
            80.21748513618034
           ],
           "z": [
            658.1187336379016,
            659.8066239405698
           ]
          }
         ]
        },
        {
         "data": [
          {
           "type": "scatter3d",
           "x": [
            86.59188767914932,
            86.7234504551343
           ],
           "y": [
            91.73513277907296,
            91.89852866208355
           ],
           "z": [
            704.3356841512117,
            706.0226912707551
           ]
          }
         ]
        },
        {
         "data": [
          {
           "type": "scatter3d",
           "x": [
            97.01057685972233,
            97.14421312845711
           ],
           "y": [
            103.59976898348059,
            103.77097322747582
           ],
           "z": [
            740.6858525400766,
            742.3719220684521
           ]
          }
         ]
        },
        {
         "data": [
          {
           "type": "scatter3d",
           "x": [
            107.46592315092899,
            107.60164502916491
           ],
           "y": [
            115.61225113046474,
            115.79131942808739
           ],
           "z": [
            767.1675748586142,
            768.8526606476928
           ]
          }
         ]
        },
        {
         "data": [
          {
           "type": "scatter3d",
           "x": [
            117.94560742459008,
            118.08341358746239
           ],
           "y": [
            127.72748136432037,
            127.9144189455383
           ],
           "z": [
            783.7799503804204,
            785.4640120782815
           ]
          }
         ]
        },
        {
         "data": [
          {
           "type": "scatter3d",
           "x": [
            128.43707715010936,
            128.5769597987931
           ],
           "y": [
            139.89951102959077,
            140.09429859998284
           ],
           "z": [
            790.5226029929107,
            792.2056034822208
           ]
          }
         ]
        },
        {
         "data": [
          {
           "type": "scatter3d",
           "x": [
            138.92798967817333,
            139.06993925239885
           ],
           "y": [
            152.08246646680422,
            152.28507784564266
           ],
           "z": [
            787.3955428057516,
            789.077446176205
           ]
          }
         ]
        },
        {
         "data": [
          {
           "type": "scatter3d",
           "x": [
            149.40583750096138,
            149.54984551214554
           ],
           "y": [
            164.23067875135305,
            164.44109155021246
           ],
           "z": [
            774.399079640087,
            776.0798497453635
           ]
          }
         ]
        },
        {
         "data": [
          {
           "type": "scatter3d",
           "x": [
            159.85829122027565,
            160.00435421199145
           ],
           "y": [
            176.29852498895744,
            176.51673563380498
           ],
           "z": [
            751.5335556420436,
            753.2131537240043
           ]
          }
         ]
        },
        {
         "data": [
          {
           "type": "scatter3d",
           "x": [
            170.27286741963843,
            170.42099303077114
           ],
           "y": [
            188.24013944957673,
            188.4661862631419
           ],
           "z": [
            718.7993768732564,
            720.4777575337156
           ]
          }
         ]
        },
        {
         "data": [
          {
           "type": "scatter3d",
           "x": [
            180.6367685434424,
            180.78698245658015
           ],
           "y": [
            200.00809684092957,
            200.24208662428072
           ],
           "z": [
            676.1964703112345,
            677.8735763190906
           ]
          }
         ]
        },
        {
         "data": [
          {
           "type": "scatter3d",
           "x": [
            190.936286641336,
            191.08863953196413
           ],
           "y": [
            211.55167368702058,
            211.7938084626569
           ],
           "z": [
            623.7247025039466,
            625.4004588547162
           ]
          }
         ]
        },
        {
         "data": [
          {
           "type": "scatter3d",
           "x": [
            201.15606137583026,
            201.31063544427226
           ],
           "y": [
            222.8147741845083,
            223.06537651350848
           ],
           "z": [
            561.3829498294111,
            563.0572572474396
           ]
          }
         ]
        },
        {
         "data": [
          {
           "type": "scatter3d",
           "x": [
            211.27862963612264,
            211.4355444885424
           ],
           "y": [
            233.7326215656257,
            233.99215755365776
           ],
           "z": [
            489.16971546949543,
            490.8424434210782
           ]
          }
         ]
        },
        {
         "data": [
          {
           "type": "scatter3d",
           "x": [
            221.28290870359254,
            221.44232642116955
           ],
           "y": [
            244.22890721967008,
            244.49800661504608
           ],
           "z": [
            407.0826462588117,
            408.7536254647657
           ]
          }
         ]
        },
        {
         "data": [
          {
           "type": "scatter3d",
           "x": [
            231.14391744886663,
            231.30604672179112
           ],
           "y": [
            254.2117012215905,
            254.4911741665953
           ],
           "z": [
            315.1189388002299,
            316.7879531716094
           ]
          }
         ]
        },
        {
         "data": [
          {
           "type": "scatter3d",
           "x": [
            240.83142785522827,
            240.99652708361276
           ],
           "y": [
            263.56946311627405,
            263.8603132249024
           ],
           "z": [
            213.27541407623605,
            214.94219194358902
           ]
          }
         ]
        },
        {
         "data": [
          {
           "type": "scatter3d",
           "x": [
            250.3084621075431,
            250.47684139267724
           ],
           "y": [
            272.1671351329303,
            272.4705686609474
           ],
           "z": [
            101.54925126363852,
            103.21345573136863
           ]
          }
         ]
        },
        {
         "data": [
          {
           "type": "scatter3d",
           "x": [
            258.07873793289207,
            258.25015320961376
           ],
           "y": [
            278.68682511059546,
            279.0019216814032
           ],
           "z": [
            2.1316282072803006e-13,
            1.6617252943770051
           ]
          }
         ]
        },
        {
         "data": [
          {
           "type": "scatter3d",
           "x": [
            258.07873793289207,
            258.25015320961376
           ],
           "y": [
            278.68682511059546,
            279.0019216814032
           ],
           "z": [
            2.1316282072803006e-13,
            1.6617252943770051
           ]
          }
         ]
        }
       ],
       "layout": {
        "scene": {
         "xaxis": {
          "autorange": false,
          "range": [
           -500,
           500
          ]
         },
         "yaxis": {
          "autorange": false,
          "range": [
           -500,
           500
          ]
         },
         "zaxis": {
          "autorange": false,
          "range": [
           0,
           1000
          ]
         }
        },
        "template": {
         "data": {
          "bar": [
           {
            "error_x": {
             "color": "#2a3f5f"
            },
            "error_y": {
             "color": "#2a3f5f"
            },
            "marker": {
             "line": {
              "color": "#E5ECF6",
              "width": 0.5
             },
             "pattern": {
              "fillmode": "overlay",
              "size": 10,
              "solidity": 0.2
             }
            },
            "type": "bar"
           }
          ],
          "barpolar": [
           {
            "marker": {
             "line": {
              "color": "#E5ECF6",
              "width": 0.5
             },
             "pattern": {
              "fillmode": "overlay",
              "size": 10,
              "solidity": 0.2
             }
            },
            "type": "barpolar"
           }
          ],
          "carpet": [
           {
            "aaxis": {
             "endlinecolor": "#2a3f5f",
             "gridcolor": "white",
             "linecolor": "white",
             "minorgridcolor": "white",
             "startlinecolor": "#2a3f5f"
            },
            "baxis": {
             "endlinecolor": "#2a3f5f",
             "gridcolor": "white",
             "linecolor": "white",
             "minorgridcolor": "white",
             "startlinecolor": "#2a3f5f"
            },
            "type": "carpet"
           }
          ],
          "choropleth": [
           {
            "colorbar": {
             "outlinewidth": 0,
             "ticks": ""
            },
            "type": "choropleth"
           }
          ],
          "contour": [
           {
            "colorbar": {
             "outlinewidth": 0,
             "ticks": ""
            },
            "colorscale": [
             [
              0,
              "#0d0887"
             ],
             [
              0.1111111111111111,
              "#46039f"
             ],
             [
              0.2222222222222222,
              "#7201a8"
             ],
             [
              0.3333333333333333,
              "#9c179e"
             ],
             [
              0.4444444444444444,
              "#bd3786"
             ],
             [
              0.5555555555555556,
              "#d8576b"
             ],
             [
              0.6666666666666666,
              "#ed7953"
             ],
             [
              0.7777777777777778,
              "#fb9f3a"
             ],
             [
              0.8888888888888888,
              "#fdca26"
             ],
             [
              1,
              "#f0f921"
             ]
            ],
            "type": "contour"
           }
          ],
          "contourcarpet": [
           {
            "colorbar": {
             "outlinewidth": 0,
             "ticks": ""
            },
            "type": "contourcarpet"
           }
          ],
          "heatmap": [
           {
            "colorbar": {
             "outlinewidth": 0,
             "ticks": ""
            },
            "colorscale": [
             [
              0,
              "#0d0887"
             ],
             [
              0.1111111111111111,
              "#46039f"
             ],
             [
              0.2222222222222222,
              "#7201a8"
             ],
             [
              0.3333333333333333,
              "#9c179e"
             ],
             [
              0.4444444444444444,
              "#bd3786"
             ],
             [
              0.5555555555555556,
              "#d8576b"
             ],
             [
              0.6666666666666666,
              "#ed7953"
             ],
             [
              0.7777777777777778,
              "#fb9f3a"
             ],
             [
              0.8888888888888888,
              "#fdca26"
             ],
             [
              1,
              "#f0f921"
             ]
            ],
            "type": "heatmap"
           }
          ],
          "heatmapgl": [
           {
            "colorbar": {
             "outlinewidth": 0,
             "ticks": ""
            },
            "colorscale": [
             [
              0,
              "#0d0887"
             ],
             [
              0.1111111111111111,
              "#46039f"
             ],
             [
              0.2222222222222222,
              "#7201a8"
             ],
             [
              0.3333333333333333,
              "#9c179e"
             ],
             [
              0.4444444444444444,
              "#bd3786"
             ],
             [
              0.5555555555555556,
              "#d8576b"
             ],
             [
              0.6666666666666666,
              "#ed7953"
             ],
             [
              0.7777777777777778,
              "#fb9f3a"
             ],
             [
              0.8888888888888888,
              "#fdca26"
             ],
             [
              1,
              "#f0f921"
             ]
            ],
            "type": "heatmapgl"
           }
          ],
          "histogram": [
           {
            "marker": {
             "pattern": {
              "fillmode": "overlay",
              "size": 10,
              "solidity": 0.2
             }
            },
            "type": "histogram"
           }
          ],
          "histogram2d": [
           {
            "colorbar": {
             "outlinewidth": 0,
             "ticks": ""
            },
            "colorscale": [
             [
              0,
              "#0d0887"
             ],
             [
              0.1111111111111111,
              "#46039f"
             ],
             [
              0.2222222222222222,
              "#7201a8"
             ],
             [
              0.3333333333333333,
              "#9c179e"
             ],
             [
              0.4444444444444444,
              "#bd3786"
             ],
             [
              0.5555555555555556,
              "#d8576b"
             ],
             [
              0.6666666666666666,
              "#ed7953"
             ],
             [
              0.7777777777777778,
              "#fb9f3a"
             ],
             [
              0.8888888888888888,
              "#fdca26"
             ],
             [
              1,
              "#f0f921"
             ]
            ],
            "type": "histogram2d"
           }
          ],
          "histogram2dcontour": [
           {
            "colorbar": {
             "outlinewidth": 0,
             "ticks": ""
            },
            "colorscale": [
             [
              0,
              "#0d0887"
             ],
             [
              0.1111111111111111,
              "#46039f"
             ],
             [
              0.2222222222222222,
              "#7201a8"
             ],
             [
              0.3333333333333333,
              "#9c179e"
             ],
             [
              0.4444444444444444,
              "#bd3786"
             ],
             [
              0.5555555555555556,
              "#d8576b"
             ],
             [
              0.6666666666666666,
              "#ed7953"
             ],
             [
              0.7777777777777778,
              "#fb9f3a"
             ],
             [
              0.8888888888888888,
              "#fdca26"
             ],
             [
              1,
              "#f0f921"
             ]
            ],
            "type": "histogram2dcontour"
           }
          ],
          "mesh3d": [
           {
            "colorbar": {
             "outlinewidth": 0,
             "ticks": ""
            },
            "type": "mesh3d"
           }
          ],
          "parcoords": [
           {
            "line": {
             "colorbar": {
              "outlinewidth": 0,
              "ticks": ""
             }
            },
            "type": "parcoords"
           }
          ],
          "pie": [
           {
            "automargin": true,
            "type": "pie"
           }
          ],
          "scatter": [
           {
            "fillpattern": {
             "fillmode": "overlay",
             "size": 10,
             "solidity": 0.2
            },
            "type": "scatter"
           }
          ],
          "scatter3d": [
           {
            "line": {
             "colorbar": {
              "outlinewidth": 0,
              "ticks": ""
             }
            },
            "marker": {
             "colorbar": {
              "outlinewidth": 0,
              "ticks": ""
             }
            },
            "type": "scatter3d"
           }
          ],
          "scattercarpet": [
           {
            "marker": {
             "colorbar": {
              "outlinewidth": 0,
              "ticks": ""
             }
            },
            "type": "scattercarpet"
           }
          ],
          "scattergeo": [
           {
            "marker": {
             "colorbar": {
              "outlinewidth": 0,
              "ticks": ""
             }
            },
            "type": "scattergeo"
           }
          ],
          "scattergl": [
           {
            "marker": {
             "colorbar": {
              "outlinewidth": 0,
              "ticks": ""
             }
            },
            "type": "scattergl"
           }
          ],
          "scattermapbox": [
           {
            "marker": {
             "colorbar": {
              "outlinewidth": 0,
              "ticks": ""
             }
            },
            "type": "scattermapbox"
           }
          ],
          "scatterpolar": [
           {
            "marker": {
             "colorbar": {
              "outlinewidth": 0,
              "ticks": ""
             }
            },
            "type": "scatterpolar"
           }
          ],
          "scatterpolargl": [
           {
            "marker": {
             "colorbar": {
              "outlinewidth": 0,
              "ticks": ""
             }
            },
            "type": "scatterpolargl"
           }
          ],
          "scatterternary": [
           {
            "marker": {
             "colorbar": {
              "outlinewidth": 0,
              "ticks": ""
             }
            },
            "type": "scatterternary"
           }
          ],
          "surface": [
           {
            "colorbar": {
             "outlinewidth": 0,
             "ticks": ""
            },
            "colorscale": [
             [
              0,
              "#0d0887"
             ],
             [
              0.1111111111111111,
              "#46039f"
             ],
             [
              0.2222222222222222,
              "#7201a8"
             ],
             [
              0.3333333333333333,
              "#9c179e"
             ],
             [
              0.4444444444444444,
              "#bd3786"
             ],
             [
              0.5555555555555556,
              "#d8576b"
             ],
             [
              0.6666666666666666,
              "#ed7953"
             ],
             [
              0.7777777777777778,
              "#fb9f3a"
             ],
             [
              0.8888888888888888,
              "#fdca26"
             ],
             [
              1,
              "#f0f921"
             ]
            ],
            "type": "surface"
           }
          ],
          "table": [
           {
            "cells": {
             "fill": {
              "color": "#EBF0F8"
             },
             "line": {
              "color": "white"
             }
            },
            "header": {
             "fill": {
              "color": "#C8D4E3"
             },
             "line": {
              "color": "white"
             }
            },
            "type": "table"
           }
          ]
         },
         "layout": {
          "annotationdefaults": {
           "arrowcolor": "#2a3f5f",
           "arrowhead": 0,
           "arrowwidth": 1
          },
          "autotypenumbers": "strict",
          "coloraxis": {
           "colorbar": {
            "outlinewidth": 0,
            "ticks": ""
           }
          },
          "colorscale": {
           "diverging": [
            [
             0,
             "#8e0152"
            ],
            [
             0.1,
             "#c51b7d"
            ],
            [
             0.2,
             "#de77ae"
            ],
            [
             0.3,
             "#f1b6da"
            ],
            [
             0.4,
             "#fde0ef"
            ],
            [
             0.5,
             "#f7f7f7"
            ],
            [
             0.6,
             "#e6f5d0"
            ],
            [
             0.7,
             "#b8e186"
            ],
            [
             0.8,
             "#7fbc41"
            ],
            [
             0.9,
             "#4d9221"
            ],
            [
             1,
             "#276419"
            ]
           ],
           "sequential": [
            [
             0,
             "#0d0887"
            ],
            [
             0.1111111111111111,
             "#46039f"
            ],
            [
             0.2222222222222222,
             "#7201a8"
            ],
            [
             0.3333333333333333,
             "#9c179e"
            ],
            [
             0.4444444444444444,
             "#bd3786"
            ],
            [
             0.5555555555555556,
             "#d8576b"
            ],
            [
             0.6666666666666666,
             "#ed7953"
            ],
            [
             0.7777777777777778,
             "#fb9f3a"
            ],
            [
             0.8888888888888888,
             "#fdca26"
            ],
            [
             1,
             "#f0f921"
            ]
           ],
           "sequentialminus": [
            [
             0,
             "#0d0887"
            ],
            [
             0.1111111111111111,
             "#46039f"
            ],
            [
             0.2222222222222222,
             "#7201a8"
            ],
            [
             0.3333333333333333,
             "#9c179e"
            ],
            [
             0.4444444444444444,
             "#bd3786"
            ],
            [
             0.5555555555555556,
             "#d8576b"
            ],
            [
             0.6666666666666666,
             "#ed7953"
            ],
            [
             0.7777777777777778,
             "#fb9f3a"
            ],
            [
             0.8888888888888888,
             "#fdca26"
            ],
            [
             1,
             "#f0f921"
            ]
           ]
          },
          "colorway": [
           "#636efa",
           "#EF553B",
           "#00cc96",
           "#ab63fa",
           "#FFA15A",
           "#19d3f3",
           "#FF6692",
           "#B6E880",
           "#FF97FF",
           "#FECB52"
          ],
          "font": {
           "color": "#2a3f5f"
          },
          "geo": {
           "bgcolor": "white",
           "lakecolor": "white",
           "landcolor": "#E5ECF6",
           "showlakes": true,
           "showland": true,
           "subunitcolor": "white"
          },
          "hoverlabel": {
           "align": "left"
          },
          "hovermode": "closest",
          "mapbox": {
           "style": "light"
          },
          "paper_bgcolor": "white",
          "plot_bgcolor": "#E5ECF6",
          "polar": {
           "angularaxis": {
            "gridcolor": "white",
            "linecolor": "white",
            "ticks": ""
           },
           "bgcolor": "#E5ECF6",
           "radialaxis": {
            "gridcolor": "white",
            "linecolor": "white",
            "ticks": ""
           }
          },
          "scene": {
           "xaxis": {
            "backgroundcolor": "#E5ECF6",
            "gridcolor": "white",
            "gridwidth": 2,
            "linecolor": "white",
            "showbackground": true,
            "ticks": "",
            "zerolinecolor": "white"
           },
           "yaxis": {
            "backgroundcolor": "#E5ECF6",
            "gridcolor": "white",
            "gridwidth": 2,
            "linecolor": "white",
            "showbackground": true,
            "ticks": "",
            "zerolinecolor": "white"
           },
           "zaxis": {
            "backgroundcolor": "#E5ECF6",
            "gridcolor": "white",
            "gridwidth": 2,
            "linecolor": "white",
            "showbackground": true,
            "ticks": "",
            "zerolinecolor": "white"
           }
          },
          "shapedefaults": {
           "line": {
            "color": "#2a3f5f"
           }
          },
          "ternary": {
           "aaxis": {
            "gridcolor": "white",
            "linecolor": "white",
            "ticks": ""
           },
           "baxis": {
            "gridcolor": "white",
            "linecolor": "white",
            "ticks": ""
           },
           "bgcolor": "#E5ECF6",
           "caxis": {
            "gridcolor": "white",
            "linecolor": "white",
            "ticks": ""
           }
          },
          "title": {
           "x": 0.05
          },
          "xaxis": {
           "automargin": true,
           "gridcolor": "white",
           "linecolor": "white",
           "ticks": "",
           "title": {
            "standoff": 15
           },
           "zerolinecolor": "white",
           "zerolinewidth": 2
          },
          "yaxis": {
           "automargin": true,
           "gridcolor": "white",
           "linecolor": "white",
           "ticks": "",
           "title": {
            "standoff": 15
           },
           "zerolinecolor": "white",
           "zerolinewidth": 2
          }
         }
        },
        "title": {
         "text": "Rocket Movement"
        },
        "updatemenus": [
         {
          "buttons": [
           {
            "args": [
             null,
             {
              "frame": {
               "duration": 20,
               "redraw": true
              },
              "fromcurrent": true,
              "transition": {
               "duration": 10
              }
             }
            ],
            "label": "Play",
            "method": "animate"
           }
          ],
          "showactive": false,
          "type": "buttons",
          "x": 1.12,
          "xanchor": "right",
          "y": 1,
          "yanchor": "top"
         }
        ]
       }
      }
     },
     "metadata": {},
     "output_type": "display_data"
    }
   ],
   "source": [
    "###MAIN\n",
    "#Time-step\n",
    "dt = 0.1\n",
    "\n",
    "#Create System\n",
    "earth = Earth('earth')\n",
    "\n",
    "#Add RungeKutta driver\n",
    "driver = earth.add_driver(RungeKutta(order=4, dt=dt))\n",
    "driver.time_interval = (0, 40)\n",
    "\n",
    "#Add NonLinearSolver driver\n",
    "solver = driver.add_child(NonLinearSolver('solver', factor=1.0))\n",
    "\n",
    "\n",
    "# Add a recorder to capture time evolution in a dataframe\n",
    "driver.add_recorder(\n",
    "    DataFrameRecorder(includes=['Traj.r', 'Rocket.Kin.v', 'Rocket.Kin.a', 'Rocket.Dyn.m', 'Rocket.Thrust.Fp', 'Rocket.Kin.Kin_ang', 'Rocket.Kin.av', 'Rocket.Aero.V_wind.val']),\n",
    "    period=1,\n",
    ")\n",
    "\n",
    "#Initial conditions and constants\n",
    "\n",
    "l = 1.7 #Rocket's length on the plot\n",
    "\n",
    "driver.set_scenario(\n",
    "    init = {\n",
    "        'Traj.r' : np.array([0., 0., l/2]),\n",
    "        'Rocket.Kin.v' : np.zeros(3),\n",
    "        'Rocket.Kin.ar' : np.array([np.pi/6, -np.pi/2 + 0.1, np.pi/4]),\n",
    "        'Rocket.Kin.av' : np.zeros(3),\n",
    "    },\n",
    "    stop='Traj.r[2]<0'\n",
    "    )\n",
    "\n",
    "\n",
    "earth.run_drivers()\n",
    "\n",
    "# Retrieve recorded data\n",
    "data = driver.recorder.export_data()\n",
    "data = data.drop(['Section', 'Status', 'Error code'], axis=1)\n",
    "time = np.asarray(data['time'])\n",
    "traj = np.asarray(data['Traj.r'].tolist())\n",
    "velo = np.asarray(data['Rocket.Kin.v'].tolist())\n",
    "acel = np.asarray(data['Rocket.Kin.a'].tolist())\n",
    "ang = np.asarray(data['Rocket.Kin.Kin_ang'].tolist())\n",
    "avelo = np.asarray(data['Rocket.Kin.av'].tolist())\n",
    "\n",
    "\n",
    "\n",
    "\n",
    "#Plot results\n",
    "\n",
    "x=[]\n",
    "y=[]\n",
    "z=[]\n",
    "theta = []\n",
    "\n",
    "for i in range(len(traj)):\n",
    "    x.append(traj[i][0])\n",
    "    y.append(traj[i][1])\n",
    "    z.append(traj[i][2])\n",
    "\n",
    "for i in range(len(ang)):\n",
    "    theta.append(ang[1])\n",
    "\n",
    "fig = go.Figure(data=go.Scatter3d(\n",
    "    x=x, y=y, z=z,\n",
    "    marker=dict(\n",
    "        size=4,\n",
    "        color=z,\n",
    "        colorscale='Viridis',\n",
    "    ),\n",
    "    line=dict(\n",
    "        color='darkblue',\n",
    "        width=2\n",
    "    )\n",
    "))\n",
    "\n",
    "\n",
    "fig.update_layout(\n",
    "    scene = dict(\n",
    "        xaxis = dict(nticks=2, range=[-1000,1000],),\n",
    "        yaxis = dict(nticks=2, range=[-1000,1000],),\n",
    "        zaxis = dict(nticks=2, range=[0,1000],),),\n",
    "    width=700,\n",
    "    margin=dict(r=20, l=10, b=10, t=10))\n",
    "\n",
    "\n",
    "fig.show()\n",
    "\n",
    "#useful library zhen using euler angle\n",
    "\n",
    "\n",
    "rocket = np.array([l,0,0]) #representation of the rocket as a 3D vector that will be rotated and translated according to the computed trajectory\n",
    "\n",
    "rock = []\n",
    "\n",
    "for i in range(len(traj)):\n",
    "    rotation = R.from_euler('xyz', ang[i], degrees=False)\n",
    "    rotation.apply(rocket)\n",
    "    rock.append(rotation.apply(rocket))\n",
    "\n",
    "rock = np.asarray(rock)\n",
    "\n",
    "traj_bot = traj #traj[time][xyz]\n",
    "traj_top = traj + rock\n",
    "\n",
    "\n",
    "#Animation - Rocket's movement\n",
    "fig2 = go.Figure(data=[go.Scatter3d(x=[traj_bot[0][0], traj_top[0][0]], y=[traj_bot[0][1], traj_top[0][1]], z=[traj_bot[0][2], traj_top[0][2]])])\n",
    "\n",
    "fig2.update_layout(title='Rocket Movement',\n",
    "                  scene=dict(\n",
    "            xaxis=dict(range=[-500, 500], autorange=False),\n",
    "            yaxis=dict(range=[-500, 500], autorange=False),\n",
    "            zaxis=dict(range=[0, 1000], autorange=False),\n",
    "        ),\n",
    "                  updatemenus=[dict(buttons = [dict(\n",
    "                                               args = [None, {\"frame\": {\"duration\": 20, \n",
    "                                                                        \"redraw\": True},\n",
    "                                                              \"fromcurrent\": True, \n",
    "                                                              \"transition\": {\"duration\": 10}}],\n",
    "                                               label = \"Play\",\n",
    "                                               method = \"animate\")],\n",
    "                                type='buttons',\n",
    "                                showactive=False,\n",
    "                                y=1,\n",
    "                                x=1.12,\n",
    "                                xanchor='right',\n",
    "                                yanchor='top')])\n",
    "\n",
    "frames= [go.Frame(data=[go.Scatter3d(x=[traj_bot[i][0], traj_top[i][0]], y=[traj_bot[i][1], traj_top[i][1]], z=[traj_bot[i][2], traj_top[i][2]])]) for i in range(len(traj))]\n",
    "fig2.update(frames=frames)\n",
    "\n",
    "fig2.show()"
   ]
  },
  {
   "cell_type": "code",
   "execution_count": 504,
   "metadata": {},
   "outputs": [
    {
     "data": {
      "text/plain": [
       "array([[ 0.52359878, -1.47079633,  0.78539816],\n",
       "       [ 0.52350169, -1.47077945,  0.78549574],\n",
       "       [ 0.52229948, -1.47056988,  0.786704  ],\n",
       "       [ 0.51804988, -1.46982035,  0.79097521],\n",
       "       [ 0.50928047, -1.46823017,  0.7997903 ],\n",
       "       [ 0.49669809, -1.4658425 ,  0.81244086],\n",
       "       [ 0.48172712, -1.46282769,  0.82749729],\n",
       "       [ 0.46551889, -1.45933149,  0.84380385],\n",
       "       [ 0.44892873, -1.45547674,  0.86050157],\n",
       "       [ 0.4325486 , -1.45136581,  0.87699554],\n",
       "       [ 0.41675593, -1.44708193,  0.89290601],\n",
       "       [ 0.40176393, -1.44269004,  0.90801802],\n",
       "       [ 0.38766589, -1.43823749,  0.92223702],\n",
       "       [ 0.37447177, -1.43375503,  0.93555231],\n",
       "       [ 0.36213862, -1.42925889,  0.94800643],\n",
       "       [ 0.35059809, -1.42475513,  0.95966765],\n",
       "       [ 0.33977396, -1.42024339,  0.97061224],\n",
       "       [ 0.3295801 , -1.41571435,  0.98092663],\n",
       "       [ 0.31991482, -1.4111448 ,  0.99071316],\n",
       "       [ 0.31066266, -1.40649544,  1.00008836],\n",
       "       [ 0.30169986, -1.40171058,  1.00917749],\n",
       "       [ 0.29290082, -1.39671872,  1.01810801],\n",
       "       [ 0.2841447 , -1.3914338 ,  1.02700305],\n",
       "       [ 0.27532177, -1.38575661,  1.0359749 ],\n",
       "       [ 0.26633957, -1.37957666,  1.04511892],\n",
       "       [ 0.25712822, -1.37277403,  1.05450808],\n",
       "       [ 0.24764463, -1.36522149,  1.06418877],\n",
       "       [ 0.23945192, -1.35819563,  1.07256459],\n",
       "       [ 0.23945192, -1.35819563,  1.07256459]])"
      ]
     },
     "execution_count": 504,
     "metadata": {},
     "output_type": "execute_result"
    }
   ],
   "source": [
    "ang"
   ]
  }
 ],
 "metadata": {
  "kernelspec": {
   "display_name": "Python 3 (ipykernel)",
   "language": "python",
   "name": "python3"
  },
  "language_info": {
   "codemirror_mode": {
    "name": "ipython",
    "version": 3
   },
   "file_extension": ".py",
   "mimetype": "text/x-python",
   "name": "python",
   "nbconvert_exporter": "python",
   "pygments_lexer": "ipython3",
   "version": "3.8.13"
  },
  "vscode": {
   "interpreter": {
    "hash": "756df94b4d22402393e8df6ec39ece82b7d0eb29c215af24100290b3ed3bf877"
   }
  }
 },
 "nbformat": 4,
 "nbformat_minor": 2
}
