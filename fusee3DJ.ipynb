{
 "cells": [
  {
   "cell_type": "code",
   "execution_count": 1,
   "metadata": {},
   "outputs": [],
   "source": [
    "import numpy as np\n",
    "import pandas as pd\n",
    "import plotly.graph_objs as go\n",
    "from cosapp.base import System, Port, BaseConnector\n",
    "from cosapp.drivers import RungeKutta, NonLinearSolver\n",
    "from cosapp.recorders import DataFrameRecorder\n",
    "from scipy.spatial.transform import Rotation as R"
   ]
  },
  {
   "cell_type": "code",
   "execution_count": 2,
   "metadata": {},
   "outputs": [],
   "source": [
    "###PORTS\n",
    "def RotMat3D(ang):\n",
    "    \n",
    "    #ang[0] = phi, ang[1] = theta, ang[2] = psi\n",
    "    #rotation matrix to go from R0 (earth frame) to R (rocket frame)\n",
    "    \n",
    "    l1 = np.array([np.cos(ang[2])*np.cos(ang[1]), np.sin(ang[2])*np.cos(ang[1]), -np.sin(ang[1])])\n",
    "    l2 = np.array([-np.sin(ang[2])*np.cos(ang[0]) + np.cos(ang[2])*np.sin(ang[1])*np.sin(ang[0]), \n",
    "                    np.cos(ang[2])*np.cos(ang[0]) + np.sin(ang[2])*np.sin(ang[1])*np.sin(ang[0]), np.cos(ang[1])*np.sin(ang[0])])\n",
    "    l3 = np.array([ np.sin(ang[2])*np.sin(ang[0]) + np.cos(ang[2])*np.sin(ang[1])*np.cos(ang[0]), \n",
    "                   -np.cos(ang[2])*np.sin(ang[0]) + np.sin(ang[2])*np.sin(ang[1])*np.cos(ang[0]), np.cos(ang[1])*np.cos(ang[0])])\n",
    "    \n",
    "    A = np.round(np.array([l1,l2,l3]), 5)\n",
    "    \n",
    "    return A\n",
    "\n",
    "\n",
    "class VelPort(Port):\n",
    "    \"\"\"Velocity Port \"\"\"\n",
    "    def setup(self):\n",
    "        self.add_variable('val', np.zeros(3), desc = \"Velocity Components\", unit = 'm/s')\n",
    "        \n",
    "\n",
    "    class Connector(BaseConnector):\n",
    "        \"\"\"Custom connector for `VelPort` objects\n",
    "        \"\"\"\n",
    "        def __init__(self, name: str, sink: Port, source: Port, *args, **kwargs):\n",
    "            super().__init__(name, sink, source)\n",
    "\n",
    "        def transfer(self) -> None:\n",
    "            sink = self.sink\n",
    "            source = self.source\n",
    "            \n",
    "            #Parent --> Child\n",
    "            if sink.owner.parent == source.owner:\n",
    "                sink.val = np.matmul(RotMat3D(sink.owner[f'{sink.owner.name}_ang']), source.val)\n",
    "\n",
    "            #Child --> Parent\n",
    "            elif sink.owner == source.owner.parent:\n",
    "                sink.val = np.matmul(np.transpose(RotMat3D(source.owner[f'{source.owner.name}_ang'])), source.val)\n",
    "                \n",
    "            else:\n",
    "                sink.val = source.val\n",
    "\n",
    "\n",
    "\n",
    "class AclPort(Port):\n",
    "    \"\"\"Acceleration Port \"\"\"\n",
    "    def setup(self):\n",
    "        self.add_variable('val', np.zeros(3), desc = \"Acceleration Components\", unit = 'm/s**2')\n",
    "        \n",
    "\n",
    "    class Connector(BaseConnector):\n",
    "        \"\"\"Custom connector for `AclPort` objects\n",
    "        \"\"\"\n",
    "        def __init__(self, name: str, sink: Port, source: Port, *args, **kwargs):\n",
    "            super().__init__(name, sink, source)\n",
    "\n",
    "        def transfer(self) -> None:\n",
    "            sink = self.sink\n",
    "            source = self.source\n",
    "\n",
    "            #Parent --> Child\n",
    "            if sink.owner.parent == source.owner:\n",
    "                sink.val = np.matmul((RotMat3D(sink.owner[f'{sink.owner.name}_ang'])), source.val)\n",
    "\n",
    "            #Child --> Parent\n",
    "            elif sink.owner == source.owner.parent:\n",
    "                sink.val = np.matmul(np.transpose(RotMat3D(source.owner[f'{source.owner.name}_ang'])), source.val)\n",
    "                \n",
    "            else:\n",
    "                sink.val = source.val"
   ]
  },
  {
   "cell_type": "code",
   "execution_count": 3,
   "metadata": {},
   "outputs": [],
   "source": [
    "###KINEMATICS\n",
    "class Kinematics(System):\n",
    "    \n",
    "    def setup(self):\n",
    "    \n",
    "        #System orientation\n",
    "        self.add_outward('Kin_ang', np.zeros(3), desc = \"Rocket Euler Angles\", unit = '')\n",
    "        \n",
    "        #Dynamics inputs\n",
    "        self.add_inward('a', np.zeros(3), desc = \"Rocket Acceleration\", unit = 'm/s**2')\n",
    "        self.add_inward('aa', np.zeros(3), desc = \"Rocket Angular Acceleration\", unit = '1/s**2')\n",
    "        self.add_outward('av2', np.zeros(3), desc = \"Rocket Angular Velocity\", unit = '1/s')\n",
    "        \n",
    "        #Kinematics transients\n",
    "        self.add_transient('v', der = 'a', desc = \"Rocket Velocity\")\n",
    "        self.add_transient('av', der = 'aa', desc = \"Rocket Angular Velocity (pqr)\")\n",
    "        self.add_transient('ar', der = 'av2', desc = \"Rocket Angular Position\")\n",
    "        \n",
    "        #Kinematics outputs\n",
    "        self.add_output(VelPort, 'v_out')\n",
    "        self.add_outward('v_cpa',  np.zeros(3), desc='CPA velocity', unit = 'm/s')\n",
    "        self.add_outward('av_out', np.zeros(3), desc = \"Rocket Angular Velocity (pqr)\", unit = '1/s')\n",
    "        \n",
    "    def compute(self):\n",
    "        #compute angular velocity to obtain angular position\n",
    "        self.av2[0] = self.av[0] + np.tan(self.ar[1])*(self.av[2]*np.cos(self.ar[0]) + self.av[1]*np.sin(self.ar[0]))\n",
    "        self.av2[1] = self.av[1]*np.cos(self.ar[0]) - self.av[2]*np.sin(self.ar[0])\n",
    "        self.av2[2] = (self.av[2]*np.cos(self.ar[0]) + self.av[1]*np.sin(self.ar[0]))/(np.cos(self.ar[1]))\n",
    "\n",
    "        self.v_out.val = self.v\n",
    "        self.av_out = self.av\n",
    "        self.Kin_ang = self.ar\n",
    "        self.v_cpa = self.v"
   ]
  },
  {
   "cell_type": "code",
   "execution_count": 4,
   "metadata": {},
   "outputs": [],
   "source": [
    "###THRUST\n",
    "thrust_data = pd.read_csv(\"thrust.txt\", header=None)\n",
    "times = list(thrust_data.iloc[0])\n",
    "thrusts = list(thrust_data.iloc[1])\n",
    "\n",
    "def mean(x, y, fx, fy, t):\n",
    "    \"\"\"Calculates the linear regression between x and y and evaluates it at t\"\"\"\n",
    "    percent = (t - x)/(y - x)\n",
    "    return (fx + (fy - fx)*percent)\n",
    "\n",
    "\n",
    "def thrust(time):\n",
    "    \"\"\"Calculates the thrust of the rocket\"\"\"\n",
    "\n",
    "    #If the time is superior to the last data point there is no more thrust\n",
    "    if time >= times[-1]:\n",
    "        return 0\n",
    "\n",
    "    i=0\n",
    "    while times[i] <= time:\n",
    "        i += 1\n",
    "\n",
    "    return mean(times[i - 1], times[i], thrusts[i - 1], thrusts[i], time) "
   ]
  },
  {
   "cell_type": "code",
   "execution_count": 5,
   "metadata": {},
   "outputs": [],
   "source": [
    "###DYNAMICS\n",
    "class Dynamics(System):\n",
    "    def setup(self):\n",
    "    \n",
    "        #System orientation\n",
    "        self.add_inward('Dyn_ang', np.zeros(3), desc = \"Rocket Euler Angles\", unit = '')\n",
    "        \n",
    "        #Geometry\n",
    "        self.add_inward('l', desc = \"Rocket length\", unit = 'm')\n",
    "        self.add_inward('I', desc = \"Matrix of inertia\")\n",
    "        self.add_inward('m', desc = \"mass\", unit = 'kg')\n",
    "        self.add_inward('S_ref', desc = \"aerodynaamic reference area\", unit = 'm**2')\n",
    "        \n",
    "        #Kinematics inputs\n",
    "        self.add_input(VelPort, 'v_in')\n",
    "        self.add_inward('av_in', np.zeros(3), desc = \"Rocket Angular Velocity\", unit = '1/s')\n",
    "        \n",
    "        #AeroForces inputs\n",
    "        self.add_inward('Fa', np.zeros(3), desc = \"Thrust Force\", unit = 'N')\n",
    "        self.add_inward('Ma', np.zeros(3), desc = \"Aerodynamic Moment\", unit = 'N*m')\n",
    "        \n",
    "        #Gravity inputs\n",
    "        self.add_input(AclPort, 'g')\n",
    "        \n",
    "        #Dynamics outputs\n",
    "        self.add_outward('a', np.zeros(3), desc = \"Rocket Acceleration\", unit = 'm/s**2')\n",
    "        self.add_outward('aa', np.zeros(3), desc = \"Rocket Angular Acceleration\", unit = '1/s**2')\n",
    "        \n",
    "    def compute(self):\n",
    "\n",
    "        I = self.I\n",
    "        \n",
    "        v = self.v_in.val\n",
    "        av = self.av_in\n",
    "\n",
    "        Fp = thrust(self.time)\n",
    "        \n",
    "        #Acceleration\n",
    "        self.a[0] = (self.Fa[0] + Fp)/self.m + self.g.val[0] + av[2]*v[1] - av[1]*v[2]\n",
    "        self.a[1] = self.Fa[1]/self.m + self.g.val[1] + av[0]*v[2] - av[2]*v[0]\n",
    "        self.a[2] = self.Fa[2]/self.m + self.g.val[2] + av[1]*v[0] - av[0]*v[1]\n",
    "        \n",
    "        #Angular acceleration (no momentum associated to thrust)\n",
    "        self.aa[0] = (self.Ma[0] + (I[1] - I[2])*av[1]*av[2])/I[0] \n",
    "        self.aa[1] = (self.Ma[1] + (I[2] - I[0])*av[2]*av[0])/I[1]\n",
    "        self.aa[2] = (self.Ma[2] + (I[0] - I[1])*av[0]*av[1])/I[2]"
   ]
  },
  {
   "cell_type": "code",
   "execution_count": 6,
   "metadata": {},
   "outputs": [],
   "source": [
    "# ###AERO\n",
    "# class Aerodynamics(System):\n",
    "#     def setup(self):\n",
    "#         #System orientation\n",
    "#         self.add_inward('Aero_ang', np.zeros(3), desc = \"Rocket Euler Angles\")\n",
    "        \n",
    "#         #Geometry\n",
    "#         self.add_inward('l', desc = \"Rocket length\", unit = 'm')\n",
    "#         self.add_inward('I', desc = \"Matrix of inertia\")\n",
    "#         self.add_inward('m', desc = \"mass\", unit = 'kg')\n",
    "#         self.add_inward('S_ref', desc = \"aerodynamic reference area\", unit = 'm**2')\n",
    "#         self.add_inward('L_ref', 0.07, desc = \"Rocket caliber\", unit = 'm')\n",
    "\n",
    "#         self.add_input(VelPort, 'v_in')\n",
    "#         self.add_inward('av_in', np.zeros(3), desc = \"Rocket Angular Velocity (pqr)\", unit = '1/s')\n",
    "        \n",
    "#         self.add_outward('Fa', np.zeros(3), desc = \"Aerodynamics Forces\", unit = 'N')\n",
    "#         self.add_outward('Ma', np.zeros(3), desc = \"Aerodynamics Moments\", unit = 'N*m')\n",
    "                \n",
    "\n",
    "#     def compute(self):\n",
    "#         rho = 1         #atmospheric density\n",
    "#         S = self.S_ref  # aerodynamic reference area, m^2\n",
    "#         self.L_ref = 0.07\n",
    "\n",
    "#         v = self.v_in.val\n",
    "\n",
    "#         av = self.av_in\n",
    "        \n",
    "#         alpha, beta = - np.arctan2(v[2],v[0]), np.arctan2(v[1],v[0])\n",
    "#         print(alpha, beta)\n",
    "#         #moment coefficients\n",
    "#         Cna = 0.2\n",
    "#         Cd = 0.5\n",
    "#         Cmq = -40\n",
    "#         Xcg = 0\n",
    "#         Xcp = -0.1\n",
    "#         Ca = (Cd - Cna*alpha*np.sin(alpha))/np.cos(alpha)\n",
    "#         Cyb = - Cna\n",
    "#         Cma = Cna*(Xcg - Xcp)/self.L_ref\n",
    "#         Cnb = - Cma\n",
    "#         Cnr = Cmq\n",
    "#         Cl = 0\n",
    "#         Cnp = 0\n",
    "#         Cmap = -2\n",
    "#         Clp = - 0.22\n",
    "\n",
    "#         #computation of the magnitutde of velocity vector of the center of mass of the rocket, m/s\n",
    "#         Vm = np.linalg.norm(v)\n",
    "        \n",
    "#         #Aero forces\n",
    "#         # self.Fa[0] = -0.5*rho*S*Vm**2*Ca\n",
    "#         # self.Fa[1] = -0.5*rho*S*Vm**2*Cyb*beta\n",
    "#         # self.Fa[2] = -0.5*rho*S*Vm**2*Cna*alpha\n",
    "#         # #Aero moment\n",
    "#         # if Vm == 0:\n",
    "#         #     self.Ma = np.zeros(3)\n",
    "#         # else:\n",
    "#         #     self.Ma[0] = 0.5*rho*Vm**2*self.L_ref*(Cl + Clp*av[0]*self.L_ref/(2*Vm))*.1\n",
    "#         #     self.Ma[1] = 0.5*rho*Vm**2*self.L_ref*(Cma*alpha + (Cmap + Cmq)*av[1]*self.L_ref/(2*Vm))*.1\n",
    "#         #     self.Ma[2] = 0.5*rho*Vm**2*self.L_ref*(Cnb*beta + (Cnr*av[2] + Cnp*av[1])*self.L_ref/(2*Vm))*.1\n",
    "\n"
   ]
  },
  {
   "cell_type": "code",
   "execution_count": null,
   "metadata": {},
   "outputs": [],
   "source": [
    "class Alpha(System):\n",
    "    def setup(self):\n",
    "        self.add_inward('v_cpa', desc='CPA velocity', unit='m/s') \n",
    "        self.add_outward('alpha', desc='angle of attack', unit='') \n",
    "\n",
    "    def compute(self):\n",
    "        self.alpha = np.arccos(self.v_cpa[0]/np.linalg.norm(self.v_cpa))"
   ]
  },
  {
   "cell_type": "code",
   "execution_count": null,
   "metadata": {},
   "outputs": [],
   "source": [
    "class Coefficients(System):\n",
    "    def setup(self):\n",
    "        self.add_inward('alpha', desc='angle of attack', unit='') \n",
    "        self.add_inward('v_cpa', desc='CPA velocity', unit='m/s') \n",
    "\n",
    "        # Rocket's Geometry\n",
    "        self.add_inward('ln', 0.2, desc=\"Length of the cone\", unit='m')\n",
    "        self.add_inward('dn', 0.15, desc='Rocket caliber', unit='m')\n",
    "        self.add_inward('l', 2, desc = \"Rocket length\", unit = 'm')\n",
    "        self.add_inward('xf', self.l - 0.2, desc = \"Rocket length\", unit = 'm')\n",
    "\n",
    "        \n",
    "        #Fins' Geometry, check the plan for explanation\n",
    "        self.add_inward('lr', 0.16, unit = 'm')\n",
    "        self.add_inward('lt', 0.12, unit='m')\n",
    "        self.add_inward('ls', 0.12, unit = 'm')\n",
    "        self.add_inward('lw', 0.05, unit = 'm')\n",
    "        self.add_inward('lm', 0.2, unit = 'm')\n",
    "        self.add_inward('lts', 2*self.ls + self.dn, unit = 'm')\n",
    "        self.add_inward('tf', 0.005, desc = 'Thickness', unit='m')\n",
    "        \n",
    "        #Coefficients outwards\n",
    "        self.add_outward('Cd', 0., desc='Drag coefficient', unit='')\n",
    "        self.add_outward('Cn', 0., desc='Normal coefficient', unit='')\n",
    "        self.add_outward('Xcp', 0., desc='CPA position from the rocket top', unit='m')\n",
    "        self.add_outward('S_ref', np.pi*(self.dn/2)**2, desc=\"Reference Surface\", unit=\"m**2\")\n",
    "\n",
    "    def compute(self):\n",
    "        cna_c = 2\n",
    "        cna_b = 0\n",
    "        cna_f = (1 + self.dn/(self.ls + self.dn/2))*4*4*(self.ls/self.dn)**2/(1 + (1 + 2*self.lm/(self.lr + self.lt))**0.5)\n",
    "        cna = cna_c + cna_b + cna_f\n",
    "        self.Cn = cna*self.alpha\n",
    "\n",
    "        self.Xcp = 1/cna*(cna_c*2/3*self.ln + cna_f*(self.xf + self.lm*(self.lr + 2*self.lt)/(3*(self.lr+self.lt)) + 1/6*(self.lr + self.lt - self.lr*self.lt/(self.lr+self.lt))))\n",
    "\n",
    "        Rec = 5*10**5\n",
    "        Ref =  np.linalg.norm(self.v_cpa) * self.l /  15,6*10**(-6)\n",
    "        Refb = np.linalg.norm(self.v_cpa) * self.lm /  15,6*10**(-6)\n",
    "\n",
    "        Bf = Rec * (0.074/Ref**0.2) - 1.328/Ref**0.5\n",
    "        Bfb = Rec * (0.074/Refb**0.2) - 1.328/Refb**0.5\n",
    "\n",
    "        cffb = 1.328/Refb**0.5 if Refb < Rec else 0.074/Refb**0.2 - Bfb/Refb\n",
    "        cff = 1.328/Ref**0.5 if Ref < Rec else 0.074/Ref**0.2 - Bf/Ref\n",
    "\n",
    "        afe = 1/2 * (self.lr + self.lt)*self.ls\n",
    "        afb = afe + 0.5*self.dn*self.lr\n",
    "        cdi = 2*cff*(1+2*self.tf/self.lm)*4*4*(afb - afe)/(np.pi*self.dn**2)\n",
    "        cdf = 2*cff*(1+2*self.tf/self.lm)*4*4*(afb)/(np.pi*self.dn**2)\n",
    "        cdfb = (1 + 60/(self.l/self.dn)**3 + 0.0025*self.l/self.dn)*(2.7*self.l/self.dn + 4*self.l/self.dn)*(cffb)\n",
    "        cdb = 0.029/cdfb**0.5\n",
    "        cd0 = cdfb + cdb + cdf + cdi\n",
    "        cdba = 2*0.9*self.alpha**2 + 3.6*0.7*(1.36*self.l - 0.55*self.ln)/(np.pi*self.dn)*self.alpha**3\n",
    "        rs = self.lts/self.dn\n",
    "        kfb = 0.8065*rs**2 + 1.1553*rs\n",
    "        kbf = 0.1935*rs**2 + 0.8174*rs + 1\n",
    "        cdfa = self.alpha**2*(1.2*afb**4/(np.pi*self.dn**2) + 3.12*(kfb + kbf - 1)*self.afe**4/(np.pi*self.dn**2))\n",
    "        self.Cd = cd0 + cdba + cdfa "
   ]
  },
  {
   "cell_type": "code",
   "execution_count": null,
   "metadata": {},
   "outputs": [],
   "source": [
    "class AeroForces(System):\n",
    "    def setup(self):\n",
    "        self.add_inward('v_cpa', desc='CPA velocity', unit='m/s') \n",
    "\n",
    "        #Coefficients inwards\n",
    "        self.add_inward('Cd', 0., desc='Drag coefficient', unit='')\n",
    "        self.add_inward('Cn', 0., desc='Normal coefficient', unit='')\n",
    "        self.add_inward('S_ref', np.pi*(self.dn/2)**2, desc=\"Reference Surface\", unit=\"m**2\")\n",
    "\n",
    "        #Atmosphere\n",
    "        self.add_inward('rho', 1.292, unit=\"kg/m**3\")\n",
    "\n",
    "        self.add_outward('Fa', np.zeros(3) , desc='Aerodynamic Force', unit='N')\n",
    "\n",
    "    def compute(self):\n",
    "        Fn = 0.5*self.rho*np.linalg.norm(self.v_cpa)**2*(self.S_ref*self.Cn)\n",
    "        Fd = 0.5*self.rho*np.linalg.norm(self.v_cpa)**2*(self.S_ref*self.Cd)\n",
    "\n"
   ]
  },
  {
   "cell_type": "code",
   "execution_count": null,
   "metadata": {},
   "outputs": [],
   "source": [
    "class CPA(System):\n",
    "    def setup(self):\n",
    "        pass"
   ]
  },
  {
   "cell_type": "code",
   "execution_count": null,
   "metadata": {},
   "outputs": [],
   "source": [
    "class Moments(System):\n",
    "    def setup(self):\n",
    "        pass\n",
    "\n",
    "    def compute(self):\n",
    "        pass"
   ]
  },
  {
   "cell_type": "code",
   "execution_count": null,
   "metadata": {},
   "outputs": [],
   "source": [
    "class Aerodynamics(System):\n",
    "    def setup(self):\n",
    "        #System orientation\n",
    "        self.add_inward('Aero_ang', np.zeros(3), desc = \"Rocket Euler Angles\")\n",
    "        \n",
    "        #Geometry\n",
    "        self.add_inward('I', desc = \"Matrix of inertia\")\n",
    "        self.add_inward('m', desc = \"mass\", unit = 'kg')\n",
    "\n",
    "        self.add_input(VelPort, 'v_in')\n",
    "        self.add_inward('av_in', np.zeros(3), desc = \"Rocket Angular Velocity (pqr)\", unit = '1/s')\n",
    "        \n",
    "        self.add_outward('Fa', np.zeros(3), desc = \"Aerodynamics Forces\", unit = 'N')\n",
    "        self.add_outward('Ma', np.zeros(3), desc = \"Aerodynamics Moments\", unit = 'N*m')\n",
    "                \n",
    "\n",
    "        self.add_child(Alpha('Alpha'), pulling=['v_cpa'])\n",
    "        self.add_child(AeroForces('Aeroforces'), pulling=['v_cpa'])\n",
    "        self.add_child(Coefficients('Coefs'), pulling=['v_cpa'])\n",
    "        self.add_child(CPA('Cpa'))\n",
    "        self.add_child(Moments('Moments'))\n",
    "\n",
    "        self.connect(self.Coefs, self.Aeroforces, ['Cd', 'Cn', 'S_ref'])\n",
    "        \n",
    "    def compute(self):\n",
    "        pass\n"
   ]
  },
  {
   "cell_type": "code",
   "execution_count": 7,
   "metadata": {},
   "outputs": [],
   "source": [
    "###TRAJECTORY\n",
    "class Trajectory(System):\n",
    "    \n",
    "    def setup(self):\n",
    "    \n",
    "        #Rocket inputs\n",
    "        self.add_input(VelPort, 'v')\n",
    "        \n",
    "        #Trajectory transients\n",
    "        self.add_transient('r', der = 'v.val', desc = \"Rocket Position\")"
   ]
  },
  {
   "cell_type": "code",
   "execution_count": 8,
   "metadata": {},
   "outputs": [],
   "source": [
    "###ROCKET\n",
    "class Rocket(System):\n",
    "    \n",
    "    def setup(self):\n",
    "\n",
    "        #System orientation\n",
    "        self.add_inward('Rocket_ang', np.zeros(3), desc = \"Earth Euler Angles\", unit = '')\n",
    "        \n",
    "        #Gravity input\n",
    "        self.add_input(AclPort, 'g')\n",
    "        \n",
    "        #Rocket mass/inertia\n",
    "        self.add_inward('I', np.array([10., 100., 100.]), desc = \"Matrix of inertia\")\n",
    "        self.add_inward('m', 15, desc = \"mass\", unit = 'kg')\n",
    "        \n",
    "        #Rocket children\n",
    "        self.add_child(Kinematics('Kin'), pulling = ['v_out'])\n",
    "        self.add_child(Dynamics('Dyn'), pulling = ['g', 'l', 'I', 'm', 'S_ref'])\n",
    "        self.add_child(Aerodynamics('Aero'), pulling = ['l', 'I', 'm', 'S_ref'])\n",
    "        \n",
    "        #Child-Child connections\n",
    "        self.connect(self.Kin, self.Dyn, {'Kin_ang' : 'Dyn_ang', 'v_out' : 'v_in', 'a': 'a', 'aa' : 'aa'})\n",
    "        self.connect(self.Kin, self.Aero, {'Kin_ang' : 'Aero_ang','v_out' : 'v_in', 'av_out': 'av_in', 'v_cpa':'v_cpa'})\n",
    "        self.connect(self.Dyn, self.Aero, ['Fa', 'Ma'])\n",
    "        \n",
    "        #Execution order\n",
    "        self.exec_order = ['Aero', 'Dyn', 'Kin']"
   ]
  },
  {
   "cell_type": "code",
   "execution_count": 9,
   "metadata": {},
   "outputs": [],
   "source": [
    "###GRAVITY\n",
    "class Gravity(System):\n",
    "    \n",
    "    def setup(self):\n",
    "        #Gravity outputs\n",
    "        self.add_output(AclPort, 'g')\n",
    "        \n",
    "    def compute(self):\n",
    "        \n",
    "        # self.g.val = np.array([0., 0., self.G*self.M/(self.R - self.r_in[2])**2])\n",
    "        self.g.val = np.array([0, 0, -9.8])"
   ]
  },
  {
   "cell_type": "code",
   "execution_count": 10,
   "metadata": {},
   "outputs": [],
   "source": [
    "###EARTH\n",
    "class Earth(System):\n",
    "    \n",
    "    def setup(self):\n",
    "        \n",
    "        #Earth children\n",
    "        self.add_child(Rocket('Rocket'))\n",
    "        self.add_child(Trajectory('Traj'))\n",
    "        self.add_child(Gravity('Grav'))\n",
    "        \n",
    "        self.connect(self.Rocket, self.Traj, {'v_out' : 'v'})\n",
    "        self.connect(self.Rocket, self.Grav, ['g'])\n",
    "        \n",
    "        #Execution order\n",
    "        self.exec_order = ['Grav', 'Rocket', 'Traj']"
   ]
  },
  {
   "cell_type": "code",
   "execution_count": 11,
   "metadata": {},
   "outputs": [
    {
     "name": "stdout",
     "output_type": "stream",
     "text": [
      "-0.0 0.0\n",
      "-0.0 0.0\n",
      "-0.0 0.0\n",
      "-0.0 0.0\n",
      "-0.0 0.0\n",
      "-0.0 0.0\n",
      "-0.0 0.0\n",
      "-0.0 0.0\n",
      "-0.0 1.5707963267948966\n",
      "-1.5707963267948966 0.0\n",
      "-0.0 0.0\n",
      "-0.0 0.0\n",
      "-0.0 0.0\n",
      "-0.0 0.0\n",
      "-0.0 0.0\n",
      "-0.0 0.0\n",
      "-0.0 0.0\n",
      "-0.0 0.0\n",
      "3.0549158989594725 -3.091463831120922\n",
      "-0.0 0.0\n",
      "0.020284311502490878 -0.011712762191107857\n",
      "-0.0 0.0\n",
      "0.020321434049934462 -0.011734201780177696\n",
      "-0.0 0.0\n",
      "0.02460606205014278 -0.014208881538453266\n",
      "-0.0 0.0\n",
      "0.021473608208167086 -0.012399634178013128\n",
      "-0.0 0.0\n",
      "0.021665521849293923 -0.01251047503832791\n",
      "-0.0 0.0\n",
      "0.020441374083529674 -0.011803471555265897\n",
      "-0.0 0.0\n",
      "0.02045027784314961 -0.011808613812515143\n",
      "-0.0 0.0\n",
      "0.019893251739869704 -0.011486912594891093\n",
      "-0.0 0.0\n",
      "0.020025621504673855 -0.011563360128821625\n",
      "-0.0 0.0\n",
      "0.019748359632682982 -0.011403233337944074\n",
      "-0.0 0.0\n",
      "0.019754137392797272 -0.011406570150382364\n",
      "-0.0 0.0\n",
      "0.01966241795720893 -0.011353599760188376\n",
      "-0.0 0.0\n",
      "0.0197734706090427 -0.011417735608362855\n",
      "-0.0 0.0\n",
      "0.019783090965360416 -0.011423291627798447\n",
      "-0.0 0.0\n",
      "0.019787684007350533 -0.011425944235924995\n",
      "-0.0 0.0\n",
      "0.019889949837354187 -0.011485005649979473\n",
      "-0.0 0.0\n",
      "0.01998889458310323 -0.011542149196235288\n",
      "-0.0 0.0\n",
      "0.02014703711111808 -0.011633481543242823\n",
      "-0.0 0.0\n",
      "0.020149980130080482 -0.01163518123410105\n",
      "-0.0 0.0\n",
      "0.020367831918414184 -0.011760998226760935\n",
      "-0.0 0.0\n",
      "0.020446955859735962 -0.011806480250337094\n",
      "-0.0 0.0\n",
      "0.020695526003731268 -0.01194985543249306\n",
      "-0.0 0.0\n",
      "0.020698957577768087 -0.011951903744931115\n",
      "-0.0 0.0\n",
      "0.020988657625646976 -0.012119052837371346\n",
      "-0.0 0.0\n",
      "0.02106231691038103 -0.012161592788720485\n",
      "-0.0 0.0\n",
      "0.021378253186883717 -0.012343710023675273\n",
      "-0.0 0.0\n",
      "0.021381309527341845 -0.012345577080305562\n",
      "-0.0 0.0\n",
      "0.021733817094440076 -0.012548943954677517\n",
      "-0.0 0.0\n",
      "0.02180232416257127 -0.012588507769506317\n",
      "-0.0 0.0\n",
      "0.022178055486074363 -0.012805308752209555\n",
      "-0.0 0.0\n",
      "0.02218112748428491 -0.012807082870237243\n",
      "-0.0 0.0\n",
      "0.022590890927310824 -0.013043556567429506\n",
      "-0.0 0.0\n",
      "0.02265458929102426 -0.013080254206549152\n",
      "-0.0 0.0\n",
      "0.023086094233984715 -0.013329217754254344\n",
      "-0.0 0.0\n",
      "0.023088966828106385 -0.013330855793928361\n",
      "-0.0 0.0\n",
      "0.023552556460763808 -0.013598225581199438\n",
      "-0.0 0.0\n",
      "0.02361144395588404 -0.013632150115251396\n",
      "-0.0 0.0\n",
      "0.024095661795829934 -0.013911380696811977\n",
      "-0.0 0.0\n",
      "0.02409869315687957 -0.013913158088120521\n",
      "-0.0 0.0\n",
      "0.024614345530651286 -0.014210568294994994\n",
      "-0.0 0.0\n",
      "0.02467459849585265 -0.014245149138263972\n",
      "-0.0 0.0\n",
      "0.02521531011316509 -0.01455685076437717\n",
      "-0.0 0.0\n",
      "0.02521812947793923 -0.014558548544489834\n",
      "-0.0 0.0\n",
      "0.025794207262119354 -0.014890627128775353\n",
      "-0.0 0.0\n",
      "0.0258492677570664 -0.014922292226112233\n",
      "-0.0 0.0\n",
      "0.02644921894412732 -0.015268061605500304\n",
      "-0.0 0.0\n",
      "0.026451939752990265 -0.015269650671138385\n",
      "-0.0 0.0\n",
      "0.027085650936801355 -0.015634873431398313\n",
      "-0.0 0.0\n",
      "0.0271356397318841 -0.01566354035291607\n",
      "-0.0 0.0\n",
      "0.027792278351112875 -0.01604184045070359\n",
      "-0.0 0.0\n",
      "0.027793139117613056 -0.01604237866431515\n",
      "-0.0 0.0\n",
      "0.02847711453484547 -0.016436355271066256\n",
      "-0.0 0.0\n",
      "0.028518185682757588 -0.01645987657251921\n",
      "-0.0 0.0\n",
      "0.029220541676459873 -0.01686431133717105\n",
      "-0.0 0.0\n",
      "0.029222611097454644 -0.016865506134135386\n",
      "-0.0 0.0\n",
      "0.02995101549130433 -0.017284827215369107\n",
      "-0.0 0.0\n",
      "0.029988628842902414 -0.017306285135440226\n",
      "-0.0 0.0\n",
      "0.030735451993365418 -0.017736022651324207\n",
      "-0.0 0.0\n",
      "0.03073732231378169 -0.01773712516276295\n",
      "-0.0 0.0\n",
      "0.03150952471149958 -0.018181366155882846\n",
      "-0.0 0.0\n",
      "0.03154476079739196 -0.018201453404002275\n",
      "-0.0 0.0\n",
      "0.032336190020383584 -0.0186565800846946\n",
      "-0.0 0.0\n",
      "0.032338171282058056 -0.01865772371866686\n",
      "-0.0 0.0\n",
      "0.03315605216645695 -0.01912790659174939\n",
      "-0.0 0.0\n",
      "0.033188657758672385 -0.019146475772684593\n",
      "-0.0 0.0\n",
      "0.03402626173911181 -0.01962783132050095\n",
      "-0.0 0.0\n",
      "0.03402793894167311 -0.01962879930260879\n",
      "-0.0 0.0\n",
      "0.034891510531409584 -0.02012493089633133\n",
      "-0.0 0.0\n",
      "0.03492120345614003 -0.020141702985396307\n",
      "-0.0 0.0\n",
      "0.035804829203003326 -0.02064894932464519\n",
      "-0.0 0.0\n",
      "0.03580624741405362 -0.02064987228541807\n",
      "-0.0 0.0\n",
      "0.03671531735646751 -0.021171656713270908\n",
      "-0.0 0.0\n",
      "0.03674248367690193 -0.021186903392013724\n",
      "-0.0 0.0\n",
      "0.03767168202446683 -0.021719909158058402\n",
      "-0.0 0.0\n",
      "0.037673043508643284 -0.02172075483107469\n",
      "-0.0 0.0\n",
      "0.03862763316417159 -0.022268131208977356\n",
      "-0.0 0.0\n",
      "0.038652417361597996 -0.02228200130267636\n",
      "-0.0 0.0\n",
      "0.03962741591573122 -0.02284075556550652\n",
      "-0.0 0.0\n",
      "0.03962886410230887 -0.022841590866393178\n",
      "-0.0 0.0\n",
      "0.04062963186827317 -0.023414812585206415\n",
      "-0.0 0.0\n",
      "0.040652836084183554 -0.02342776789497186\n",
      "-0.0 0.0\n",
      "0.04167491855003844 -0.024012882055174725\n",
      "-0.0 0.0\n",
      "0.0416761528949766 -0.024013571820449792\n",
      "-0.0 0.0\n",
      "0.04272424357645449 -0.024613215857603343\n",
      "-0.0 0.0\n",
      "0.04274561111030372 -0.02462504144574811\n",
      "-0.0 0.0\n",
      "0.04381562709462368 -0.025236853294010517\n",
      "-0.0 0.0\n",
      "0.043816681881315676 -0.02523748342185464\n",
      "-0.0 0.0\n",
      "0.044912856766878714 -0.0258637846302666\n",
      "-0.0 0.0\n",
      "0.04493249609505292 -0.025874608300241315\n",
      "-0.0 0.0\n",
      "0.046051206014367574 -0.026513415106905146\n",
      "-0.0 0.0\n",
      "0.046052210865977404 -0.02651399418514441\n",
      "-0.0 0.0\n",
      "0.04719739878035378 -0.027167574440485447\n",
      "-0.0 0.0\n",
      "0.047215632187370876 -0.027177398690334587\n",
      "-0.0 0.0\n",
      "0.04838418955104159 -0.02784376633630441\n",
      "-0.0 0.0\n",
      "0.048385082656296076 -0.027844303141905495\n",
      "-0.0 0.0\n",
      "0.04958071730787165 -0.02852558798469656\n",
      "-0.0 0.0\n",
      "0.04960975467882178 -0.028541625995255646\n",
      "-0.0 0.0\n",
      "0.050840717616978455 -0.029242562246877546\n",
      "-0.0 0.0\n",
      "0.05084366283504592 -0.02924425823288846\n",
      "-0.0 0.0\n",
      "0.05212040899118867 -0.029970855667957222\n",
      "-0.0 0.0\n",
      "0.052146635942120954 -0.029985262294314717\n",
      "-0.0 0.0\n",
      "0.053460173221126846 -0.030732183303048954\n",
      "-0.0 0.0\n",
      "0.053460952904120874 -0.030732700231191193\n",
      "-0.0 0.0\n",
      "0.05481517350982408 -0.031502378111687074\n",
      "-0.0 0.0\n",
      "0.05483860474672295 -0.031514973439995174\n",
      "-0.0 0.0\n",
      "0.056230292810516974 -0.03230527405514171\n",
      "-0.0 0.0\n",
      "0.05623148472476271 -0.03230599983403963\n",
      "-0.0 0.0\n",
      "0.057665787657638794 -0.033119991634194455\n",
      "-0.0 0.0\n",
      "0.05768842644936666 -0.033132043688751354\n",
      "-0.0 0.0\n",
      "0.05916299654148184 -0.033968153591177296\n",
      "-0.0 0.0\n",
      "0.05916435362245758 -0.03396899787247157\n",
      "-0.0 0.0\n",
      "0.06068508594551096 -0.03483059948750573\n",
      "-0.0 0.0\n",
      "0.06070732406818723 -0.034842470713812475\n",
      "-0.0 0.0\n",
      "0.06227174444573093 -0.035728174083771824\n",
      "-0.0 0.0\n",
      "0.062272925301678515 -0.035728829126628246\n",
      "-0.0 0.0\n",
      "0.06388655872905885 -0.036641649277129006\n",
      "-0.0 0.0\n",
      "0.06390812974215157 -0.036653043894707256\n",
      "-0.0 0.0\n",
      "0.06556894626023538 -0.03759184297156936\n",
      "-0.0 0.0\n",
      "0.06557387845239583 -0.03759467613584424\n",
      "-0.0 0.0\n",
      "0.0672991088787601 -0.03856925689651816\n",
      "-0.0 0.0\n",
      "0.06750571271289721 -0.03868675546499304\n",
      "-0.0 0.0\n",
      "0.06945814913385755 -0.03979043913434865\n",
      "-0.0 0.0\n",
      "0.06946818807795313 -0.03979622098723872\n",
      "-0.0 0.0\n",
      "0.07169627843659648 -0.04105658978439795\n",
      "-0.0 0.0\n",
      "0.07189777982828859 -0.0411711194295283\n",
      "-0.0 0.0\n",
      "0.0743913012497103 -0.04258233047742593\n",
      "-0.0 0.0\n",
      "0.07440114489601947 -0.04258793448848687\n",
      "-0.0 0.0\n",
      "0.07721555985357775 -0.044181518545186475\n",
      "-0.0 0.0\n",
      "0.07738745402910588 -0.0442788268495179\n",
      "-0.0 0.0\n",
      "0.08049757638212753 -0.04604023286395572\n",
      "-0.0 0.0\n",
      "0.08048887992713473 -0.04603521776306804\n",
      "-0.0 0.0\n",
      "0.08389723274652089 -0.04796560669827443\n",
      "-0.0 0.0\n",
      "0.08402560022532363 -0.048037767597099434\n",
      "-0.0 0.0\n",
      "0.08775069653617708 -0.050147579212718424\n",
      "-0.0 0.0\n",
      "0.08775734445782953 -0.0501514761825693\n",
      "-0.0 0.0\n",
      "0.09185554532478797 -0.0524731003948533\n",
      "-0.0 0.0\n",
      "0.09199803423508773 -0.05255316819706751\n",
      "-0.0 0.0\n",
      "0.09650904087705692 -0.05510924346915704\n",
      "-0.0 0.0\n",
      "0.09651407429741282 -0.055112076945607304\n",
      "-0.0 0.0\n",
      "0.10150578696789729 -0.05794143289888951\n",
      "-0.0 0.0\n",
      "0.10164558905036099 -0.05801968297149664\n",
      "-0.0 0.0\n",
      "0.10716555146732584 -0.06114960051379816\n",
      "-0.0 0.0\n",
      "0.1071735345490874 -0.0611541469299902\n",
      "-0.0 0.0\n",
      "0.11332185821337312 -0.0646422140815349\n",
      "-0.0 0.0\n",
      "0.11309998025956806 -0.06451283651594418\n",
      "-0.0 0.0\n",
      "0.11954643667856292 -0.06816965145016841\n",
      "-0.0 0.0\n",
      "0.11954161207494896 -0.06816698789070702\n",
      "-0.0 0.0\n",
      "0.12629474485792924 -0.07199806885801803\n",
      "-0.0 0.0\n",
      "0.12607000704762836 -0.07186666494765344\n",
      "-0.0 0.0\n",
      "0.13316188095856424 -0.07589012168014511\n",
      "-0.0 0.0\n",
      "0.13315781871205842 -0.07588798893584207\n",
      "-0.0 0.0\n",
      "0.1406036878931287 -0.08011382769787177\n",
      "-0.0 0.0\n",
      "0.14037461530006123 -0.0799793697591152\n",
      "-0.0 0.0\n",
      "0.14820923790190993 -0.08442732939087177\n",
      "-0.0 0.0\n",
      "0.14820549833963137 -0.08442537395384435\n",
      "-0.0 0.0\n",
      "0.15645085390491092 -0.08910969819233316\n",
      "-0.0 0.0\n",
      "0.15621625146296442 -0.08897146496994816\n",
      "-0.0 0.0\n",
      "0.16491077506291046 -0.09391456067135508\n",
      "-0.0 0.0\n",
      "0.16490778623240115 -0.0939128374896793\n",
      "-0.0 0.0\n",
      "0.1740829238441004 -0.09913438720971718\n",
      "-0.0 0.0\n",
      "0.17384124152587407 -0.09899147083227258\n",
      "-0.0 0.0\n",
      "0.1835403694734871 -0.10451779079320847\n",
      "-0.0 0.0\n",
      "0.18353797449281972 -0.10451635771600266\n",
      "-0.0 0.0\n",
      "0.19380351074535176 -0.11037422361911119\n",
      "-0.0 0.0\n",
      "0.19355316140744339 -0.11022552501996444\n",
      "-0.0 0.0\n",
      "0.20443562413843586 -0.11644648969592145\n",
      "-0.0 0.0\n",
      "0.20443379214756585 -0.1164452810531267\n",
      "-0.0 0.0\n",
      "0.2159890770617185 -0.12306505616992218\n",
      "-0.0 0.0\n",
      "0.21572877881939145 -0.12290941738624311\n",
      "-0.0 0.0\n",
      "0.2280179436389741 -0.1299673403629977\n",
      "-0.0 0.0\n",
      "0.2280166237572007 -0.12996657006720383\n",
      "-0.0 0.0\n",
      "0.24111235910286535 -0.13751055618160615\n",
      "-0.0 0.0\n",
      "0.24084020360456762 -0.13734666347426475\n",
      "-0.0 0.0\n",
      "0.2548177309139263 -0.14542689885029192\n",
      "-0.0 0.0\n",
      "0.2548170056767342 -0.14542636228351047\n",
      "-0.0 0.0\n",
      "0.26977129700732405 -0.15410734435549822\n",
      "-0.0 0.0\n",
      "0.2694852969675125 -0.15393352891007256\n",
      "-0.0 0.0\n",
      "0.2855104806821161 -0.1632810750548701\n",
      "-0.0 0.0\n",
      "0.2855106341369499 -0.16328097767016816\n",
      "-0.0 0.0\n",
      "0.3027305885709136 -0.17338290143593074\n",
      "-0.0 0.0\n",
      "0.30242890973849385 -0.17319696935330228\n",
      "-0.0 0.0\n",
      "0.3209649210374329 -0.18414180935533722\n",
      "-0.0 0.0\n",
      "0.3209654667666238 -0.18414236043714421\n",
      "-0.0 0.0\n",
      "0.34097835074723415 -0.1960517978097961\n",
      "-0.0 0.0\n",
      "0.34065911381535385 -0.19585189174641826\n",
      "-0.0 0.0\n",
      "0.3623059581910652 -0.20884931252656486\n",
      "-0.0 0.0\n",
      "0.36230808114267876 -0.20885052988641037\n",
      "-0.0 0.0\n",
      "0.3858015032171118 -0.22310727278986836\n",
      "-0.0 0.0\n",
      "0.38546351867986245 -0.22289079824714314\n",
      "-0.0 0.0\n",
      "0.4110094380981075 -0.23858420842137723\n",
      "-0.0 0.0\n",
      "0.4110128454870284 -0.23858634473836432\n",
      "-0.0 0.0\n",
      "0.43888929493523177 -0.2559638660237619\n",
      "-0.0 0.0\n",
      "0.4385318039859902 -0.2557273299523239\n",
      "-0.0 0.0\n",
      "0.46901086370599965 -0.27505163805601646\n",
      "-0.0 0.0\n",
      "0.46901582245367107 -0.2750551351562962\n",
      "-0.0 0.0\n",
      "0.5024592192553139 -0.29669430967794697\n",
      "-0.0 0.0\n",
      "0.5020828420165122 -0.29643560213227543\n",
      "-0.0 0.0\n",
      "0.5388459287539391 -0.32079450202771626\n",
      "-0.0 0.0\n",
      "0.5388534463499076 -0.32079940586673533\n",
      "-0.0 0.0\n",
      "0.5793990716807519 -0.3484420185122074\n",
      "-0.0 0.0\n",
      "0.579008933169707 -0.34815819833526007\n",
      "-0.0 0.0\n",
      "0.623786079973091 -0.3797302574958114\n",
      "-0.0 0.0\n",
      "0.6237968663735941 -0.37973798743630377\n",
      "-0.0 0.0\n",
      "0.6733687297202506 -0.4161366257025003\n",
      "-0.0 0.0\n",
      "0.6729788562565755 -0.4158282879036681\n",
      "-0.0 0.0\n",
      "0.7278711860798106 -0.45811621397837965\n",
      "-0.0 0.0\n",
      "0.7278875425864575 -0.45812953648260074\n",
      "-0.0 0.0\n",
      "0.7887121418691097 -0.5077768062921424\n",
      "-0.0 0.0\n",
      "0.7883564959990639 -0.5074603160343292\n",
      "-0.0 0.0\n",
      "0.8556234623363014 -0.5662504704143966\n",
      "-0.0 0.0\n",
      "0.8556497138511387 -0.5662744772928189\n",
      "-0.0 0.0\n",
      "0.9298541650518779 -0.6366142865153388\n",
      "-0.0 0.0\n",
      "0.9296156316234812 -0.6363605921196008\n",
      "-0.0 0.0\n",
      "1.0110208827645841 -0.7211496881090822\n",
      "-0.0 0.0\n",
      "1.0110707197095206 -0.7212046134981022\n",
      "-0.0 0.0\n",
      "1.0997297006938749 -0.8240183830838044\n",
      "-0.0 0.0\n",
      "1.099841355072345 -0.8241398319639226\n",
      "-0.0 0.0\n",
      "1.1954439033295803 -0.948784071691198\n",
      "-0.0 0.0\n",
      "1.1955823118699964 -0.9489760881795797\n",
      "-0.0 0.0\n",
      "1.297480763719136 -1.0986548214210543\n",
      "-0.0 0.0\n",
      "1.298947124174805 -1.100928436749924\n",
      "-0.0 0.0\n",
      "1.4065390353087155 -1.2772266131112817\n",
      "-0.0 0.0\n",
      "1.4074454231707982 -1.2787834163312692\n",
      "-0.0 0.0\n",
      "1.5213200342424755 -1.4806228869828058\n",
      "-0.0 0.0\n",
      "1.5489942373683083 -1.530998562784811\n",
      "-0.0 0.0\n",
      "1.786302947261341 -1.951494301537149\n",
      "-0.0 0.0\n",
      "1.6963841566817406 -1.7976479461614474\n",
      "-0.0 0.0\n",
      "1.7762096805101275 -1.935156514613396\n",
      "-0.0 0.0\n",
      "1.7816567485773065 -1.944229237220933\n",
      "-0.0 0.0\n",
      "1.8628746778215428 -2.0744719690412663\n",
      "-0.0 0.0\n",
      "1.8616198666269754 -2.0725472201941004\n",
      "-0.0 0.0\n",
      "1.9394609542550751 -2.1874990885442633\n",
      "-0.0 0.0\n",
      "1.9403882787032711 -2.1888154802140845\n",
      "-0.0 0.0\n",
      "2.013345588499454 -2.287219519751311\n",
      "-0.0 0.0\n",
      "2.0131875674144664 -2.2870174284543356\n",
      "-0.0 0.0\n",
      "2.08063200076519 -2.3703353627857195\n",
      "-0.0 0.0\n",
      "2.0807832828840014 -2.3705295396512938\n",
      "-0.0 0.0\n",
      "2.142550767577869 -2.4408031538549917\n",
      "-0.0 0.0\n",
      "2.142505197163471 -2.440753100049971\n",
      "-0.0 0.0\n",
      "2.1987581190424406 -2.5001762332872732\n",
      "-0.0 0.0\n",
      "2.198671454786302 -2.500104583865953\n",
      "-0.0 0.0\n",
      "2.2497265595987406 -2.5506075932409873\n",
      "-0.0 0.0\n",
      "2.249705511788716 -2.550587284619134\n",
      "-0.0 0.0\n",
      "2.2959536738206276 -2.5937733306496673\n",
      "-0.0 0.0\n",
      "2.295774185288231 -2.593628411144959\n",
      "-0.0 0.0\n",
      "2.3376557598155756 -2.630830343106001\n",
      "-0.0 0.0\n",
      "2.337643152656717 -2.6308193263405126\n",
      "-0.0 0.0\n",
      "2.375568530505557 -2.6630719676691035\n",
      "-0.0 0.0\n",
      "2.3753501962116106 -2.6629087292805576\n",
      "-0.0 0.0\n",
      "2.4097418845795033 -2.691078492723643\n",
      "-0.0 0.0\n",
      "2.4097319856305077 -2.6910708034287576\n",
      "-0.0 0.0\n",
      "2.4409418079889584 -2.7158124879510237\n",
      "-0.0 0.0\n",
      "2.440707146465915 -2.715647980478802\n",
      "-0.0 0.0\n",
      "2.469094713440878 -2.737526318865922\n",
      "-0.0 0.0\n",
      "2.469086718288029 -2.7375205834863463\n",
      "-0.0 0.0\n",
      "2.49493322567709 -2.7569562981877134\n",
      "-0.0 0.0\n",
      "2.4946943581232137 -2.756797382499729\n",
      "-0.0 0.0\n",
      "2.518290190889008 -2.7741684838975718\n",
      "-0.0 0.0\n",
      "2.518283667631583 -2.774163320333447\n",
      "-0.0 0.0\n",
      "2.539846313306443 -2.789744466160794\n",
      "-0.0 0.0\n",
      "2.5396089099226877 -2.7895941509010505\n",
      "-0.0 0.0\n",
      "2.559369516060296 -2.8036457319472414\n",
      "-0.0 0.0\n",
      "2.5593633614381353 -2.8036417929327735\n",
      "-0.0 0.0\n",
      "2.5774855884977663 -2.816349501635844\n",
      "-0.0 0.0\n",
      "2.5772534519391166 -2.8162078281221508\n",
      "-0.0 0.0\n",
      "2.593920860792763 -2.827756411860447\n",
      "-0.0 0.0\n",
      "2.593915663928719 -2.8277525117205853\n",
      "-0.0 0.0\n",
      "2.6092523512609325 -2.8382685939707555\n",
      "-0.0 0.0\n",
      "2.6090270135545484 -2.8381359532385666\n",
      "-0.0 0.0\n",
      "2.6231787660439982 -2.8477548838891233\n",
      "-0.0 0.0\n",
      "2.6231739529790734 -2.847751348720589\n",
      "-0.0 0.0\n",
      "2.6362334654757897 -2.856561449050132\n",
      "-0.0 0.0\n",
      "2.636016337286961 -2.8564374715651493\n",
      "-0.0 0.0\n",
      "2.64810186217168 -2.864540438321797\n",
      "-0.0 0.0\n",
      "2.6480973119137086 -2.864537231938731\n",
      "-0.0 0.0\n",
      "2.6592779944426606 -2.871995670735357\n",
      "-0.0 0.0\n",
      "2.6590689376303405 -2.8718802889006527\n",
      "-0.0 0.0\n",
      "2.669440847247919 -2.878772774435526\n",
      "-0.0 0.0\n",
      "2.669436721694713 -2.8787698360107945\n",
      "-0.0 0.0\n",
      "2.6790515682066576 -2.8851412432557373\n",
      "-0.0 0.0\n",
      "2.678851154180349 -2.88503357936231\n",
      "-0.0 0.0\n",
      "2.6877884898927777 -2.8909453725980367\n",
      "-0.0 0.0\n",
      "2.6877845297578387 -2.8909427766183935\n",
      "-0.0 0.0\n",
      "2.696082600117859 -2.8964280862993967\n",
      "-0.0 0.0\n",
      "2.6958904119901117 -2.8963279502958006\n",
      "-0.0 0.0\n",
      "2.7036155657500887 -2.9014356275676882\n",
      "-0.0 0.0\n",
      "2.703611886548412 -2.9014332427136953\n",
      "-0.0 0.0\n",
      "2.7107925421493735 -2.9061875645278326\n",
      "-0.0 0.0\n",
      "2.710608657713365 -2.90609459533989\n",
      "-0.0 0.0\n",
      "2.717300359243282 -2.9105360523403307\n",
      "-0.0 0.0\n",
      "2.7172972209866235 -2.9105334772177773\n",
      "-0.0 0.0\n",
      "2.723521520487851 -2.914678796812727\n",
      "-0.0 0.0\n",
      "2.7233457761141002 -2.9145928891785733\n",
      "-0.0 0.0\n",
      "2.7291499718307684 -2.918476430603139\n",
      "-0.0 0.0\n",
      "2.72914691681457 -2.9184740099769693\n",
      "-0.0 0.0\n",
      "2.734546443614362 -2.9221077572170016\n",
      "-0.0 0.0\n",
      "2.7343783503332646 -2.9220284971672807\n",
      "-0.0 0.0\n",
      "2.739414041692116 -2.9254414959206883\n",
      "-0.0 0.0\n",
      "2.7394111481343826 -2.9254392132865963\n",
      "-0.0 0.0\n",
      "2.7440938397618178 -2.9286401546797216\n",
      "-0.0 0.0\n",
      "2.7439331613423157 -2.928567165187838\n",
      "-0.0 0.0\n",
      "2.7482980613445886 -2.9315807039585486\n",
      "-0.0 0.0\n",
      "2.748295536429205 -2.931578525989779\n",
      "-0.0 0.0\n",
      "2.752350789384143 -2.934410712585331\n",
      "-0.0 0.0\n",
      "2.7521969084825826 -2.9343438679819385\n",
      "-0.0 0.0\n",
      "2.755973347315182 -2.9370162783228717\n",
      "-0.0 0.0\n",
      "2.7559707393617487 -2.93701423368391\n",
      "-0.0 0.0\n",
      "2.7594728108908257 -2.939530916651867\n",
      "-0.0 0.0\n",
      "2.759325820616336 -2.9394699438810354\n",
      "-0.0 0.0\n",
      "2.76258168015092 -2.941849859621559\n",
      "-0.0 0.0\n",
      "2.7625790904423493 -2.9418479913740216\n",
      "-0.0 0.0\n",
      "2.765590871484571 -2.9440939367718197\n",
      "-0.0 0.0\n",
      "2.7654501540516625 -2.944038471480739\n",
      "-0.0 0.0\n",
      "2.7682424848473413 -2.946166898068005\n",
      "-0.0 0.0\n",
      "2.768240362548399 -2.9461651424176134\n",
      "-0.0 0.0\n",
      "2.7708144808266155 -2.9481776903814003\n",
      "-0.0 0.0\n",
      "2.770679859263146 -2.948127757786754\n",
      "-0.0 0.0\n",
      "2.7730577601252087 -2.9500393820378012\n",
      "-0.0 0.0\n",
      "2.773055643649255 -2.9500376992695867\n",
      "-0.0 0.0\n",
      "2.775237086900544 -2.9518491565513774\n",
      "-0.0 0.0\n",
      "2.7751079695282885 -2.9518044277074567\n",
      "-0.0 0.0\n",
      "2.7771127473401753 -2.9535291010933094\n",
      "-0.0 0.0\n",
      "2.7771108126065327 -2.953527502142908\n",
      "-0.0 0.0\n",
      "2.7789377244790177 -2.9551657217656833\n",
      "-0.0 0.0\n",
      "2.778813853000932 -2.9551259423922476\n",
      "-0.0 0.0\n",
      "2.7804808785758643 -2.9566895608249\n",
      "-0.0 0.0\n",
      "2.7804790003487088 -2.956688136106965\n",
      "-0.0 0.0\n",
      "2.781983990407843 -2.958176973568966\n",
      "-0.0 0.0\n",
      "2.781865402918358 -2.958142187727813\n",
      "-0.0 0.0\n",
      "2.7832246775604736 -2.9595671944703006\n",
      "-0.0 0.0\n",
      "2.783223122508691 -2.9595658092108184\n",
      "-0.0 0.0\n",
      "2.784434657315485 -2.9609263239261256\n",
      "-0.0 0.0\n",
      "2.7843205828633577 -2.9608962525644342\n",
      "-0.0 0.0\n",
      "2.785398729811849 -2.9622024200413937\n",
      "-0.0 0.0\n",
      "2.785397307897463 -2.962201090036096\n",
      "-0.0 0.0\n",
      "2.7863394164923023 -2.9634519677375897\n",
      "-0.0 0.0\n",
      "2.7862297433184064 -2.9634263534475136\n",
      "-0.0 0.0\n",
      "2.7870494567098225 -2.9646312987747545\n",
      "-0.0 0.0\n",
      "2.787047999276481 -2.9646300820855145\n",
      "-0.0 0.0\n",
      "2.787741925737497 -2.9657880496275983\n",
      "-0.0 0.0\n",
      "2.7876363607087487 -2.965766995964186\n",
      "-0.0 0.0\n",
      "2.7882167384905907 -2.9668866487175944\n",
      "-0.0 0.0\n",
      "2.7882156197079255 -2.9668854486034983\n",
      "-0.0 0.0\n",
      "2.7886796184909017 -2.9679654634864416\n",
      "-0.0 0.0\n",
      "2.7885776530733954 -2.967948511589333\n",
      "-0.0 0.0\n",
      "2.788936072964987 -2.968996865107947\n",
      "-0.0 0.0\n",
      "2.7889350977369425 -2.9689958705909696\n",
      "-0.0 0.0\n",
      "2.789184967926349 -2.9700113682076674\n",
      "-0.0 0.0\n",
      "2.789086506094036 -2.969998734101714\n",
      "-0.0 0.0\n",
      "2.789237899465578 -2.970988523665392\n",
      "-0.0 0.0\n",
      "2.7892369553205882 -2.9709877389012522\n",
      "-0.0 0.0\n",
      "2.7892866189271484 -2.971951001546128\n",
      "-0.0 0.0\n",
      "2.789191324375996 -2.9719423312528948\n",
      "-0.0 0.0\n",
      "2.789148631875239 -2.9728859483849837\n",
      "-0.0 0.0\n",
      "2.7891477361607704 -2.9728849906681316\n",
      "-0.0 0.0\n",
      "2.78900921266394 -2.9738074781529082\n",
      "-0.0 0.0\n",
      "2.788916998048725 -2.9738027818374295\n",
      "-0.0 0.0\n",
      "2.7886912465720175 -2.974710523264809\n",
      "-0.0 0.0\n",
      "2.788690607782469 -2.974709824847515\n",
      "-0.0 0.0\n",
      "2.788374535933915 -2.9756019663463755\n",
      "-0.0 0.0\n",
      "2.788284824926609 -2.9756008799020597\n",
      "-0.0 0.0\n",
      "2.7878863986355733 -2.9764829715336636\n",
      "-0.0 0.0\n",
      "2.787885635615432 -2.9764823872165\n",
      "-0.0 0.0\n",
      "2.787401160396902 -2.977353760350588\n",
      "-0.0 0.0\n",
      "2.787314024654398 -2.9773563810543133\n",
      "-0.0 0.0\n",
      "2.7867510247064082 -2.9782222768947806\n",
      "-0.0 0.0\n",
      "2.78675042558161 -2.978221792779596\n",
      "-0.0 0.0\n",
      "2.7861055720838244 -2.979081335082498\n",
      "-0.0 0.0\n",
      "2.786020507182404 -2.9790876574182765\n",
      "-0.0 0.0\n",
      "2.7853005418601 -2.9799461173538795\n",
      "-0.0 0.0\n",
      "2.7853000821470273 -2.9799456162633695\n",
      "-0.0 0.0\n",
      "2.7845018085813744 -2.980801986513387\n",
      "-0.0 0.0\n",
      "2.7844186465771243 -2.9808118777009107\n",
      "-0.0 0.0\n",
      "2.78354839492946 -2.981671346593279\n",
      "-0.0 0.0\n",
      "2.7835479193806734 -2.981670783956791\n",
      "-0.0 0.0\n",
      "2.7826021893319113 -2.9825320953521044\n",
      "-0.0 0.0\n",
      "2.7825210140049785 -2.982545462303289\n",
      "-0.0 0.0\n",
      "2.7815056926127038 -2.9834133159701923\n",
      "-0.0 0.0\n",
      "2.781505433583505 -2.983413010696677\n",
      "-0.0 0.0\n",
      "2.780417610031751 -2.9842868705734014\n",
      "-0.0 0.0\n",
      "2.780338019400083 -2.984303366997229\n",
      "-0.0 0.0\n",
      "2.7791829247039206 -2.9851876325045392\n",
      "-0.0 0.0\n",
      "2.779182712393898 -2.985187229923507\n",
      "-0.0 0.0\n",
      "2.7779573551296473 -2.98608083320758\n",
      "-0.0 0.0\n",
      "2.7778792012915363 -2.9861007425325288\n",
      "-0.0 0.0\n",
      "2.7765881340560736 -2.9870079763269777\n",
      "-0.0 0.0\n",
      "2.776588229051205 -2.9870077768002297\n",
      "-0.0 0.0\n",
      "2.775229282885848 -2.987928118916718\n",
      "-0.0 0.0\n",
      "2.775152253105524 -2.987951141477215\n",
      "-0.0 0.0\n",
      "2.7737292255121946 -2.9888884350835796\n",
      "-0.0 0.0\n",
      "2.7737293375343484 -2.988888318870183\n",
      "-0.0 0.0\n",
      "2.772240091402929 -2.989842265698161\n",
      "-0.0 0.0\n",
      "2.7721639890708585 -2.9898682753197203\n",
      "-0.0 0.0\n",
      "2.7706121478679124 -2.990842381532929\n",
      "-0.0 0.0\n",
      "2.7706122622097533 -2.990842252283272\n",
      "-0.0 0.0\n",
      "2.7689955826223542 -2.991836191042254\n",
      "-0.0 0.0\n",
      "2.7689203853770663 -2.991865068621921\n",
      "-0.0 0.0\n",
      "2.7672420433739653 -2.992882163386958\n",
      "-0.0 0.0\n",
      "2.767242401791027 -2.9928821418445573\n",
      "-0.0 0.0\n",
      "2.7655006477441684 -2.9939221540566447\n",
      "-0.0 0.0\n",
      "2.7654261341070616 -2.9939542253915024\n",
      "-0.0 0.0\n",
      "2.7636240545501902 -2.995020687281638\n",
      "-0.0 0.0\n",
      "2.7636241959642245 -2.9950205535021226\n",
      "-0.0 0.0\n",
      "2.7617593953123873 -2.996112880620147\n",
      "-0.0 0.0\n",
      "2.7616853872354343 -2.9961478467856932\n",
      "-0.0 0.0\n",
      "2.759760720839861 -2.9972692261845277\n",
      "-0.0 0.0\n",
      "2.759761109462634 -2.9972693657694838\n",
      "-0.0 0.0\n",
      "2.757774768710732 -2.998420027136426\n",
      "-0.0 0.0\n",
      "2.757701325493541 -2.9984576270495658\n",
      "-0.0 0.0\n",
      "2.7556559479389495 -2.999640424059573\n",
      "-0.0 0.0\n",
      "2.7556562276923535 -2.9996403874087987\n",
      "-0.0 0.0\n",
      "2.7535496945111486 -3.0008550183466944\n",
      "-0.0 0.0\n",
      "2.7534765497162463 -3.000895559490291\n",
      "-0.0 0.0\n",
      "2.7513110727121783 -3.0021449094086083\n",
      "-0.0 0.0\n",
      "2.751311680593739 -3.002145114306358\n",
      "-0.0 0.0\n",
      "2.7490859128037557 -3.003429392464449\n",
      "-0.0 0.0\n",
      "2.7490129700789367 -3.003472623511048\n",
      "-0.0 0.0\n",
      "2.746728712122035 -3.004794380774354\n",
      "-0.0 0.0\n",
      "2.746729292301109 -3.0047945855622467\n",
      "-0.0 0.0\n",
      "2.7443851385445406 -3.006154220331824\n",
      "-0.0 0.0\n",
      "2.744312011690126 -3.006200032289556\n",
      "-0.0 0.0\n",
      "2.7419097665829013 -3.007599805293163\n",
      "-0.0 0.0\n",
      "2.741910220851139 -3.007600095099979\n",
      "-0.0 0.0\n",
      "2.739447967207908 -3.0090404794286285\n",
      "-0.0 0.0\n",
      "2.7393747981759273 -3.0090888457792393\n",
      "-0.0 0.0\n",
      "2.7368546758659065 -3.0105723752663716\n",
      "-0.0 0.0\n",
      "2.7368551202891918 -3.0105724257379465\n",
      "-0.0 0.0\n",
      "2.734275144197418 -3.01209902287497\n",
      "-0.0 0.0\n",
      "2.7342017822474785 -3.012149871932614\n",
      "-0.0 0.0\n",
      "2.7315637119572824 -3.0137221934467067\n",
      "-0.0 0.0\n",
      "2.731564299648323 -3.0137223113573497\n",
      "-0.0 0.0\n",
      "2.728866680835481 -3.0153405149665455\n",
      "-0.0 0.0\n",
      "2.728792907244545 -3.0153937576117946\n",
      "-0.0 0.0\n",
      "2.726037093662062 -3.0170601947259765\n",
      "-0.0 0.0\n",
      "2.726037677336978 -3.0170603401295897\n",
      "-0.0 0.0\n",
      "2.723222165952375 -3.0187752385341757\n",
      "-0.0 0.0\n",
      "2.7231478876478596 -3.018831251939677\n",
      "-0.0 0.0\n",
      "2.720274003228104 -3.020596919544205\n",
      "-0.0 0.0\n",
      "2.7202745956306758 -3.020597183857811\n",
      "-0.0 0.0\n",
      "2.7173408969489876 -3.0224142188592005\n",
      "-0.0 0.0\n",
      "2.71726605625897 -3.0224725591164168\n",
      "-0.0 0.0\n",
      "2.714273779373532 -3.0243428471586173\n",
      "-0.0 0.0\n",
      "2.714274318765643 -3.024343182928928\n",
      "-0.0 0.0\n",
      "2.7112218991577084 -3.026267551555032\n",
      "-0.0 0.0\n",
      "2.7111464233472518 -3.0263281933319024\n",
      "-0.0 0.0\n",
      "2.708035034299174 -3.0283086210538914\n",
      "-0.0 0.0\n",
      "2.708035642038962 -3.028308806271607\n",
      "-0.0 0.0\n",
      "2.7048639569710202 -3.030345685302792\n",
      "-0.0 0.0\n",
      "2.7047875535072525 -3.0304087691789823\n",
      "-0.0 0.0\n",
      "2.7015563885594043 -3.0325043630504602\n",
      "-0.0 0.0\n",
      "2.701557039592395 -3.0325044965199313\n",
      "-0.0 0.0\n",
      "2.698265014282615 -3.034659223073872\n",
      "-0.0 0.0\n",
      "2.698187767605933 -3.0347245531566864\n",
      "-0.0 0.0\n",
      "2.6948358659876996 -3.0369404872108956\n",
      "-0.0 0.0\n",
      "2.6948364842402803 -3.036940683395983\n",
      "-0.0 0.0\n",
      "2.691423338194039 -3.039218471410117\n",
      "-0.0 0.0\n",
      "2.691345032608946 -3.039286181072697\n",
      "-0.0 0.0\n",
      "2.6878715827378996 -3.04162787807121\n",
      "-0.0 0.0\n",
      "2.6878721367678002 -3.0416280091507626\n",
      "-0.0 0.0\n",
      "2.684336791622384 -3.044034071297655\n",
      "-0.0 0.0\n",
      "2.6842574298899873 -3.0441039960307448\n",
      "-0.0 0.0\n",
      "2.6806610951371783 -3.0465768318442374\n",
      "-0.0 0.0\n",
      "2.6806616840727076 -3.046576802817069\n",
      "-0.0 0.0\n",
      "2.6770029101048394 -3.049116595531331\n",
      "-0.0 0.0\n",
      "2.6769223507820783 -3.0491887210946933\n",
      "-0.0 0.0\n",
      "2.673201503966377 -3.0517978263891297\n",
      "-0.0 0.0\n",
      "2.6732022944563214 -3.051797882218658\n",
      "-0.0 0.0\n",
      "2.66941856853164 -3.054476766897628\n",
      "-0.0 0.0\n",
      "2.6693366669736673 -3.05455108718362\n",
      "-0.0 0.0\n",
      "2.6654904047985384 -3.057301903329717\n",
      "-0.0 0.0\n",
      "2.6654910288405516 -3.0573019658605727\n",
      "-0.0 0.0\n",
      "2.6615808896365296 -3.060125217641521\n",
      "-0.0 0.0\n",
      "2.6614976428287918 -3.060201916297729\n",
      "-0.0 0.0\n",
      "2.6575241110469476 -3.063099988121511\n",
      "-0.0 0.0\n",
      "2.657524750754814 -3.0631000379992686\n",
      "-0.0 0.0\n",
      "2.6534865763629925 -3.0660734329577717\n",
      "-0.0 0.0\n",
      "2.653401698585428 -3.066152369124692\n",
      "-0.0 0.0\n",
      "2.6492992900423746 -3.0692033340900036\n",
      "-0.0 0.0\n",
      "2.6492998600500077 -3.0692034018023455\n",
      "-0.0 0.0\n",
      "2.645131796112481 -3.0723325332679465\n",
      "-0.0 0.0\n",
      "2.6450452635454083 -3.0724138798768332\n",
      "-0.0 0.0\n",
      "2.64081201053285 -3.075623243787188\n",
      "-0.0 0.0\n",
      "2.64081250015969 -3.0756234395303363\n",
      "-0.0 0.0\n",
      "2.6365125746354 -3.078914241916344\n",
      "-0.0 0.0\n",
      "2.6364243044582354 -3.078997683311154\n",
      "-0.0 0.0\n",
      "2.632057905688855 -3.0823718629494157\n",
      "-0.0 0.0\n",
      "2.6320584980702644 -3.0823719468804165\n",
      "-0.0 0.0\n",
      "2.6276244910253483 -3.085830422924431\n",
      "-0.0 0.0\n",
      "2.6275343153448874 -3.0859161823082544\n",
      "-0.0 0.0\n",
      "2.623032699352887 -3.089461127130268\n",
      "-0.0 0.0\n",
      "2.6230333224077644 -3.0894612234200363\n",
      "-0.0 0.0\n",
      "2.618462799472381 -3.0930936285195596\n",
      "-0.0 0.0\n",
      "2.6183707040620523 -3.0931815986126026\n",
      "-0.0 0.0\n",
      "2.613731718225222 -3.0969039097279265\n",
      "-0.0 0.0\n",
      "2.6137320408530935 -3.096903827292544\n",
      "-0.0 0.0\n",
      "2.609022646698834 -3.100716569628634\n",
      "-0.0 0.0\n",
      "2.6089282914115164 -3.1008069797162627\n",
      "-0.0 0.0\n",
      "2.6041490101339235 -3.1047126775088847\n",
      "-0.0 0.0\n",
      "2.6041493556031554 -3.1047127902915777\n",
      "-0.0 0.0\n",
      "2.5992982674557226 -3.1087126145988737\n",
      "-0.0 0.0\n",
      "2.5992016770699675 -3.1088055552970126\n",
      "-0.0 0.0\n",
      "2.5942793294471285 -3.11290195134042\n",
      "-0.0 0.0\n",
      "2.594279596877656 -3.1129019550518664\n",
      "-0.0 0.0\n",
      "2.6041493556031554 -3.104712790291578\n",
      "-0.0 0.0\n",
      "2.5942795968776555 -3.1129019550518664\n",
      "-0.0 0.0\n",
      "2.5953067612348932 -3.1120430800447716\n",
      "-0.0 0.0\n",
      "2.5953046214588156 -3.112044867757646\n",
      "-0.0 0.0\n",
      "2.595304620940191 -3.112044868190941\n",
      "-0.0 0.0\n",
      "2.5953046209400905 -3.112044868191025\n",
      "-0.0 0.0\n",
      "2.6041493556031554 -3.104712790291578\n",
      "-0.0 0.0\n",
      "2.595304620940191 -3.112044868190941\n",
      "2.595304620940191 -3.112044868190941\n"
     ]
    },
    {
     "data": {
      "application/vnd.plotly.v1+json": {
       "config": {
        "plotlyServerURL": "https://plot.ly"
       },
       "data": [
        {
         "line": {
          "color": "darkblue",
          "width": 2
         },
         "marker": {
          "color": [
           0.85,
           20.29793830794221,
           60.519555917162876,
           101.47206845887074,
           131.40057820730243,
           144.2842209073151,
           145.51679140306976,
           136.98610690947638,
           120.60479135614283,
           98.77988895262452,
           73.59347379077408,
           46.32658021562309,
           17.579080188182754,
           2.353672812205332e-14,
           2.353672812205332e-14
          ],
          "colorscale": [
           [
            0,
            "#440154"
           ],
           [
            0.1111111111111111,
            "#482878"
           ],
           [
            0.2222222222222222,
            "#3e4989"
           ],
           [
            0.3333333333333333,
            "#31688e"
           ],
           [
            0.4444444444444444,
            "#26828e"
           ],
           [
            0.5555555555555556,
            "#1f9e89"
           ],
           [
            0.6666666666666666,
            "#35b779"
           ],
           [
            0.7777777777777778,
            "#6ece58"
           ],
           [
            0.8888888888888888,
            "#b5de2b"
           ],
           [
            1,
            "#fde725"
           ]
          ],
          "size": 4
         },
         "type": "scatter3d",
         "x": [
          0,
          1.7273504846856025,
          5.621603694233256,
          10.253291564123344,
          14.783414233959373,
          18.791872352018014,
          22.665919311032916,
          26.548180222391117,
          30.609687331325876,
          35.12467931693034,
          40.398874843775125,
          46.67930082820663,
          54.12683213982759,
          59.102040299574135,
          59.102040299574135
         ],
         "y": [
          0,
          1.727669843523089,
          5.6327342186012235,
          10.32151866514347,
          14.97960056204295,
          19.15296316651133,
          23.206896735334574,
          27.24890706736896,
          31.355863503886283,
          35.541194003275216,
          39.70566458292422,
          43.70206684445799,
          47.42808481343518,
          49.48651769495007,
          49.48651769495007
         ],
         "z": [
          0.85,
          20.29793830794221,
          60.519555917162876,
          101.47206845887074,
          131.40057820730243,
          144.2842209073151,
          145.51679140306976,
          136.98610690947638,
          120.60479135614283,
          98.77988895262452,
          73.59347379077408,
          46.32658021562309,
          17.579080188182754,
          2.353672812205332e-14,
          2.353672812205332e-14
         ]
        }
       ],
       "layout": {
        "margin": {
         "b": 10,
         "l": 10,
         "r": 20,
         "t": 10
        },
        "scene": {
         "xaxis": {
          "nticks": 2,
          "range": [
           -1000,
           1000
          ]
         },
         "yaxis": {
          "nticks": 2,
          "range": [
           -1000,
           1000
          ]
         },
         "zaxis": {
          "nticks": 2,
          "range": [
           0,
           1000
          ]
         }
        },
        "template": {
         "data": {
          "bar": [
           {
            "error_x": {
             "color": "#2a3f5f"
            },
            "error_y": {
             "color": "#2a3f5f"
            },
            "marker": {
             "line": {
              "color": "#E5ECF6",
              "width": 0.5
             },
             "pattern": {
              "fillmode": "overlay",
              "size": 10,
              "solidity": 0.2
             }
            },
            "type": "bar"
           }
          ],
          "barpolar": [
           {
            "marker": {
             "line": {
              "color": "#E5ECF6",
              "width": 0.5
             },
             "pattern": {
              "fillmode": "overlay",
              "size": 10,
              "solidity": 0.2
             }
            },
            "type": "barpolar"
           }
          ],
          "carpet": [
           {
            "aaxis": {
             "endlinecolor": "#2a3f5f",
             "gridcolor": "white",
             "linecolor": "white",
             "minorgridcolor": "white",
             "startlinecolor": "#2a3f5f"
            },
            "baxis": {
             "endlinecolor": "#2a3f5f",
             "gridcolor": "white",
             "linecolor": "white",
             "minorgridcolor": "white",
             "startlinecolor": "#2a3f5f"
            },
            "type": "carpet"
           }
          ],
          "choropleth": [
           {
            "colorbar": {
             "outlinewidth": 0,
             "ticks": ""
            },
            "type": "choropleth"
           }
          ],
          "contour": [
           {
            "colorbar": {
             "outlinewidth": 0,
             "ticks": ""
            },
            "colorscale": [
             [
              0,
              "#0d0887"
             ],
             [
              0.1111111111111111,
              "#46039f"
             ],
             [
              0.2222222222222222,
              "#7201a8"
             ],
             [
              0.3333333333333333,
              "#9c179e"
             ],
             [
              0.4444444444444444,
              "#bd3786"
             ],
             [
              0.5555555555555556,
              "#d8576b"
             ],
             [
              0.6666666666666666,
              "#ed7953"
             ],
             [
              0.7777777777777778,
              "#fb9f3a"
             ],
             [
              0.8888888888888888,
              "#fdca26"
             ],
             [
              1,
              "#f0f921"
             ]
            ],
            "type": "contour"
           }
          ],
          "contourcarpet": [
           {
            "colorbar": {
             "outlinewidth": 0,
             "ticks": ""
            },
            "type": "contourcarpet"
           }
          ],
          "heatmap": [
           {
            "colorbar": {
             "outlinewidth": 0,
             "ticks": ""
            },
            "colorscale": [
             [
              0,
              "#0d0887"
             ],
             [
              0.1111111111111111,
              "#46039f"
             ],
             [
              0.2222222222222222,
              "#7201a8"
             ],
             [
              0.3333333333333333,
              "#9c179e"
             ],
             [
              0.4444444444444444,
              "#bd3786"
             ],
             [
              0.5555555555555556,
              "#d8576b"
             ],
             [
              0.6666666666666666,
              "#ed7953"
             ],
             [
              0.7777777777777778,
              "#fb9f3a"
             ],
             [
              0.8888888888888888,
              "#fdca26"
             ],
             [
              1,
              "#f0f921"
             ]
            ],
            "type": "heatmap"
           }
          ],
          "heatmapgl": [
           {
            "colorbar": {
             "outlinewidth": 0,
             "ticks": ""
            },
            "colorscale": [
             [
              0,
              "#0d0887"
             ],
             [
              0.1111111111111111,
              "#46039f"
             ],
             [
              0.2222222222222222,
              "#7201a8"
             ],
             [
              0.3333333333333333,
              "#9c179e"
             ],
             [
              0.4444444444444444,
              "#bd3786"
             ],
             [
              0.5555555555555556,
              "#d8576b"
             ],
             [
              0.6666666666666666,
              "#ed7953"
             ],
             [
              0.7777777777777778,
              "#fb9f3a"
             ],
             [
              0.8888888888888888,
              "#fdca26"
             ],
             [
              1,
              "#f0f921"
             ]
            ],
            "type": "heatmapgl"
           }
          ],
          "histogram": [
           {
            "marker": {
             "pattern": {
              "fillmode": "overlay",
              "size": 10,
              "solidity": 0.2
             }
            },
            "type": "histogram"
           }
          ],
          "histogram2d": [
           {
            "colorbar": {
             "outlinewidth": 0,
             "ticks": ""
            },
            "colorscale": [
             [
              0,
              "#0d0887"
             ],
             [
              0.1111111111111111,
              "#46039f"
             ],
             [
              0.2222222222222222,
              "#7201a8"
             ],
             [
              0.3333333333333333,
              "#9c179e"
             ],
             [
              0.4444444444444444,
              "#bd3786"
             ],
             [
              0.5555555555555556,
              "#d8576b"
             ],
             [
              0.6666666666666666,
              "#ed7953"
             ],
             [
              0.7777777777777778,
              "#fb9f3a"
             ],
             [
              0.8888888888888888,
              "#fdca26"
             ],
             [
              1,
              "#f0f921"
             ]
            ],
            "type": "histogram2d"
           }
          ],
          "histogram2dcontour": [
           {
            "colorbar": {
             "outlinewidth": 0,
             "ticks": ""
            },
            "colorscale": [
             [
              0,
              "#0d0887"
             ],
             [
              0.1111111111111111,
              "#46039f"
             ],
             [
              0.2222222222222222,
              "#7201a8"
             ],
             [
              0.3333333333333333,
              "#9c179e"
             ],
             [
              0.4444444444444444,
              "#bd3786"
             ],
             [
              0.5555555555555556,
              "#d8576b"
             ],
             [
              0.6666666666666666,
              "#ed7953"
             ],
             [
              0.7777777777777778,
              "#fb9f3a"
             ],
             [
              0.8888888888888888,
              "#fdca26"
             ],
             [
              1,
              "#f0f921"
             ]
            ],
            "type": "histogram2dcontour"
           }
          ],
          "mesh3d": [
           {
            "colorbar": {
             "outlinewidth": 0,
             "ticks": ""
            },
            "type": "mesh3d"
           }
          ],
          "parcoords": [
           {
            "line": {
             "colorbar": {
              "outlinewidth": 0,
              "ticks": ""
             }
            },
            "type": "parcoords"
           }
          ],
          "pie": [
           {
            "automargin": true,
            "type": "pie"
           }
          ],
          "scatter": [
           {
            "fillpattern": {
             "fillmode": "overlay",
             "size": 10,
             "solidity": 0.2
            },
            "type": "scatter"
           }
          ],
          "scatter3d": [
           {
            "line": {
             "colorbar": {
              "outlinewidth": 0,
              "ticks": ""
             }
            },
            "marker": {
             "colorbar": {
              "outlinewidth": 0,
              "ticks": ""
             }
            },
            "type": "scatter3d"
           }
          ],
          "scattercarpet": [
           {
            "marker": {
             "colorbar": {
              "outlinewidth": 0,
              "ticks": ""
             }
            },
            "type": "scattercarpet"
           }
          ],
          "scattergeo": [
           {
            "marker": {
             "colorbar": {
              "outlinewidth": 0,
              "ticks": ""
             }
            },
            "type": "scattergeo"
           }
          ],
          "scattergl": [
           {
            "marker": {
             "colorbar": {
              "outlinewidth": 0,
              "ticks": ""
             }
            },
            "type": "scattergl"
           }
          ],
          "scattermapbox": [
           {
            "marker": {
             "colorbar": {
              "outlinewidth": 0,
              "ticks": ""
             }
            },
            "type": "scattermapbox"
           }
          ],
          "scatterpolar": [
           {
            "marker": {
             "colorbar": {
              "outlinewidth": 0,
              "ticks": ""
             }
            },
            "type": "scatterpolar"
           }
          ],
          "scatterpolargl": [
           {
            "marker": {
             "colorbar": {
              "outlinewidth": 0,
              "ticks": ""
             }
            },
            "type": "scatterpolargl"
           }
          ],
          "scatterternary": [
           {
            "marker": {
             "colorbar": {
              "outlinewidth": 0,
              "ticks": ""
             }
            },
            "type": "scatterternary"
           }
          ],
          "surface": [
           {
            "colorbar": {
             "outlinewidth": 0,
             "ticks": ""
            },
            "colorscale": [
             [
              0,
              "#0d0887"
             ],
             [
              0.1111111111111111,
              "#46039f"
             ],
             [
              0.2222222222222222,
              "#7201a8"
             ],
             [
              0.3333333333333333,
              "#9c179e"
             ],
             [
              0.4444444444444444,
              "#bd3786"
             ],
             [
              0.5555555555555556,
              "#d8576b"
             ],
             [
              0.6666666666666666,
              "#ed7953"
             ],
             [
              0.7777777777777778,
              "#fb9f3a"
             ],
             [
              0.8888888888888888,
              "#fdca26"
             ],
             [
              1,
              "#f0f921"
             ]
            ],
            "type": "surface"
           }
          ],
          "table": [
           {
            "cells": {
             "fill": {
              "color": "#EBF0F8"
             },
             "line": {
              "color": "white"
             }
            },
            "header": {
             "fill": {
              "color": "#C8D4E3"
             },
             "line": {
              "color": "white"
             }
            },
            "type": "table"
           }
          ]
         },
         "layout": {
          "annotationdefaults": {
           "arrowcolor": "#2a3f5f",
           "arrowhead": 0,
           "arrowwidth": 1
          },
          "autotypenumbers": "strict",
          "coloraxis": {
           "colorbar": {
            "outlinewidth": 0,
            "ticks": ""
           }
          },
          "colorscale": {
           "diverging": [
            [
             0,
             "#8e0152"
            ],
            [
             0.1,
             "#c51b7d"
            ],
            [
             0.2,
             "#de77ae"
            ],
            [
             0.3,
             "#f1b6da"
            ],
            [
             0.4,
             "#fde0ef"
            ],
            [
             0.5,
             "#f7f7f7"
            ],
            [
             0.6,
             "#e6f5d0"
            ],
            [
             0.7,
             "#b8e186"
            ],
            [
             0.8,
             "#7fbc41"
            ],
            [
             0.9,
             "#4d9221"
            ],
            [
             1,
             "#276419"
            ]
           ],
           "sequential": [
            [
             0,
             "#0d0887"
            ],
            [
             0.1111111111111111,
             "#46039f"
            ],
            [
             0.2222222222222222,
             "#7201a8"
            ],
            [
             0.3333333333333333,
             "#9c179e"
            ],
            [
             0.4444444444444444,
             "#bd3786"
            ],
            [
             0.5555555555555556,
             "#d8576b"
            ],
            [
             0.6666666666666666,
             "#ed7953"
            ],
            [
             0.7777777777777778,
             "#fb9f3a"
            ],
            [
             0.8888888888888888,
             "#fdca26"
            ],
            [
             1,
             "#f0f921"
            ]
           ],
           "sequentialminus": [
            [
             0,
             "#0d0887"
            ],
            [
             0.1111111111111111,
             "#46039f"
            ],
            [
             0.2222222222222222,
             "#7201a8"
            ],
            [
             0.3333333333333333,
             "#9c179e"
            ],
            [
             0.4444444444444444,
             "#bd3786"
            ],
            [
             0.5555555555555556,
             "#d8576b"
            ],
            [
             0.6666666666666666,
             "#ed7953"
            ],
            [
             0.7777777777777778,
             "#fb9f3a"
            ],
            [
             0.8888888888888888,
             "#fdca26"
            ],
            [
             1,
             "#f0f921"
            ]
           ]
          },
          "colorway": [
           "#636efa",
           "#EF553B",
           "#00cc96",
           "#ab63fa",
           "#FFA15A",
           "#19d3f3",
           "#FF6692",
           "#B6E880",
           "#FF97FF",
           "#FECB52"
          ],
          "font": {
           "color": "#2a3f5f"
          },
          "geo": {
           "bgcolor": "white",
           "lakecolor": "white",
           "landcolor": "#E5ECF6",
           "showlakes": true,
           "showland": true,
           "subunitcolor": "white"
          },
          "hoverlabel": {
           "align": "left"
          },
          "hovermode": "closest",
          "mapbox": {
           "style": "light"
          },
          "paper_bgcolor": "white",
          "plot_bgcolor": "#E5ECF6",
          "polar": {
           "angularaxis": {
            "gridcolor": "white",
            "linecolor": "white",
            "ticks": ""
           },
           "bgcolor": "#E5ECF6",
           "radialaxis": {
            "gridcolor": "white",
            "linecolor": "white",
            "ticks": ""
           }
          },
          "scene": {
           "xaxis": {
            "backgroundcolor": "#E5ECF6",
            "gridcolor": "white",
            "gridwidth": 2,
            "linecolor": "white",
            "showbackground": true,
            "ticks": "",
            "zerolinecolor": "white"
           },
           "yaxis": {
            "backgroundcolor": "#E5ECF6",
            "gridcolor": "white",
            "gridwidth": 2,
            "linecolor": "white",
            "showbackground": true,
            "ticks": "",
            "zerolinecolor": "white"
           },
           "zaxis": {
            "backgroundcolor": "#E5ECF6",
            "gridcolor": "white",
            "gridwidth": 2,
            "linecolor": "white",
            "showbackground": true,
            "ticks": "",
            "zerolinecolor": "white"
           }
          },
          "shapedefaults": {
           "line": {
            "color": "#2a3f5f"
           }
          },
          "ternary": {
           "aaxis": {
            "gridcolor": "white",
            "linecolor": "white",
            "ticks": ""
           },
           "baxis": {
            "gridcolor": "white",
            "linecolor": "white",
            "ticks": ""
           },
           "bgcolor": "#E5ECF6",
           "caxis": {
            "gridcolor": "white",
            "linecolor": "white",
            "ticks": ""
           }
          },
          "title": {
           "x": 0.05
          },
          "xaxis": {
           "automargin": true,
           "gridcolor": "white",
           "linecolor": "white",
           "ticks": "",
           "title": {
            "standoff": 15
           },
           "zerolinecolor": "white",
           "zerolinewidth": 2
          },
          "yaxis": {
           "automargin": true,
           "gridcolor": "white",
           "linecolor": "white",
           "ticks": "",
           "title": {
            "standoff": 15
           },
           "zerolinecolor": "white",
           "zerolinewidth": 2
          }
         }
        },
        "width": 700
       }
      }
     },
     "metadata": {},
     "output_type": "display_data"
    },
    {
     "data": {
      "application/vnd.plotly.v1+json": {
       "config": {
        "plotlyServerURL": "https://plot.ly"
       },
       "data": [
        {
         "type": "scatter3d",
         "x": [
          0,
          0.12000790260416293
         ],
         "y": [
          0,
          0.12000790178872153
         ],
         "z": [
          0.85,
          2.5415070815166034
         ]
        }
       ],
       "frames": [
        {
         "data": [
          {
           "type": "scatter3d",
           "x": [
            0,
            0.12000790260416293
           ],
           "y": [
            0,
            0.12000790178872153
           ],
           "z": [
            0.85,
            2.5415070815166034
           ]
          }
         ]
        },
        {
         "data": [
          {
           "type": "scatter3d",
           "x": [
            1.7273504846856025,
            1.8473406635227274
           ],
           "y": [
            1.727669843523089,
            1.8477427811138838
           ],
           "z": [
            20.29793830794221,
            21.989442031450068
           ]
          }
         ]
        },
        {
         "data": [
          {
           "type": "scatter3d",
           "x": [
            5.621603694233256,
            5.741409704319447
           ],
           "y": [
            5.6327342186012235,
            5.7534888464341
           ],
           "z": [
            60.519555917162876,
            62.211024166880904
           ]
          }
         ]
        },
        {
         "data": [
          {
           "type": "scatter3d",
           "x": [
            10.253291564123344,
            10.372542867793042
           ],
           "y": [
            10.32151866514347,
            10.444335496742678
           ],
           "z": [
            101.47206845887074,
            103.16342742504231
           ]
          }
         ]
        },
        {
         "data": [
          {
           "type": "scatter3d",
           "x": [
            14.783414233959373,
            14.90164064587796
           ],
           "y": [
            14.97960056204295,
            15.106251796981606
           ],
           "z": [
            131.40057820730243,
            133.09172633216122
           ]
          }
         ]
        },
        {
         "data": [
          {
           "type": "scatter3d",
           "x": [
            18.791872352018014,
            18.908720601238073
           ],
           "y": [
            19.15296316651133,
            19.284790065376406
           ],
           "z": [
            144.2842209073151,
            145.97506926106828
           ]
          }
         ]
        },
        {
         "data": [
          {
           "type": "scatter3d",
           "x": [
            22.665919311032916,
            22.78107789789756
           ],
           "y": [
            23.206896735334574,
            23.344787628213076
           ],
           "z": [
            145.51679140306976,
            147.20727198607938
           ]
          }
         ]
        },
        {
         "data": [
          {
           "type": "scatter3d",
           "x": [
            26.548180222391117,
            26.6596794642283
           ],
           "y": [
            27.24890706736896,
            27.39595606469163
           ],
           "z": [
            136.98610690947638,
            138.67606090632248
           ]
          }
         ]
        },
        {
         "data": [
          {
           "type": "scatter3d",
           "x": [
            30.609687331325876,
            30.71007089076832
           ],
           "y": [
            31.355863503886283,
            31.524089907673318
           ],
           "z": [
            120.60479135614283,
            122.29346628580292
           ]
          }
         ]
        },
        {
         "data": [
          {
           "type": "scatter3d",
           "x": [
            35.12467931693034,
            35.199024077034885
           ],
           "y": [
            35.541194003275216,
            35.755257477596366
           ],
           "z": [
            98.77988895262452,
            100.46471822753831
           ]
          }
         ]
        },
        {
         "data": [
          {
           "type": "scatter3d",
           "x": [
            40.398874843775125,
            40.42558678015474
           ],
           "y": [
            39.70566458292422,
            40.00091910167002
           ],
           "z": [
            73.59347379077408,
            75.26742457906359
           ]
          }
         ]
        },
        {
         "data": [
          {
           "type": "scatter3d",
           "x": [
            46.67930082820663,
            46.6310608986939
           ],
           "y": [
            43.70206684445799,
            44.12009031276323
           ],
           "z": [
            46.32658021562309,
            47.973677446859504
           ]
          }
         ]
        },
        {
         "data": [
          {
           "type": "scatter3d",
           "x": [
            54.12683213982759,
            53.97191058340215
           ],
           "y": [
            47.42808481343518,
            48.01141342527661
           ],
           "z": [
            17.579080188182754,
            19.1683337997759
           ]
          }
         ]
        },
        {
         "data": [
          {
           "type": "scatter3d",
           "x": [
            59.102040299574135,
            58.86843515224954
           ],
           "y": [
            49.48651769495007,
            50.18543523499582
           ],
           "z": [
            2.353672812205332e-14,
            1.5319735335050377
           ]
          }
         ]
        },
        {
         "data": [
          {
           "type": "scatter3d",
           "x": [
            59.102040299574135,
            58.86843515224954
           ],
           "y": [
            49.48651769495007,
            50.18543523499582
           ],
           "z": [
            2.353672812205332e-14,
            1.5319735335050377
           ]
          }
         ]
        }
       ],
       "layout": {
        "scene": {
         "xaxis": {
          "autorange": false,
          "range": [
           -500,
           500
          ]
         },
         "yaxis": {
          "autorange": false,
          "range": [
           -500,
           500
          ]
         },
         "zaxis": {
          "autorange": false,
          "range": [
           0,
           1000
          ]
         }
        },
        "template": {
         "data": {
          "bar": [
           {
            "error_x": {
             "color": "#2a3f5f"
            },
            "error_y": {
             "color": "#2a3f5f"
            },
            "marker": {
             "line": {
              "color": "#E5ECF6",
              "width": 0.5
             },
             "pattern": {
              "fillmode": "overlay",
              "size": 10,
              "solidity": 0.2
             }
            },
            "type": "bar"
           }
          ],
          "barpolar": [
           {
            "marker": {
             "line": {
              "color": "#E5ECF6",
              "width": 0.5
             },
             "pattern": {
              "fillmode": "overlay",
              "size": 10,
              "solidity": 0.2
             }
            },
            "type": "barpolar"
           }
          ],
          "carpet": [
           {
            "aaxis": {
             "endlinecolor": "#2a3f5f",
             "gridcolor": "white",
             "linecolor": "white",
             "minorgridcolor": "white",
             "startlinecolor": "#2a3f5f"
            },
            "baxis": {
             "endlinecolor": "#2a3f5f",
             "gridcolor": "white",
             "linecolor": "white",
             "minorgridcolor": "white",
             "startlinecolor": "#2a3f5f"
            },
            "type": "carpet"
           }
          ],
          "choropleth": [
           {
            "colorbar": {
             "outlinewidth": 0,
             "ticks": ""
            },
            "type": "choropleth"
           }
          ],
          "contour": [
           {
            "colorbar": {
             "outlinewidth": 0,
             "ticks": ""
            },
            "colorscale": [
             [
              0,
              "#0d0887"
             ],
             [
              0.1111111111111111,
              "#46039f"
             ],
             [
              0.2222222222222222,
              "#7201a8"
             ],
             [
              0.3333333333333333,
              "#9c179e"
             ],
             [
              0.4444444444444444,
              "#bd3786"
             ],
             [
              0.5555555555555556,
              "#d8576b"
             ],
             [
              0.6666666666666666,
              "#ed7953"
             ],
             [
              0.7777777777777778,
              "#fb9f3a"
             ],
             [
              0.8888888888888888,
              "#fdca26"
             ],
             [
              1,
              "#f0f921"
             ]
            ],
            "type": "contour"
           }
          ],
          "contourcarpet": [
           {
            "colorbar": {
             "outlinewidth": 0,
             "ticks": ""
            },
            "type": "contourcarpet"
           }
          ],
          "heatmap": [
           {
            "colorbar": {
             "outlinewidth": 0,
             "ticks": ""
            },
            "colorscale": [
             [
              0,
              "#0d0887"
             ],
             [
              0.1111111111111111,
              "#46039f"
             ],
             [
              0.2222222222222222,
              "#7201a8"
             ],
             [
              0.3333333333333333,
              "#9c179e"
             ],
             [
              0.4444444444444444,
              "#bd3786"
             ],
             [
              0.5555555555555556,
              "#d8576b"
             ],
             [
              0.6666666666666666,
              "#ed7953"
             ],
             [
              0.7777777777777778,
              "#fb9f3a"
             ],
             [
              0.8888888888888888,
              "#fdca26"
             ],
             [
              1,
              "#f0f921"
             ]
            ],
            "type": "heatmap"
           }
          ],
          "heatmapgl": [
           {
            "colorbar": {
             "outlinewidth": 0,
             "ticks": ""
            },
            "colorscale": [
             [
              0,
              "#0d0887"
             ],
             [
              0.1111111111111111,
              "#46039f"
             ],
             [
              0.2222222222222222,
              "#7201a8"
             ],
             [
              0.3333333333333333,
              "#9c179e"
             ],
             [
              0.4444444444444444,
              "#bd3786"
             ],
             [
              0.5555555555555556,
              "#d8576b"
             ],
             [
              0.6666666666666666,
              "#ed7953"
             ],
             [
              0.7777777777777778,
              "#fb9f3a"
             ],
             [
              0.8888888888888888,
              "#fdca26"
             ],
             [
              1,
              "#f0f921"
             ]
            ],
            "type": "heatmapgl"
           }
          ],
          "histogram": [
           {
            "marker": {
             "pattern": {
              "fillmode": "overlay",
              "size": 10,
              "solidity": 0.2
             }
            },
            "type": "histogram"
           }
          ],
          "histogram2d": [
           {
            "colorbar": {
             "outlinewidth": 0,
             "ticks": ""
            },
            "colorscale": [
             [
              0,
              "#0d0887"
             ],
             [
              0.1111111111111111,
              "#46039f"
             ],
             [
              0.2222222222222222,
              "#7201a8"
             ],
             [
              0.3333333333333333,
              "#9c179e"
             ],
             [
              0.4444444444444444,
              "#bd3786"
             ],
             [
              0.5555555555555556,
              "#d8576b"
             ],
             [
              0.6666666666666666,
              "#ed7953"
             ],
             [
              0.7777777777777778,
              "#fb9f3a"
             ],
             [
              0.8888888888888888,
              "#fdca26"
             ],
             [
              1,
              "#f0f921"
             ]
            ],
            "type": "histogram2d"
           }
          ],
          "histogram2dcontour": [
           {
            "colorbar": {
             "outlinewidth": 0,
             "ticks": ""
            },
            "colorscale": [
             [
              0,
              "#0d0887"
             ],
             [
              0.1111111111111111,
              "#46039f"
             ],
             [
              0.2222222222222222,
              "#7201a8"
             ],
             [
              0.3333333333333333,
              "#9c179e"
             ],
             [
              0.4444444444444444,
              "#bd3786"
             ],
             [
              0.5555555555555556,
              "#d8576b"
             ],
             [
              0.6666666666666666,
              "#ed7953"
             ],
             [
              0.7777777777777778,
              "#fb9f3a"
             ],
             [
              0.8888888888888888,
              "#fdca26"
             ],
             [
              1,
              "#f0f921"
             ]
            ],
            "type": "histogram2dcontour"
           }
          ],
          "mesh3d": [
           {
            "colorbar": {
             "outlinewidth": 0,
             "ticks": ""
            },
            "type": "mesh3d"
           }
          ],
          "parcoords": [
           {
            "line": {
             "colorbar": {
              "outlinewidth": 0,
              "ticks": ""
             }
            },
            "type": "parcoords"
           }
          ],
          "pie": [
           {
            "automargin": true,
            "type": "pie"
           }
          ],
          "scatter": [
           {
            "fillpattern": {
             "fillmode": "overlay",
             "size": 10,
             "solidity": 0.2
            },
            "type": "scatter"
           }
          ],
          "scatter3d": [
           {
            "line": {
             "colorbar": {
              "outlinewidth": 0,
              "ticks": ""
             }
            },
            "marker": {
             "colorbar": {
              "outlinewidth": 0,
              "ticks": ""
             }
            },
            "type": "scatter3d"
           }
          ],
          "scattercarpet": [
           {
            "marker": {
             "colorbar": {
              "outlinewidth": 0,
              "ticks": ""
             }
            },
            "type": "scattercarpet"
           }
          ],
          "scattergeo": [
           {
            "marker": {
             "colorbar": {
              "outlinewidth": 0,
              "ticks": ""
             }
            },
            "type": "scattergeo"
           }
          ],
          "scattergl": [
           {
            "marker": {
             "colorbar": {
              "outlinewidth": 0,
              "ticks": ""
             }
            },
            "type": "scattergl"
           }
          ],
          "scattermapbox": [
           {
            "marker": {
             "colorbar": {
              "outlinewidth": 0,
              "ticks": ""
             }
            },
            "type": "scattermapbox"
           }
          ],
          "scatterpolar": [
           {
            "marker": {
             "colorbar": {
              "outlinewidth": 0,
              "ticks": ""
             }
            },
            "type": "scatterpolar"
           }
          ],
          "scatterpolargl": [
           {
            "marker": {
             "colorbar": {
              "outlinewidth": 0,
              "ticks": ""
             }
            },
            "type": "scatterpolargl"
           }
          ],
          "scatterternary": [
           {
            "marker": {
             "colorbar": {
              "outlinewidth": 0,
              "ticks": ""
             }
            },
            "type": "scatterternary"
           }
          ],
          "surface": [
           {
            "colorbar": {
             "outlinewidth": 0,
             "ticks": ""
            },
            "colorscale": [
             [
              0,
              "#0d0887"
             ],
             [
              0.1111111111111111,
              "#46039f"
             ],
             [
              0.2222222222222222,
              "#7201a8"
             ],
             [
              0.3333333333333333,
              "#9c179e"
             ],
             [
              0.4444444444444444,
              "#bd3786"
             ],
             [
              0.5555555555555556,
              "#d8576b"
             ],
             [
              0.6666666666666666,
              "#ed7953"
             ],
             [
              0.7777777777777778,
              "#fb9f3a"
             ],
             [
              0.8888888888888888,
              "#fdca26"
             ],
             [
              1,
              "#f0f921"
             ]
            ],
            "type": "surface"
           }
          ],
          "table": [
           {
            "cells": {
             "fill": {
              "color": "#EBF0F8"
             },
             "line": {
              "color": "white"
             }
            },
            "header": {
             "fill": {
              "color": "#C8D4E3"
             },
             "line": {
              "color": "white"
             }
            },
            "type": "table"
           }
          ]
         },
         "layout": {
          "annotationdefaults": {
           "arrowcolor": "#2a3f5f",
           "arrowhead": 0,
           "arrowwidth": 1
          },
          "autotypenumbers": "strict",
          "coloraxis": {
           "colorbar": {
            "outlinewidth": 0,
            "ticks": ""
           }
          },
          "colorscale": {
           "diverging": [
            [
             0,
             "#8e0152"
            ],
            [
             0.1,
             "#c51b7d"
            ],
            [
             0.2,
             "#de77ae"
            ],
            [
             0.3,
             "#f1b6da"
            ],
            [
             0.4,
             "#fde0ef"
            ],
            [
             0.5,
             "#f7f7f7"
            ],
            [
             0.6,
             "#e6f5d0"
            ],
            [
             0.7,
             "#b8e186"
            ],
            [
             0.8,
             "#7fbc41"
            ],
            [
             0.9,
             "#4d9221"
            ],
            [
             1,
             "#276419"
            ]
           ],
           "sequential": [
            [
             0,
             "#0d0887"
            ],
            [
             0.1111111111111111,
             "#46039f"
            ],
            [
             0.2222222222222222,
             "#7201a8"
            ],
            [
             0.3333333333333333,
             "#9c179e"
            ],
            [
             0.4444444444444444,
             "#bd3786"
            ],
            [
             0.5555555555555556,
             "#d8576b"
            ],
            [
             0.6666666666666666,
             "#ed7953"
            ],
            [
             0.7777777777777778,
             "#fb9f3a"
            ],
            [
             0.8888888888888888,
             "#fdca26"
            ],
            [
             1,
             "#f0f921"
            ]
           ],
           "sequentialminus": [
            [
             0,
             "#0d0887"
            ],
            [
             0.1111111111111111,
             "#46039f"
            ],
            [
             0.2222222222222222,
             "#7201a8"
            ],
            [
             0.3333333333333333,
             "#9c179e"
            ],
            [
             0.4444444444444444,
             "#bd3786"
            ],
            [
             0.5555555555555556,
             "#d8576b"
            ],
            [
             0.6666666666666666,
             "#ed7953"
            ],
            [
             0.7777777777777778,
             "#fb9f3a"
            ],
            [
             0.8888888888888888,
             "#fdca26"
            ],
            [
             1,
             "#f0f921"
            ]
           ]
          },
          "colorway": [
           "#636efa",
           "#EF553B",
           "#00cc96",
           "#ab63fa",
           "#FFA15A",
           "#19d3f3",
           "#FF6692",
           "#B6E880",
           "#FF97FF",
           "#FECB52"
          ],
          "font": {
           "color": "#2a3f5f"
          },
          "geo": {
           "bgcolor": "white",
           "lakecolor": "white",
           "landcolor": "#E5ECF6",
           "showlakes": true,
           "showland": true,
           "subunitcolor": "white"
          },
          "hoverlabel": {
           "align": "left"
          },
          "hovermode": "closest",
          "mapbox": {
           "style": "light"
          },
          "paper_bgcolor": "white",
          "plot_bgcolor": "#E5ECF6",
          "polar": {
           "angularaxis": {
            "gridcolor": "white",
            "linecolor": "white",
            "ticks": ""
           },
           "bgcolor": "#E5ECF6",
           "radialaxis": {
            "gridcolor": "white",
            "linecolor": "white",
            "ticks": ""
           }
          },
          "scene": {
           "xaxis": {
            "backgroundcolor": "#E5ECF6",
            "gridcolor": "white",
            "gridwidth": 2,
            "linecolor": "white",
            "showbackground": true,
            "ticks": "",
            "zerolinecolor": "white"
           },
           "yaxis": {
            "backgroundcolor": "#E5ECF6",
            "gridcolor": "white",
            "gridwidth": 2,
            "linecolor": "white",
            "showbackground": true,
            "ticks": "",
            "zerolinecolor": "white"
           },
           "zaxis": {
            "backgroundcolor": "#E5ECF6",
            "gridcolor": "white",
            "gridwidth": 2,
            "linecolor": "white",
            "showbackground": true,
            "ticks": "",
            "zerolinecolor": "white"
           }
          },
          "shapedefaults": {
           "line": {
            "color": "#2a3f5f"
           }
          },
          "ternary": {
           "aaxis": {
            "gridcolor": "white",
            "linecolor": "white",
            "ticks": ""
           },
           "baxis": {
            "gridcolor": "white",
            "linecolor": "white",
            "ticks": ""
           },
           "bgcolor": "#E5ECF6",
           "caxis": {
            "gridcolor": "white",
            "linecolor": "white",
            "ticks": ""
           }
          },
          "title": {
           "x": 0.05
          },
          "xaxis": {
           "automargin": true,
           "gridcolor": "white",
           "linecolor": "white",
           "ticks": "",
           "title": {
            "standoff": 15
           },
           "zerolinecolor": "white",
           "zerolinewidth": 2
          },
          "yaxis": {
           "automargin": true,
           "gridcolor": "white",
           "linecolor": "white",
           "ticks": "",
           "title": {
            "standoff": 15
           },
           "zerolinecolor": "white",
           "zerolinewidth": 2
          }
         }
        },
        "title": {
         "text": "Rocket Movement"
        },
        "updatemenus": [
         {
          "buttons": [
           {
            "args": [
             null,
             {
              "frame": {
               "duration": 20,
               "redraw": true
              },
              "fromcurrent": true,
              "transition": {
               "duration": 10
              }
             }
            ],
            "label": "Play",
            "method": "animate"
           }
          ],
          "showactive": false,
          "type": "buttons",
          "x": 1.12,
          "xanchor": "right",
          "y": 1,
          "yanchor": "top"
         }
        ]
       }
      }
     },
     "metadata": {},
     "output_type": "display_data"
    }
   ],
   "source": [
    "###MAIN\n",
    "#Time-step\n",
    "dt = 0.1\n",
    "\n",
    "#Create System\n",
    "earth = Earth('earth')\n",
    "\n",
    "#Add RungeKutta driver\n",
    "driver = earth.add_driver(RungeKutta(order=4, dt=dt))\n",
    "driver.time_interval = (0, 40)\n",
    "\n",
    "#Add NonLinearSolver driver\n",
    "solver = driver.add_child(NonLinearSolver('solver', factor=1.0))\n",
    "\n",
    "\n",
    "# Add a recorder to capture time evolution in a dataframe\n",
    "driver.add_recorder(\n",
    "    DataFrameRecorder(includes=['Traj.r', 'Rocket.Kin.v', 'Rocket.Kin.a', 'Rocket.Dyn.m', 'Rocket.Thrust.Fp', 'Rocket.Kin.Kin_ang', 'Rocket.Kin.av']),\n",
    "    period=1,\n",
    ")\n",
    "\n",
    "#Initial conditions and constants\n",
    "\n",
    "l = 1.7 #Rocket's length on the plot\n",
    "\n",
    "driver.set_scenario(\n",
    "    init = {\n",
    "        'Traj.r' : np.array([0., 0., l/2]),\n",
    "        'Rocket.Kin.v' : np.zeros(3),\n",
    "        'Rocket.Kin.ar' : np.array([np.pi/6, -np.pi/2 + 0.1, np.pi/4]),\n",
    "        'Rocket.Kin.av' : np.zeros(3),\n",
    "    },\n",
    "    stop='Traj.r[2]<0'\n",
    "    )\n",
    "\n",
    "\n",
    "earth.run_drivers()\n",
    "\n",
    "# Retrieve recorded data\n",
    "data = driver.recorder.export_data()\n",
    "data = data.drop(['Section', 'Status', 'Error code'], axis=1)\n",
    "time = np.asarray(data['time'])\n",
    "traj = np.asarray(data['Traj.r'].tolist())\n",
    "velo = np.asarray(data['Rocket.Kin.v'].tolist())\n",
    "acel = np.asarray(data['Rocket.Kin.a'].tolist())\n",
    "ang = np.asarray(data['Rocket.Kin.Kin_ang'].tolist())\n",
    "avelo = np.asarray(data['Rocket.Kin.av'].tolist())\n",
    "\n",
    "#Plot results\n",
    "\n",
    "x=[]\n",
    "y=[]\n",
    "z=[]\n",
    "theta = []\n",
    "\n",
    "for i in range(len(traj)):\n",
    "    x.append(traj[i][0])\n",
    "    y.append(traj[i][1])\n",
    "    z.append(traj[i][2])\n",
    "\n",
    "for i in range(len(ang)):\n",
    "    theta.append(ang[1])\n",
    "\n",
    "fig = go.Figure(data=go.Scatter3d(\n",
    "    x=x, y=y, z=z,\n",
    "    marker=dict(\n",
    "        size=4,\n",
    "        color=z,\n",
    "        colorscale='Viridis',\n",
    "    ),\n",
    "    line=dict(\n",
    "        color='darkblue',\n",
    "        width=2\n",
    "    )\n",
    "))\n",
    "\n",
    "\n",
    "fig.update_layout(\n",
    "    scene = dict(\n",
    "        xaxis = dict(nticks=2, range=[-1000,1000],),\n",
    "        yaxis = dict(nticks=2, range=[-1000,1000],),\n",
    "        zaxis = dict(nticks=2, range=[0,1000],),),\n",
    "    width=700,\n",
    "    margin=dict(r=20, l=10, b=10, t=10))\n",
    "\n",
    "\n",
    "fig.show()\n",
    "\n",
    "#useful library zhen using euler angle\n",
    "\n",
    "\n",
    "rocket = np.array([l,0,0]) #representation of the rocket as a 3D vector that will be rotated and translated according to the computed trajectory\n",
    "\n",
    "rock = []\n",
    "\n",
    "for i in range(len(traj)):\n",
    "    rotation = R.from_euler('xyz', ang[i], degrees=False)\n",
    "    rotation.apply(rocket)\n",
    "    rock.append(rotation.apply(rocket))\n",
    "\n",
    "rock = np.asarray(rock)\n",
    "\n",
    "traj_bot = traj #traj[time][xyz]\n",
    "traj_top = traj + rock\n",
    "\n",
    "\n",
    "#Animation - Rocket's movement\n",
    "fig2 = go.Figure(data=[go.Scatter3d(x=[traj_bot[0][0], traj_top[0][0]], y=[traj_bot[0][1], traj_top[0][1]], z=[traj_bot[0][2], traj_top[0][2]])])\n",
    "\n",
    "fig2.update_layout(title='Rocket Movement',\n",
    "                  scene=dict(\n",
    "            xaxis=dict(range=[-500, 500], autorange=False),\n",
    "            yaxis=dict(range=[-500, 500], autorange=False),\n",
    "            zaxis=dict(range=[0, 1000], autorange=False),\n",
    "        ),\n",
    "                  updatemenus=[dict(buttons = [dict(\n",
    "                                               args = [None, {\"frame\": {\"duration\": 20, \n",
    "                                                                        \"redraw\": True},\n",
    "                                                              \"fromcurrent\": True, \n",
    "                                                              \"transition\": {\"duration\": 10}}],\n",
    "                                               label = \"Play\",\n",
    "                                               method = \"animate\")],\n",
    "                                type='buttons',\n",
    "                                showactive=False,\n",
    "                                y=1,\n",
    "                                x=1.12,\n",
    "                                xanchor='right',\n",
    "                                yanchor='top')])\n",
    "\n",
    "frames= [go.Frame(data=[go.Scatter3d(x=[traj_bot[i][0], traj_top[i][0]], y=[traj_bot[i][1], traj_top[i][1]], z=[traj_bot[i][2], traj_top[i][2]])]) for i in range(len(traj))]\n",
    "fig2.update(frames=frames)\n",
    "\n",
    "fig2.show()"
   ]
  },
  {
   "cell_type": "code",
   "execution_count": 14,
   "metadata": {},
   "outputs": [
    {
     "data": {
      "text/plain": [
       "array([[ 0.52359878, -1.47079633,  0.78539816],\n",
       "       [ 0.52325576, -1.47077655,  0.7857429 ],\n",
       "       [ 0.51967518, -1.47056779,  0.78934151],\n",
       "       [ 0.50894466, -1.46992737,  0.80012654],\n",
       "       [ 0.48938365, -1.46870313,  0.81978881],\n",
       "       [ 0.46374983, -1.46698729,  0.84555928],\n",
       "       [ 0.43447992, -1.46492007,  0.87499112],\n",
       "       [ 0.38770374, -1.46202829,  0.92203894],\n",
       "       [ 0.27764693, -1.4553042 ,  1.03279427],\n",
       "       [ 0.0754978 , -1.4371007 ,  1.23652673],\n",
       "       [-0.16564404, -1.39551165,  1.48057107],\n",
       "       [-0.36614787, -1.32066824,  1.68568816],\n",
       "       [-0.50408744, -1.20785061,  1.83038575],\n",
       "       [-0.56182309, -1.12244017,  1.89336131],\n",
       "       [-0.56182309, -1.12244017,  1.89336131]])"
      ]
     },
     "execution_count": 14,
     "metadata": {},
     "output_type": "execute_result"
    }
   ],
   "source": [
    "ang"
   ]
  }
 ],
 "metadata": {
  "kernelspec": {
   "display_name": "Python 3 (ipykernel)",
   "language": "python",
   "name": "python3"
  },
  "language_info": {
   "codemirror_mode": {
    "name": "ipython",
    "version": 3
   },
   "file_extension": ".py",
   "mimetype": "text/x-python",
   "name": "python",
   "nbconvert_exporter": "python",
   "pygments_lexer": "ipython3",
   "version": "3.10.4"
  },
  "vscode": {
   "interpreter": {
    "hash": "756df94b4d22402393e8df6ec39ece82b7d0eb29c215af24100290b3ed3bf877"
   }
  }
 },
 "nbformat": 4,
 "nbformat_minor": 2
}
