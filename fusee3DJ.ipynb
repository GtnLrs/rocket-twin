{
 "cells": [
  {
   "cell_type": "code",
   "execution_count": 528,
   "metadata": {},
   "outputs": [],
   "source": [
    "import numpy as np\n",
    "import pandas as pd\n",
    "import plotly.graph_objs as go\n",
    "from cosapp.base import System, Port, BaseConnector\n",
    "from cosapp.drivers import RungeKutta, NonLinearSolver\n",
    "from cosapp.recorders import DataFrameRecorder\n",
    "from scipy.spatial.transform import Rotation as R"
   ]
  },
  {
   "cell_type": "code",
   "execution_count": 529,
   "metadata": {},
   "outputs": [],
   "source": [
    "###PORTS\n",
    "def RotMat3D(ang):\n",
    "    \n",
    "    #ang[0] = phi, ang[1] = theta, ang[2] = psi\n",
    "    #rotation matrix to go from R0 (earth frame) to R (rocket frame)\n",
    "    \n",
    "    l1 = np.array([np.cos(ang[2])*np.cos(ang[1]), np.sin(ang[2])*np.cos(ang[1]), -np.sin(ang[1])])\n",
    "    l2 = np.array([-np.sin(ang[2])*np.cos(ang[0]) + np.cos(ang[2])*np.sin(ang[1])*np.sin(ang[0]), \n",
    "                    np.cos(ang[2])*np.cos(ang[0]) + np.sin(ang[2])*np.sin(ang[1])*np.sin(ang[0]), np.cos(ang[1])*np.sin(ang[0])])\n",
    "    l3 = np.array([ np.sin(ang[2])*np.sin(ang[0]) + np.cos(ang[2])*np.sin(ang[1])*np.cos(ang[0]), \n",
    "                   -np.cos(ang[2])*np.sin(ang[0]) + np.sin(ang[2])*np.sin(ang[1])*np.cos(ang[0]), np.cos(ang[1])*np.cos(ang[0])])\n",
    "    \n",
    "    A = np.round(np.array([l1,l2,l3]), 5)\n",
    "    \n",
    "    return A\n",
    "\n",
    "\n",
    "class VelPort(Port):\n",
    "    \"\"\"Velocity Port \"\"\"\n",
    "    def setup(self):\n",
    "        self.add_variable('val', np.zeros(3), desc = \"Velocity Components\", unit = 'm/s')\n",
    "        \n",
    "\n",
    "    class Connector(BaseConnector):\n",
    "        \"\"\"Custom connector for `VelPort` objects\n",
    "        \"\"\"\n",
    "        def __init__(self, name: str, sink: Port, source: Port, *args, **kwargs):\n",
    "            super().__init__(name, sink, source)\n",
    "\n",
    "        def transfer(self) -> None:\n",
    "            sink = self.sink\n",
    "            source = self.source\n",
    "            \n",
    "            #Parent --> Child\n",
    "            if sink.owner.parent == source.owner:\n",
    "                sink.val = np.matmul(RotMat3D(sink.owner[f'{sink.owner.name}_ang']), source.val)\n",
    "\n",
    "            #Child --> Parent\n",
    "            elif sink.owner == source.owner.parent:\n",
    "                sink.val = np.matmul(np.transpose(RotMat3D(source.owner[f'{source.owner.name}_ang'])), source.val)\n",
    "                \n",
    "            else:\n",
    "                sink.val = source.val\n",
    "\n",
    "\n",
    "\n",
    "class AclPort(Port):\n",
    "    \"\"\"Acceleration Port \"\"\"\n",
    "    def setup(self):\n",
    "        self.add_variable('val', np.zeros(3), desc = \"Acceleration Components\", unit = 'm/s**2')\n",
    "        \n",
    "\n",
    "    class Connector(BaseConnector):\n",
    "        \"\"\"Custom connector for `AclPort` objects\n",
    "        \"\"\"\n",
    "        def __init__(self, name: str, sink: Port, source: Port, *args, **kwargs):\n",
    "            super().__init__(name, sink, source)\n",
    "\n",
    "        def transfer(self) -> None:\n",
    "            sink = self.sink\n",
    "            source = self.source\n",
    "\n",
    "            #Parent --> Child\n",
    "            if sink.owner.parent == source.owner:\n",
    "                sink.val = np.matmul((RotMat3D(sink.owner[f'{sink.owner.name}_ang'])), source.val)\n",
    "\n",
    "            #Child --> Parent\n",
    "            elif sink.owner == source.owner.parent:\n",
    "                sink.val = np.matmul(np.transpose(RotMat3D(source.owner[f'{source.owner.name}_ang'])), source.val)\n",
    "                \n",
    "            else:\n",
    "                sink.val = source.val"
   ]
  },
  {
   "cell_type": "code",
   "execution_count": 530,
   "metadata": {},
   "outputs": [],
   "source": [
    "###KINEMATICS\n",
    "class Kinematics(System):\n",
    "    \n",
    "    def setup(self):\n",
    "    \n",
    "        #System orientation\n",
    "        self.add_outward('Kin_ang', np.zeros(3), desc = \"Rocket Euler Angles\", unit = '')\n",
    "        \n",
    "        #Dynamics inputs\n",
    "        self.add_inward('a', np.zeros(3), desc = \"Rocket Acceleration\", unit = 'm/s**2')\n",
    "        self.add_inward('aa', np.zeros(3), desc = \"Rocket Angular Acceleration\", unit = '1/s**2')\n",
    "        self.add_outward('av2', np.zeros(3), desc = \"Rocket Angular Velocity\", unit = '1/s')\n",
    "        \n",
    "        #Kinematics transients\n",
    "        self.add_transient('v', der = 'a', desc = \"Rocket Velocity\")\n",
    "        self.add_transient('av', der = 'aa', desc = \"Rocket Angular Velocity (pqr)\")\n",
    "        self.add_transient('ar', der = 'av2', desc = \"Rocket Angular Position\")\n",
    "        \n",
    "        #Kinematics outputs\n",
    "        self.add_output(VelPort, 'v_out')\n",
    "        self.add_outward('v_cpa',  np.zeros(3), desc='CPA velocity', unit = 'm/s')\n",
    "        self.add_outward('av_out', np.zeros(3), desc = \"Rocket Angular Velocity (pqr)\", unit = '1/s')\n",
    "        \n",
    "    def compute(self):\n",
    "        #compute angular velocity to obtain angular position\n",
    "        self.av2[0] = self.av[0] + np.tan(self.ar[1])*(self.av[2]*np.cos(self.ar[0]) + self.av[1]*np.sin(self.ar[0]))\n",
    "        self.av2[1] = self.av[1]*np.cos(self.ar[0]) - self.av[2]*np.sin(self.ar[0])\n",
    "        self.av2[2] = (self.av[2]*np.cos(self.ar[0]) + self.av[1]*np.sin(self.ar[0]))/(np.cos(self.ar[1]))\n",
    "\n",
    "        self.v_out.val = self.v\n",
    "        self.av_out = self.av\n",
    "        self.Kin_ang = self.ar\n",
    "        self.v_cpa = self.v"
   ]
  },
  {
   "cell_type": "code",
   "execution_count": 531,
   "metadata": {},
   "outputs": [],
   "source": [
    "###THRUST\n",
    "thrust_data = pd.read_csv(\"thrust.txt\", header=None)\n",
    "times = list(thrust_data.iloc[0])\n",
    "thrusts = list(thrust_data.iloc[1])\n",
    "\n",
    "def mean(x, y, fx, fy, t):\n",
    "    \"\"\"Calculates the linear regression between x and y and evaluates it at t\"\"\"\n",
    "    percent = (t - x)/(y - x)\n",
    "    return (fx + (fy - fx)*percent)\n",
    "\n",
    "\n",
    "def thrust(time):\n",
    "    \"\"\"Calculates the thrust of the rocket\"\"\"\n",
    "\n",
    "    #If the time is superior to the last data point there is no more thrust\n",
    "    if time >= times[-1]:\n",
    "        return 0\n",
    "\n",
    "    i=0\n",
    "    while times[i] <= time:\n",
    "        i += 1\n",
    "\n",
    "    return mean(times[i - 1], times[i], thrusts[i - 1], thrusts[i], time) "
   ]
  },
  {
   "cell_type": "code",
   "execution_count": 532,
   "metadata": {},
   "outputs": [],
   "source": [
    "###DYNAMICS\n",
    "class Dynamics(System):\n",
    "    def setup(self):\n",
    "    \n",
    "        #System orientation\n",
    "        self.add_inward('Dyn_ang', np.zeros(3), desc = \"Rocket Euler Angles\", unit = '')\n",
    "        \n",
    "        #Geometry\n",
    "        self.add_inward('l', desc = \"Rocket length\", unit = 'm')\n",
    "        self.add_inward('I', desc = \"Matrix of inertia\")\n",
    "        self.add_inward('m', desc = \"mass\", unit = 'kg')\n",
    "        self.add_inward('S_ref', desc = \"aerodynaamic reference area\", unit = 'm**2')\n",
    "        \n",
    "        #Kinematics inputs\n",
    "        self.add_input(VelPort, 'v_in')\n",
    "        self.add_inward('av_in', np.zeros(3), desc = \"Rocket Angular Velocity\", unit = '1/s')\n",
    "        \n",
    "        #AeroForces inputs\n",
    "        self.add_inward('Fa', np.zeros(3), desc = \"Thrust Force\", unit = 'N')\n",
    "        self.add_inward('Ma', np.zeros(3), desc = \"Aerodynamic Moment\", unit = 'N*m')\n",
    "        \n",
    "        #Gravity inputs\n",
    "        self.add_input(AclPort, 'g')\n",
    "        \n",
    "        #Dynamics outputs\n",
    "        self.add_outward('a', np.zeros(3), desc = \"Rocket Acceleration\", unit = 'm/s**2')\n",
    "        self.add_outward('aa', np.zeros(3), desc = \"Rocket Angular Acceleration\", unit = '1/s**2')\n",
    "        \n",
    "    def compute(self):\n",
    "\n",
    "        I = self.I\n",
    "        \n",
    "        v = self.v_in.val\n",
    "        av = self.av_in\n",
    "\n",
    "        Fp = thrust(self.time)\n",
    "        \n",
    "        #Acceleration\n",
    "        self.a[0] = (self.Fa[0] + Fp)/self.m + self.g.val[0] + av[2]*v[1] - av[1]*v[2]\n",
    "        self.a[1] = self.Fa[1]/self.m + self.g.val[1] + av[0]*v[2] - av[2]*v[0]\n",
    "        self.a[2] = self.Fa[2]/self.m + self.g.val[2] + av[1]*v[0] - av[0]*v[1]\n",
    "        \n",
    "        #Angular acceleration (no momentum associated to thrust)\n",
    "        self.aa[0] = (self.Ma[0] + (I[1] - I[2])*av[1]*av[2])/I[0] \n",
    "        self.aa[1] = (self.Ma[1] + (I[2] - I[0])*av[2]*av[0])/I[1]\n",
    "        self.aa[2] = (self.Ma[2] + (I[0] - I[1])*av[0]*av[1])/I[2]"
   ]
  },
  {
   "cell_type": "code",
   "execution_count": 533,
   "metadata": {},
   "outputs": [],
   "source": [
    "# ###AERO\n",
    "# class Aerodynamics(System):\n",
    "#     def setup(self):\n",
    "#         #System orientation\n",
    "#         self.add_inward('Aero_ang', np.zeros(3), desc = \"Rocket Euler Angles\")\n",
    "        \n",
    "#         #Geometry\n",
    "#         self.add_inward('l', desc = \"Rocket length\", unit = 'm')\n",
    "#         self.add_inward('I', desc = \"Matrix of inertia\")\n",
    "#         self.add_inward('m', desc = \"mass\", unit = 'kg')\n",
    "#         self.add_inward('S_ref', desc = \"aerodynamic reference area\", unit = 'm**2')\n",
    "#         self.add_inward('L_ref', 0.07, desc = \"Rocket caliber\", unit = 'm')\n",
    "\n",
    "#         self.add_input(VelPort, 'v_in')\n",
    "#         self.add_inward('av_in', np.zeros(3), desc = \"Rocket Angular Velocity (pqr)\", unit = '1/s')\n",
    "        \n",
    "#         self.add_outward('Fa', np.zeros(3), desc = \"Aerodynamics Forces\", unit = 'N')\n",
    "#         self.add_outward('Ma', np.zeros(3), desc = \"Aerodynamics Moments\", unit = 'N*m')\n",
    "                \n",
    "\n",
    "#     def compute(self):\n",
    "#         rho = 1         #atmospheric density\n",
    "#         S = self.S_ref  # aerodynamic reference area, m^2\n",
    "#         self.L_ref = 0.07\n",
    "\n",
    "#         v = self.v_in.val\n",
    "\n",
    "#         av = self.av_in\n",
    "        \n",
    "#         alpha, beta = - np.arctan2(v[2],v[0]), np.arctan2(v[1],v[0])\n",
    "#         print(alpha, beta)\n",
    "#         #moment coefficients\n",
    "#         Cna = 0.2\n",
    "#         Cd = 0.5\n",
    "#         Cmq = -40\n",
    "#         Xcg = 0\n",
    "#         Xcp = -0.1\n",
    "#         Ca = (Cd - Cna*alpha*np.sin(alpha))/np.cos(alpha)\n",
    "#         Cyb = - Cna\n",
    "#         Cma = Cna*(Xcg - Xcp)/self.L_ref\n",
    "#         Cnb = - Cma\n",
    "#         Cnr = Cmq\n",
    "#         Cl = 0\n",
    "#         Cnp = 0\n",
    "#         Cmap = -2\n",
    "#         Clp = - 0.22\n",
    "\n",
    "#         #computation of the magnitutde of velocity vector of the center of mass of the rocket, m/s\n",
    "#         Vm = np.linalg.norm(v)\n",
    "        \n",
    "#         #Aero forces\n",
    "#         # self.Fa[0] = -0.5*rho*S*Vm**2*Ca\n",
    "#         # self.Fa[1] = -0.5*rho*S*Vm**2*Cyb*beta\n",
    "#         # self.Fa[2] = -0.5*rho*S*Vm**2*Cna*alpha\n",
    "#         # #Aero moment\n",
    "#         # if Vm == 0:\n",
    "#         #     self.Ma = np.zeros(3)\n",
    "#         # else:\n",
    "#         #     self.Ma[0] = 0.5*rho*Vm**2*self.L_ref*(Cl + Clp*av[0]*self.L_ref/(2*Vm))*.1\n",
    "#         #     self.Ma[1] = 0.5*rho*Vm**2*self.L_ref*(Cma*alpha + (Cmap + Cmq)*av[1]*self.L_ref/(2*Vm))*.1\n",
    "#         #     self.Ma[2] = 0.5*rho*Vm**2*self.L_ref*(Cnb*beta + (Cnr*av[2] + Cnp*av[1])*self.L_ref/(2*Vm))*.1\n",
    "\n"
   ]
  },
  {
   "cell_type": "code",
   "execution_count": 534,
   "metadata": {},
   "outputs": [],
   "source": [
    "class Alpha(System):\n",
    "    def setup(self):\n",
    "        self.add_inward('v_cpa', np.zeros(3), desc='CPA velocity', unit='m/s') \n",
    "        self.add_outward('alpha', 0., desc='angle of attack', unit='') \n",
    "\n",
    "    def compute(self):\n",
    "        self.alpha = np.arccos(self.v_cpa[0]/np.linalg.norm(self.v_cpa)) if np.linalg.norm(self.v_cpa)>0.1 else 0"
   ]
  },
  {
   "cell_type": "code",
   "execution_count": 535,
   "metadata": {},
   "outputs": [],
   "source": [
    "class Coefficients(System):\n",
    "    def setup(self):\n",
    "        self.add_inward('alpha', 0., desc='angle of attack', unit='') \n",
    "        self.add_inward('v_cpa', np.zeros(3), desc='CPA velocity', unit='m/s') \n",
    "\n",
    "        # Rocket's Geometry\n",
    "        self.add_inward('ln', 0.2, desc=\"Length of the cone\", unit='m')\n",
    "        self.add_inward('dn', 0.15, desc='Rocket caliber', unit='m')\n",
    "        self.add_inward('l', 2, desc = \"Rocket length\", unit = 'm')\n",
    "        self.add_inward('xf', self.l - 0.2, desc = \"Rocket minus fins length\", unit = 'm')\n",
    "        self.add_inward('S_ref', np.pi*(self.dn/2)**2, desc=\"Reference Surface\", unit=\"m**2\")\n",
    "\n",
    "        #Fins' Geometry, check the plan for explanation\n",
    "        self.add_inward('lr', 0.16, unit = 'm')\n",
    "        self.add_inward('lt', 0.12, unit='m')\n",
    "        self.add_inward('ls', 0.12, unit = 'm')\n",
    "        self.add_inward('lw', 0.05, unit = 'm')\n",
    "        self.add_inward('lm', 0.2, unit = 'm')\n",
    "        self.add_inward('lts', 2*self.ls + self.dn, unit = 'm')\n",
    "        self.add_inward('tf', 0.005, desc = 'Thickness', unit='m')\n",
    "        \n",
    "        #Coefficients outwards\n",
    "        self.add_outward('Cd', 0., desc='Drag coefficient', unit='')\n",
    "        self.add_outward('Cn', 0., desc='Normal coefficient', unit='')\n",
    "        self.add_outward('Xcp', 0., desc='CPA position from the rocket top', unit='m')\n",
    "\n",
    "    def compute(self):\n",
    "        if np.linalg.norm(self.v_cpa)>10:\n",
    "            print(self.v_cpa)\n",
    "            cna_c = 2\n",
    "            cna_b = 0\n",
    "            cna_f = (1 + self.dn/(self.ls + self.dn/2))*4*4*(self.ls/self.dn)**2/(1 + (1 + 2*self.lm/(self.lr + self.lt))**0.5)\n",
    "            cna = cna_c + cna_b + cna_f\n",
    "            self.Cn = cna*self.alpha\n",
    "\n",
    "            self.Xcp = 1/cna*(cna_c*2/3*self.ln + cna_f*(self.xf + self.lm*(self.lr + 2*self.lt)/(3*(self.lr+self.lt)) + 1/6*(self.lr + self.lt - self.lr*self.lt/(self.lr+self.lt))))\n",
    "\n",
    "            Rec = 5*10**5\n",
    "            Ref =  Rec #np.linalg.norm(self.v_cpa) * self.l / (15.6*10**(-6))\n",
    "            Refb = Rec #np.linalg.norm(self.v_cpa) * self.lm / (15.6*10**(-6))\n",
    "\n",
    "            Bf = Rec * (0.074/Ref**0.2) - 1.328/Ref**0.5\n",
    "            Bfb = Rec * (0.074/Refb**0.2) - 1.328/Refb**0.5\n",
    "\n",
    "            cffb = 1.328/Refb**0.5 if Refb < Rec else 0.074/Refb**0.2 - Bfb/Refb\n",
    "            cff = 1.328/Ref**0.5 if Ref < Rec else 0.074/Ref**0.2 - Bf/Ref\n",
    "\n",
    "            afe = 1/2 * (self.lr + self.lt)*self.ls\n",
    "            afb = afe + 0.5*self.dn*self.lr\n",
    "            cdi = 2*cff*(1+2*self.tf/self.lm)*4*4*(afb - afe)/(np.pi*self.dn**2)\n",
    "            cdf = 2*cff*(1+2*self.tf/self.lm)*4*4*(afb)/(np.pi*self.dn**2)\n",
    "            cdfb = (1 + 60/(self.l/self.dn)**3 + 0.0025*self.l/self.dn)*(2.7*self.l/self.dn + 4*self.l/self.dn)*(cffb)\n",
    "            cdb = 0.029/cdfb**0.5\n",
    "            cd0 = cdfb + cdb + cdf + cdi\n",
    "            cdba = 2*0.9*self.alpha**2 + 3.6*0.7*(1.36*self.l - 0.55*self.ln)/(np.pi*self.dn)*self.alpha**3\n",
    "            rs = self.lts/self.dn\n",
    "            kfb = 0.8065*rs**2 + 1.1553*rs\n",
    "            kbf = 0.1935*rs**2 + 0.8174*rs + 1\n",
    "            cdfa = self.alpha**2*(1.2*afb**4/(np.pi*self.dn**2) + 3.12*(kfb + kbf - 1)*afe**4/(np.pi*self.dn**2))\n",
    "            self.Cd = cd0 + cdba + cdfa "
   ]
  },
  {
   "cell_type": "code",
   "execution_count": 536,
   "metadata": {},
   "outputs": [],
   "source": [
    "class AeroForces(System):\n",
    "    def setup(self):\n",
    "        self.add_inward('v_cpa', np.zeros(3), desc='CPA velocity', unit='m/s') \n",
    "\n",
    "        #Coefficients inwards\n",
    "        self.add_inward('Cd', 0., desc='Drag coefficient', unit='')\n",
    "        self.add_inward('Cn', 0., desc='Normal coefficient', unit='')\n",
    "        self.add_inward('S_ref', 1., desc=\"Reference Surface\", unit=\"m**2\")\n",
    "\n",
    "        #Atmosphere\n",
    "        self.add_inward('rho', 1.292, unit=\"kg/m**3\")\n",
    "\n",
    "        self.add_outward('Fa', np.zeros(3) , desc='Aerodynamic Forces', unit='N')\n",
    "\n",
    "    def compute(self):\n",
    "        Fn = 0.5*self.rho*np.linalg.norm(self.v_cpa)**2*(self.S_ref*self.Cn)\n",
    "        Fd = 0.5*self.rho*np.linalg.norm(self.v_cpa)**2*(self.S_ref*self.Cd)\n",
    "\n",
    "        #alpha and beta are the angles defined in the Rapport intermédiaire\n",
    "        alpha = np.arctan2(self.v_cpa[2], self.v_cpa[0]) # Maybe should be with a - ?\n",
    "        beta = np.arctan2(self.v_cpa[1], self.v_cpa[0])\n",
    "\n",
    "        # Check polar coordinates formulas\n",
    "        Fd_vector = np.array([Fd*np.cos(alpha)*np.cos(beta),\n",
    "                            Fd*np.cos(alpha)*np.sin(beta),\n",
    "                            Fd*np.sin(alpha)])\n",
    "        \n",
    "        angle = np.arctan2(self.v_cpa[2], self.v_cpa[1])\n",
    "        Fn_vector = np.array([0,\n",
    "                            Fn*np.sin(angle),\n",
    "                            Fn*np.cos(angle)])\n",
    "        self.Fa = Fd_vector + Fn_vector"
   ]
  },
  {
   "cell_type": "code",
   "execution_count": 537,
   "metadata": {},
   "outputs": [],
   "source": [
    "class Moments(System):\n",
    "    def setup(self):\n",
    "        #AeroForces inward\n",
    "        self.add_inward('Fa', np.zeros(3) , desc='Aerodynamic Forces', unit='N')\n",
    "\n",
    "        #Geometry inwards\n",
    "        self.add_inward('Xcp', 0., desc='CPA position from the rocket top', unit='m')\n",
    "        self.add_inward('l', 2, desc = \"Rocket length\", unit = 'm')\n",
    "\n",
    "        #Outward\n",
    "        self.add_outward('Ma', np.zeros(3) , desc='Aerodynamic Moments', unit='N*m')\n",
    "\n",
    "    def compute(self):\n",
    "        OM = np.array([self.l/2 - self.Xcp, 0, 0])\n",
    "        self.Ma = np.cross(OM, self.Fa)"
   ]
  },
  {
   "cell_type": "code",
   "execution_count": 538,
   "metadata": {},
   "outputs": [],
   "source": [
    "class Aerodynamics(System):\n",
    "    def setup(self):\n",
    "        #System orientation\n",
    "        self.add_inward('Aero_ang', np.zeros(3), desc = \"Rocket Euler Angles\")\n",
    "        \n",
    "        #Geometry\n",
    "        #TODO Create a mass System\n",
    "        self.add_inward('m', desc = \"mass\", unit = 'kg')\n",
    "\n",
    "        self.add_input(VelPort, 'v_in')\n",
    "        self.add_inward('av_in', np.zeros(3), desc = \"Rocket Angular Velocity (pqr)\", unit = '1/s')\n",
    "        \n",
    "        self.add_outward('Fa', np.zeros(3), desc = \"Aerodynamics Forces\", unit = 'N')\n",
    "        self.add_outward('Ma', np.zeros(3), desc = \"Aerodynamics Moments\", unit = 'N*m')\n",
    "                \n",
    "\n",
    "        self.add_child(Alpha('Alpha'), pulling=['v_cpa'])\n",
    "        self.add_child(AeroForces('Aeroforces'), pulling=['v_cpa', 'Fa'])\n",
    "        self.add_child(Coefficients('Coefs'), pulling=['v_cpa', 'l', 'S_ref'])\n",
    "        self.add_child(Moments('Moments'), pulling=['Ma'])\n",
    "\n",
    "        self.connect(self.Alpha, self.Coefs, ['alpha'])\n",
    "        self.connect(self.Coefs, self.Aeroforces, ['Cd', 'Cn', 'S_ref'])\n",
    "        self.connect(self.Coefs, self.Moments, ['Xcp', 'l'])\n",
    "\n",
    "        self.exec_order = ['Alpha', 'Coefs', 'Aeroforces', 'Moments']\n"
   ]
  },
  {
   "cell_type": "code",
   "execution_count": 539,
   "metadata": {},
   "outputs": [],
   "source": [
    "###TRAJECTORY\n",
    "class Trajectory(System):\n",
    "    \n",
    "    def setup(self):\n",
    "    \n",
    "        #Rocket inputs\n",
    "        self.add_input(VelPort, 'v')\n",
    "        \n",
    "        #Trajectory transients\n",
    "        self.add_transient('r', der = 'v.val', desc = \"Rocket Position\")"
   ]
  },
  {
   "cell_type": "code",
   "execution_count": 540,
   "metadata": {},
   "outputs": [],
   "source": [
    "###ROCKET\n",
    "class Rocket(System):\n",
    "    \n",
    "    def setup(self):\n",
    "\n",
    "        #System orientation\n",
    "        self.add_inward('Rocket_ang', np.zeros(3), desc = \"Earth Euler Angles\", unit = '')\n",
    "        \n",
    "        #Gravity input\n",
    "        self.add_input(AclPort, 'g')\n",
    "        \n",
    "        #Rocket parameters\n",
    "        self.add_inward('l', 2., desc='Rocket length', unit='m')\n",
    "        self.add_inward('I', np.array([10., 100., 100.]), desc = \"Matrix of inertia\")\n",
    "        self.add_inward('m', 15, desc = \"mass\", unit = 'kg')\n",
    "        self.add_inward('S_ref', 1., desc=\"Reference Surface\", unit=\"m**2\")\n",
    "\n",
    "        #Rocket children\n",
    "        self.add_child(Kinematics('Kin'), pulling = ['v_out'])\n",
    "        self.add_child(Dynamics('Dyn'), pulling = ['g', 'l', 'I', 'm', 'S_ref'])\n",
    "        self.add_child(Aerodynamics('Aero'), pulling = ['l', 'm', 'S_ref'])\n",
    "        \n",
    "        #Child-Child connections\n",
    "        self.connect(self.Kin, self.Dyn, {'Kin_ang' : 'Dyn_ang', 'v_out' : 'v_in', 'a': 'a', 'aa' : 'aa'})\n",
    "        self.connect(self.Kin, self.Aero, {'Kin_ang' : 'Aero_ang','v_out' : 'v_in', 'av_out': 'av_in', 'v_cpa':'v_cpa'})\n",
    "        self.connect(self.Dyn, self.Aero, ['Fa', 'Ma'])\n",
    "        \n",
    "        #Execution order\n",
    "        self.exec_order = ['Aero', 'Dyn', 'Kin']"
   ]
  },
  {
   "cell_type": "code",
   "execution_count": 541,
   "metadata": {},
   "outputs": [],
   "source": [
    "###GRAVITY\n",
    "class Gravity(System):\n",
    "    \n",
    "    def setup(self):\n",
    "        #Gravity outputs\n",
    "        self.add_output(AclPort, 'g')\n",
    "        \n",
    "    def compute(self):\n",
    "        \n",
    "        # self.g.val = np.array([0., 0., self.G*self.M/(self.R - self.r_in[2])**2])\n",
    "        self.g.val = np.array([0, 0, -9.8])"
   ]
  },
  {
   "cell_type": "code",
   "execution_count": 542,
   "metadata": {},
   "outputs": [],
   "source": [
    "###EARTH\n",
    "class Earth(System):\n",
    "    \n",
    "    def setup(self):\n",
    "        \n",
    "        #Earth children\n",
    "        self.add_child(Rocket('Rocket'))\n",
    "        self.add_child(Trajectory('Traj'))\n",
    "        self.add_child(Gravity('Grav'))\n",
    "        \n",
    "        self.connect(self.Rocket, self.Traj, {'v_out' : 'v'})\n",
    "        self.connect(self.Rocket, self.Grav, ['g'])\n",
    "        \n",
    "        #Execution order\n",
    "        self.exec_order = ['Grav', 'Rocket', 'Traj']"
   ]
  },
  {
   "cell_type": "code",
   "execution_count": 543,
   "metadata": {},
   "outputs": [
    {
     "data": {
      "application/vnd.plotly.v1+json": {
       "config": {
        "plotlyServerURL": "https://plot.ly"
       },
       "data": [
        {
         "line": {
          "color": "darkblue",
          "width": 2
         },
         "marker": {
          "color": [
           0.85,
           22.550677212449312,
           83.95498351429009,
           175.32696400171284,
           279.2031367451003,
           374.7387624283535,
           460.4744631992066,
           536.4102390576595,
           602.546090003713,
           658.8820160373662,
           705.4180171586193,
           742.1540933674727,
           769.0902446639259,
           786.2264710479789,
           793.5627725196322,
           791.0991490788858,
           778.835600725739,
           756.7721274601922,
           724.9087292822455,
           683.245406191899,
           631.7821581891528,
           570.5189852740074,
           499.4558874464622,
           418.59286470651705,
           327.9299170541724,
           227.46704448942765,
           117.20424701228356,
           -8.881784197001252e-15,
           -8.881784197001252e-15
          ],
          "colorscale": [
           [
            0,
            "#440154"
           ],
           [
            0.1111111111111111,
            "#482878"
           ],
           [
            0.2222222222222222,
            "#3e4989"
           ],
           [
            0.3333333333333333,
            "#31688e"
           ],
           [
            0.4444444444444444,
            "#26828e"
           ],
           [
            0.5555555555555556,
            "#1f9e89"
           ],
           [
            0.6666666666666666,
            "#35b779"
           ],
           [
            0.7777777777777778,
            "#6ece58"
           ],
           [
            0.8888888888888888,
            "#b5de2b"
           ],
           [
            1,
            "#fde725"
           ]
          ],
          "size": 4
         },
         "type": "scatter3d",
         "x": [
          0,
          1.8872084806767386,
          7.286499820763789,
          15.507159390452191,
          25.310245290835756,
          35.21693325224265,
          45.12368811628954,
          55.03050988297642,
          64.93739855230328,
          74.84435412427015,
          84.75137659887704,
          94.65846597612395,
          104.56562225601084,
          114.47284543853772,
          124.38013552370461,
          134.2874925115115,
          144.19491640195838,
          154.1024071950453,
          164.0099648907722,
          173.91758948913915,
          183.82528099014587,
          193.73303939379255,
          203.64086470007925,
          213.54875690900596,
          223.45671602057269,
          233.36474203477943,
          243.27283495162618,
          252.9541448628751,
          252.9541448628751
         ],
         "y": [
          0,
          1.887194812616739,
          7.286445148523791,
          15.507036377912188,
          25.31002660187574,
          35.21659155074262,
          45.123196066129516,
          55.029840148036385,
          64.93652379646323,
          74.8432470114101,
          84.75000979287694,
          94.65681214086375,
          104.56365405537063,
          114.4705355363975,
          124.37745658394434,
          134.28441719801117,
          144.19141737859798,
          154.09845712570475,
          164.00553643933154,
          173.9126553194783,
          183.81981376614496,
          193.72701177933166,
          203.6342493590384,
          213.54152650526518,
          223.44884321801197,
          233.35619949727877,
          243.26359534306562,
          252.94419773833968,
          252.94419773833968
         ],
         "z": [
          0.85,
          22.550677212449312,
          83.95498351429009,
          175.32696400171284,
          279.2031367451003,
          374.7387624283535,
          460.4744631992066,
          536.4102390576595,
          602.546090003713,
          658.8820160373662,
          705.4180171586193,
          742.1540933674727,
          769.0902446639259,
          786.2264710479789,
          793.5627725196322,
          791.0991490788858,
          778.835600725739,
          756.7721274601922,
          724.9087292822455,
          683.245406191899,
          631.7821581891528,
          570.5189852740074,
          499.4558874464622,
          418.59286470651705,
          327.9299170541724,
          227.46704448942765,
          117.20424701228356,
          -8.881784197001252e-15,
          -8.881784197001252e-15
         ]
        }
       ],
       "layout": {
        "margin": {
         "b": 10,
         "l": 10,
         "r": 20,
         "t": 10
        },
        "scene": {
         "xaxis": {
          "nticks": 2,
          "range": [
           -1000,
           1000
          ]
         },
         "yaxis": {
          "nticks": 2,
          "range": [
           -1000,
           1000
          ]
         },
         "zaxis": {
          "nticks": 2,
          "range": [
           0,
           1000
          ]
         }
        },
        "template": {
         "data": {
          "bar": [
           {
            "error_x": {
             "color": "#2a3f5f"
            },
            "error_y": {
             "color": "#2a3f5f"
            },
            "marker": {
             "line": {
              "color": "#E5ECF6",
              "width": 0.5
             },
             "pattern": {
              "fillmode": "overlay",
              "size": 10,
              "solidity": 0.2
             }
            },
            "type": "bar"
           }
          ],
          "barpolar": [
           {
            "marker": {
             "line": {
              "color": "#E5ECF6",
              "width": 0.5
             },
             "pattern": {
              "fillmode": "overlay",
              "size": 10,
              "solidity": 0.2
             }
            },
            "type": "barpolar"
           }
          ],
          "carpet": [
           {
            "aaxis": {
             "endlinecolor": "#2a3f5f",
             "gridcolor": "white",
             "linecolor": "white",
             "minorgridcolor": "white",
             "startlinecolor": "#2a3f5f"
            },
            "baxis": {
             "endlinecolor": "#2a3f5f",
             "gridcolor": "white",
             "linecolor": "white",
             "minorgridcolor": "white",
             "startlinecolor": "#2a3f5f"
            },
            "type": "carpet"
           }
          ],
          "choropleth": [
           {
            "colorbar": {
             "outlinewidth": 0,
             "ticks": ""
            },
            "type": "choropleth"
           }
          ],
          "contour": [
           {
            "colorbar": {
             "outlinewidth": 0,
             "ticks": ""
            },
            "colorscale": [
             [
              0,
              "#0d0887"
             ],
             [
              0.1111111111111111,
              "#46039f"
             ],
             [
              0.2222222222222222,
              "#7201a8"
             ],
             [
              0.3333333333333333,
              "#9c179e"
             ],
             [
              0.4444444444444444,
              "#bd3786"
             ],
             [
              0.5555555555555556,
              "#d8576b"
             ],
             [
              0.6666666666666666,
              "#ed7953"
             ],
             [
              0.7777777777777778,
              "#fb9f3a"
             ],
             [
              0.8888888888888888,
              "#fdca26"
             ],
             [
              1,
              "#f0f921"
             ]
            ],
            "type": "contour"
           }
          ],
          "contourcarpet": [
           {
            "colorbar": {
             "outlinewidth": 0,
             "ticks": ""
            },
            "type": "contourcarpet"
           }
          ],
          "heatmap": [
           {
            "colorbar": {
             "outlinewidth": 0,
             "ticks": ""
            },
            "colorscale": [
             [
              0,
              "#0d0887"
             ],
             [
              0.1111111111111111,
              "#46039f"
             ],
             [
              0.2222222222222222,
              "#7201a8"
             ],
             [
              0.3333333333333333,
              "#9c179e"
             ],
             [
              0.4444444444444444,
              "#bd3786"
             ],
             [
              0.5555555555555556,
              "#d8576b"
             ],
             [
              0.6666666666666666,
              "#ed7953"
             ],
             [
              0.7777777777777778,
              "#fb9f3a"
             ],
             [
              0.8888888888888888,
              "#fdca26"
             ],
             [
              1,
              "#f0f921"
             ]
            ],
            "type": "heatmap"
           }
          ],
          "heatmapgl": [
           {
            "colorbar": {
             "outlinewidth": 0,
             "ticks": ""
            },
            "colorscale": [
             [
              0,
              "#0d0887"
             ],
             [
              0.1111111111111111,
              "#46039f"
             ],
             [
              0.2222222222222222,
              "#7201a8"
             ],
             [
              0.3333333333333333,
              "#9c179e"
             ],
             [
              0.4444444444444444,
              "#bd3786"
             ],
             [
              0.5555555555555556,
              "#d8576b"
             ],
             [
              0.6666666666666666,
              "#ed7953"
             ],
             [
              0.7777777777777778,
              "#fb9f3a"
             ],
             [
              0.8888888888888888,
              "#fdca26"
             ],
             [
              1,
              "#f0f921"
             ]
            ],
            "type": "heatmapgl"
           }
          ],
          "histogram": [
           {
            "marker": {
             "pattern": {
              "fillmode": "overlay",
              "size": 10,
              "solidity": 0.2
             }
            },
            "type": "histogram"
           }
          ],
          "histogram2d": [
           {
            "colorbar": {
             "outlinewidth": 0,
             "ticks": ""
            },
            "colorscale": [
             [
              0,
              "#0d0887"
             ],
             [
              0.1111111111111111,
              "#46039f"
             ],
             [
              0.2222222222222222,
              "#7201a8"
             ],
             [
              0.3333333333333333,
              "#9c179e"
             ],
             [
              0.4444444444444444,
              "#bd3786"
             ],
             [
              0.5555555555555556,
              "#d8576b"
             ],
             [
              0.6666666666666666,
              "#ed7953"
             ],
             [
              0.7777777777777778,
              "#fb9f3a"
             ],
             [
              0.8888888888888888,
              "#fdca26"
             ],
             [
              1,
              "#f0f921"
             ]
            ],
            "type": "histogram2d"
           }
          ],
          "histogram2dcontour": [
           {
            "colorbar": {
             "outlinewidth": 0,
             "ticks": ""
            },
            "colorscale": [
             [
              0,
              "#0d0887"
             ],
             [
              0.1111111111111111,
              "#46039f"
             ],
             [
              0.2222222222222222,
              "#7201a8"
             ],
             [
              0.3333333333333333,
              "#9c179e"
             ],
             [
              0.4444444444444444,
              "#bd3786"
             ],
             [
              0.5555555555555556,
              "#d8576b"
             ],
             [
              0.6666666666666666,
              "#ed7953"
             ],
             [
              0.7777777777777778,
              "#fb9f3a"
             ],
             [
              0.8888888888888888,
              "#fdca26"
             ],
             [
              1,
              "#f0f921"
             ]
            ],
            "type": "histogram2dcontour"
           }
          ],
          "mesh3d": [
           {
            "colorbar": {
             "outlinewidth": 0,
             "ticks": ""
            },
            "type": "mesh3d"
           }
          ],
          "parcoords": [
           {
            "line": {
             "colorbar": {
              "outlinewidth": 0,
              "ticks": ""
             }
            },
            "type": "parcoords"
           }
          ],
          "pie": [
           {
            "automargin": true,
            "type": "pie"
           }
          ],
          "scatter": [
           {
            "fillpattern": {
             "fillmode": "overlay",
             "size": 10,
             "solidity": 0.2
            },
            "type": "scatter"
           }
          ],
          "scatter3d": [
           {
            "line": {
             "colorbar": {
              "outlinewidth": 0,
              "ticks": ""
             }
            },
            "marker": {
             "colorbar": {
              "outlinewidth": 0,
              "ticks": ""
             }
            },
            "type": "scatter3d"
           }
          ],
          "scattercarpet": [
           {
            "marker": {
             "colorbar": {
              "outlinewidth": 0,
              "ticks": ""
             }
            },
            "type": "scattercarpet"
           }
          ],
          "scattergeo": [
           {
            "marker": {
             "colorbar": {
              "outlinewidth": 0,
              "ticks": ""
             }
            },
            "type": "scattergeo"
           }
          ],
          "scattergl": [
           {
            "marker": {
             "colorbar": {
              "outlinewidth": 0,
              "ticks": ""
             }
            },
            "type": "scattergl"
           }
          ],
          "scattermapbox": [
           {
            "marker": {
             "colorbar": {
              "outlinewidth": 0,
              "ticks": ""
             }
            },
            "type": "scattermapbox"
           }
          ],
          "scatterpolar": [
           {
            "marker": {
             "colorbar": {
              "outlinewidth": 0,
              "ticks": ""
             }
            },
            "type": "scatterpolar"
           }
          ],
          "scatterpolargl": [
           {
            "marker": {
             "colorbar": {
              "outlinewidth": 0,
              "ticks": ""
             }
            },
            "type": "scatterpolargl"
           }
          ],
          "scatterternary": [
           {
            "marker": {
             "colorbar": {
              "outlinewidth": 0,
              "ticks": ""
             }
            },
            "type": "scatterternary"
           }
          ],
          "surface": [
           {
            "colorbar": {
             "outlinewidth": 0,
             "ticks": ""
            },
            "colorscale": [
             [
              0,
              "#0d0887"
             ],
             [
              0.1111111111111111,
              "#46039f"
             ],
             [
              0.2222222222222222,
              "#7201a8"
             ],
             [
              0.3333333333333333,
              "#9c179e"
             ],
             [
              0.4444444444444444,
              "#bd3786"
             ],
             [
              0.5555555555555556,
              "#d8576b"
             ],
             [
              0.6666666666666666,
              "#ed7953"
             ],
             [
              0.7777777777777778,
              "#fb9f3a"
             ],
             [
              0.8888888888888888,
              "#fdca26"
             ],
             [
              1,
              "#f0f921"
             ]
            ],
            "type": "surface"
           }
          ],
          "table": [
           {
            "cells": {
             "fill": {
              "color": "#EBF0F8"
             },
             "line": {
              "color": "white"
             }
            },
            "header": {
             "fill": {
              "color": "#C8D4E3"
             },
             "line": {
              "color": "white"
             }
            },
            "type": "table"
           }
          ]
         },
         "layout": {
          "annotationdefaults": {
           "arrowcolor": "#2a3f5f",
           "arrowhead": 0,
           "arrowwidth": 1
          },
          "autotypenumbers": "strict",
          "coloraxis": {
           "colorbar": {
            "outlinewidth": 0,
            "ticks": ""
           }
          },
          "colorscale": {
           "diverging": [
            [
             0,
             "#8e0152"
            ],
            [
             0.1,
             "#c51b7d"
            ],
            [
             0.2,
             "#de77ae"
            ],
            [
             0.3,
             "#f1b6da"
            ],
            [
             0.4,
             "#fde0ef"
            ],
            [
             0.5,
             "#f7f7f7"
            ],
            [
             0.6,
             "#e6f5d0"
            ],
            [
             0.7,
             "#b8e186"
            ],
            [
             0.8,
             "#7fbc41"
            ],
            [
             0.9,
             "#4d9221"
            ],
            [
             1,
             "#276419"
            ]
           ],
           "sequential": [
            [
             0,
             "#0d0887"
            ],
            [
             0.1111111111111111,
             "#46039f"
            ],
            [
             0.2222222222222222,
             "#7201a8"
            ],
            [
             0.3333333333333333,
             "#9c179e"
            ],
            [
             0.4444444444444444,
             "#bd3786"
            ],
            [
             0.5555555555555556,
             "#d8576b"
            ],
            [
             0.6666666666666666,
             "#ed7953"
            ],
            [
             0.7777777777777778,
             "#fb9f3a"
            ],
            [
             0.8888888888888888,
             "#fdca26"
            ],
            [
             1,
             "#f0f921"
            ]
           ],
           "sequentialminus": [
            [
             0,
             "#0d0887"
            ],
            [
             0.1111111111111111,
             "#46039f"
            ],
            [
             0.2222222222222222,
             "#7201a8"
            ],
            [
             0.3333333333333333,
             "#9c179e"
            ],
            [
             0.4444444444444444,
             "#bd3786"
            ],
            [
             0.5555555555555556,
             "#d8576b"
            ],
            [
             0.6666666666666666,
             "#ed7953"
            ],
            [
             0.7777777777777778,
             "#fb9f3a"
            ],
            [
             0.8888888888888888,
             "#fdca26"
            ],
            [
             1,
             "#f0f921"
            ]
           ]
          },
          "colorway": [
           "#636efa",
           "#EF553B",
           "#00cc96",
           "#ab63fa",
           "#FFA15A",
           "#19d3f3",
           "#FF6692",
           "#B6E880",
           "#FF97FF",
           "#FECB52"
          ],
          "font": {
           "color": "#2a3f5f"
          },
          "geo": {
           "bgcolor": "white",
           "lakecolor": "white",
           "landcolor": "#E5ECF6",
           "showlakes": true,
           "showland": true,
           "subunitcolor": "white"
          },
          "hoverlabel": {
           "align": "left"
          },
          "hovermode": "closest",
          "mapbox": {
           "style": "light"
          },
          "paper_bgcolor": "white",
          "plot_bgcolor": "#E5ECF6",
          "polar": {
           "angularaxis": {
            "gridcolor": "white",
            "linecolor": "white",
            "ticks": ""
           },
           "bgcolor": "#E5ECF6",
           "radialaxis": {
            "gridcolor": "white",
            "linecolor": "white",
            "ticks": ""
           }
          },
          "scene": {
           "xaxis": {
            "backgroundcolor": "#E5ECF6",
            "gridcolor": "white",
            "gridwidth": 2,
            "linecolor": "white",
            "showbackground": true,
            "ticks": "",
            "zerolinecolor": "white"
           },
           "yaxis": {
            "backgroundcolor": "#E5ECF6",
            "gridcolor": "white",
            "gridwidth": 2,
            "linecolor": "white",
            "showbackground": true,
            "ticks": "",
            "zerolinecolor": "white"
           },
           "zaxis": {
            "backgroundcolor": "#E5ECF6",
            "gridcolor": "white",
            "gridwidth": 2,
            "linecolor": "white",
            "showbackground": true,
            "ticks": "",
            "zerolinecolor": "white"
           }
          },
          "shapedefaults": {
           "line": {
            "color": "#2a3f5f"
           }
          },
          "ternary": {
           "aaxis": {
            "gridcolor": "white",
            "linecolor": "white",
            "ticks": ""
           },
           "baxis": {
            "gridcolor": "white",
            "linecolor": "white",
            "ticks": ""
           },
           "bgcolor": "#E5ECF6",
           "caxis": {
            "gridcolor": "white",
            "linecolor": "white",
            "ticks": ""
           }
          },
          "title": {
           "x": 0.05
          },
          "xaxis": {
           "automargin": true,
           "gridcolor": "white",
           "linecolor": "white",
           "ticks": "",
           "title": {
            "standoff": 15
           },
           "zerolinecolor": "white",
           "zerolinewidth": 2
          },
          "yaxis": {
           "automargin": true,
           "gridcolor": "white",
           "linecolor": "white",
           "ticks": "",
           "title": {
            "standoff": 15
           },
           "zerolinecolor": "white",
           "zerolinewidth": 2
          }
         }
        },
        "width": 700
       }
      }
     },
     "metadata": {},
     "output_type": "display_data"
    },
    {
     "data": {
      "application/vnd.plotly.v1+json": {
       "config": {
        "plotlyServerURL": "https://plot.ly"
       },
       "data": [
        {
         "type": "scatter3d",
         "x": [
          0,
          0.12000790260416293
         ],
         "y": [
          0,
          0.12000790178872153
         ],
         "z": [
          0.85,
          2.5415070815166034
         ]
        }
       ],
       "frames": [
        {
         "data": [
          {
           "type": "scatter3d",
           "x": [
            0,
            0.12000790260416293
           ],
           "y": [
            0,
            0.12000790178872153
           ],
           "z": [
            0.85,
            2.5415070815166034
           ]
          }
         ]
        },
        {
         "data": [
          {
           "type": "scatter3d",
           "x": [
            1.8872084806767386,
            2.0072163832809014
           ],
           "y": [
            1.887194812616739,
            2.0072027144054605
           ],
           "z": [
            22.550677212449312,
            24.242184293965916
           ]
          }
         ]
        },
        {
         "data": [
          {
           "type": "scatter3d",
           "x": [
            7.286499820763789,
            7.406507723367953
           ],
           "y": [
            7.286445148523791,
            7.406453050312512
           ],
           "z": [
            83.95498351429009,
            85.6464905958067
           ]
          }
         ]
        },
        {
         "data": [
          {
           "type": "scatter3d",
           "x": [
            15.507159390452191,
            15.627167293056354
           ],
           "y": [
            15.507036377912188,
            15.62704427970091
           ],
           "z": [
            175.32696400171284,
            177.01847108322943
           ]
          }
         ]
        },
        {
         "data": [
          {
           "type": "scatter3d",
           "x": [
            25.310245290835756,
            25.430253193439917
           ],
           "y": [
            25.31002660187574,
            25.430034503664462
           ],
           "z": [
            279.2031367451003,
            280.8946438266169
           ]
          }
         ]
        },
        {
         "data": [
          {
           "type": "scatter3d",
           "x": [
            35.21693325224265,
            35.33694115484681
           ],
           "y": [
            35.21659155074262,
            35.336599452531345
           ],
           "z": [
            374.7387624283535,
            376.4302695098701
           ]
          }
         ]
        },
        {
         "data": [
          {
           "type": "scatter3d",
           "x": [
            45.12368811628954,
            45.24369601889371
           ],
           "y": [
            45.123196066129516,
            45.24320396791824
           ],
           "z": [
            460.4744631992066,
            462.1659702807232
           ]
          }
         ]
        },
        {
         "data": [
          {
           "type": "scatter3d",
           "x": [
            55.03050988297642,
            55.15051778558058
           ],
           "y": [
            55.029840148036385,
            55.14984804982511
           ],
           "z": [
            536.4102390576595,
            538.1017461391762
           ]
          }
         ]
        },
        {
         "data": [
          {
           "type": "scatter3d",
           "x": [
            64.93739855230328,
            65.05740645490744
           ],
           "y": [
            64.93652379646323,
            65.05653169825196
           ],
           "z": [
            602.546090003713,
            604.2375970852296
           ]
          }
         ]
        },
        {
         "data": [
          {
           "type": "scatter3d",
           "x": [
            74.84435412427015,
            74.96436202687431
           ],
           "y": [
            74.8432470114101,
            74.96325491319882
           ],
           "z": [
            658.8820160373662,
            660.5735231188828
           ]
          }
         ]
        },
        {
         "data": [
          {
           "type": "scatter3d",
           "x": [
            84.75137659887704,
            84.8713845014812
           ],
           "y": [
            84.75000979287694,
            84.87001769466566
           ],
           "z": [
            705.4180171586193,
            707.1095242401359
           ]
          }
         ]
        },
        {
         "data": [
          {
           "type": "scatter3d",
           "x": [
            94.65846597612395,
            94.77847387872811
           ],
           "y": [
            94.65681214086375,
            94.77682004265247
           ],
           "z": [
            742.1540933674727,
            743.8456004489893
           ]
          }
         ]
        },
        {
         "data": [
          {
           "type": "scatter3d",
           "x": [
            104.56562225601084,
            104.685630158615
           ],
           "y": [
            104.56365405537063,
            104.68366195715936
           ],
           "z": [
            769.0902446639259,
            770.7817517454425
           ]
          }
         ]
        },
        {
         "data": [
          {
           "type": "scatter3d",
           "x": [
            114.47284543853772,
            114.59285334114188
           ],
           "y": [
            114.4705355363975,
            114.59054343818623
           ],
           "z": [
            786.2264710479789,
            787.9179781294955
           ]
          }
         ]
        },
        {
         "data": [
          {
           "type": "scatter3d",
           "x": [
            124.38013552370461,
            124.50014342630877
           ],
           "y": [
            124.37745658394434,
            124.49746448573306
           ],
           "z": [
            793.5627725196322,
            795.2542796011488
           ]
          }
         ]
        },
        {
         "data": [
          {
           "type": "scatter3d",
           "x": [
            134.2874925115115,
            134.40750041411565
           ],
           "y": [
            134.28441719801117,
            134.40442509979988
           ],
           "z": [
            791.0991490788858,
            792.7906561604025
           ]
          }
         ]
        },
        {
         "data": [
          {
           "type": "scatter3d",
           "x": [
            144.19491640195838,
            144.31492430456254
           ],
           "y": [
            144.19141737859798,
            144.3114252803867
           ],
           "z": [
            778.835600725739,
            780.5271078072557
           ]
          }
         ]
        },
        {
         "data": [
          {
           "type": "scatter3d",
           "x": [
            154.1024071950453,
            154.22241509764945
           ],
           "y": [
            154.09845712570475,
            154.21846502749347
           ],
           "z": [
            756.7721274601922,
            758.4636345417089
           ]
          }
         ]
        },
        {
         "data": [
          {
           "type": "scatter3d",
           "x": [
            164.0099648907722,
            164.12997279337637
           ],
           "y": [
            164.00553643933154,
            164.12554434112025
           ],
           "z": [
            724.9087292822455,
            726.6002363637622
           ]
          }
         ]
        },
        {
         "data": [
          {
           "type": "scatter3d",
           "x": [
            173.91758948913915,
            174.0375973917433
           ],
           "y": [
            173.9126553194783,
            174.032663221267
           ],
           "z": [
            683.245406191899,
            684.9369132734156
           ]
          }
         ]
        },
        {
         "data": [
          {
           "type": "scatter3d",
           "x": [
            183.82528099014587,
            183.94528889275003
           ],
           "y": [
            183.81981376614496,
            183.93982166793367
           ],
           "z": [
            631.7821581891528,
            633.4736652706695
           ]
          }
         ]
        },
        {
         "data": [
          {
           "type": "scatter3d",
           "x": [
            193.73303939379255,
            193.8530472963967
           ],
           "y": [
            193.72701177933166,
            193.84701968112037
           ],
           "z": [
            570.5189852740074,
            572.210492355524
           ]
          }
         ]
        },
        {
         "data": [
          {
           "type": "scatter3d",
           "x": [
            203.64086470007925,
            203.7608726026834
           ],
           "y": [
            203.6342493590384,
            203.7542572608271
           ],
           "z": [
            499.4558874464622,
            501.1473945279788
           ]
          }
         ]
        },
        {
         "data": [
          {
           "type": "scatter3d",
           "x": [
            213.54875690900596,
            213.66876481161012
           ],
           "y": [
            213.54152650526518,
            213.6615344070539
           ],
           "z": [
            418.59286470651705,
            420.28437178803364
           ]
          }
         ]
        },
        {
         "data": [
          {
           "type": "scatter3d",
           "x": [
            223.45671602057269,
            223.57672392317684
           ],
           "y": [
            223.44884321801197,
            223.56885111980068
           ],
           "z": [
            327.9299170541724,
            329.621424135689
           ]
          }
         ]
        },
        {
         "data": [
          {
           "type": "scatter3d",
           "x": [
            233.36474203477943,
            233.48474993738358
           ],
           "y": [
            233.35619949727877,
            233.47620739906748
           ],
           "z": [
            227.46704448942765,
            229.15855157094424
           ]
          }
         ]
        },
        {
         "data": [
          {
           "type": "scatter3d",
           "x": [
            243.27283495162618,
            243.39284285423034
           ],
           "y": [
            243.26359534306562,
            243.38360324485433
           ],
           "z": [
            117.20424701228356,
            118.89575409380016
           ]
          }
         ]
        },
        {
         "data": [
          {
           "type": "scatter3d",
           "x": [
            252.9541448628751,
            253.07415276547925
           ],
           "y": [
            252.94419773833968,
            253.0642056401284
           ],
           "z": [
            -8.881784197001252e-15,
            1.6915070815165945
           ]
          }
         ]
        },
        {
         "data": [
          {
           "type": "scatter3d",
           "x": [
            252.9541448628751,
            253.07415276547925
           ],
           "y": [
            252.94419773833968,
            253.0642056401284
           ],
           "z": [
            -8.881784197001252e-15,
            1.6915070815165945
           ]
          }
         ]
        }
       ],
       "layout": {
        "scene": {
         "xaxis": {
          "autorange": false,
          "range": [
           -500,
           500
          ]
         },
         "yaxis": {
          "autorange": false,
          "range": [
           -500,
           500
          ]
         },
         "zaxis": {
          "autorange": false,
          "range": [
           0,
           1000
          ]
         }
        },
        "template": {
         "data": {
          "bar": [
           {
            "error_x": {
             "color": "#2a3f5f"
            },
            "error_y": {
             "color": "#2a3f5f"
            },
            "marker": {
             "line": {
              "color": "#E5ECF6",
              "width": 0.5
             },
             "pattern": {
              "fillmode": "overlay",
              "size": 10,
              "solidity": 0.2
             }
            },
            "type": "bar"
           }
          ],
          "barpolar": [
           {
            "marker": {
             "line": {
              "color": "#E5ECF6",
              "width": 0.5
             },
             "pattern": {
              "fillmode": "overlay",
              "size": 10,
              "solidity": 0.2
             }
            },
            "type": "barpolar"
           }
          ],
          "carpet": [
           {
            "aaxis": {
             "endlinecolor": "#2a3f5f",
             "gridcolor": "white",
             "linecolor": "white",
             "minorgridcolor": "white",
             "startlinecolor": "#2a3f5f"
            },
            "baxis": {
             "endlinecolor": "#2a3f5f",
             "gridcolor": "white",
             "linecolor": "white",
             "minorgridcolor": "white",
             "startlinecolor": "#2a3f5f"
            },
            "type": "carpet"
           }
          ],
          "choropleth": [
           {
            "colorbar": {
             "outlinewidth": 0,
             "ticks": ""
            },
            "type": "choropleth"
           }
          ],
          "contour": [
           {
            "colorbar": {
             "outlinewidth": 0,
             "ticks": ""
            },
            "colorscale": [
             [
              0,
              "#0d0887"
             ],
             [
              0.1111111111111111,
              "#46039f"
             ],
             [
              0.2222222222222222,
              "#7201a8"
             ],
             [
              0.3333333333333333,
              "#9c179e"
             ],
             [
              0.4444444444444444,
              "#bd3786"
             ],
             [
              0.5555555555555556,
              "#d8576b"
             ],
             [
              0.6666666666666666,
              "#ed7953"
             ],
             [
              0.7777777777777778,
              "#fb9f3a"
             ],
             [
              0.8888888888888888,
              "#fdca26"
             ],
             [
              1,
              "#f0f921"
             ]
            ],
            "type": "contour"
           }
          ],
          "contourcarpet": [
           {
            "colorbar": {
             "outlinewidth": 0,
             "ticks": ""
            },
            "type": "contourcarpet"
           }
          ],
          "heatmap": [
           {
            "colorbar": {
             "outlinewidth": 0,
             "ticks": ""
            },
            "colorscale": [
             [
              0,
              "#0d0887"
             ],
             [
              0.1111111111111111,
              "#46039f"
             ],
             [
              0.2222222222222222,
              "#7201a8"
             ],
             [
              0.3333333333333333,
              "#9c179e"
             ],
             [
              0.4444444444444444,
              "#bd3786"
             ],
             [
              0.5555555555555556,
              "#d8576b"
             ],
             [
              0.6666666666666666,
              "#ed7953"
             ],
             [
              0.7777777777777778,
              "#fb9f3a"
             ],
             [
              0.8888888888888888,
              "#fdca26"
             ],
             [
              1,
              "#f0f921"
             ]
            ],
            "type": "heatmap"
           }
          ],
          "heatmapgl": [
           {
            "colorbar": {
             "outlinewidth": 0,
             "ticks": ""
            },
            "colorscale": [
             [
              0,
              "#0d0887"
             ],
             [
              0.1111111111111111,
              "#46039f"
             ],
             [
              0.2222222222222222,
              "#7201a8"
             ],
             [
              0.3333333333333333,
              "#9c179e"
             ],
             [
              0.4444444444444444,
              "#bd3786"
             ],
             [
              0.5555555555555556,
              "#d8576b"
             ],
             [
              0.6666666666666666,
              "#ed7953"
             ],
             [
              0.7777777777777778,
              "#fb9f3a"
             ],
             [
              0.8888888888888888,
              "#fdca26"
             ],
             [
              1,
              "#f0f921"
             ]
            ],
            "type": "heatmapgl"
           }
          ],
          "histogram": [
           {
            "marker": {
             "pattern": {
              "fillmode": "overlay",
              "size": 10,
              "solidity": 0.2
             }
            },
            "type": "histogram"
           }
          ],
          "histogram2d": [
           {
            "colorbar": {
             "outlinewidth": 0,
             "ticks": ""
            },
            "colorscale": [
             [
              0,
              "#0d0887"
             ],
             [
              0.1111111111111111,
              "#46039f"
             ],
             [
              0.2222222222222222,
              "#7201a8"
             ],
             [
              0.3333333333333333,
              "#9c179e"
             ],
             [
              0.4444444444444444,
              "#bd3786"
             ],
             [
              0.5555555555555556,
              "#d8576b"
             ],
             [
              0.6666666666666666,
              "#ed7953"
             ],
             [
              0.7777777777777778,
              "#fb9f3a"
             ],
             [
              0.8888888888888888,
              "#fdca26"
             ],
             [
              1,
              "#f0f921"
             ]
            ],
            "type": "histogram2d"
           }
          ],
          "histogram2dcontour": [
           {
            "colorbar": {
             "outlinewidth": 0,
             "ticks": ""
            },
            "colorscale": [
             [
              0,
              "#0d0887"
             ],
             [
              0.1111111111111111,
              "#46039f"
             ],
             [
              0.2222222222222222,
              "#7201a8"
             ],
             [
              0.3333333333333333,
              "#9c179e"
             ],
             [
              0.4444444444444444,
              "#bd3786"
             ],
             [
              0.5555555555555556,
              "#d8576b"
             ],
             [
              0.6666666666666666,
              "#ed7953"
             ],
             [
              0.7777777777777778,
              "#fb9f3a"
             ],
             [
              0.8888888888888888,
              "#fdca26"
             ],
             [
              1,
              "#f0f921"
             ]
            ],
            "type": "histogram2dcontour"
           }
          ],
          "mesh3d": [
           {
            "colorbar": {
             "outlinewidth": 0,
             "ticks": ""
            },
            "type": "mesh3d"
           }
          ],
          "parcoords": [
           {
            "line": {
             "colorbar": {
              "outlinewidth": 0,
              "ticks": ""
             }
            },
            "type": "parcoords"
           }
          ],
          "pie": [
           {
            "automargin": true,
            "type": "pie"
           }
          ],
          "scatter": [
           {
            "fillpattern": {
             "fillmode": "overlay",
             "size": 10,
             "solidity": 0.2
            },
            "type": "scatter"
           }
          ],
          "scatter3d": [
           {
            "line": {
             "colorbar": {
              "outlinewidth": 0,
              "ticks": ""
             }
            },
            "marker": {
             "colorbar": {
              "outlinewidth": 0,
              "ticks": ""
             }
            },
            "type": "scatter3d"
           }
          ],
          "scattercarpet": [
           {
            "marker": {
             "colorbar": {
              "outlinewidth": 0,
              "ticks": ""
             }
            },
            "type": "scattercarpet"
           }
          ],
          "scattergeo": [
           {
            "marker": {
             "colorbar": {
              "outlinewidth": 0,
              "ticks": ""
             }
            },
            "type": "scattergeo"
           }
          ],
          "scattergl": [
           {
            "marker": {
             "colorbar": {
              "outlinewidth": 0,
              "ticks": ""
             }
            },
            "type": "scattergl"
           }
          ],
          "scattermapbox": [
           {
            "marker": {
             "colorbar": {
              "outlinewidth": 0,
              "ticks": ""
             }
            },
            "type": "scattermapbox"
           }
          ],
          "scatterpolar": [
           {
            "marker": {
             "colorbar": {
              "outlinewidth": 0,
              "ticks": ""
             }
            },
            "type": "scatterpolar"
           }
          ],
          "scatterpolargl": [
           {
            "marker": {
             "colorbar": {
              "outlinewidth": 0,
              "ticks": ""
             }
            },
            "type": "scatterpolargl"
           }
          ],
          "scatterternary": [
           {
            "marker": {
             "colorbar": {
              "outlinewidth": 0,
              "ticks": ""
             }
            },
            "type": "scatterternary"
           }
          ],
          "surface": [
           {
            "colorbar": {
             "outlinewidth": 0,
             "ticks": ""
            },
            "colorscale": [
             [
              0,
              "#0d0887"
             ],
             [
              0.1111111111111111,
              "#46039f"
             ],
             [
              0.2222222222222222,
              "#7201a8"
             ],
             [
              0.3333333333333333,
              "#9c179e"
             ],
             [
              0.4444444444444444,
              "#bd3786"
             ],
             [
              0.5555555555555556,
              "#d8576b"
             ],
             [
              0.6666666666666666,
              "#ed7953"
             ],
             [
              0.7777777777777778,
              "#fb9f3a"
             ],
             [
              0.8888888888888888,
              "#fdca26"
             ],
             [
              1,
              "#f0f921"
             ]
            ],
            "type": "surface"
           }
          ],
          "table": [
           {
            "cells": {
             "fill": {
              "color": "#EBF0F8"
             },
             "line": {
              "color": "white"
             }
            },
            "header": {
             "fill": {
              "color": "#C8D4E3"
             },
             "line": {
              "color": "white"
             }
            },
            "type": "table"
           }
          ]
         },
         "layout": {
          "annotationdefaults": {
           "arrowcolor": "#2a3f5f",
           "arrowhead": 0,
           "arrowwidth": 1
          },
          "autotypenumbers": "strict",
          "coloraxis": {
           "colorbar": {
            "outlinewidth": 0,
            "ticks": ""
           }
          },
          "colorscale": {
           "diverging": [
            [
             0,
             "#8e0152"
            ],
            [
             0.1,
             "#c51b7d"
            ],
            [
             0.2,
             "#de77ae"
            ],
            [
             0.3,
             "#f1b6da"
            ],
            [
             0.4,
             "#fde0ef"
            ],
            [
             0.5,
             "#f7f7f7"
            ],
            [
             0.6,
             "#e6f5d0"
            ],
            [
             0.7,
             "#b8e186"
            ],
            [
             0.8,
             "#7fbc41"
            ],
            [
             0.9,
             "#4d9221"
            ],
            [
             1,
             "#276419"
            ]
           ],
           "sequential": [
            [
             0,
             "#0d0887"
            ],
            [
             0.1111111111111111,
             "#46039f"
            ],
            [
             0.2222222222222222,
             "#7201a8"
            ],
            [
             0.3333333333333333,
             "#9c179e"
            ],
            [
             0.4444444444444444,
             "#bd3786"
            ],
            [
             0.5555555555555556,
             "#d8576b"
            ],
            [
             0.6666666666666666,
             "#ed7953"
            ],
            [
             0.7777777777777778,
             "#fb9f3a"
            ],
            [
             0.8888888888888888,
             "#fdca26"
            ],
            [
             1,
             "#f0f921"
            ]
           ],
           "sequentialminus": [
            [
             0,
             "#0d0887"
            ],
            [
             0.1111111111111111,
             "#46039f"
            ],
            [
             0.2222222222222222,
             "#7201a8"
            ],
            [
             0.3333333333333333,
             "#9c179e"
            ],
            [
             0.4444444444444444,
             "#bd3786"
            ],
            [
             0.5555555555555556,
             "#d8576b"
            ],
            [
             0.6666666666666666,
             "#ed7953"
            ],
            [
             0.7777777777777778,
             "#fb9f3a"
            ],
            [
             0.8888888888888888,
             "#fdca26"
            ],
            [
             1,
             "#f0f921"
            ]
           ]
          },
          "colorway": [
           "#636efa",
           "#EF553B",
           "#00cc96",
           "#ab63fa",
           "#FFA15A",
           "#19d3f3",
           "#FF6692",
           "#B6E880",
           "#FF97FF",
           "#FECB52"
          ],
          "font": {
           "color": "#2a3f5f"
          },
          "geo": {
           "bgcolor": "white",
           "lakecolor": "white",
           "landcolor": "#E5ECF6",
           "showlakes": true,
           "showland": true,
           "subunitcolor": "white"
          },
          "hoverlabel": {
           "align": "left"
          },
          "hovermode": "closest",
          "mapbox": {
           "style": "light"
          },
          "paper_bgcolor": "white",
          "plot_bgcolor": "#E5ECF6",
          "polar": {
           "angularaxis": {
            "gridcolor": "white",
            "linecolor": "white",
            "ticks": ""
           },
           "bgcolor": "#E5ECF6",
           "radialaxis": {
            "gridcolor": "white",
            "linecolor": "white",
            "ticks": ""
           }
          },
          "scene": {
           "xaxis": {
            "backgroundcolor": "#E5ECF6",
            "gridcolor": "white",
            "gridwidth": 2,
            "linecolor": "white",
            "showbackground": true,
            "ticks": "",
            "zerolinecolor": "white"
           },
           "yaxis": {
            "backgroundcolor": "#E5ECF6",
            "gridcolor": "white",
            "gridwidth": 2,
            "linecolor": "white",
            "showbackground": true,
            "ticks": "",
            "zerolinecolor": "white"
           },
           "zaxis": {
            "backgroundcolor": "#E5ECF6",
            "gridcolor": "white",
            "gridwidth": 2,
            "linecolor": "white",
            "showbackground": true,
            "ticks": "",
            "zerolinecolor": "white"
           }
          },
          "shapedefaults": {
           "line": {
            "color": "#2a3f5f"
           }
          },
          "ternary": {
           "aaxis": {
            "gridcolor": "white",
            "linecolor": "white",
            "ticks": ""
           },
           "baxis": {
            "gridcolor": "white",
            "linecolor": "white",
            "ticks": ""
           },
           "bgcolor": "#E5ECF6",
           "caxis": {
            "gridcolor": "white",
            "linecolor": "white",
            "ticks": ""
           }
          },
          "title": {
           "x": 0.05
          },
          "xaxis": {
           "automargin": true,
           "gridcolor": "white",
           "linecolor": "white",
           "ticks": "",
           "title": {
            "standoff": 15
           },
           "zerolinecolor": "white",
           "zerolinewidth": 2
          },
          "yaxis": {
           "automargin": true,
           "gridcolor": "white",
           "linecolor": "white",
           "ticks": "",
           "title": {
            "standoff": 15
           },
           "zerolinecolor": "white",
           "zerolinewidth": 2
          }
         }
        },
        "title": {
         "text": "Rocket Movement"
        },
        "updatemenus": [
         {
          "buttons": [
           {
            "args": [
             null,
             {
              "frame": {
               "duration": 20,
               "redraw": true
              },
              "fromcurrent": true,
              "transition": {
               "duration": 10
              }
             }
            ],
            "label": "Play",
            "method": "animate"
           }
          ],
          "showactive": false,
          "type": "buttons",
          "x": 1.12,
          "xanchor": "right",
          "y": 1,
          "yanchor": "top"
         }
        ]
       }
      }
     },
     "metadata": {},
     "output_type": "display_data"
    }
   ],
   "source": [
    "###MAIN\n",
    "#Time-step\n",
    "dt = 0.1\n",
    "\n",
    "#Create System\n",
    "earth = Earth('earth')\n",
    "\n",
    "#Add RungeKutta driver\n",
    "driver = earth.add_driver(RungeKutta(order=4, dt=dt))\n",
    "driver.time_interval = (0, 40)\n",
    "\n",
    "#Add NonLinearSolver driver\n",
    "solver = driver.add_child(NonLinearSolver('solver', factor=1.0))\n",
    "\n",
    "\n",
    "# Add a recorder to capture time evolution in a dataframe\n",
    "driver.add_recorder(\n",
    "    DataFrameRecorder(includes=['Traj.r', 'Rocket.Kin.v', 'Rocket.Kin.a', 'Rocket.Dyn.m', 'Rocket.Thrust.Fp', 'Rocket.Kin.Kin_ang', 'Rocket.Kin.av']),\n",
    "    period=1,\n",
    ")\n",
    "\n",
    "#Initial conditions and constants\n",
    "\n",
    "l = 1.7 #Rocket's length on the plot\n",
    "\n",
    "driver.set_scenario(\n",
    "    init = {\n",
    "        'Traj.r' : np.array([0., 0., l/2]),\n",
    "        'Rocket.Kin.v' : np.zeros(3),\n",
    "        'Rocket.Kin.ar' : np.array([np.pi/6, -np.pi/2 + 0.1, np.pi/4]),\n",
    "        'Rocket.Kin.av' : np.zeros(3),\n",
    "    },\n",
    "    stop='Traj.r[2]<0'\n",
    "    )\n",
    "\n",
    "\n",
    "earth.run_drivers()\n",
    "\n",
    "# Retrieve recorded data\n",
    "data = driver.recorder.export_data()\n",
    "data = data.drop(['Section', 'Status', 'Error code'], axis=1)\n",
    "time = np.asarray(data['time'])\n",
    "traj = np.asarray(data['Traj.r'].tolist())\n",
    "velo = np.asarray(data['Rocket.Kin.v'].tolist())\n",
    "acel = np.asarray(data['Rocket.Kin.a'].tolist())\n",
    "ang = np.asarray(data['Rocket.Kin.Kin_ang'].tolist())\n",
    "avelo = np.asarray(data['Rocket.Kin.av'].tolist())\n",
    "\n",
    "#Plot results\n",
    "\n",
    "x=[]\n",
    "y=[]\n",
    "z=[]\n",
    "theta = []\n",
    "\n",
    "for i in range(len(traj)):\n",
    "    x.append(traj[i][0])\n",
    "    y.append(traj[i][1])\n",
    "    z.append(traj[i][2])\n",
    "\n",
    "for i in range(len(ang)):\n",
    "    theta.append(ang[1])\n",
    "\n",
    "fig = go.Figure(data=go.Scatter3d(\n",
    "    x=x, y=y, z=z,\n",
    "    marker=dict(\n",
    "        size=4,\n",
    "        color=z,\n",
    "        colorscale='Viridis',\n",
    "    ),\n",
    "    line=dict(\n",
    "        color='darkblue',\n",
    "        width=2\n",
    "    )\n",
    "))\n",
    "\n",
    "\n",
    "fig.update_layout(\n",
    "    scene = dict(\n",
    "        xaxis = dict(nticks=2, range=[-1000,1000],),\n",
    "        yaxis = dict(nticks=2, range=[-1000,1000],),\n",
    "        zaxis = dict(nticks=2, range=[0,1000],),),\n",
    "    width=700,\n",
    "    margin=dict(r=20, l=10, b=10, t=10))\n",
    "\n",
    "\n",
    "fig.show()\n",
    "\n",
    "#useful library zhen using euler angle\n",
    "\n",
    "\n",
    "rocket = np.array([l,0,0]) #representation of the rocket as a 3D vector that will be rotated and translated according to the computed trajectory\n",
    "\n",
    "rock = []\n",
    "\n",
    "for i in range(len(traj)):\n",
    "    rotation = R.from_euler('xyz', ang[i], degrees=False)\n",
    "    rotation.apply(rocket)\n",
    "    rock.append(rotation.apply(rocket))\n",
    "\n",
    "rock = np.asarray(rock)\n",
    "\n",
    "traj_bot = traj #traj[time][xyz]\n",
    "traj_top = traj + rock\n",
    "\n",
    "\n",
    "#Animation - Rocket's movement\n",
    "fig2 = go.Figure(data=[go.Scatter3d(x=[traj_bot[0][0], traj_top[0][0]], y=[traj_bot[0][1], traj_top[0][1]], z=[traj_bot[0][2], traj_top[0][2]])])\n",
    "\n",
    "fig2.update_layout(title='Rocket Movement',\n",
    "                  scene=dict(\n",
    "            xaxis=dict(range=[-500, 500], autorange=False),\n",
    "            yaxis=dict(range=[-500, 500], autorange=False),\n",
    "            zaxis=dict(range=[0, 1000], autorange=False),\n",
    "        ),\n",
    "                  updatemenus=[dict(buttons = [dict(\n",
    "                                               args = [None, {\"frame\": {\"duration\": 20, \n",
    "                                                                        \"redraw\": True},\n",
    "                                                              \"fromcurrent\": True, \n",
    "                                                              \"transition\": {\"duration\": 10}}],\n",
    "                                               label = \"Play\",\n",
    "                                               method = \"animate\")],\n",
    "                                type='buttons',\n",
    "                                showactive=False,\n",
    "                                y=1,\n",
    "                                x=1.12,\n",
    "                                xanchor='right',\n",
    "                                yanchor='top')])\n",
    "\n",
    "frames= [go.Frame(data=[go.Scatter3d(x=[traj_bot[i][0], traj_top[i][0]], y=[traj_bot[i][1], traj_top[i][1]], z=[traj_bot[i][2], traj_top[i][2]])]) for i in range(len(traj))]\n",
    "fig2.update(frames=frames)\n",
    "\n",
    "fig2.show()"
   ]
  },
  {
   "cell_type": "code",
   "execution_count": 544,
   "metadata": {},
   "outputs": [
    {
     "data": {
      "text/plain": [
       "array([[ 0.00000000e+00,  0.00000000e+00,  8.50000000e-01],\n",
       "       [ 1.88720848e+00,  1.88719481e+00,  2.25506772e+01],\n",
       "       [ 7.28649982e+00,  7.28644515e+00,  8.39549835e+01],\n",
       "       [ 1.55071594e+01,  1.55070364e+01,  1.75326964e+02],\n",
       "       [ 2.53102453e+01,  2.53100266e+01,  2.79203137e+02],\n",
       "       [ 3.52169333e+01,  3.52165916e+01,  3.74738762e+02],\n",
       "       [ 4.51236881e+01,  4.51231961e+01,  4.60474463e+02],\n",
       "       [ 5.50305099e+01,  5.50298401e+01,  5.36410239e+02],\n",
       "       [ 6.49373986e+01,  6.49365238e+01,  6.02546090e+02],\n",
       "       [ 7.48443541e+01,  7.48432470e+01,  6.58882016e+02],\n",
       "       [ 8.47513766e+01,  8.47500098e+01,  7.05418017e+02],\n",
       "       [ 9.46584660e+01,  9.46568121e+01,  7.42154093e+02],\n",
       "       [ 1.04565622e+02,  1.04563654e+02,  7.69090245e+02],\n",
       "       [ 1.14472845e+02,  1.14470536e+02,  7.86226471e+02],\n",
       "       [ 1.24380136e+02,  1.24377457e+02,  7.93562773e+02],\n",
       "       [ 1.34287493e+02,  1.34284417e+02,  7.91099149e+02],\n",
       "       [ 1.44194916e+02,  1.44191417e+02,  7.78835601e+02],\n",
       "       [ 1.54102407e+02,  1.54098457e+02,  7.56772127e+02],\n",
       "       [ 1.64009965e+02,  1.64005536e+02,  7.24908729e+02],\n",
       "       [ 1.73917589e+02,  1.73912655e+02,  6.83245406e+02],\n",
       "       [ 1.83825281e+02,  1.83819814e+02,  6.31782158e+02],\n",
       "       [ 1.93733039e+02,  1.93727012e+02,  5.70518985e+02],\n",
       "       [ 2.03640865e+02,  2.03634249e+02,  4.99455887e+02],\n",
       "       [ 2.13548757e+02,  2.13541527e+02,  4.18592865e+02],\n",
       "       [ 2.23456716e+02,  2.23448843e+02,  3.27929917e+02],\n",
       "       [ 2.33364742e+02,  2.33356199e+02,  2.27467044e+02],\n",
       "       [ 2.43272835e+02,  2.43263595e+02,  1.17204247e+02],\n",
       "       [ 2.52954145e+02,  2.52944198e+02, -8.88178420e-15],\n",
       "       [ 2.52954145e+02,  2.52944198e+02, -8.88178420e-15]])"
      ]
     },
     "execution_count": 544,
     "metadata": {},
     "output_type": "execute_result"
    }
   ],
   "source": [
    "traj"
   ]
  }
 ],
 "metadata": {
  "kernelspec": {
   "display_name": "Python 3 (ipykernel)",
   "language": "python",
   "name": "python3"
  },
  "language_info": {
   "codemirror_mode": {
    "name": "ipython",
    "version": 3
   },
   "file_extension": ".py",
   "mimetype": "text/x-python",
   "name": "python",
   "nbconvert_exporter": "python",
   "pygments_lexer": "ipython3",
   "version": "3.10.4"
  },
  "vscode": {
   "interpreter": {
    "hash": "756df94b4d22402393e8df6ec39ece82b7d0eb29c215af24100290b3ed3bf877"
   }
  }
 },
 "nbformat": 4,
 "nbformat_minor": 2
}
