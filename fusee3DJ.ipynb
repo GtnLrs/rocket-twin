{
 "cells": [
  {
   "cell_type": "code",
   "execution_count": 238,
   "metadata": {},
   "outputs": [],
   "source": [
    "import numpy as np\n",
    "import pandas as pd\n",
    "import plotly.graph_objs as go\n",
    "from cosapp.base import System, Port, BaseConnector\n",
    "from cosapp.drivers import RungeKutta, NonLinearSolver\n",
    "from cosapp.recorders import DataFrameRecorder\n",
    "from scipy.spatial.transform import Rotation as R"
   ]
  },
  {
   "cell_type": "code",
   "execution_count": 239,
   "metadata": {},
   "outputs": [],
   "source": [
    "###PORTS\n",
    "def RotMat3D(ang):\n",
    "    \n",
    "    #ang[0] = phi, ang[1] = theta, ang[2] = psi\n",
    "    #rotation matrix to go from R0 (earth frame) to R (rocket frame)\n",
    "    \n",
    "    l1 = np.array([np.cos(ang[2])*np.cos(ang[1]), np.sin(ang[2])*np.cos(ang[1]), -np.sin(ang[1])])\n",
    "    l2 = np.array([-np.sin(ang[2])*np.cos(ang[0]) + np.cos(ang[2])*np.sin(ang[1])*np.sin(ang[0]), \n",
    "                    np.cos(ang[2])*np.cos(ang[0]) + np.sin(ang[2])*np.sin(ang[1])*np.sin(ang[0]), np.cos(ang[1])*np.sin(ang[0])])\n",
    "    l3 = np.array([ np.sin(ang[2])*np.sin(ang[0]) + np.cos(ang[2])*np.sin(ang[1])*np.cos(ang[0]), \n",
    "                   -np.cos(ang[2])*np.sin(ang[0]) + np.sin(ang[2])*np.sin(ang[1])*np.cos(ang[0]), np.cos(ang[1])*np.cos(ang[0])])\n",
    "    \n",
    "    A = np.round(np.array([l1,l2,l3]), 5)\n",
    "    \n",
    "    return A\n",
    "\n",
    "\n",
    "class VelPort(Port):\n",
    "    \"\"\"Velocity Port \"\"\"\n",
    "    def setup(self):\n",
    "        self.add_variable('val', np.zeros(3), desc = \"Velocity Components\", unit = 'm/s')\n",
    "        \n",
    "\n",
    "    class Connector(BaseConnector):\n",
    "        \"\"\"Custom connector for `VelPort` objects\n",
    "        \"\"\"\n",
    "        def __init__(self, name: str, sink: Port, source: Port, *args, **kwargs):\n",
    "            super().__init__(name, sink, source)\n",
    "\n",
    "        def transfer(self) -> None:\n",
    "            sink = self.sink\n",
    "            source = self.source\n",
    "            \n",
    "            #Parent --> Child\n",
    "            if sink.owner.parent == source.owner:\n",
    "                sink.val = np.matmul(RotMat3D(sink.owner[f'{sink.owner.name}_ang']), source.val)\n",
    "\n",
    "            #Child --> Parent\n",
    "            elif sink.owner == source.owner.parent:\n",
    "                sink.val = np.matmul(np.transpose(RotMat3D(source.owner[f'{source.owner.name}_ang'])), source.val)\n",
    "                \n",
    "            else:\n",
    "                sink.val = source.val\n",
    "\n",
    "\n",
    "\n",
    "class AclPort(Port):\n",
    "    \"\"\"Acceleration Port \"\"\"\n",
    "    def setup(self):\n",
    "        self.add_variable('val', np.zeros(3), desc = \"Acceleration Components\", unit = 'm/s**2')\n",
    "        \n",
    "\n",
    "    class Connector(BaseConnector):\n",
    "        \"\"\"Custom connector for `AclPort` objects\n",
    "        \"\"\"\n",
    "        def __init__(self, name: str, sink: Port, source: Port, *args, **kwargs):\n",
    "            super().__init__(name, sink, source)\n",
    "\n",
    "        def transfer(self) -> None:\n",
    "            sink = self.sink\n",
    "            source = self.source\n",
    "\n",
    "            #Parent --> Child\n",
    "            if sink.owner.parent == source.owner:\n",
    "                sink.val = np.matmul((RotMat3D(sink.owner[f'{sink.owner.name}_ang'])), source.val)\n",
    "\n",
    "            #Child --> Parent\n",
    "            elif sink.owner == source.owner.parent:\n",
    "                sink.val = np.matmul(np.transpose(RotMat3D(source.owner[f'{source.owner.name}_ang'])), source.val)\n",
    "                \n",
    "            else:\n",
    "                sink.val = source.val"
   ]
  },
  {
   "cell_type": "code",
   "execution_count": 240,
   "metadata": {},
   "outputs": [],
   "source": [
    "###KINEMATICS\n",
    "class Kinematics(System):\n",
    "    \n",
    "    def setup(self):\n",
    "    \n",
    "        #System orientation\n",
    "        self.add_outward('Kin_ang', np.zeros(3), desc = \"Rocket Euler Angles\", unit = '')\n",
    "        \n",
    "        #Dynamics inputs\n",
    "        self.add_inward('a', np.zeros(3), desc = \"Rocket Acceleration\", unit = 'm/s**2')\n",
    "        self.add_inward('aa', np.zeros(3), desc = \"Rocket Angular Acceleration\", unit = '1/s**2')\n",
    "        self.add_outward('av2', np.zeros(3), desc = \"Rocket Angular Velocity\", unit = '1/s')\n",
    "        \n",
    "        #Kinematics transients\n",
    "        self.add_transient('v', der = 'a', desc = \"Rocket Velocity\")\n",
    "        self.add_transient('av', der = 'aa', desc = \"Rocket Angular Velocity (pqr)\")\n",
    "        self.add_transient('ar', der = 'av2', desc = \"Rocket Angular Position\")\n",
    "        \n",
    "        #Kinematics outputs\n",
    "        self.add_output(VelPort, 'v_out')\n",
    "        self.add_outward('v_cpa',  np.zeros(3), desc='CPA velocity', unit = 'm/s')\n",
    "        self.add_outward('av_out', np.zeros(3), desc = \"Rocket Angular Velocity (pqr)\", unit = '1/s')\n",
    "        \n",
    "    def compute(self):\n",
    "        #compute angular velocity to obtain angular position\n",
    "        self.av2[0] = self.av[0] + np.tan(self.ar[1])*(self.av[2]*np.cos(self.ar[0]) + self.av[1]*np.sin(self.ar[0]))\n",
    "        self.av2[1] = self.av[1]*np.cos(self.ar[0]) - self.av[2]*np.sin(self.ar[0])\n",
    "        self.av2[2] = (self.av[2]*np.cos(self.ar[0]) + self.av[1]*np.sin(self.ar[0]))/(np.cos(self.ar[1]))\n",
    "\n",
    "        self.v_out.val = self.v\n",
    "        self.av_out = self.av\n",
    "        self.Kin_ang = self.ar\n",
    "        self.v_cpa = self.v\n"
   ]
  },
  {
   "cell_type": "code",
   "execution_count": 241,
   "metadata": {},
   "outputs": [],
   "source": [
    "###THRUST\n",
    "thrust_data = pd.read_csv(\"thrust.txt\", header=None)\n",
    "times = list(thrust_data.iloc[0])\n",
    "thrusts = list(thrust_data.iloc[1])\n",
    "\n",
    "def mean(x, y, fx, fy, t):\n",
    "    \"\"\"Calculates the linear regression between x and y and evaluates it at t\"\"\"\n",
    "    percent = (t - x)/(y - x)\n",
    "    return (fx + (fy - fx)*percent)\n",
    "\n",
    "\n",
    "def thrust(time):\n",
    "    \"\"\"Calculates the thrust of the rocket\"\"\"\n",
    "\n",
    "    #If the time is superior to the last data point there is no more thrust\n",
    "    if time >= times[-1]:\n",
    "        return 0\n",
    "\n",
    "    i=0\n",
    "    while times[i] <= time:\n",
    "        i += 1\n",
    "\n",
    "    return mean(times[i - 1], times[i], thrusts[i - 1], thrusts[i], time) "
   ]
  },
  {
   "cell_type": "code",
   "execution_count": 242,
   "metadata": {},
   "outputs": [],
   "source": [
    "###DYNAMICS\n",
    "class Dynamics(System):\n",
    "    def setup(self):\n",
    "    \n",
    "        #System orientation\n",
    "        self.add_inward('Dyn_ang', np.zeros(3), desc = \"Rocket Euler Angles\", unit = '')\n",
    "        \n",
    "        #Geometry\n",
    "        self.add_inward('l', desc = \"Rocket length\", unit = 'm')\n",
    "        self.add_inward('I', desc = \"Matrix of inertia\")\n",
    "        self.add_inward('m', desc = \"mass\", unit = 'kg')\n",
    "        self.add_inward('S_ref', desc = \"aerodynaamic reference area\", unit = 'm**2')\n",
    "        \n",
    "        #Kinematics inputs\n",
    "        self.add_input(VelPort, 'v_in')\n",
    "        self.add_inward('av_in', np.zeros(3), desc = \"Rocket Angular Velocity\", unit = '1/s')\n",
    "        \n",
    "        #AeroForces inputs\n",
    "        self.add_inward('Fa', np.zeros(3), desc = \"Thrust Force\", unit = 'N')\n",
    "        self.add_inward('Ma', np.zeros(3), desc = \"Aerodynamic Moment\", unit = 'N*m')\n",
    "        \n",
    "        #Gravity inputs\n",
    "        self.add_input(AclPort, 'g')\n",
    "        \n",
    "        #Dynamics outputs\n",
    "        self.add_outward('a', np.zeros(3), desc = \"Rocket Acceleration\", unit = 'm/s**2')\n",
    "        self.add_outward('aa', np.zeros(3), desc = \"Rocket Angular Acceleration\", unit = '1/s**2')\n",
    "        \n",
    "    def compute(self):\n",
    "\n",
    "        I = self.I\n",
    "        \n",
    "        v = self.v_in.val\n",
    "        av = self.av_in\n",
    "\n",
    "        Fp = thrust(self.time)\n",
    "\n",
    "        \n",
    "        #Acceleration\n",
    "        self.a[0] = (self.Fa[0] + Fp)/self.m + self.g.val[0] + av[2]*v[1] - av[1]*v[2]\n",
    "        self.a[1] = self.Fa[1]/self.m + self.g.val[1] + av[0]*v[2] - av[2]*v[0]\n",
    "        self.a[2] = self.Fa[2]/self.m + self.g.val[2] + av[1]*v[0] - av[0]*v[1]\n",
    "        \n",
    "        #Angular acceleration (no momentum associated to thrust)\n",
    "        self.aa[0] = (self.Ma[0] + (I[1] - I[2])*av[1]*av[2])/I[0] \n",
    "        self.aa[1] = (self.Ma[1] + (I[2] - I[0])*av[2]*av[0])/I[1]\n",
    "        self.aa[2] = (self.Ma[2] + (I[0] - I[1])*av[0]*av[1])/I[2]"
   ]
  },
  {
   "cell_type": "code",
   "execution_count": 243,
   "metadata": {},
   "outputs": [],
   "source": [
    "# ###AERO\n",
    "# class Aerodynamics(System):\n",
    "#     def setup(self):\n",
    "#         #System orientation\n",
    "#         self.add_inward('Aero_ang', np.zeros(3), desc = \"Rocket Euler Angles\")\n",
    "        \n",
    "#         #Geometry\n",
    "#         self.add_inward('l', desc = \"Rocket length\", unit = 'm')\n",
    "#         self.add_inward('I', desc = \"Matrix of inertia\")\n",
    "#         self.add_inward('m', desc = \"mass\", unit = 'kg')\n",
    "#         self.add_inward('S_ref', desc = \"aerodynamic reference area\", unit = 'm**2')\n",
    "#         self.add_inward('L_ref', 0.07, desc = \"Rocket caliber\", unit = 'm')\n",
    "\n",
    "#         self.add_input(VelPort, 'v_in')\n",
    "#         self.add_inward('av_in', np.zeros(3), desc = \"Rocket Angular Velocity (pqr)\", unit = '1/s')\n",
    "        \n",
    "#         self.add_outward('Fa', np.zeros(3), desc = \"Aerodynamics Forces\", unit = 'N')\n",
    "#         self.add_outward('Ma', np.zeros(3), desc = \"Aerodynamics Moments\", unit = 'N*m')\n",
    "                \n",
    "\n",
    "#     def compute(self):\n",
    "#         rho = 1         #atmospheric density\n",
    "#         S = self.S_ref  # aerodynamic reference area, m^2\n",
    "#         self.L_ref = 0.07\n",
    "\n",
    "#         v = self.v_in.val\n",
    "\n",
    "#         av = self.av_in\n",
    "        \n",
    "#         alpha, beta = - np.arctan2(v[2],v[0]), np.arctan2(v[1],v[0])\n",
    "#         print(alpha, beta)\n",
    "#         #moment coefficients\n",
    "#         Cna = 0.2\n",
    "#         Cd = 0.5\n",
    "#         Cmq = -40\n",
    "#         Xcg = 0\n",
    "#         Xcp = -0.1\n",
    "#         Ca = (Cd - Cna*alpha*np.sin(alpha))/np.cos(alpha)\n",
    "#         Cyb = - Cna\n",
    "#         Cma = Cna*(Xcg - Xcp)/self.L_ref\n",
    "#         Cnb = - Cma\n",
    "#         Cnr = Cmq\n",
    "#         Cl = 0\n",
    "#         Cnp = 0\n",
    "#         Cmap = -2\n",
    "#         Clp = - 0.22\n",
    "\n",
    "#         #computation of the magnitutde of velocity vector of the center of mass of the rocket, m/s\n",
    "#         Vm = np.linalg.norm(v)\n",
    "        \n",
    "#         #Aero forces\n",
    "#         # self.Fa[0] = -0.5*rho*S*Vm**2*Ca\n",
    "#         # self.Fa[1] = -0.5*rho*S*Vm**2*Cyb*beta\n",
    "#         # self.Fa[2] = -0.5*rho*S*Vm**2*Cna*alpha\n",
    "#         # #Aero moment\n",
    "#         # if Vm == 0:\n",
    "#         #     self.Ma = np.zeros(3)\n",
    "#         # else:\n",
    "#         #     self.Ma[0] = 0.5*rho*Vm**2*self.L_ref*(Cl + Clp*av[0]*self.L_ref/(2*Vm))*.1\n",
    "#         #     self.Ma[1] = 0.5*rho*Vm**2*self.L_ref*(Cma*alpha + (Cmap + Cmq)*av[1]*self.L_ref/(2*Vm))*.1\n",
    "#         #     self.Ma[2] = 0.5*rho*Vm**2*self.L_ref*(Cnb*beta + (Cnr*av[2] + Cnp*av[1])*self.L_ref/(2*Vm))*.1\n",
    "\n"
   ]
  },
  {
   "cell_type": "code",
   "execution_count": 244,
   "metadata": {},
   "outputs": [],
   "source": [
    "class Alpha(System):\n",
    "    def setup(self):\n",
    "        self.add_inward('v_cpa', np.zeros(3), desc='CPA velocity', unit='m/s') \n",
    "        self.add_outward('alpha', 0., desc='angle of attack', unit='') \n",
    "\n",
    "    def compute(self):\n",
    "        self.alpha = np.arccos(self.v_cpa[0]/np.linalg.norm(self.v_cpa)) if np.linalg.norm(self.v_cpa)>0.1 else 0"
   ]
  },
  {
   "cell_type": "code",
   "execution_count": 245,
   "metadata": {},
   "outputs": [],
   "source": [
    "class Coefficients(System):\n",
    "    def setup(self):\n",
    "        self.add_inward('alpha', 0., desc='angle of attack', unit='') \n",
    "        self.add_inward('v_cpa', np.zeros(3), desc='CPA velocity', unit='m/s') \n",
    "\n",
    "        # Rocket's Geometry\n",
    "        self.add_inward('ln', 0.2, desc=\"Length of the cone\", unit='m')\n",
    "        self.add_inward('dn', 0.15, desc='Rocket caliber', unit='m')\n",
    "        self.add_inward('l', 2, desc = \"Rocket length\", unit = 'm')\n",
    "        self.add_inward('xf', self.l - 0.2, desc = \"Rocket minus fins length\", unit = 'm')\n",
    "        self.add_inward('S_ref', np.pi*(self.dn/2)**2, desc=\"Reference Surface\", unit=\"m**2\")\n",
    "\n",
    "        #Fins' Geometry, check the plan for explanation\n",
    "        self.add_inward('lr', 0.16, unit = 'm')\n",
    "        self.add_inward('lt', 0.12, unit='m')\n",
    "        self.add_inward('ls', 0.12, unit = 'm')\n",
    "        self.add_inward('lw', 0.05, unit = 'm')\n",
    "        self.add_inward('lm', 0.2, unit = 'm')\n",
    "        self.add_inward('lts', 2*self.ls + self.dn, unit = 'm')\n",
    "        self.add_inward('tf', 0.005, desc = 'Thickness', unit='m')\n",
    "        \n",
    "        #Coefficients outwards\n",
    "        self.add_outward('Cd', 0., desc='Drag coefficient', unit='')\n",
    "        self.add_outward('Cn', 0., desc='Normal coefficient', unit='')\n",
    "        self.add_outward('Xcp', 0., desc='CPA position from the rocket top', unit='m')\n",
    "\n",
    "    def compute(self):\n",
    "        if np.linalg.norm(self.v_cpa)>10:\n",
    "            cna_c = 2\n",
    "            cna_b = 0\n",
    "            cna_f = (1 + self.dn/(self.ls + self.dn/2))*4*4*(self.ls/self.dn)**2/(1 + (1 + 2*self.lm/(self.lr + self.lt))**0.5)\n",
    "            cna = cna_c + cna_b + cna_f\n",
    "            self.Cn = cna*self.alpha\n",
    "\n",
    "            self.Xcp = 1/cna*(cna_c*2/3*self.ln + cna_f*(self.xf + self.lm*(self.lr + 2*self.lt)/(3*(self.lr+self.lt)) + 1/6*(self.lr + self.lt - self.lr*self.lt/(self.lr+self.lt))))\n",
    "\n",
    "            Rec = 5*10**5\n",
    "            Ref =  Rec #np.linalg.norm(self.v_cpa) * self.l / (15.6*10**(-6))\n",
    "            Refb = Rec #np.linalg.norm(self.v_cpa) * self.lm / (15.6*10**(-6))\n",
    "\n",
    "            Bf = Rec * (0.074/Ref**0.2) - 1.328/Ref**0.5\n",
    "            Bfb = Rec * (0.074/Refb**0.2) - 1.328/Refb**0.5\n",
    "\n",
    "            cffb = 1.328/Refb**0.5 if Refb < Rec else 0.074/Refb**0.2 - Bfb/Refb\n",
    "            cff = 1.328/Ref**0.5 if Ref < Rec else 0.074/Ref**0.2 - Bf/Ref\n",
    "\n",
    "            afe = 1/2 * (self.lr + self.lt)*self.ls\n",
    "            afb = afe + 0.5*self.dn*self.lr\n",
    "            cdi = 2*cff*(1+2*self.tf/self.lm)*4*4*(afb - afe)/(np.pi*self.dn**2)\n",
    "            cdf = 2*cff*(1+2*self.tf/self.lm)*4*4*(afb)/(np.pi*self.dn**2)\n",
    "            cdfb = (1 + 60/(self.l/self.dn)**3 + 0.0025*self.l/self.dn)*(2.7*self.l/self.dn + 4*self.l/self.dn)*(cffb)\n",
    "            cdb = 0.029/cdfb**0.5\n",
    "            cd0 = cdfb + cdb + cdf + cdi\n",
    "            cdba = 2*0.9*self.alpha**2 + 3.6*0.7*(1.36*self.l - 0.55*self.ln)/(np.pi*self.dn)*self.alpha**3\n",
    "            rs = self.lts/self.dn\n",
    "            kfb = 0.8065*rs**2 + 1.1553*rs\n",
    "            kbf = 0.1935*rs**2 + 0.8174*rs + 1\n",
    "            cdfa = self.alpha**2*(1.2*afb**4/(np.pi*self.dn**2) + 3.12*(kfb + kbf - 1)*afe**4/(np.pi*self.dn**2))\n",
    "            self.Cd = cd0 + cdba + cdfa \n",
    "\n",
    "\n"
   ]
  },
  {
   "cell_type": "code",
   "execution_count": 246,
   "metadata": {},
   "outputs": [],
   "source": [
    "class AeroForces(System):\n",
    "    def setup(self):\n",
    "        self.add_inward('v_cpa', np.zeros(3), desc='CPA velocity', unit='m/s') \n",
    "\n",
    "        #Coefficients inwards\n",
    "        self.add_inward('Cd', 0., desc='Drag coefficient', unit='')\n",
    "        self.add_inward('Cn', 0., desc='Normal coefficient', unit='')\n",
    "        self.add_inward('S_ref', 1., desc=\"Reference Surface\", unit=\"m**2\")\n",
    "\n",
    "        #Atmosphere\n",
    "        self.add_inward('rho', 1.292, unit=\"kg/m**3\")\n",
    "\n",
    "        self.add_outward('Fa', np.zeros(3) , desc='Aerodynamic Forces', unit='N')\n",
    "\n",
    "    def compute(self):\n",
    "        print(self.Cn,self.Cd)\n",
    "        Fn = 0.5*self.rho*np.linalg.norm(self.v_cpa)**2*(self.S_ref*self.Cn)\n",
    "        Fd = 0.5*self.rho*np.linalg.norm(self.v_cpa)**2*(self.S_ref*self.Cd)\n",
    "\n",
    "        #alpha and beta are the angles defined in the Rapport intermédiaire\n",
    "        alpha = np.arctan2(self.v_cpa[2], self.v_cpa[0]) # Maybe should be with a - ?\n",
    "        beta = np.arctan2(self.v_cpa[1], self.v_cpa[0])\n",
    "\n",
    "        # Check polar coordinates formulas\n",
    "        Fd_vector = np.array([-Fd*np.cos(alpha)*np.cos(beta),\n",
    "                            -Fd*np.cos(alpha)*np.sin(beta),\n",
    "                            -Fd*np.sin(alpha)])\n",
    "        \n",
    "        angle = np.arctan2(self.v_cpa[2], self.v_cpa[1])\n",
    "        Fn_vector = np.array([0,\n",
    "                            -Fn*np.sin(angle),\n",
    "                            -Fn*np.cos(angle)])\n",
    "        self.Fa = Fd_vector + Fn_vector\n",
    "\n"
   ]
  },
  {
   "cell_type": "code",
   "execution_count": 247,
   "metadata": {},
   "outputs": [],
   "source": [
    "class Moments(System):\n",
    "    def setup(self):\n",
    "        #AeroForces inward\n",
    "        self.add_inward('Fa', np.zeros(3) , desc='Aerodynamic Forces', unit='N')\n",
    "\n",
    "        #Geometry inwards\n",
    "        self.add_inward('Xcp', 0., desc='CPA position from the rocket top', unit='m')\n",
    "        self.add_inward('l', 2, desc = \"Rocket length\", unit = 'm')\n",
    "\n",
    "        #Outward\n",
    "        self.add_outward('Ma', np.zeros(3) , desc='Aerodynamic Moments', unit='N*m')\n",
    "\n",
    "    def compute(self):\n",
    "        OM = np.array([self.l/2 - self.Xcp, 0, 0])\n",
    "        self.Ma = np.cross(OM, self.Fa)"
   ]
  },
  {
   "cell_type": "code",
   "execution_count": 248,
   "metadata": {},
   "outputs": [],
   "source": [
    "class Aerodynamics(System):\n",
    "    def setup(self):\n",
    "        #System orientation\n",
    "        self.add_inward('Aero_ang', np.zeros(3), desc = \"Rocket Euler Angles\")\n",
    "        \n",
    "        #Geometry\n",
    "        #TODO Create a mass System\n",
    "        self.add_inward('m', desc = \"mass\", unit = 'kg')\n",
    "\n",
    "        self.add_input(VelPort, 'v_in')\n",
    "        self.add_inward('av_in', np.zeros(3), desc = \"Rocket Angular Velocity (pqr)\", unit = '1/s')\n",
    "        \n",
    "        self.add_outward('Fa', np.zeros(3), desc = \"Aerodynamics Forces\", unit = 'N')\n",
    "        self.add_outward('Ma', np.zeros(3), desc = \"Aerodynamics Moments\", unit = 'N*m')\n",
    "                \n",
    "\n",
    "        self.add_child(Alpha('Alpha'), pulling=['v_cpa'])\n",
    "        self.add_child(AeroForces('Aeroforces'), pulling=['v_cpa', 'Fa'])\n",
    "        self.add_child(Coefficients('Coefs'), pulling=['v_cpa', 'l', 'S_ref'])\n",
    "        self.add_child(Moments('Moments'), pulling=['Ma'])\n",
    "\n",
    "        self.connect(self.Alpha, self.Coefs, ['alpha'])\n",
    "        self.connect(self.Coefs, self.Aeroforces, ['Cd', 'Cn', 'S_ref'])\n",
    "        self.connect(self.Coefs, self.Moments, ['Xcp', 'l'])\n",
    "\n",
    "        self.exec_order = ['Alpha', 'Coefs', 'Aeroforces', 'Moments']\n"
   ]
  },
  {
   "cell_type": "code",
   "execution_count": 249,
   "metadata": {},
   "outputs": [],
   "source": [
    "###TRAJECTORY\n",
    "class Trajectory(System):\n",
    "    \n",
    "    def setup(self):\n",
    "    \n",
    "        #Rocket inputs\n",
    "        self.add_input(VelPort, 'v')\n",
    "        \n",
    "        #Trajectory transients\n",
    "        self.add_transient('r', der = 'v.val', desc = \"Rocket Position\")"
   ]
  },
  {
   "cell_type": "code",
   "execution_count": 250,
   "metadata": {},
   "outputs": [],
   "source": [
    "###ROCKET\n",
    "class Rocket(System):\n",
    "    \n",
    "    def setup(self):\n",
    "\n",
    "        #System orientation\n",
    "        self.add_inward('Rocket_ang', np.zeros(3), desc = \"Earth Euler Angles\", unit = '')\n",
    "        \n",
    "        #Gravity input\n",
    "        self.add_input(AclPort, 'g')\n",
    "        \n",
    "        #Rocket parameters\n",
    "        self.add_inward('l', 2., desc='Rocket length', unit='m')\n",
    "        self.add_inward('I', np.array([10., 100., 100.]), desc = \"Matrix of inertia\")\n",
    "        self.add_inward('m', 15, desc = \"mass\", unit = 'kg')\n",
    "        self.add_inward('S_ref', 1., desc=\"Reference Surface\", unit=\"m**2\")\n",
    "\n",
    "        #Rocket children\n",
    "        self.add_child(Kinematics('Kin'), pulling = ['v_out'])\n",
    "        self.add_child(Dynamics('Dyn'), pulling = ['g', 'l', 'I', 'm', 'S_ref'])\n",
    "        self.add_child(Aerodynamics('Aero'), pulling = ['l', 'm', 'S_ref'])\n",
    "        \n",
    "        #Child-Child connections\n",
    "        self.connect(self.Kin, self.Dyn, {'Kin_ang' : 'Dyn_ang', 'v_out' : 'v_in', 'a': 'a', 'aa' : 'aa'})\n",
    "        self.connect(self.Kin, self.Aero, {'Kin_ang' : 'Aero_ang','v_out' : 'v_in', 'av_out': 'av_in', 'v_cpa':'v_cpa'})\n",
    "        self.connect(self.Dyn, self.Aero, ['Fa', 'Ma'])\n",
    "        \n",
    "        #Execution order\n",
    "        self.exec_order = ['Aero', 'Dyn', 'Kin']"
   ]
  },
  {
   "cell_type": "code",
   "execution_count": 251,
   "metadata": {},
   "outputs": [],
   "source": [
    "###GRAVITY\n",
    "class Gravity(System):\n",
    "    \n",
    "    def setup(self):\n",
    "        #Gravity outputs\n",
    "        self.add_output(AclPort, 'g')\n",
    "        \n",
    "    def compute(self):\n",
    "        \n",
    "        # self.g.val = np.array([0., 0., self.G*self.M/(self.R - self.r_in[2])**2])\n",
    "        self.g.val = np.array([0, 0, -9.8])"
   ]
  },
  {
   "cell_type": "code",
   "execution_count": 252,
   "metadata": {},
   "outputs": [],
   "source": [
    "###EARTH\n",
    "class Earth(System):\n",
    "    \n",
    "    def setup(self):\n",
    "        \n",
    "        #Earth children\n",
    "        self.add_child(Rocket('Rocket'))\n",
    "        self.add_child(Trajectory('Traj'))\n",
    "        self.add_child(Gravity('Grav'))\n",
    "        \n",
    "        self.connect(self.Rocket, self.Traj, {'v_out' : 'v'})\n",
    "        self.connect(self.Rocket, self.Grav, ['g'])\n",
    "        \n",
    "        #Execution order\n",
    "        self.exec_order = ['Grav', 'Rocket', 'Traj']"
   ]
  },
  {
   "cell_type": "code",
   "execution_count": 253,
   "metadata": {},
   "outputs": [
    {
     "data": {
      "application/vnd.plotly.v1+json": {
       "config": {
        "plotlyServerURL": "https://plot.ly"
       },
       "data": [
        {
         "line": {
          "color": "darkblue",
          "width": 2
         },
         "marker": {
          "color": [
           0.85,
           21.90004284447528,
           81.352313219616,
           169.47084234307087,
           268.7926105484494,
           358.4742318649352,
           437.0586114897,
           504.54902721826886,
           560.9504227623045,
           606.2708314903706,
           640.524813260862,
           663.7437441777372,
           676.0197922369115,
           677.7792370983957,
           669.3303037777393,
           650.0319855621756,
           619.7237665972485,
           578.3676139015482,
           525.9482941127986,
           462.4579075363058,
           387.89170786344886,
           302.2465592630547,
           205.52024788132428,
           97.71113251260134,
           2.9976021664879227e-13,
           2.9976021664879227e-13
          ],
          "colorscale": [
           [
            0,
            "#440154"
           ],
           [
            0.1111111111111111,
            "#482878"
           ],
           [
            0.2222222222222222,
            "#3e4989"
           ],
           [
            0.3333333333333333,
            "#31688e"
           ],
           [
            0.4444444444444444,
            "#26828e"
           ],
           [
            0.5555555555555556,
            "#1f9e89"
           ],
           [
            0.6666666666666666,
            "#35b779"
           ],
           [
            0.7777777777777778,
            "#6ece58"
           ],
           [
            0.8888888888888888,
            "#b5de2b"
           ],
           [
            1,
            "#fde725"
           ]
          ],
          "size": 4
         },
         "type": "scatter3d",
         "x": [
          0,
          1.6763194435840376,
          6.427021440503086,
          13.560529049533356,
          21.835950947984998,
          29.769466540442142,
          37.249859883915384,
          44.267277280235305,
          50.808668458686455,
          56.85589260530372,
          62.38195011664257,
          67.34234694232568,
          71.65158421716143,
          75.16495088536425,
          78.12093241864396,
          80.67561972315387,
          82.83071293460203,
          84.58434421561654,
          85.9346725879067,
          86.88015092106656,
          87.41949054662346,
          87.55160401108077,
          87.27555920066827,
          86.59054565492482,
          85.71276788849185,
          85.71276788849185
         ],
         "y": [
          0,
          1.8303479201484814,
          7.069492742944961,
          15.028267349272713,
          24.46461645253844,
          33.89022885828221,
          43.18660906298143,
          52.33437687084465,
          61.307710823488016,
          70.07054636797773,
          78.56893727579828,
          86.71332883676506,
          94.32875187651604,
          101.04090555651594,
          106.60007952006896,
          111.39857036938581,
          115.68599440934223,
          119.56181747044121,
          123.07682415437459,
          126.26161573379873,
          129.1366549189842,
          131.71662832855375,
          134.01262876348758,
          136.03336245432334,
          137.5040455185895,
          137.5040455185895
         ],
         "z": [
          0.85,
          21.90004284447528,
          81.352313219616,
          169.47084234307087,
          268.7926105484494,
          358.4742318649352,
          437.0586114897,
          504.54902721826886,
          560.9504227623045,
          606.2708314903706,
          640.524813260862,
          663.7437441777372,
          676.0197922369115,
          677.7792370983957,
          669.3303037777393,
          650.0319855621756,
          619.7237665972485,
          578.3676139015482,
          525.9482941127986,
          462.4579075363058,
          387.89170786344886,
          302.2465592630547,
          205.52024788132428,
          97.71113251260134,
          2.9976021664879227e-13,
          2.9976021664879227e-13
         ]
        }
       ],
       "layout": {
        "margin": {
         "b": 10,
         "l": 10,
         "r": 20,
         "t": 10
        },
        "scene": {
         "xaxis": {
          "nticks": 2,
          "range": [
           -1000,
           1000
          ]
         },
         "yaxis": {
          "nticks": 2,
          "range": [
           -1000,
           1000
          ]
         },
         "zaxis": {
          "nticks": 2,
          "range": [
           0,
           1000
          ]
         }
        },
        "template": {
         "data": {
          "bar": [
           {
            "error_x": {
             "color": "#2a3f5f"
            },
            "error_y": {
             "color": "#2a3f5f"
            },
            "marker": {
             "line": {
              "color": "#E5ECF6",
              "width": 0.5
             },
             "pattern": {
              "fillmode": "overlay",
              "size": 10,
              "solidity": 0.2
             }
            },
            "type": "bar"
           }
          ],
          "barpolar": [
           {
            "marker": {
             "line": {
              "color": "#E5ECF6",
              "width": 0.5
             },
             "pattern": {
              "fillmode": "overlay",
              "size": 10,
              "solidity": 0.2
             }
            },
            "type": "barpolar"
           }
          ],
          "carpet": [
           {
            "aaxis": {
             "endlinecolor": "#2a3f5f",
             "gridcolor": "white",
             "linecolor": "white",
             "minorgridcolor": "white",
             "startlinecolor": "#2a3f5f"
            },
            "baxis": {
             "endlinecolor": "#2a3f5f",
             "gridcolor": "white",
             "linecolor": "white",
             "minorgridcolor": "white",
             "startlinecolor": "#2a3f5f"
            },
            "type": "carpet"
           }
          ],
          "choropleth": [
           {
            "colorbar": {
             "outlinewidth": 0,
             "ticks": ""
            },
            "type": "choropleth"
           }
          ],
          "contour": [
           {
            "colorbar": {
             "outlinewidth": 0,
             "ticks": ""
            },
            "colorscale": [
             [
              0,
              "#0d0887"
             ],
             [
              0.1111111111111111,
              "#46039f"
             ],
             [
              0.2222222222222222,
              "#7201a8"
             ],
             [
              0.3333333333333333,
              "#9c179e"
             ],
             [
              0.4444444444444444,
              "#bd3786"
             ],
             [
              0.5555555555555556,
              "#d8576b"
             ],
             [
              0.6666666666666666,
              "#ed7953"
             ],
             [
              0.7777777777777778,
              "#fb9f3a"
             ],
             [
              0.8888888888888888,
              "#fdca26"
             ],
             [
              1,
              "#f0f921"
             ]
            ],
            "type": "contour"
           }
          ],
          "contourcarpet": [
           {
            "colorbar": {
             "outlinewidth": 0,
             "ticks": ""
            },
            "type": "contourcarpet"
           }
          ],
          "heatmap": [
           {
            "colorbar": {
             "outlinewidth": 0,
             "ticks": ""
            },
            "colorscale": [
             [
              0,
              "#0d0887"
             ],
             [
              0.1111111111111111,
              "#46039f"
             ],
             [
              0.2222222222222222,
              "#7201a8"
             ],
             [
              0.3333333333333333,
              "#9c179e"
             ],
             [
              0.4444444444444444,
              "#bd3786"
             ],
             [
              0.5555555555555556,
              "#d8576b"
             ],
             [
              0.6666666666666666,
              "#ed7953"
             ],
             [
              0.7777777777777778,
              "#fb9f3a"
             ],
             [
              0.8888888888888888,
              "#fdca26"
             ],
             [
              1,
              "#f0f921"
             ]
            ],
            "type": "heatmap"
           }
          ],
          "heatmapgl": [
           {
            "colorbar": {
             "outlinewidth": 0,
             "ticks": ""
            },
            "colorscale": [
             [
              0,
              "#0d0887"
             ],
             [
              0.1111111111111111,
              "#46039f"
             ],
             [
              0.2222222222222222,
              "#7201a8"
             ],
             [
              0.3333333333333333,
              "#9c179e"
             ],
             [
              0.4444444444444444,
              "#bd3786"
             ],
             [
              0.5555555555555556,
              "#d8576b"
             ],
             [
              0.6666666666666666,
              "#ed7953"
             ],
             [
              0.7777777777777778,
              "#fb9f3a"
             ],
             [
              0.8888888888888888,
              "#fdca26"
             ],
             [
              1,
              "#f0f921"
             ]
            ],
            "type": "heatmapgl"
           }
          ],
          "histogram": [
           {
            "marker": {
             "pattern": {
              "fillmode": "overlay",
              "size": 10,
              "solidity": 0.2
             }
            },
            "type": "histogram"
           }
          ],
          "histogram2d": [
           {
            "colorbar": {
             "outlinewidth": 0,
             "ticks": ""
            },
            "colorscale": [
             [
              0,
              "#0d0887"
             ],
             [
              0.1111111111111111,
              "#46039f"
             ],
             [
              0.2222222222222222,
              "#7201a8"
             ],
             [
              0.3333333333333333,
              "#9c179e"
             ],
             [
              0.4444444444444444,
              "#bd3786"
             ],
             [
              0.5555555555555556,
              "#d8576b"
             ],
             [
              0.6666666666666666,
              "#ed7953"
             ],
             [
              0.7777777777777778,
              "#fb9f3a"
             ],
             [
              0.8888888888888888,
              "#fdca26"
             ],
             [
              1,
              "#f0f921"
             ]
            ],
            "type": "histogram2d"
           }
          ],
          "histogram2dcontour": [
           {
            "colorbar": {
             "outlinewidth": 0,
             "ticks": ""
            },
            "colorscale": [
             [
              0,
              "#0d0887"
             ],
             [
              0.1111111111111111,
              "#46039f"
             ],
             [
              0.2222222222222222,
              "#7201a8"
             ],
             [
              0.3333333333333333,
              "#9c179e"
             ],
             [
              0.4444444444444444,
              "#bd3786"
             ],
             [
              0.5555555555555556,
              "#d8576b"
             ],
             [
              0.6666666666666666,
              "#ed7953"
             ],
             [
              0.7777777777777778,
              "#fb9f3a"
             ],
             [
              0.8888888888888888,
              "#fdca26"
             ],
             [
              1,
              "#f0f921"
             ]
            ],
            "type": "histogram2dcontour"
           }
          ],
          "mesh3d": [
           {
            "colorbar": {
             "outlinewidth": 0,
             "ticks": ""
            },
            "type": "mesh3d"
           }
          ],
          "parcoords": [
           {
            "line": {
             "colorbar": {
              "outlinewidth": 0,
              "ticks": ""
             }
            },
            "type": "parcoords"
           }
          ],
          "pie": [
           {
            "automargin": true,
            "type": "pie"
           }
          ],
          "scatter": [
           {
            "fillpattern": {
             "fillmode": "overlay",
             "size": 10,
             "solidity": 0.2
            },
            "type": "scatter"
           }
          ],
          "scatter3d": [
           {
            "line": {
             "colorbar": {
              "outlinewidth": 0,
              "ticks": ""
             }
            },
            "marker": {
             "colorbar": {
              "outlinewidth": 0,
              "ticks": ""
             }
            },
            "type": "scatter3d"
           }
          ],
          "scattercarpet": [
           {
            "marker": {
             "colorbar": {
              "outlinewidth": 0,
              "ticks": ""
             }
            },
            "type": "scattercarpet"
           }
          ],
          "scattergeo": [
           {
            "marker": {
             "colorbar": {
              "outlinewidth": 0,
              "ticks": ""
             }
            },
            "type": "scattergeo"
           }
          ],
          "scattergl": [
           {
            "marker": {
             "colorbar": {
              "outlinewidth": 0,
              "ticks": ""
             }
            },
            "type": "scattergl"
           }
          ],
          "scattermapbox": [
           {
            "marker": {
             "colorbar": {
              "outlinewidth": 0,
              "ticks": ""
             }
            },
            "type": "scattermapbox"
           }
          ],
          "scatterpolar": [
           {
            "marker": {
             "colorbar": {
              "outlinewidth": 0,
              "ticks": ""
             }
            },
            "type": "scatterpolar"
           }
          ],
          "scatterpolargl": [
           {
            "marker": {
             "colorbar": {
              "outlinewidth": 0,
              "ticks": ""
             }
            },
            "type": "scatterpolargl"
           }
          ],
          "scatterternary": [
           {
            "marker": {
             "colorbar": {
              "outlinewidth": 0,
              "ticks": ""
             }
            },
            "type": "scatterternary"
           }
          ],
          "surface": [
           {
            "colorbar": {
             "outlinewidth": 0,
             "ticks": ""
            },
            "colorscale": [
             [
              0,
              "#0d0887"
             ],
             [
              0.1111111111111111,
              "#46039f"
             ],
             [
              0.2222222222222222,
              "#7201a8"
             ],
             [
              0.3333333333333333,
              "#9c179e"
             ],
             [
              0.4444444444444444,
              "#bd3786"
             ],
             [
              0.5555555555555556,
              "#d8576b"
             ],
             [
              0.6666666666666666,
              "#ed7953"
             ],
             [
              0.7777777777777778,
              "#fb9f3a"
             ],
             [
              0.8888888888888888,
              "#fdca26"
             ],
             [
              1,
              "#f0f921"
             ]
            ],
            "type": "surface"
           }
          ],
          "table": [
           {
            "cells": {
             "fill": {
              "color": "#EBF0F8"
             },
             "line": {
              "color": "white"
             }
            },
            "header": {
             "fill": {
              "color": "#C8D4E3"
             },
             "line": {
              "color": "white"
             }
            },
            "type": "table"
           }
          ]
         },
         "layout": {
          "annotationdefaults": {
           "arrowcolor": "#2a3f5f",
           "arrowhead": 0,
           "arrowwidth": 1
          },
          "autotypenumbers": "strict",
          "coloraxis": {
           "colorbar": {
            "outlinewidth": 0,
            "ticks": ""
           }
          },
          "colorscale": {
           "diverging": [
            [
             0,
             "#8e0152"
            ],
            [
             0.1,
             "#c51b7d"
            ],
            [
             0.2,
             "#de77ae"
            ],
            [
             0.3,
             "#f1b6da"
            ],
            [
             0.4,
             "#fde0ef"
            ],
            [
             0.5,
             "#f7f7f7"
            ],
            [
             0.6,
             "#e6f5d0"
            ],
            [
             0.7,
             "#b8e186"
            ],
            [
             0.8,
             "#7fbc41"
            ],
            [
             0.9,
             "#4d9221"
            ],
            [
             1,
             "#276419"
            ]
           ],
           "sequential": [
            [
             0,
             "#0d0887"
            ],
            [
             0.1111111111111111,
             "#46039f"
            ],
            [
             0.2222222222222222,
             "#7201a8"
            ],
            [
             0.3333333333333333,
             "#9c179e"
            ],
            [
             0.4444444444444444,
             "#bd3786"
            ],
            [
             0.5555555555555556,
             "#d8576b"
            ],
            [
             0.6666666666666666,
             "#ed7953"
            ],
            [
             0.7777777777777778,
             "#fb9f3a"
            ],
            [
             0.8888888888888888,
             "#fdca26"
            ],
            [
             1,
             "#f0f921"
            ]
           ],
           "sequentialminus": [
            [
             0,
             "#0d0887"
            ],
            [
             0.1111111111111111,
             "#46039f"
            ],
            [
             0.2222222222222222,
             "#7201a8"
            ],
            [
             0.3333333333333333,
             "#9c179e"
            ],
            [
             0.4444444444444444,
             "#bd3786"
            ],
            [
             0.5555555555555556,
             "#d8576b"
            ],
            [
             0.6666666666666666,
             "#ed7953"
            ],
            [
             0.7777777777777778,
             "#fb9f3a"
            ],
            [
             0.8888888888888888,
             "#fdca26"
            ],
            [
             1,
             "#f0f921"
            ]
           ]
          },
          "colorway": [
           "#636efa",
           "#EF553B",
           "#00cc96",
           "#ab63fa",
           "#FFA15A",
           "#19d3f3",
           "#FF6692",
           "#B6E880",
           "#FF97FF",
           "#FECB52"
          ],
          "font": {
           "color": "#2a3f5f"
          },
          "geo": {
           "bgcolor": "white",
           "lakecolor": "white",
           "landcolor": "#E5ECF6",
           "showlakes": true,
           "showland": true,
           "subunitcolor": "white"
          },
          "hoverlabel": {
           "align": "left"
          },
          "hovermode": "closest",
          "mapbox": {
           "style": "light"
          },
          "paper_bgcolor": "white",
          "plot_bgcolor": "#E5ECF6",
          "polar": {
           "angularaxis": {
            "gridcolor": "white",
            "linecolor": "white",
            "ticks": ""
           },
           "bgcolor": "#E5ECF6",
           "radialaxis": {
            "gridcolor": "white",
            "linecolor": "white",
            "ticks": ""
           }
          },
          "scene": {
           "xaxis": {
            "backgroundcolor": "#E5ECF6",
            "gridcolor": "white",
            "gridwidth": 2,
            "linecolor": "white",
            "showbackground": true,
            "ticks": "",
            "zerolinecolor": "white"
           },
           "yaxis": {
            "backgroundcolor": "#E5ECF6",
            "gridcolor": "white",
            "gridwidth": 2,
            "linecolor": "white",
            "showbackground": true,
            "ticks": "",
            "zerolinecolor": "white"
           },
           "zaxis": {
            "backgroundcolor": "#E5ECF6",
            "gridcolor": "white",
            "gridwidth": 2,
            "linecolor": "white",
            "showbackground": true,
            "ticks": "",
            "zerolinecolor": "white"
           }
          },
          "shapedefaults": {
           "line": {
            "color": "#2a3f5f"
           }
          },
          "ternary": {
           "aaxis": {
            "gridcolor": "white",
            "linecolor": "white",
            "ticks": ""
           },
           "baxis": {
            "gridcolor": "white",
            "linecolor": "white",
            "ticks": ""
           },
           "bgcolor": "#E5ECF6",
           "caxis": {
            "gridcolor": "white",
            "linecolor": "white",
            "ticks": ""
           }
          },
          "title": {
           "x": 0.05
          },
          "xaxis": {
           "automargin": true,
           "gridcolor": "white",
           "linecolor": "white",
           "ticks": "",
           "title": {
            "standoff": 15
           },
           "zerolinecolor": "white",
           "zerolinewidth": 2
          },
          "yaxis": {
           "automargin": true,
           "gridcolor": "white",
           "linecolor": "white",
           "ticks": "",
           "title": {
            "standoff": 15
           },
           "zerolinecolor": "white",
           "zerolinewidth": 2
          }
         }
        },
        "width": 700
       }
      }
     },
     "metadata": {},
     "output_type": "display_data"
    },
    {
     "data": {
      "application/vnd.plotly.v1+json": {
       "config": {
        "plotlyServerURL": "https://plot.ly"
       },
       "data": [
        {
         "type": "scatter3d",
         "x": [
          0,
          0.12000790260416275
         ],
         "y": [
          0,
          0.12000790178872153
         ],
         "z": [
          0.85,
          2.541507081516603
         ]
        }
       ],
       "frames": [
        {
         "data": [
          {
           "type": "scatter3d",
           "x": [
            0,
            0.12000790260416275
           ],
           "y": [
            0,
            0.12000790178872153
           ],
           "z": [
            0.85,
            2.541507081516603
           ]
          }
         ]
        },
        {
         "data": [
          {
           "type": "scatter3d",
           "x": [
            1.6763194435840376,
            1.7963273461882003
           ],
           "y": [
            1.8303479201484814,
            1.9503558219372028
           ],
           "z": [
            21.90004284447528,
            23.591549925991885
           ]
          }
         ]
        },
        {
         "data": [
          {
           "type": "scatter3d",
           "x": [
            6.427021440503086,
            6.5470293431072495
           ],
           "y": [
            7.069492742944961,
            7.189500644733682
           ],
           "z": [
            81.352313219616,
            83.0438203011326
           ]
          }
         ]
        },
        {
         "data": [
          {
           "type": "scatter3d",
           "x": [
            13.560529049533356,
            13.680536952137519
           ],
           "y": [
            15.028267349272713,
            15.148275251061435
           ],
           "z": [
            169.47084234307087,
            171.16234942458746
           ]
          }
         ]
        },
        {
         "data": [
          {
           "type": "scatter3d",
           "x": [
            21.835950947984998,
            21.95595885058916
           ],
           "y": [
            24.46461645253844,
            24.58462435432716
           ],
           "z": [
            268.7926105484494,
            270.48411762996597
           ]
          }
         ]
        },
        {
         "data": [
          {
           "type": "scatter3d",
           "x": [
            29.769466540442142,
            29.889474443046304
           ],
           "y": [
            33.89022885828221,
            34.01023676007093
           ],
           "z": [
            358.4742318649352,
            360.16573894645177
           ]
          }
         ]
        },
        {
         "data": [
          {
           "type": "scatter3d",
           "x": [
            37.249859883915384,
            37.36986778651955
           ],
           "y": [
            43.18660906298143,
            43.30661696477016
           ],
           "z": [
            437.0586114897,
            438.7501185712166
           ]
          }
         ]
        },
        {
         "data": [
          {
           "type": "scatter3d",
           "x": [
            44.267277280235305,
            44.38728518283947
           ],
           "y": [
            52.33437687084465,
            52.454384772633375
           ],
           "z": [
            504.54902721826886,
            506.24053429978545
           ]
          }
         ]
        },
        {
         "data": [
          {
           "type": "scatter3d",
           "x": [
            50.808668458686455,
            50.92867636129062
           ],
           "y": [
            61.307710823488016,
            61.42771872527674
           ],
           "z": [
            560.9504227623045,
            562.6419298438211
           ]
          }
         ]
        },
        {
         "data": [
          {
           "type": "scatter3d",
           "x": [
            56.85589260530372,
            56.97590050790789
           ],
           "y": [
            70.07054636797773,
            70.19055426976645
           ],
           "z": [
            606.2708314903706,
            607.9623385718872
           ]
          }
         ]
        },
        {
         "data": [
          {
           "type": "scatter3d",
           "x": [
            62.38195011664257,
            62.501958019246736
           ],
           "y": [
            78.56893727579828,
            78.688945177587
           ],
           "z": [
            640.524813260862,
            642.2163203423786
           ]
          }
         ]
        },
        {
         "data": [
          {
           "type": "scatter3d",
           "x": [
            67.34234694232568,
            67.46235484492983
           ],
           "y": [
            86.71332883676506,
            86.83333673855378
           ],
           "z": [
            663.7437441777372,
            665.4352512592538
           ]
          }
         ]
        },
        {
         "data": [
          {
           "type": "scatter3d",
           "x": [
            71.65158421716143,
            71.77159211976559
           ],
           "y": [
            94.32875187651604,
            94.44875977830476
           ],
           "z": [
            676.0197922369115,
            677.7112993184281
           ]
          }
         ]
        },
        {
         "data": [
          {
           "type": "scatter3d",
           "x": [
            75.16495088536425,
            75.2849587879684
           ],
           "y": [
            101.04090555651594,
            101.16091345830466
           ],
           "z": [
            677.7792370983957,
            679.4707441799123
           ]
          }
         ]
        },
        {
         "data": [
          {
           "type": "scatter3d",
           "x": [
            78.12093241864396,
            78.24094032124812
           ],
           "y": [
            106.60007952006896,
            106.72008742185768
           ],
           "z": [
            669.3303037777393,
            671.021810859256
           ]
          }
         ]
        },
        {
         "data": [
          {
           "type": "scatter3d",
           "x": [
            80.67561972315387,
            80.79562762575803
           ],
           "y": [
            111.39857036938581,
            111.51857827117453
           ],
           "z": [
            650.0319855621756,
            651.7234926436922
           ]
          }
         ]
        },
        {
         "data": [
          {
           "type": "scatter3d",
           "x": [
            82.83071293460203,
            82.95072083720619
           ],
           "y": [
            115.68599440934223,
            115.80600231113095
           ],
           "z": [
            619.7237665972485,
            621.4152736787652
           ]
          }
         ]
        },
        {
         "data": [
          {
           "type": "scatter3d",
           "x": [
            84.58434421561654,
            84.7043521182207
           ],
           "y": [
            119.56181747044121,
            119.68182537222994
           ],
           "z": [
            578.3676139015482,
            580.0591209830649
           ]
          }
         ]
        },
        {
         "data": [
          {
           "type": "scatter3d",
           "x": [
            85.9346725879067,
            86.05468049051086
           ],
           "y": [
            123.07682415437459,
            123.19683205616332
           ],
           "z": [
            525.9482941127986,
            527.6398011943153
           ]
          }
         ]
        },
        {
         "data": [
          {
           "type": "scatter3d",
           "x": [
            86.88015092106656,
            87.00015882367072
           ],
           "y": [
            126.26161573379873,
            126.38162363558746
           ],
           "z": [
            462.4579075363058,
            464.1494146178224
           ]
          }
         ]
        },
        {
         "data": [
          {
           "type": "scatter3d",
           "x": [
            87.41949054662346,
            87.53949844922762
           ],
           "y": [
            129.1366549189842,
            129.2566628207729
           ],
           "z": [
            387.89170786344886,
            389.58321494496545
           ]
          }
         ]
        },
        {
         "data": [
          {
           "type": "scatter3d",
           "x": [
            87.55160401108077,
            87.67161191368493
           ],
           "y": [
            131.71662832855375,
            131.83663623034246
           ],
           "z": [
            302.2465592630547,
            303.93806634457127
           ]
          }
         ]
        },
        {
         "data": [
          {
           "type": "scatter3d",
           "x": [
            87.27555920066827,
            87.39556710327243
           ],
           "y": [
            134.01262876348758,
            134.1326366652763
           ],
           "z": [
            205.52024788132428,
            207.21175496284087
           ]
          }
         ]
        },
        {
         "data": [
          {
           "type": "scatter3d",
           "x": [
            86.59054565492482,
            86.71055355752898
           ],
           "y": [
            136.03336245432334,
            136.15337035611205
           ],
           "z": [
            97.71113251260134,
            99.40263959411794
           ]
          }
         ]
        },
        {
         "data": [
          {
           "type": "scatter3d",
           "x": [
            85.71276788849185,
            85.83277579109601
           ],
           "y": [
            137.5040455185895,
            137.6240534203782
           ],
           "z": [
            2.9976021664879227e-13,
            1.6915070815169027
           ]
          }
         ]
        },
        {
         "data": [
          {
           "type": "scatter3d",
           "x": [
            85.71276788849185,
            85.83277579109601
           ],
           "y": [
            137.5040455185895,
            137.6240534203782
           ],
           "z": [
            2.9976021664879227e-13,
            1.6915070815169027
           ]
          }
         ]
        }
       ],
       "layout": {
        "scene": {
         "xaxis": {
          "autorange": false,
          "range": [
           -500,
           500
          ]
         },
         "yaxis": {
          "autorange": false,
          "range": [
           -500,
           500
          ]
         },
         "zaxis": {
          "autorange": false,
          "range": [
           0,
           1000
          ]
         }
        },
        "template": {
         "data": {
          "bar": [
           {
            "error_x": {
             "color": "#2a3f5f"
            },
            "error_y": {
             "color": "#2a3f5f"
            },
            "marker": {
             "line": {
              "color": "#E5ECF6",
              "width": 0.5
             },
             "pattern": {
              "fillmode": "overlay",
              "size": 10,
              "solidity": 0.2
             }
            },
            "type": "bar"
           }
          ],
          "barpolar": [
           {
            "marker": {
             "line": {
              "color": "#E5ECF6",
              "width": 0.5
             },
             "pattern": {
              "fillmode": "overlay",
              "size": 10,
              "solidity": 0.2
             }
            },
            "type": "barpolar"
           }
          ],
          "carpet": [
           {
            "aaxis": {
             "endlinecolor": "#2a3f5f",
             "gridcolor": "white",
             "linecolor": "white",
             "minorgridcolor": "white",
             "startlinecolor": "#2a3f5f"
            },
            "baxis": {
             "endlinecolor": "#2a3f5f",
             "gridcolor": "white",
             "linecolor": "white",
             "minorgridcolor": "white",
             "startlinecolor": "#2a3f5f"
            },
            "type": "carpet"
           }
          ],
          "choropleth": [
           {
            "colorbar": {
             "outlinewidth": 0,
             "ticks": ""
            },
            "type": "choropleth"
           }
          ],
          "contour": [
           {
            "colorbar": {
             "outlinewidth": 0,
             "ticks": ""
            },
            "colorscale": [
             [
              0,
              "#0d0887"
             ],
             [
              0.1111111111111111,
              "#46039f"
             ],
             [
              0.2222222222222222,
              "#7201a8"
             ],
             [
              0.3333333333333333,
              "#9c179e"
             ],
             [
              0.4444444444444444,
              "#bd3786"
             ],
             [
              0.5555555555555556,
              "#d8576b"
             ],
             [
              0.6666666666666666,
              "#ed7953"
             ],
             [
              0.7777777777777778,
              "#fb9f3a"
             ],
             [
              0.8888888888888888,
              "#fdca26"
             ],
             [
              1,
              "#f0f921"
             ]
            ],
            "type": "contour"
           }
          ],
          "contourcarpet": [
           {
            "colorbar": {
             "outlinewidth": 0,
             "ticks": ""
            },
            "type": "contourcarpet"
           }
          ],
          "heatmap": [
           {
            "colorbar": {
             "outlinewidth": 0,
             "ticks": ""
            },
            "colorscale": [
             [
              0,
              "#0d0887"
             ],
             [
              0.1111111111111111,
              "#46039f"
             ],
             [
              0.2222222222222222,
              "#7201a8"
             ],
             [
              0.3333333333333333,
              "#9c179e"
             ],
             [
              0.4444444444444444,
              "#bd3786"
             ],
             [
              0.5555555555555556,
              "#d8576b"
             ],
             [
              0.6666666666666666,
              "#ed7953"
             ],
             [
              0.7777777777777778,
              "#fb9f3a"
             ],
             [
              0.8888888888888888,
              "#fdca26"
             ],
             [
              1,
              "#f0f921"
             ]
            ],
            "type": "heatmap"
           }
          ],
          "heatmapgl": [
           {
            "colorbar": {
             "outlinewidth": 0,
             "ticks": ""
            },
            "colorscale": [
             [
              0,
              "#0d0887"
             ],
             [
              0.1111111111111111,
              "#46039f"
             ],
             [
              0.2222222222222222,
              "#7201a8"
             ],
             [
              0.3333333333333333,
              "#9c179e"
             ],
             [
              0.4444444444444444,
              "#bd3786"
             ],
             [
              0.5555555555555556,
              "#d8576b"
             ],
             [
              0.6666666666666666,
              "#ed7953"
             ],
             [
              0.7777777777777778,
              "#fb9f3a"
             ],
             [
              0.8888888888888888,
              "#fdca26"
             ],
             [
              1,
              "#f0f921"
             ]
            ],
            "type": "heatmapgl"
           }
          ],
          "histogram": [
           {
            "marker": {
             "pattern": {
              "fillmode": "overlay",
              "size": 10,
              "solidity": 0.2
             }
            },
            "type": "histogram"
           }
          ],
          "histogram2d": [
           {
            "colorbar": {
             "outlinewidth": 0,
             "ticks": ""
            },
            "colorscale": [
             [
              0,
              "#0d0887"
             ],
             [
              0.1111111111111111,
              "#46039f"
             ],
             [
              0.2222222222222222,
              "#7201a8"
             ],
             [
              0.3333333333333333,
              "#9c179e"
             ],
             [
              0.4444444444444444,
              "#bd3786"
             ],
             [
              0.5555555555555556,
              "#d8576b"
             ],
             [
              0.6666666666666666,
              "#ed7953"
             ],
             [
              0.7777777777777778,
              "#fb9f3a"
             ],
             [
              0.8888888888888888,
              "#fdca26"
             ],
             [
              1,
              "#f0f921"
             ]
            ],
            "type": "histogram2d"
           }
          ],
          "histogram2dcontour": [
           {
            "colorbar": {
             "outlinewidth": 0,
             "ticks": ""
            },
            "colorscale": [
             [
              0,
              "#0d0887"
             ],
             [
              0.1111111111111111,
              "#46039f"
             ],
             [
              0.2222222222222222,
              "#7201a8"
             ],
             [
              0.3333333333333333,
              "#9c179e"
             ],
             [
              0.4444444444444444,
              "#bd3786"
             ],
             [
              0.5555555555555556,
              "#d8576b"
             ],
             [
              0.6666666666666666,
              "#ed7953"
             ],
             [
              0.7777777777777778,
              "#fb9f3a"
             ],
             [
              0.8888888888888888,
              "#fdca26"
             ],
             [
              1,
              "#f0f921"
             ]
            ],
            "type": "histogram2dcontour"
           }
          ],
          "mesh3d": [
           {
            "colorbar": {
             "outlinewidth": 0,
             "ticks": ""
            },
            "type": "mesh3d"
           }
          ],
          "parcoords": [
           {
            "line": {
             "colorbar": {
              "outlinewidth": 0,
              "ticks": ""
             }
            },
            "type": "parcoords"
           }
          ],
          "pie": [
           {
            "automargin": true,
            "type": "pie"
           }
          ],
          "scatter": [
           {
            "fillpattern": {
             "fillmode": "overlay",
             "size": 10,
             "solidity": 0.2
            },
            "type": "scatter"
           }
          ],
          "scatter3d": [
           {
            "line": {
             "colorbar": {
              "outlinewidth": 0,
              "ticks": ""
             }
            },
            "marker": {
             "colorbar": {
              "outlinewidth": 0,
              "ticks": ""
             }
            },
            "type": "scatter3d"
           }
          ],
          "scattercarpet": [
           {
            "marker": {
             "colorbar": {
              "outlinewidth": 0,
              "ticks": ""
             }
            },
            "type": "scattercarpet"
           }
          ],
          "scattergeo": [
           {
            "marker": {
             "colorbar": {
              "outlinewidth": 0,
              "ticks": ""
             }
            },
            "type": "scattergeo"
           }
          ],
          "scattergl": [
           {
            "marker": {
             "colorbar": {
              "outlinewidth": 0,
              "ticks": ""
             }
            },
            "type": "scattergl"
           }
          ],
          "scattermapbox": [
           {
            "marker": {
             "colorbar": {
              "outlinewidth": 0,
              "ticks": ""
             }
            },
            "type": "scattermapbox"
           }
          ],
          "scatterpolar": [
           {
            "marker": {
             "colorbar": {
              "outlinewidth": 0,
              "ticks": ""
             }
            },
            "type": "scatterpolar"
           }
          ],
          "scatterpolargl": [
           {
            "marker": {
             "colorbar": {
              "outlinewidth": 0,
              "ticks": ""
             }
            },
            "type": "scatterpolargl"
           }
          ],
          "scatterternary": [
           {
            "marker": {
             "colorbar": {
              "outlinewidth": 0,
              "ticks": ""
             }
            },
            "type": "scatterternary"
           }
          ],
          "surface": [
           {
            "colorbar": {
             "outlinewidth": 0,
             "ticks": ""
            },
            "colorscale": [
             [
              0,
              "#0d0887"
             ],
             [
              0.1111111111111111,
              "#46039f"
             ],
             [
              0.2222222222222222,
              "#7201a8"
             ],
             [
              0.3333333333333333,
              "#9c179e"
             ],
             [
              0.4444444444444444,
              "#bd3786"
             ],
             [
              0.5555555555555556,
              "#d8576b"
             ],
             [
              0.6666666666666666,
              "#ed7953"
             ],
             [
              0.7777777777777778,
              "#fb9f3a"
             ],
             [
              0.8888888888888888,
              "#fdca26"
             ],
             [
              1,
              "#f0f921"
             ]
            ],
            "type": "surface"
           }
          ],
          "table": [
           {
            "cells": {
             "fill": {
              "color": "#EBF0F8"
             },
             "line": {
              "color": "white"
             }
            },
            "header": {
             "fill": {
              "color": "#C8D4E3"
             },
             "line": {
              "color": "white"
             }
            },
            "type": "table"
           }
          ]
         },
         "layout": {
          "annotationdefaults": {
           "arrowcolor": "#2a3f5f",
           "arrowhead": 0,
           "arrowwidth": 1
          },
          "autotypenumbers": "strict",
          "coloraxis": {
           "colorbar": {
            "outlinewidth": 0,
            "ticks": ""
           }
          },
          "colorscale": {
           "diverging": [
            [
             0,
             "#8e0152"
            ],
            [
             0.1,
             "#c51b7d"
            ],
            [
             0.2,
             "#de77ae"
            ],
            [
             0.3,
             "#f1b6da"
            ],
            [
             0.4,
             "#fde0ef"
            ],
            [
             0.5,
             "#f7f7f7"
            ],
            [
             0.6,
             "#e6f5d0"
            ],
            [
             0.7,
             "#b8e186"
            ],
            [
             0.8,
             "#7fbc41"
            ],
            [
             0.9,
             "#4d9221"
            ],
            [
             1,
             "#276419"
            ]
           ],
           "sequential": [
            [
             0,
             "#0d0887"
            ],
            [
             0.1111111111111111,
             "#46039f"
            ],
            [
             0.2222222222222222,
             "#7201a8"
            ],
            [
             0.3333333333333333,
             "#9c179e"
            ],
            [
             0.4444444444444444,
             "#bd3786"
            ],
            [
             0.5555555555555556,
             "#d8576b"
            ],
            [
             0.6666666666666666,
             "#ed7953"
            ],
            [
             0.7777777777777778,
             "#fb9f3a"
            ],
            [
             0.8888888888888888,
             "#fdca26"
            ],
            [
             1,
             "#f0f921"
            ]
           ],
           "sequentialminus": [
            [
             0,
             "#0d0887"
            ],
            [
             0.1111111111111111,
             "#46039f"
            ],
            [
             0.2222222222222222,
             "#7201a8"
            ],
            [
             0.3333333333333333,
             "#9c179e"
            ],
            [
             0.4444444444444444,
             "#bd3786"
            ],
            [
             0.5555555555555556,
             "#d8576b"
            ],
            [
             0.6666666666666666,
             "#ed7953"
            ],
            [
             0.7777777777777778,
             "#fb9f3a"
            ],
            [
             0.8888888888888888,
             "#fdca26"
            ],
            [
             1,
             "#f0f921"
            ]
           ]
          },
          "colorway": [
           "#636efa",
           "#EF553B",
           "#00cc96",
           "#ab63fa",
           "#FFA15A",
           "#19d3f3",
           "#FF6692",
           "#B6E880",
           "#FF97FF",
           "#FECB52"
          ],
          "font": {
           "color": "#2a3f5f"
          },
          "geo": {
           "bgcolor": "white",
           "lakecolor": "white",
           "landcolor": "#E5ECF6",
           "showlakes": true,
           "showland": true,
           "subunitcolor": "white"
          },
          "hoverlabel": {
           "align": "left"
          },
          "hovermode": "closest",
          "mapbox": {
           "style": "light"
          },
          "paper_bgcolor": "white",
          "plot_bgcolor": "#E5ECF6",
          "polar": {
           "angularaxis": {
            "gridcolor": "white",
            "linecolor": "white",
            "ticks": ""
           },
           "bgcolor": "#E5ECF6",
           "radialaxis": {
            "gridcolor": "white",
            "linecolor": "white",
            "ticks": ""
           }
          },
          "scene": {
           "xaxis": {
            "backgroundcolor": "#E5ECF6",
            "gridcolor": "white",
            "gridwidth": 2,
            "linecolor": "white",
            "showbackground": true,
            "ticks": "",
            "zerolinecolor": "white"
           },
           "yaxis": {
            "backgroundcolor": "#E5ECF6",
            "gridcolor": "white",
            "gridwidth": 2,
            "linecolor": "white",
            "showbackground": true,
            "ticks": "",
            "zerolinecolor": "white"
           },
           "zaxis": {
            "backgroundcolor": "#E5ECF6",
            "gridcolor": "white",
            "gridwidth": 2,
            "linecolor": "white",
            "showbackground": true,
            "ticks": "",
            "zerolinecolor": "white"
           }
          },
          "shapedefaults": {
           "line": {
            "color": "#2a3f5f"
           }
          },
          "ternary": {
           "aaxis": {
            "gridcolor": "white",
            "linecolor": "white",
            "ticks": ""
           },
           "baxis": {
            "gridcolor": "white",
            "linecolor": "white",
            "ticks": ""
           },
           "bgcolor": "#E5ECF6",
           "caxis": {
            "gridcolor": "white",
            "linecolor": "white",
            "ticks": ""
           }
          },
          "title": {
           "x": 0.05
          },
          "xaxis": {
           "automargin": true,
           "gridcolor": "white",
           "linecolor": "white",
           "ticks": "",
           "title": {
            "standoff": 15
           },
           "zerolinecolor": "white",
           "zerolinewidth": 2
          },
          "yaxis": {
           "automargin": true,
           "gridcolor": "white",
           "linecolor": "white",
           "ticks": "",
           "title": {
            "standoff": 15
           },
           "zerolinecolor": "white",
           "zerolinewidth": 2
          }
         }
        },
        "title": {
         "text": "Rocket Movement"
        },
        "updatemenus": [
         {
          "buttons": [
           {
            "args": [
             null,
             {
              "frame": {
               "duration": 20,
               "redraw": true
              },
              "fromcurrent": true,
              "transition": {
               "duration": 10
              }
             }
            ],
            "label": "Play",
            "method": "animate"
           }
          ],
          "showactive": false,
          "type": "buttons",
          "x": 1.12,
          "xanchor": "right",
          "y": 1,
          "yanchor": "top"
         }
        ]
       }
      }
     },
     "metadata": {},
     "output_type": "display_data"
    }
   ],
   "source": [
    "###MAIN\n",
    "#Time-step\n",
    "dt = 0.1\n",
    "\n",
    "#Create System\n",
    "earth = Earth('earth')\n",
    "\n",
    "#Add RungeKutta driver\n",
    "driver = earth.add_driver(RungeKutta(order=4, dt=dt))\n",
    "driver.time_interval = (0, 40)\n",
    "\n",
    "#Add NonLinearSolver driver\n",
    "solver = driver.add_child(NonLinearSolver('solver', factor=1.0))\n",
    "\n",
    "\n",
    "# Add a recorder to capture time evolution in a dataframe\n",
    "driver.add_recorder(\n",
    "    DataFrameRecorder(includes=['Traj.r', 'Rocket.Kin.v', 'Rocket.Kin.a', 'Rocket.Dyn.m', 'Rocket.Thrust.Fp', 'Rocket.Kin.Kin_ang', 'Rocket.Kin.av']),\n",
    "    period=1,\n",
    ")\n",
    "\n",
    "#Initial conditions and constants\n",
    "\n",
    "l = 1.7 #Rocket's length on the plot\n",
    "\n",
    "driver.set_scenario(\n",
    "    init = {\n",
    "        'Traj.r' : np.array([0., 0., l/2]),\n",
    "        'Rocket.Kin.v' : np.zeros(3),\n",
    "        'Rocket.Kin.ar' : np.array([np.pi/6, -np.pi/2 + 0.1, np.pi/4]),\n",
    "        'Rocket.Kin.av' : np.zeros(3),\n",
    "    },\n",
    "    stop='Traj.r[2]<0'\n",
    "    )\n",
    "\n",
    "\n",
    "earth.run_drivers()\n",
    "\n",
    "# Retrieve recorded data\n",
    "data = driver.recorder.export_data()\n",
    "data = data.drop(['Section', 'Status', 'Error code'], axis=1)\n",
    "time = np.asarray(data['time'])\n",
    "traj = np.asarray(data['Traj.r'].tolist())\n",
    "velo = np.asarray(data['Rocket.Kin.v'].tolist())\n",
    "acel = np.asarray(data['Rocket.Kin.a'].tolist())\n",
    "ang = np.asarray(data['Rocket.Kin.Kin_ang'].tolist())\n",
    "avelo = np.asarray(data['Rocket.Kin.av'].tolist())\n",
    "\n",
    "#Plot results\n",
    "\n",
    "x=[]\n",
    "y=[]\n",
    "z=[]\n",
    "theta = []\n",
    "\n",
    "for i in range(len(traj)):\n",
    "    x.append(traj[i][0])\n",
    "    y.append(traj[i][1])\n",
    "    z.append(traj[i][2])\n",
    "\n",
    "for i in range(len(ang)):\n",
    "    theta.append(ang[1])\n",
    "\n",
    "fig = go.Figure(data=go.Scatter3d(\n",
    "    x=x, y=y, z=z,\n",
    "    marker=dict(\n",
    "        size=4,\n",
    "        color=z,\n",
    "        colorscale='Viridis',\n",
    "    ),\n",
    "    line=dict(\n",
    "        color='darkblue',\n",
    "        width=2\n",
    "    )\n",
    "))\n",
    "\n",
    "\n",
    "fig.update_layout(\n",
    "    scene = dict(\n",
    "        xaxis = dict(nticks=2, range=[-1000,1000],),\n",
    "        yaxis = dict(nticks=2, range=[-1000,1000],),\n",
    "        zaxis = dict(nticks=2, range=[0,1000],),),\n",
    "    width=700,\n",
    "    margin=dict(r=20, l=10, b=10, t=10))\n",
    "\n",
    "\n",
    "fig.show()\n",
    "\n",
    "#useful library zhen using euler angle\n",
    "\n",
    "\n",
    "rocket = np.array([l,0,0]) #representation of the rocket as a 3D vector that will be rotated and translated according to the computed trajectory\n",
    "\n",
    "rock = []\n",
    "\n",
    "for i in range(len(traj)):\n",
    "    rotation = R.from_euler('xyz', ang[i], degrees=False)\n",
    "    rotation.apply(rocket)\n",
    "    rock.append(rotation.apply(rocket))\n",
    "\n",
    "rock = np.asarray(rock)\n",
    "\n",
    "traj_bot = traj #traj[time][xyz]\n",
    "traj_top = traj + rock\n",
    "\n",
    "\n",
    "#Animation - Rocket's movement\n",
    "fig2 = go.Figure(data=[go.Scatter3d(x=[traj_bot[0][0], traj_top[0][0]], y=[traj_bot[0][1], traj_top[0][1]], z=[traj_bot[0][2], traj_top[0][2]])])\n",
    "\n",
    "fig2.update_layout(title='Rocket Movement',\n",
    "                  scene=dict(\n",
    "            xaxis=dict(range=[-500, 500], autorange=False),\n",
    "            yaxis=dict(range=[-500, 500], autorange=False),\n",
    "            zaxis=dict(range=[0, 1000], autorange=False),\n",
    "        ),\n",
    "                  updatemenus=[dict(buttons = [dict(\n",
    "                                               args = [None, {\"frame\": {\"duration\": 20, \n",
    "                                                                        \"redraw\": True},\n",
    "                                                              \"fromcurrent\": True, \n",
    "                                                              \"transition\": {\"duration\": 10}}],\n",
    "                                               label = \"Play\",\n",
    "                                               method = \"animate\")],\n",
    "                                type='buttons',\n",
    "                                showactive=False,\n",
    "                                y=1,\n",
    "                                x=1.12,\n",
    "                                xanchor='right',\n",
    "                                yanchor='top')])\n",
    "\n",
    "frames= [go.Frame(data=[go.Scatter3d(x=[traj_bot[i][0], traj_top[i][0]], y=[traj_bot[i][1], traj_top[i][1]], z=[traj_bot[i][2], traj_top[i][2]])]) for i in range(len(traj))]\n",
    "fig2.update(frames=frames)\n",
    "\n",
    "fig2.show()"
   ]
  },
  {
   "cell_type": "code",
   "execution_count": 255,
   "metadata": {},
   "outputs": [
    {
     "data": {
      "text/plain": [
       "array([[0.00000000e+00, 0.00000000e+00, 8.50000000e-01],\n",
       "       [1.67631944e+00, 1.83034792e+00, 2.19000428e+01],\n",
       "       [6.42702144e+00, 7.06949274e+00, 8.13523132e+01],\n",
       "       [1.35605290e+01, 1.50282673e+01, 1.69470842e+02],\n",
       "       [2.18359509e+01, 2.44646165e+01, 2.68792611e+02],\n",
       "       [2.97694665e+01, 3.38902289e+01, 3.58474232e+02],\n",
       "       [3.72498599e+01, 4.31866091e+01, 4.37058611e+02],\n",
       "       [4.42672773e+01, 5.23343769e+01, 5.04549027e+02],\n",
       "       [5.08086685e+01, 6.13077108e+01, 5.60950423e+02],\n",
       "       [5.68558926e+01, 7.00705464e+01, 6.06270831e+02],\n",
       "       [6.23819501e+01, 7.85689373e+01, 6.40524813e+02],\n",
       "       [6.73423469e+01, 8.67133288e+01, 6.63743744e+02],\n",
       "       [7.16515842e+01, 9.43287519e+01, 6.76019792e+02],\n",
       "       [7.51649509e+01, 1.01040906e+02, 6.77779237e+02],\n",
       "       [7.81209324e+01, 1.06600080e+02, 6.69330304e+02],\n",
       "       [8.06756197e+01, 1.11398570e+02, 6.50031986e+02],\n",
       "       [8.28307129e+01, 1.15685994e+02, 6.19723767e+02],\n",
       "       [8.45843442e+01, 1.19561817e+02, 5.78367614e+02],\n",
       "       [8.59346726e+01, 1.23076824e+02, 5.25948294e+02],\n",
       "       [8.68801509e+01, 1.26261616e+02, 4.62457908e+02],\n",
       "       [8.74194905e+01, 1.29136655e+02, 3.87891708e+02],\n",
       "       [8.75516040e+01, 1.31716628e+02, 3.02246559e+02],\n",
       "       [8.72755592e+01, 1.34012629e+02, 2.05520248e+02],\n",
       "       [8.65905457e+01, 1.36033362e+02, 9.77111325e+01],\n",
       "       [8.57127679e+01, 1.37504046e+02, 2.99760217e-13],\n",
       "       [8.57127679e+01, 1.37504046e+02, 2.99760217e-13]])"
      ]
     },
     "execution_count": 255,
     "metadata": {},
     "output_type": "execute_result"
    }
   ],
   "source": [
    "traj"
   ]
  }
 ],
 "metadata": {
  "kernelspec": {
   "display_name": "base",
   "language": "python",
   "name": "python3"
  },
  "language_info": {
   "codemirror_mode": {
    "name": "ipython",
    "version": 3
   },
   "file_extension": ".py",
   "mimetype": "text/x-python",
   "name": "python",
   "nbconvert_exporter": "python",
   "pygments_lexer": "ipython3",
   "version": "3.8.8"
  },
  "vscode": {
   "interpreter": {
    "hash": "40d3a090f54c6569ab1632332b64b2c03c39dcf918b08424e98f38b5ae0af88f"
   }
  }
 },
 "nbformat": 4,
 "nbformat_minor": 2
}
