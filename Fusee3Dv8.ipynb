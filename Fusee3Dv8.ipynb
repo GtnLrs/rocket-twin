{
 "cells": [
  {
   "cell_type": "code",
   "execution_count": 1,
   "id": "3d13e997",
   "metadata": {},
   "outputs": [],
   "source": [
    "from cosapp.base import System, Port, BaseConnector\n",
    "import numpy as np\n",
    "from cosapp.drivers import RungeKutta, NonLinearSolver\n",
    "import plotly.graph_objs as go\n",
    "from cosapp.recorders import DataFrameRecorder\n",
    "import plotly.express as px\n",
    "import matplotlib.pyplot as plt"
   ]
  },
  {
   "cell_type": "markdown",
   "id": "21da6755",
   "metadata": {},
   "source": [
    "# Rotation Matrix"
   ]
  },
  {
   "cell_type": "code",
   "execution_count": 2,
   "id": "7ba9181c",
   "metadata": {},
   "outputs": [],
   "source": [
    "def RotMat3D(ang):\n",
    "    \n",
    "    #ang[0] = phi, ang[1] = theta, ang[2] = psi\n",
    "    \n",
    "    l1 = np.array([np.cos(ang[2])*np.cos(ang[1]), -np.sin(ang[2])*np.cos(ang[0]) + np.cos(ang[2])*np.sin(ang[1])*np.sin(ang[0]),\n",
    "                    np.sin(ang[2])*np.sin(ang[0]) + np.cos(ang[2])*np.sin(ang[1])*np.cos(ang[0])])\n",
    "    l2 = np.array([np.sin(ang[2])*np.cos(ang[1]),  np.cos(ang[2])*np.cos(ang[0]) + np.sin(ang[2])*np.sin(ang[1])*np.sin(ang[0]),\n",
    "                   -np.cos(ang[2])*np.sin(ang[0]) + np.sin(ang[2])*np.sin(ang[1])*np.cos(ang[0])])\n",
    "    l3 = np.array([-np.sin(ang[1]), np.cos(ang[1])*np.sin(ang[0]), np.cos(ang[1])*np.cos(ang[0])])\n",
    "    \n",
    "    A = np.round(np.array([l1,l2,l3]), 5)\n",
    "    \n",
    "    return A"
   ]
  },
  {
   "cell_type": "markdown",
   "id": "55c6ad8c",
   "metadata": {},
   "source": [
    "# Ports"
   ]
  },
  {
   "cell_type": "code",
   "execution_count": 3,
   "id": "fbcc8896",
   "metadata": {},
   "outputs": [],
   "source": [
    "class PosPort(Port):\n",
    "    \"\"\"Position Port \"\"\"\n",
    "    def setup(self):\n",
    "        self.add_variable('val', np.zeros(3), desc = \"Velocity Components\", unit = 'm')\n",
    "        #self.add_variable('ang', np.zeros(3), desc = \"Axes' Euler's Angles\", unit = '')\n",
    "        \n",
    "\n",
    "    class Connector(BaseConnector):\n",
    "        \"\"\"Custom connector for `PosPort` objects\n",
    "        \"\"\"\n",
    "        def __init__(self, name: str, sink: Port, source: Port, *args, **kwargs):\n",
    "            super().__init__(name, sink, source)\n",
    "\n",
    "        def transfer(self) -> None:\n",
    "            sink = self.sink\n",
    "            source = self.source\n",
    "            \n",
    "            if sink.owner.parent == source.owner:\n",
    "                sink.val = np.matmul(RotMat3D(sink.owner[f'{sink.owner.name}_ang']), source.val)\n",
    "\n",
    "            elif sink.owner == source.owner.parent:\n",
    "                sink.val = np.matmul(RotMat3D(-source.owner[f'{source.owner.name}_ang']), source.val)\n",
    "                \n",
    "            else:\n",
    "                sink.val = source.val"
   ]
  },
  {
   "cell_type": "code",
   "execution_count": 4,
   "id": "fa448c42",
   "metadata": {},
   "outputs": [],
   "source": [
    "class VelPort(Port):\n",
    "    \"\"\"Velocity Port \"\"\"\n",
    "    def setup(self):\n",
    "        self.add_variable('val', np.zeros(3), desc = \"Velocity Components\", unit = 'm/s')\n",
    "        #self.add_variable('ang', np.zeros(3), desc = \"Axes' Euler's Angles\", unit = '')\n",
    "        \n",
    "\n",
    "    class Connector(BaseConnector):\n",
    "        \"\"\"Custom connector for `VelPort` objects\n",
    "        \"\"\"\n",
    "        def __init__(self, name: str, sink: Port, source: Port, *args, **kwargs):\n",
    "            super().__init__(name, sink, source)\n",
    "\n",
    "        def transfer(self) -> None:\n",
    "            sink = self.sink\n",
    "            source = self.source\n",
    "            \n",
    "            if sink.owner.parent == source.owner:\n",
    "                sink.val = np.matmul(RotMat3D(sink.owner[f'{sink.owner.name}_ang']), source.val)\n",
    "\n",
    "            elif sink.owner == source.owner.parent:\n",
    "                sink.val = np.matmul(RotMat3D(-source.owner[f'{source.owner.name}_ang']), source.val)\n",
    "                \n",
    "            else:\n",
    "                sink.val = source.val"
   ]
  },
  {
   "cell_type": "code",
   "execution_count": 5,
   "id": "25508a25",
   "metadata": {},
   "outputs": [],
   "source": [
    "class AclPort(Port):\n",
    "    \"\"\"Acceleration Port \"\"\"\n",
    "    def setup(self):\n",
    "        self.add_variable('val', np.zeros(3), desc = \"Acceleration Components\", unit = 'm/s**2')\n",
    "        #self.add_variable('ang', np.zeros(3), desc = \"Axes' Euler's Angles\", unit = '')\n",
    "        \n",
    "\n",
    "    class Connector(BaseConnector):\n",
    "        \"\"\"Custom connector for `AclPort` objects\n",
    "        \"\"\"\n",
    "        def __init__(self, name: str, sink: Port, source: Port, *args, **kwargs):\n",
    "            super().__init__(name, sink, source)\n",
    "\n",
    "        def transfer(self) -> None:\n",
    "            sink = self.sink\n",
    "            source = self.source\n",
    "            \n",
    "            if sink.owner.parent == source.owner:\n",
    "                sink.val = np.matmul(RotMat3D(sink.owner[f'{sink.owner.name}_ang']), source.val)\n",
    "\n",
    "            elif sink.owner == source.owner.parent:\n",
    "                sink.val = np.matmul(RotMat3D(-source.owner[f'{source.owner.name}_ang']), source.val)\n",
    "                \n",
    "            else:\n",
    "                sink.val = source.val"
   ]
  },
  {
   "cell_type": "markdown",
   "id": "4988b874",
   "metadata": {},
   "source": [
    "# Global System"
   ]
  },
  {
   "cell_type": "code",
   "execution_count": 6,
   "id": "0669f69a",
   "metadata": {},
   "outputs": [],
   "source": [
    "class Earth(System):\n",
    "    \n",
    "    def setup(self):\n",
    "        \n",
    "        #Earth children\n",
    "        self.add_child(Rocket('Rocket'))\n",
    "        self.add_child(Trajectory('Traj'))\n",
    "        self.add_child(Gravity('Grav'))\n",
    "        self.add_child(Atmosphere('Atmo'))\n",
    "        \n",
    "        self.connect(self.Rocket, self.Traj, {'v_out.val' : 'v'})\n",
    "        self.connect(self.Rocket, self.Grav, ['g'])\n",
    "        self.connect(self.Rocket, self.Atmo, ['P', 'V_wind', 'rho'])\n",
    "        self.connect(self.Grav, self.Traj, {'r_in' : 'r_out'})\n",
    "        self.connect(self.Atmo, self.Traj, {'r_in' : 'r_out'})\n",
    "        \n",
    "        #Execution order\n",
    "        self.exec_order = ['Grav', 'Atmo', 'Rocket', 'Traj']\n",
    "        \n",
    "        "
   ]
  },
  {
   "cell_type": "markdown",
   "id": "3ae6c6a3",
   "metadata": {},
   "source": [
    "## Earth Children\n",
    "\n",
    "Vectors are given in the Earth-fixed reference frame"
   ]
  },
  {
   "cell_type": "code",
   "execution_count": 7,
   "id": "0b64aec5",
   "metadata": {},
   "outputs": [],
   "source": [
    "class Rocket(System):\n",
    "    \n",
    "    def setup(self):\n",
    "        \n",
    "        #System orientation\n",
    "        self.add_inward('Rocket_ang', np.zeros(3), desc = \"Earth Euler Angles\", unit = '')\n",
    "        \n",
    "        #Engine propulsive debt\n",
    "        self.add_inward('qp', 10., desc = \"Engine's Propulsive Debt\", unit = 'kg/s')\n",
    "        \n",
    "        #Rocket children\n",
    "        self.add_child(Kinematics('Kin'), pulling = ['v_out'])\n",
    "        self.add_child(Dynamics('Dyn'), pulling = ['g'])\n",
    "        self.add_child(Thrust('Thrust'), pulling = ['P', 'qp'])\n",
    "        self.add_child(Geometry('Geom'), pulling = ['qp'])\n",
    "        self.add_child(Aerodynamics('Aero'), pulling = ['V_wind', 'rho'])\n",
    "        \n",
    "        #Child-Child connections\n",
    "        self.connect(self.Kin, self.Dyn, {'Kin_ang' : 'Dyn_ang', 'v_out' : 'v_in', 'av_out' : 'av_in', 'a': 'a', 'aa' : 'aa'})\n",
    "        self.connect(self.Kin, self.Aero, {'v_out' : 'v_in', 'Kin_ang' : 'Aero_ang'})\n",
    "        self.connect(self.Dyn, self.Thrust, ['Fp', 'Mp'])\n",
    "        self.connect(self.Dyn, self.Geom, {'m' : 'm_out', 'I' : 'I'})\n",
    "        self.connect(self.Dyn, self.Aero, ['Fa', 'Ma'])\n",
    "        self.connect(self.Geom, self.Aero, ['S_ref', 'gc'])\n",
    "        \n",
    "        #Execution order\n",
    "        self.exec_order = ['Geom', 'Thrust', 'Aero', 'Dyn', 'Kin']\n"
   ]
  },
  {
   "cell_type": "code",
   "execution_count": 8,
   "id": "2226af78",
   "metadata": {},
   "outputs": [],
   "source": [
    "class Trajectory(System):\n",
    "    \n",
    "    def setup(self):\n",
    "        \n",
    "        #Rocket inputs\n",
    "        self.add_inward('v', np.zeros(3), desc = \"Rocket Velocity\", unit = 'm/s')\n",
    "        \n",
    "        #Trajectory transients\n",
    "        self.add_transient('r', der = 'v', desc = \"Rocket Position\")\n",
    "        \n",
    "        #Trajectory outputs\n",
    "        self.add_outward('r_out', np.zeros(3), desc = \"Rocket Position\", unit = 'm')\n",
    "        \n",
    "    def compute(self):\n",
    "        \n",
    "        self.r_out = self.r\n",
    "        "
   ]
  },
  {
   "cell_type": "code",
   "execution_count": 9,
   "id": "16699fe5",
   "metadata": {},
   "outputs": [],
   "source": [
    "class Gravity(System):\n",
    "    \n",
    "    def setup(self):\n",
    "        \n",
    "        #System constants\n",
    "        self.add_inward('G', 6.6743*10**(-11), desc = \"Gravitational Constant\", unit = 'N*m**2/kg**2')\n",
    "        self.add_inward('M', 5.972*10**24, desc = \"Earth's Mass\", unit = 'kg')\n",
    "        self.add_inward('R', 6.371*10**6, desc = \"Earth's Radius\", unit = 'm')\n",
    "        \n",
    "        #Trajectory inputs\n",
    "        self.add_inward('r_in', np.zeros(3), desc = \"Rocket Position\", unit = 'm')\n",
    "        \n",
    "        #Gravity outputs\n",
    "        self.add_output(AclPort, 'g')\n",
    "        \n",
    "    def compute(self):\n",
    "        \n",
    "        self.g.val = np.array([0., 0., -self.G*self.M/(self.R + self.r_in[-1])**2])\n"
   ]
  },
  {
   "cell_type": "code",
   "execution_count": 10,
   "id": "6abd8b44",
   "metadata": {},
   "outputs": [],
   "source": [
    "class Atmosphere(System):\n",
    "    \n",
    "    def setup(self):\n",
    "        \n",
    "        #System orientation\n",
    "        self.add_inward('Atmo_ang', np.zeros(3), desc = \"Earth Euler Angles\", unit = '')\n",
    "        \n",
    "        #Atmosphere children\n",
    "        self.add_child(Density('Dens'), pulling = ['r_in', 'rho'])\n",
    "        self.add_child(Pressure('Pres'), pulling = ['r_in', 'P'])\n",
    "        self.add_child(Wind('Wind'), pulling = ['V_wind'])\n",
    "        \n",
    "        #Execution order\n",
    "        self.exec_order = ['Dens', 'Pres', 'Wind']\n",
    "    \n",
    "    "
   ]
  },
  {
   "cell_type": "markdown",
   "id": "11869a5b",
   "metadata": {},
   "source": [
    "## Rocket Children\n",
    "\n",
    "Vectors are given in the rocket-fixed reference frame"
   ]
  },
  {
   "cell_type": "code",
   "execution_count": 11,
   "id": "f64a7a24",
   "metadata": {},
   "outputs": [],
   "source": [
    "class Kinematics(System):\n",
    "    \n",
    "    def setup(self):\n",
    "        \n",
    "        #System orientation\n",
    "        self.add_outward('Kin_ang', np.zeros(3), desc = \"Rocket Euler Angles\", unit = '')\n",
    "        \n",
    "        #Dynamics inputs\n",
    "        self.add_inward('a', np.zeros(3), desc = \"Rocket Acceleration\", unit = 'm/s**2')\n",
    "        self.add_inward('aa', np.zeros(3), desc = \"Rocket Angular Acceleration\", unit = '1/s**2')\n",
    "        \n",
    "        #Kinematics transients\n",
    "        self.add_transient('v', der = 'a', desc = \"Rocket Velocity\")\n",
    "        self.add_transient('av', der = 'aa', desc = \"Rocket Angular Velocity\")\n",
    "        self.add_transient('ar', der = 'av', desc = \"Rocket Angular Position\")\n",
    "        \n",
    "        #Kinematics outputs\n",
    "        self.add_output(VelPort, 'v_out')\n",
    "        self.add_outward('av_out', np.zeros(3), desc = \"Rocket Angular Velocity\", unit = '1/s')\n",
    "        \n",
    "    def compute(self):\n",
    "        \n",
    "        self.v_out.val = self.v\n",
    "        self.av_out = self.av\n",
    "        self.Kin_ang = self.ar\n",
    "        \n"
   ]
  },
  {
   "cell_type": "code",
   "execution_count": 12,
   "id": "bbfc6c7a",
   "metadata": {},
   "outputs": [],
   "source": [
    "class Dynamics(System):\n",
    "    \n",
    "    def setup(self):\n",
    "        \n",
    "        #System orientation\n",
    "        self.add_inward('Dyn_ang', np.zeros(3), desc = \"Rocket Euler Angles\", unit = '')\n",
    "        \n",
    "        #Kinematics inputs\n",
    "        self.add_input(VelPort, 'v_in')\n",
    "        self.add_inward('av_in', np.zeros(3), desc = \"Rocket Angular Velocity\", unit = '1/s')\n",
    "        \n",
    "        #Thrust inputs\n",
    "        self.add_inward('Fp', np.zeros(3), desc = \"Thrust Force\", unit = 'N')\n",
    "        self.add_inward('Mp', np.zeros(3), desc = \"Thrust Moment\", unit = 'N*m')\n",
    "        \n",
    "        #AeroForces inputs\n",
    "        self.add_inward('Fa', np.zeros(3), desc = \"Thrust Force\", unit = 'N')\n",
    "        self.add_inward('Ma', np.zeros(3), desc = \"Thrust Moment\", unit = 'N*m')\n",
    "        \n",
    "        #Geometry inputs\n",
    "        self.add_inward('m', 100., desc = \"Rocket Mass\", unit = 'kg')\n",
    "        self.add_inward('I', np.array([10., 100., 100.]), desc = \"Rocket Moments of Inertia\", unit = 'kg*m**2')\n",
    "        \n",
    "        #Gravity inputs\n",
    "        self.add_input(AclPort, 'g')\n",
    "        \n",
    "        #Dynamics outputs\n",
    "        self.add_outward('a', np.zeros(3), desc = \"Rocket Acceleration\", unit = 'm/s**2')\n",
    "        self.add_outward('aa', np.zeros(3), desc = \"Rocket Angular Acceleration\", unit = '1/s**2')\n",
    "        \n",
    "    def compute(self):\n",
    "        \n",
    "        v = self.v_in.val\n",
    "        av = self.av_in\n",
    "        \n",
    "        self.a[0] = (self.Fp[0] + self.Fa[0])/self.m + self.g.val[0] + av[2]*v[1] - av[1]*v[2]\n",
    "        self.a[1] = (self.Fp[1] + self.Fa[1])/self.m + self.g.val[1] + av[0]*v[2] - av[2]*v[0]\n",
    "        self.a[2] = (self.Fp[2] + self.Fa[2])/self.m + self.g.val[2] + av[1]*v[0] - av[0]*v[1]\n",
    "        \n",
    "        self.aa[0] = (self.Mp[0] + self.Ma[0] + (self.I[1] - self.I[2])*av[1]*av[2])/self.I[0]\n",
    "        self.aa[1] = (self.Mp[1] + self.Ma[1] + (self.I[2] - self.I[0])*av[2]*av[0])/self.I[1]\n",
    "        self.aa[2] = (self.Mp[2] + self.Ma[2] + (self.I[0] - self.I[1])*av[0]*av[1])/self.I[2]\n",
    "        \n",
    "        "
   ]
  },
  {
   "cell_type": "code",
   "execution_count": 13,
   "id": "fb530def",
   "metadata": {},
   "outputs": [],
   "source": [
    "class Thrust(System):\n",
    "    \n",
    "    def setup(self):\n",
    "        \n",
    "        #System constants\n",
    "        self.add_inward('g0', 9.81, desc = \"Gravity at Earth's Surface\", unit = 'm/s**2')\n",
    "        self.add_inward('isp', 100., desc = \"Specific Impulsion in vacuum\", unit = 's')\n",
    "        \n",
    "        #Rocket inputs\n",
    "        self.add_inward('qp', 10., desc = \"Engine's Propulsive Debt\", unit = 'kg/s')\n",
    "        \n",
    "        #Pressure inputs\n",
    "        self.add_inward('P', 100000., desc = \"Atmospheric Pressure at Rocket's Height\", unit = 'Pa')\n",
    "        \n",
    "        #Geometry inputs\n",
    "        self.add_inward('S', 0.01, desc = \"Propeller Area\", unit = 'm**2')\n",
    "        \n",
    "        #Thrust outputs\n",
    "        self.add_outward('Fp', np.zeros(3), desc = \"Thrust Force\", unit = 'N')\n",
    "        self.add_outward('Mp', np.zeros(3), desc = \"Thrust Moment\", unit = 'N*m')\n",
    "        \n",
    "    def compute(self):\n",
    "        \n",
    "        self.Fp[0] = self.qp*self.g0*self.isp - self.P*self.S\n",
    "        self.Fp[1] = 0.\n",
    "        self.Fp[2] = 0.\n",
    "        \n",
    "        self.Mp[0] = 0.\n",
    "        self.Mp[1] = 0.\n",
    "        self.Mp[2] = 0.\n",
    "        \n",
    "        "
   ]
  },
  {
   "cell_type": "code",
   "execution_count": 14,
   "id": "c46e7cf6",
   "metadata": {},
   "outputs": [],
   "source": [
    "class Geometry(System):\n",
    "    \n",
    "    def setup(self):\n",
    "        \n",
    "        #Geometry children\n",
    "        self.add_child(Mass('Mass'), pulling = ['m_out', 'qp'])\n",
    "        self.add_child(Inertia('Inertia'), pulling = ['I'])\n",
    "        self.add_child(Dimensions('Dime'), pulling = ['S', 'S_ref'])\n",
    "        self.add_child(CenterOfGravity('CoG'), pulling = ['gc'])\n",
    "        \n",
    "        #Children-children connections\n",
    "        self.connect(self.Dime, self.CoG, ['l'])\n",
    "        self.connect(self.Dime, self.Inertia, ['l', 'r_cyl'])\n",
    "        self.connect(self.Mass, self.Inertia, {'m_out' : 'm_in'})\n",
    "        \n",
    "        #Execution order\n",
    "        self.exec_order = ['Dime', 'Mass', 'Inertia', 'CoG']\n",
    "    "
   ]
  },
  {
   "cell_type": "code",
   "execution_count": 15,
   "id": "783cb6e7",
   "metadata": {},
   "outputs": [],
   "source": [
    "class Aerodynamics(System):\n",
    "    \n",
    "    def setup(self):\n",
    "        \n",
    "        #System Orientation\n",
    "        self.add_inward('Aero_ang', np.zeros(3), desc = \"Rocket Euler Angles\", unit = '')\n",
    "        \n",
    "        #Aerodynamics children\n",
    "        self.add_child(AeroForces('AeroForces'), pulling = ['Fa', 'Ma', 'rho', 'S_ref', 'gc'])\n",
    "        self.add_child(RelativeSpeed('RelSpeed'), pulling = ['v_in', 'V_wind'])\n",
    "        self.add_child(Angles('Angles'))\n",
    "        self.add_child(Coefficients('Coeff'))\n",
    "        self.add_child(CenterOfPressure('CoP'))\n",
    "        \n",
    "        #Children-children connections\n",
    "        self.connect(self.RelSpeed, self.Angles, ['V_rel'])\n",
    "        self.connect(self.Angles, self.Coeff, ['alpha', 'beta'])\n",
    "        self.connect(self.AeroForces, self.RelSpeed, ['V_rel'])\n",
    "        self.connect(self.AeroForces, self.Coeff, ['C'])\n",
    "        self.connect(self.AeroForces, self.CoP, ['gf'])\n",
    "        \n",
    "        \n",
    "        #Execution order\n",
    "        self.exec_order = ['RelSpeed', 'CoP', 'Angles', 'Coeff', 'AeroForces']\n",
    "    "
   ]
  },
  {
   "cell_type": "markdown",
   "id": "f1ca5817",
   "metadata": {},
   "source": [
    "## Atmosphere Children\n",
    "\n",
    "All vectors are given in the wind-fixed frame of reference"
   ]
  },
  {
   "cell_type": "code",
   "execution_count": 16,
   "id": "f6771249",
   "metadata": {},
   "outputs": [],
   "source": [
    "class Density(System):\n",
    "    \n",
    "    def setup(self):\n",
    "        \n",
    "        #System constants\n",
    "        self.add_inward('rho0', 1.225, desc = \"Air Density at Sea Level\", unit = 'kg/m**3')\n",
    "        \n",
    "        #Trajectory inputs\n",
    "        self.add_inward('r_in', np.zeros(3), desc = \"Rocket's Position\", unit = 'm')\n",
    "        \n",
    "        #Density outputs\n",
    "        self.add_outward('rho', 1.225, desc = \"Air Density at Rocket's Height\", unit = 'kg/m**3')\n",
    "        \n",
    "    def compute(self):\n",
    "        \n",
    "        self.rho = self.rho0 * (20000. - self.r_in[-1]) / (20000. + self.r_in[-1])\n",
    "        "
   ]
  },
  {
   "cell_type": "code",
   "execution_count": 17,
   "id": "6d398576",
   "metadata": {},
   "outputs": [],
   "source": [
    "class Pressure(System):\n",
    "    \n",
    "    def setup(self):\n",
    "        \n",
    "        #System constants\n",
    "        self.add_inward('P0', 101325., desc = \"Atmospheric Pressure at Sea Level\", unit = 'Pa')\n",
    "        \n",
    "        #Trajectory inputs\n",
    "        self.add_inward('r_in', np.zeros(3), desc = \"Rocket's Position\", unit = 'm')\n",
    "        \n",
    "        #Pressure outputs\n",
    "        self.add_outward('P', 101325., desc = \"Atmospheric Pressure at Rocket's Height\", unit = 'Pa')\n",
    "        \n",
    "    def compute(self):\n",
    "        \n",
    "        self.P = self.P0 * (20000. - self.r_in[-1]) / (20000. + self.r_in[-1])\n"
   ]
  },
  {
   "cell_type": "code",
   "execution_count": 18,
   "id": "63748fec",
   "metadata": {},
   "outputs": [],
   "source": [
    "class Wind(System):\n",
    "    \n",
    "    def setup(self):\n",
    "        \n",
    "        #System orientation\n",
    "        self.add_inward('Wind_ang', np.array([0., 0., np.pi/6]))\n",
    "        \n",
    "        #Wind inputs\n",
    "        self.add_inward('V', 5., desc = \"Wind Velocity\", unit = 'm/s')\n",
    "        \n",
    "        #Wind outputs\n",
    "        self.add_output(VelPort, 'V_wind')\n",
    "        \n",
    "    def compute(self):\n",
    "        \n",
    "        self.V_wind.val = np.array([self.V, 0., 0.])\n",
    "        "
   ]
  },
  {
   "cell_type": "markdown",
   "id": "e4dd96cc",
   "metadata": {},
   "source": [
    "## Geometry Children"
   ]
  },
  {
   "cell_type": "code",
   "execution_count": 19,
   "id": "2666e70a",
   "metadata": {},
   "outputs": [],
   "source": [
    "class Mass(System):\n",
    "    \n",
    "    def setup(self):\n",
    "        \n",
    "        #System constants\n",
    "        self.add_inward('m0', 100., desc = \"Rocket's Initial Mass\", unit = 'kg')\n",
    "        self.add_inward('qp', 10., desc = \"Engine's Propulsive Debt\", unit = 'kg/s')\n",
    "        self.add_inward('qi', 0., desc = \"Engine's Inertial Debt\", unit = 'kg/s')\n",
    "        self.add_inward('dmdt', 0., desc = \"Mass' Rate of Change\", unit = 'kg/s')\n",
    "        \n",
    "        #System transients\n",
    "        self.add_transient('m', der = \"dmdt\", desc = \"Rocket Mass\")\n",
    "        \n",
    "        self.add_outward('m_out', 100., desc = \"Rocket Mass\", unit = 'kg')\n",
    "        \n",
    "    def compute(self):\n",
    "        \n",
    "        self.dmdt = -(self.qp + self.qi)\n",
    "        self.m_out = self.m\n",
    "    \n",
    "    "
   ]
  },
  {
   "cell_type": "code",
   "execution_count": 20,
   "id": "1d21f932",
   "metadata": {},
   "outputs": [],
   "source": [
    "class Inertia(System):\n",
    "    \n",
    "    def setup(self):\n",
    "        \n",
    "        #Mass inputs\n",
    "        self.add_inward('m_in', 100., desc = \"Rocket Mass\", unit = 'kg')\n",
    "        \n",
    "        #Dimensions inputs\n",
    "        self.add_inward('l', 10., desc = \"Rocket Length\", unit = 'm')\n",
    "        self.add_inward('r_cyl', 0.05, desc = \"Rocket Radius\", unit = 'm')\n",
    "        \n",
    "        #Inertia outputs\n",
    "        self.add_outward('I', np.zeros(3), desc = \"Rocket Moments of Inertia\", unit = 'kg*m**2')\n",
    "        \n",
    "    def compute(self):\n",
    "        \n",
    "        self.I[0] = self.m_in*self.r_cyl**2/2\n",
    "        self.I[1] = self.m_in*self.l**2/12\n",
    "        self.I[2] = self.m_in*self.l**2/12\n",
    "        \n",
    "        "
   ]
  },
  {
   "cell_type": "code",
   "execution_count": 21,
   "id": "9a82cbeb",
   "metadata": {},
   "outputs": [],
   "source": [
    "class Dimensions(System):\n",
    "    \n",
    "    def setup(self):\n",
    "        \n",
    "        #Dimensions outputs\n",
    "        self.add_outward('l', 10., desc = \"Rocket Length\", unit = 'm')\n",
    "        self.add_outward('r_cyl', 0.05, desc = \"Rocket Radius\", unit = 'm')\n",
    "        self.add_outward('S', 0.01, desc = \"Propeller Surface\", unit = 'm**2')\n",
    "        self.add_outward('S_ref', 1., desc = \"Rocket Surface of Reference\", unit = 'm**2')\n",
    "        \n",
    "    def compute(self):\n",
    "        \n",
    "        self.S_ref = np.pi*self.r_cyl**2\n",
    "        "
   ]
  },
  {
   "cell_type": "code",
   "execution_count": 22,
   "id": "194dd243",
   "metadata": {},
   "outputs": [],
   "source": [
    "class CenterOfGravity(System):\n",
    "    \n",
    "    def setup(self):\n",
    "        \n",
    "        #Dimensions inputs\n",
    "        self.add_inward('l', 10., desc = \"Rocket Length\", unit = 'm')\n",
    "        \n",
    "        #CenterOfGravity outputs\n",
    "        self.add_outward('gc', np.zeros(3), desc = \"GC Distance\", unit = 'm')  #Distance between the propellers and the CoG\n",
    "        \n",
    "    def compute(self):\n",
    "        \n",
    "        self.gc = np.array([0., 0., self.l/2])\n",
    "        "
   ]
  },
  {
   "cell_type": "markdown",
   "id": "6ba08be9",
   "metadata": {},
   "source": [
    "## Aerodynamics Children\n",
    "\n",
    "All vectors are given in the velocity-fixed reference frame"
   ]
  },
  {
   "cell_type": "code",
   "execution_count": 23,
   "id": "64be7d61",
   "metadata": {},
   "outputs": [],
   "source": [
    "class AeroForces(System):\n",
    "    \n",
    "    def setup(self):\n",
    "        \n",
    "        #Density inputs\n",
    "        self.add_inward('rho', 1., desc = \"Air Density\", unit = 'kg/m**3')\n",
    "        \n",
    "        #Geometry inputs\n",
    "        self.add_inward('S_ref', 1., desc = \"Rocket Surface of Reference\", unit = 'm**2')\n",
    "        \n",
    "        #RelativeSpeed inputs\n",
    "        self.add_inward('V_rel', np.zeros(3), desc = \"Relative Speed\", unit = 'm/s')\n",
    "        \n",
    "        #Coefficients inputs\n",
    "        self.add_inward('C', np.zeros(3), desc = \"Aerodynamics Coefficients\", unit = '')\n",
    "        \n",
    "        #CenterOfPressure inputs\n",
    "        self.add_inward('gf', np.zeros(3), desc = \"Rocket Center of Pressure\", unit = 'm')\n",
    "        \n",
    "        #CenterOfGravity inputs\n",
    "        self.add_inward('gc', np.zeros(3), desc = \"Rocket Center of Mass\", unit = 'm')\n",
    "        \n",
    "        #AeroForces outputs\n",
    "        self.add_outward('Fa', np.zeros(3), desc = \"Aerodynamics Forces\", unit = 'N')\n",
    "        self.add_outward('Ma', np.zeros(3), desc = \"Aerodynamics Moments\", unit = 'N*m')\n",
    "        \n",
    "    def compute(self):\n",
    "        \n",
    "        dl = self.gf - self.gc\n",
    "        \n",
    "        self.Fa[0] = -0.5*self.rho*self.S_ref*self.V_rel[0]**2*self.C[0]\n",
    "        self.Fa[1] =  0.5*self.rho*self.S_ref*self.V_rel[1]**2*self.C[1]\n",
    "        self.Fa[2] = -0.5*self.rho*self.S_ref*self.V_rel[2]**2*self.C[2]\n",
    "        \n",
    "        self.Ma[0] = 0.5*self.rho*self.S_ref*self.V_rel[0]**2*self.C[0]*dl[0]\n",
    "        self.Ma[1] = 0.5*self.rho*self.S_ref*self.V_rel[1]**2*self.C[1]*dl[1]\n",
    "        self.Ma[2] = 0.5*self.rho*self.S_ref*self.V_rel[2]**2*self.C[2]*dl[2]\n",
    "    "
   ]
  },
  {
   "cell_type": "code",
   "execution_count": 24,
   "id": "22af0424",
   "metadata": {},
   "outputs": [],
   "source": [
    "class RelativeSpeed(System):\n",
    "    \n",
    "    def setup(self):\n",
    "        \n",
    "        #System orientation\n",
    "        self.add_inward('RelSpeed_ang', np.zeros(3), desc = \"Rocket Euler Angles\", unit = '')\n",
    "        \n",
    "        #Kinematics inputs\n",
    "        self.add_input(VelPort, 'v_in')\n",
    "        \n",
    "        #Wind inputs\n",
    "        self.add_input(VelPort, 'V_wind')\n",
    "        \n",
    "        #RelativeSpeed outputs\n",
    "        self.add_outward('V_rel', np.zeros(3), desc = \"Relative Velocity\", unit = 'm/s')\n",
    "        \n",
    "    def compute(self):\n",
    "        \n",
    "        self.V_rel = self.V_wind.val - self.v_in.val\n",
    "        \n",
    "    "
   ]
  },
  {
   "cell_type": "code",
   "execution_count": 25,
   "id": "f5d6822b",
   "metadata": {},
   "outputs": [],
   "source": [
    "class Angles(System):\n",
    "    \n",
    "    def setup(self):\n",
    "        \n",
    "        #RelativeSpeed inputs\n",
    "        self.add_inward('V_rel', np.zeros(3), desc = \"Relative Velocity\", unit = 'm/s')\n",
    "        \n",
    "        #Angles outputs\n",
    "        self.add_outward('alpha', 0., desc = \"Angle of Attack\", unit = '')\n",
    "        self.add_outward('beta', 0., desc = \"Angle of Bank\", unit = '')\n",
    "        \n",
    "    def compute(self):\n",
    "        \n",
    "        self.alpha = np.arcsin(self.V_rel[2]/np.linalg.norm(self.V_rel))\n",
    "        self.beta = np.arcsin(self.V_rel[1]/np.linalg.norm(self.V_rel))\n",
    "        "
   ]
  },
  {
   "cell_type": "code",
   "execution_count": 26,
   "id": "7f1c5112",
   "metadata": {},
   "outputs": [],
   "source": [
    "class Coefficients(System):\n",
    "    \n",
    "    def setup(self):\n",
    "        \n",
    "        #System inputs\n",
    "        self.add_inward('Cx0', 1., desc = \"X Axis Initial Aerodynamic Coefficient\", unit = '')\n",
    "        self.add_inward('Cy0', 0., desc = \"Y Axis Initial Aerodynamic Coefficient\", unit = '')\n",
    "        self.add_inward('Cz0', 0., desc = \"Z Axis Initial Aerodynamic Coefficient\", unit = '')\n",
    "        \n",
    "        self.add_inward('Cy_beta', 1., desc = \"Cy Rate of Change\", unit = '')\n",
    "        self.add_inward('Cz_alpha', 1., desc = \"Cz Rate of Change\", unit = '')\n",
    "        \n",
    "        #Angles inputs\n",
    "        self.add_inward('alpha', 0., desc = \"Angle of Attack\", unit = '')\n",
    "        self.add_inward('beta', 0., desc = \"Angle of Bank\", unit = '')\n",
    "        \n",
    "        #Coefficients outputs\n",
    "        self.add_outward('C', np.zeros(3), desc = \"Aerodynamics Coefficient\", unit = '')\n",
    "        \n",
    "    def compute(self):\n",
    "        \n",
    "        self.C[1] = self.Cy0 + self.Cy_beta*self.beta\n",
    "        self.C[2] = self.Cz0 + self.Cz_alpha*self.alpha\n",
    "        self.C[0] = self.Cx0 + 0.5*self.C[2]*self.alpha\n",
    "    "
   ]
  },
  {
   "cell_type": "code",
   "execution_count": 27,
   "id": "290b9387",
   "metadata": {},
   "outputs": [],
   "source": [
    "class CenterOfPressure(System):\n",
    "    \n",
    "    def setup(self):\n",
    "        \n",
    "        #CenterOfPressure outputs\n",
    "        self.add_outward('gf', np.array([0., 0., 8.]), desc = \"GF Distance\", unit = 'm')  #Distance between propellers and CoP\n",
    "        \n",
    "    "
   ]
  },
  {
   "cell_type": "markdown",
   "id": "697bd37c",
   "metadata": {},
   "source": [
    "# Main Function"
   ]
  },
  {
   "cell_type": "code",
   "execution_count": 35,
   "id": "4d80380d",
   "metadata": {},
   "outputs": [],
   "source": [
    "#Main function\n",
    "\n",
    "#Time-step\n",
    "dt = 0.1\n",
    "\n",
    "#Create System\n",
    "earth = Earth('earth')\n",
    "\n",
    "#Add RungeKutta driver\n",
    "driver = earth.add_driver(RungeKutta(order=4, dt=dt))\n",
    "driver.time_interval = (0, 9)\n",
    "\n",
    "#Add NonLinearSolver driver\n",
    "solver = driver.add_child(NonLinearSolver('solver', factor=1))\n",
    "\n",
    "\n",
    "# Add a recorder to capture time evolution in a dataframe\n",
    "driver.add_recorder(\n",
    "    DataFrameRecorder(includes=['Traj.r', 'Rocket.Kin.v', 'Rocket.Kin.a']),\n",
    "    period=.1,\n",
    ")\n",
    "\n",
    "#Initial conditions and constants\n",
    "\n",
    "driver.set_scenario(\n",
    "    init = {\n",
    "        'Traj.r' : np.zeros(3),\n",
    "        'Rocket.Kin.v' : np.zeros(3),\n",
    "        'Rocket.Kin.ar' : np.array([0., np.pi/2 + 1, 0.]),\n",
    "        'Rocket.Kin.av' : 0.*np.array([np.pi/20, np.pi/20, 0.]),\n",
    "        'Rocket.Geom.Mass.m' : 200.\n",
    "    })\n",
    "\n",
    "\n",
    "earth.run_drivers()"
   ]
  },
  {
   "cell_type": "code",
   "execution_count": null,
   "id": "8bf7050f",
   "metadata": {},
   "outputs": [],
   "source": [
    "data = driver.recorder.export_data()\n",
    "data = data.drop(['Section', 'Status', 'Error code'], axis=1)\n",
    "time = np.asarray(data['time'])\n",
    "traj = np.asarray(data['Traj.r'].tolist())\n",
    "velo = np.asarray(data['Rocket.Kin.v'].tolist())\n",
    "acel = np.asarray(data['Rocket.Kin.a'].tolist())"
   ]
  },
  {
   "cell_type": "code",
   "execution_count": null,
   "id": "6f13fa95",
   "metadata": {},
   "outputs": [
    {
     "data": {
      "text/plain": [
       "array([[ 0.00000000e+00,  0.00000000e+00,  0.00000000e+00],\n",
       "       [-1.86685070e-01,  9.21056539e-04,  6.70050504e-02],\n",
       "       [-7.53035509e-01,  7.48576558e-03,  2.57098352e-01],\n",
       "       [-1.70796899e+00,  2.56440884e-02,  5.53812739e-01],\n",
       "       [-3.05970043e+00,  6.16643098e-02,  9.40615746e-01],\n",
       "       [-4.81574254e+00,  1.22103424e-01,  1.40098498e+00],\n",
       "       [-6.98289999e+00,  2.13786778e-01,  1.91846417e+00],\n",
       "       [-9.56727273e+00,  3.43769054e-01,  2.47674326e+00],\n",
       "       [-1.25742914e+01,  5.19330991e-01,  3.05972405e+00],\n",
       "       [-1.60087351e+01,  7.47915130e-01,  3.65159871e+00],\n",
       "       [-1.98747166e+01,  1.03715119e+00,  4.23690487e+00],\n",
       "       [-2.41757462e+01,  1.39478828e+00,  4.80057936e+00],\n",
       "       [-2.89147589e+01,  1.82866643e+00,  5.32809043e+00],\n",
       "       [-3.40941721e+01,  2.34673636e+00,  5.80540054e+00],\n",
       "       [-3.97158830e+01,  2.95693497e+00,  6.21913209e+00],\n",
       "       [-4.57813286e+01,  3.66724606e+00,  6.55656633e+00],\n",
       "       [-5.22915700e+01,  4.48563331e+00,  6.80571573e+00],\n",
       "       [-5.92473157e+01,  5.42001711e+00,  6.95537997e+00],\n",
       "       [-6.66489788e+01,  6.47815117e+00,  6.99525706e+00],\n",
       "       [-7.44967501e+01,  7.66779738e+00,  6.91590937e+00],\n",
       "       [-8.27906197e+01,  8.99643940e+00,  6.70885304e+00],\n",
       "       [-9.15305060e+01,  1.04713821e+01,  6.36658981e+00],\n",
       "       [-1.00716321e+02,  1.20996944e+01,  5.88269560e+00],\n",
       "       [-1.10347887e+02,  1.38881210e+01,  5.25188331e+00],\n",
       "       [-1.20425230e+02,  1.58430505e+01,  4.46986641e+00],\n",
       "       [-1.30948438e+02,  1.79705097e+01,  3.53356321e+00],\n",
       "       [-1.41917904e+02,  2.02760101e+01,  2.44115840e+00],\n",
       "       [-1.53334251e+02,  2.27645563e+01,  1.19198088e+00],\n",
       "       [-1.65198422e+02,  2.54405480e+01, -2.13380266e-01],\n",
       "       [-1.77511794e+02,  2.83077579e+01, -1.77302664e+00],\n",
       "       [-1.90276207e+02,  3.13692306e+01, -3.48380393e+00],\n",
       "       [-2.03494007e+02,  3.46272036e+01, -5.34119392e+00],\n",
       "       [-2.17168159e+02,  3.80829925e+01, -7.33942286e+00],\n",
       "       [-2.31302140e+02,  4.17369493e+01, -9.47136724e+00],\n",
       "       [-2.45900046e+02,  4.55883949e+01, -1.17284870e+01],\n",
       "       [-2.60966661e+02,  4.96354542e+01, -1.41009046e+01],\n",
       "       [-2.76507532e+02,  5.38749815e+01, -1.65774070e+01],\n",
       "       [-2.92528732e+02,  5.83023642e+01, -1.91453849e+01],\n",
       "       [-3.09037243e+02,  6.29117236e+01, -2.17909426e+01],\n",
       "       [-3.26040575e+02,  6.76954124e+01, -2.44987073e+01],\n",
       "       [-3.43546800e+02,  7.26441550e+01, -2.72520815e+01],\n",
       "       [-3.61564900e+02,  7.77468318e+01, -3.00329117e+01],\n",
       "       [-3.80104127e+02,  8.29902713e+01, -3.28219707e+01],\n",
       "       [-3.99174255e+02,  8.83594715e+01, -3.55985176e+01],\n",
       "       [-4.18785546e+02,  9.38369878e+01, -3.83405151e+01],\n",
       "       [-4.38948523e+02,  9.94031395e+01, -4.10248632e+01],\n",
       "       [-4.59673750e+02,  1.05035901e+02, -4.36270204e+01],\n",
       "       [-4.80971920e+02,  1.10710735e+02, -4.61213013e+01],\n",
       "       [-5.02853432e+02,  1.16400365e+02, -4.84808390e+01],\n",
       "       [-5.25328226e+02,  1.22074776e+02, -5.06777481e+01],\n",
       "       [-5.48405986e+02,  1.27701342e+02, -5.26828042e+01],\n",
       "       [-5.72095057e+02,  1.33244592e+02, -5.44661631e+01],\n",
       "       [-5.96402922e+02,  1.38665938e+02, -5.59966668e+01],\n",
       "       [-6.21335604e+02,  1.43924194e+02, -5.72424629e+01],\n",
       "       [-6.46897357e+02,  1.48975151e+02, -5.81709235e+01],\n",
       "       [-6.73090386e+02,  1.53771765e+02, -5.87486780e+01],\n",
       "       [-6.99914383e+02,  1.58264470e+02, -5.89417014e+01],\n",
       "       [-7.27366315e+02,  1.62400829e+02, -5.87156846e+01],\n",
       "       [-7.55440043e+02,  1.66126242e+02, -5.80355772e+01],\n",
       "       [-7.84126015e+02,  1.69383666e+02, -5.68665333e+01],\n",
       "       [-8.13410714e+02,  1.72114298e+02, -5.51732765e+01],\n",
       "       [-8.43276231e+02,  1.74257465e+02, -5.29206815e+01],\n",
       "       [-8.73700439e+02,  1.75751329e+02, -5.00737773e+01],\n",
       "       [-9.04656142e+02,  1.76533206e+02, -4.65978470e+01],\n",
       "       [-9.36110914e+02,  1.76539784e+02, -4.24587498e+01],\n",
       "       [-9.68027168e+02,  1.75707765e+02, -3.76231528e+01],\n",
       "       [-1.00036158e+03,  1.73974632e+02, -3.20582826e+01],\n",
       "       [-1.03306510e+03,  1.71278710e+02, -2.57324010e+01],\n",
       "       [-1.06608285e+03,  1.67560114e+02, -1.86151842e+01],\n",
       "       [-1.09935430e+03,  1.62761314e+02, -1.06773591e+01],\n",
       "       [-1.13281307e+03,  1.56827636e+02, -1.89124467e+00],\n",
       "       [-1.16638681e+03,  1.49707991e+02,  7.76913807e+00],\n",
       "       [-1.19999802e+03,  1.41355332e+02,  1.83279385e+01],\n",
       "       [-1.23356360e+03,  1.31727485e+02,  2.98074846e+01],\n",
       "       [-1.26699592e+03,  1.20787339e+02,  4.22278837e+01],\n",
       "       [-1.30020251e+03,  1.08503820e+02,  5.56070499e+01],\n",
       "       [-1.33308691e+03,  9.48520989e+01,  6.99608737e+01],\n",
       "       [-1.36554906e+03,  7.98141093e+01,  8.53026743e+01],\n",
       "       [-1.39748569e+03,  6.33789207e+01,  1.01643216e+02],\n",
       "       [-1.42879097e+03,  4.55431624e+01,  1.18990941e+02],\n",
       "       [-1.45935746e+03,  2.63110583e+01,  1.37351536e+02],\n",
       "       [-1.48907608e+03,  5.69494545e+00,  1.56728186e+02],\n",
       "       [-1.51783723e+03, -1.62846716e+01,  1.77121652e+02],\n",
       "       [-1.54553121e+03, -3.95992685e+01,  1.98529842e+02],\n",
       "       [-1.57204907e+03, -6.42121796e+01,  2.20948116e+02],\n",
       "       [-1.59728293e+03, -9.00783230e+01,  2.44369262e+02],\n",
       "       [-1.62112687e+03, -1.17144731e+02,  2.68783648e+02],\n",
       "       [-1.64347758e+03, -1.45350267e+02,  2.94178612e+02],\n",
       "       [-1.66423474e+03, -1.74626352e+02,  3.20539511e+02],\n",
       "       [-1.68330174e+03, -2.04896844e+02,  3.47848645e+02],\n",
       "       [-1.70058630e+03, -2.36077937e+02,  3.76085875e+02]])"
      ]
     },
     "execution_count": 30,
     "metadata": {},
     "output_type": "execute_result"
    }
   ],
   "source": [
    "traj"
   ]
  },
  {
   "cell_type": "code",
   "execution_count": null,
   "id": "d819ef95",
   "metadata": {},
   "outputs": [
    {
     "data": {
      "text/plain": [
       "array([[ 0.00000000e+00,  0.00000000e+00,  0.00000000e+00],\n",
       "       [ 3.87861100e+00,  1.47168576e-02,  8.60783007e-01],\n",
       "       [ 7.77846068e+00,  6.09640085e-02,  1.79008361e+00],\n",
       "       [ 1.16988647e+01,  1.41858608e-01,  2.78721795e+00],\n",
       "       [ 1.56391342e+01,  2.60500894e-01,  3.85139026e+00],\n",
       "       [ 1.95985611e+01,  4.19985937e-01,  4.98169245e+00],\n",
       "       [ 2.35764417e+01,  6.23388208e-01,  6.17710057e+00],\n",
       "       [ 2.75720555e+01,  8.73764556e-01,  7.43647956e+00],\n",
       "       [ 3.15846801e+01,  1.17415736e+00,  8.75857974e+00],\n",
       "       [ 3.56135782e+01,  1.52758197e+00,  1.01420432e+01],\n",
       "       [ 3.96580127e+01,  1.93703379e+00,  1.15853890e+01],\n",
       "       [ 4.37172281e+01,  2.40548466e+00,  1.30870375e+01],\n",
       "       [ 4.77904704e+01,  2.93588289e+00,  1.46452956e+01],\n",
       "       [ 5.18769651e+01,  3.53115361e+00,  1.62583566e+01],\n",
       "       [ 5.59759348e+01,  4.19420465e+00,  1.79243064e+01],\n",
       "       [ 6.00865969e+01,  4.92792301e+00,  1.96411198e+01],\n",
       "       [ 6.42081395e+01,  5.73517517e+00,  2.14066654e+01],\n",
       "       [ 6.83397525e+01,  6.61880948e+00,  2.32187031e+01],\n",
       "       [ 7.24805987e+01,  7.58166386e+00,  2.50748789e+01],\n",
       "       [ 7.66298359e+01,  8.62656587e+00,  2.69727367e+01],\n",
       "       [ 8.07865947e+01,  9.75633974e+00,  2.89097099e+01],\n",
       "       [ 8.49499804e+01,  1.09738071e+01,  3.08831243e+01],\n",
       "       [ 8.91190812e+01,  1.22817930e+01,  3.28901891e+01],\n",
       "       [ 9.32929461e+01,  1.36831304e+01,  3.49280033e+01],\n",
       "       [ 9.74705901e+01,  1.51806597e+01,  3.69935588e+01],\n",
       "       [ 1.01650995e+02,  1.67772488e+01,  3.90837301e+01],\n",
       "       [ 1.05833095e+02,  1.84757788e+01,  4.11952768e+01],\n",
       "       [ 1.10015768e+02,  2.02791608e+01,  4.33248412e+01],\n",
       "       [ 1.14197845e+02,  2.21903374e+01,  4.54689435e+01],\n",
       "       [ 1.18378074e+02,  2.42122880e+01,  4.76239791e+01],\n",
       "       [ 1.22555143e+02,  2.63480200e+01,  4.97862246e+01],\n",
       "       [ 1.26727653e+02,  2.86005823e+01,  5.19518253e+01],\n",
       "       [ 1.30894111e+02,  3.09730702e+01,  5.41167905e+01],\n",
       "       [ 1.35052919e+02,  3.34686106e+01,  5.62770021e+01],\n",
       "       [ 1.39202371e+02,  3.60903673e+01,  5.84281971e+01],\n",
       "       [ 1.43340632e+02,  3.88415387e+01,  6.05659735e+01],\n",
       "       [ 1.47465732e+02,  4.17253500e+01,  6.26857854e+01],\n",
       "       [ 1.51575558e+02,  4.47450399e+01,  6.47829371e+01],\n",
       "       [ 1.55667837e+02,  4.79038526e+01,  6.68525804e+01],\n",
       "       [ 1.59740122e+02,  5.12050255e+01,  6.88897042e+01],\n",
       "       [ 1.63789790e+02,  5.46517763e+01,  7.08891588e+01],\n",
       "       [ 1.67814023e+02,  5.82472741e+01,  7.28456161e+01],\n",
       "       [ 1.71809804e+02,  6.19946198e+01,  7.47536074e+01],\n",
       "       [ 1.75773919e+02,  6.58968176e+01,  7.66074889e+01],\n",
       "       [ 1.79702926e+02,  6.99567547e+01,  7.84014625e+01],\n",
       "       [ 1.83593171e+02,  7.41771520e+01,  8.01295787e+01],\n",
       "       [ 1.87440776e+02,  7.85605354e+01,  8.17857304e+01],\n",
       "       [ 1.91241651e+02,  8.31091909e+01,  8.33636580e+01],\n",
       "       [ 1.94991487e+02,  8.78251261e+01,  8.48569658e+01],\n",
       "       [ 1.98685761e+02,  9.27100206e+01,  8.62591238e+01],\n",
       "       [ 2.02319766e+02,  9.77651730e+01,  8.75634735e+01],\n",
       "       [ 2.05888614e+02,  1.02991456e+02,  8.87632537e+01],\n",
       "       [ 2.09387259e+02,  1.08389255e+02,  8.98516009e+01],\n",
       "       [ 2.12810521e+02,  1.13958423e+02,  9.08215795e+01],\n",
       "       [ 2.16153120e+02,  1.19698221e+02,  9.16661904e+01],\n",
       "       [ 2.19409722e+02,  1.25607271e+02,  9.23783997e+01],\n",
       "       [ 2.22574959e+02,  1.31683502e+02,  9.29511633e+01],\n",
       "       [ 2.25643501e+02,  1.37924112e+02,  9.33774437e+01],\n",
       "       [ 2.28610090e+02,  1.44325513e+02,  9.36502526e+01],\n",
       "       [ 2.31469594e+02,  1.50883309e+02,  9.37626681e+01],\n",
       "       [ 2.34217083e+02,  1.57592253e+02,  9.37078811e+01],\n",
       "       [ 2.36847878e+02,  1.64446245e+02,  9.34792222e+01],\n",
       "       [ 2.39357608e+02,  1.71438313e+02,  9.30701852e+01],\n",
       "       [ 2.41742283e+02,  1.78560601e+02,  9.24744774e+01],\n",
       "       [ 2.43998339e+02,  1.85804402e+02,  9.16860517e+01],\n",
       "       [ 2.46122712e+02,  1.93160179e+02,  9.06991331e+01],\n",
       "       [ 2.48112874e+02,  2.00617580e+02,  8.95082622e+01],\n",
       "       [ 2.49966883e+02,  2.08165518e+02,  8.81083129e+01],\n",
       "       [ 2.51683417e+02,  2.15792198e+02,  8.64945386e+01],\n",
       "       [ 2.53261800e+02,  2.23485225e+02,  8.46625860e+01],\n",
       "       [ 2.54702005e+02,  2.31231664e+02,  8.26085271e+01],\n",
       "       [ 2.56004668e+02,  2.39018136e+02,  8.03288633e+01],\n",
       "       [ 2.57171057e+02,  2.46830924e+02,  7.78205655e+01],\n",
       "       [ 2.58203066e+02,  2.54656086e+02,  7.50810678e+01],\n",
       "       [ 2.59103140e+02,  2.62479545e+02,  7.21082683e+01],\n",
       "       [ 2.59874246e+02,  2.70287221e+02,  6.89005520e+01],\n",
       "       [ 2.60519800e+02,  2.78065127e+02,  6.54567728e+01],\n",
       "       [ 2.61043561e+02,  2.85799479e+02,  6.17762400e+01],\n",
       "       [ 2.61449573e+02,  2.93476800e+02,  5.78587338e+01],\n",
       "       [ 2.61742051e+02,  3.01084005e+02,  5.37044659e+01],\n",
       "       [ 2.61925293e+02,  3.08608477e+02,  4.93140638e+01],\n",
       "       [ 2.62003591e+02,  3.16038144e+02,  4.46885628e+01],\n",
       "       [ 2.61981117e+02,  3.23361520e+02,  3.98293730e+01],\n",
       "       [ 2.61861868e+02,  3.30567734e+02,  3.47382563e+01],\n",
       "       [ 2.61649594e+02,  3.37646552e+02,  2.94173112e+01],\n",
       "       [ 2.61347766e+02,  3.44588360e+02,  2.38689335e+01],\n",
       "       [ 2.60959544e+02,  3.51384153e+02,  1.80958064e+01],\n",
       "       [ 2.60487805e+02,  3.58025476e+02,  1.21008678e+01],\n",
       "       [ 2.59935194e+02,  3.64504362e+02,  5.88730306e+00],\n",
       "       [ 2.59304221e+02,  3.70813236e+02, -5.41480731e-01],\n",
       "       [ 2.58597410e+02,  3.76944816e+02, -7.18186947e+00]])"
      ]
     },
     "execution_count": 31,
     "metadata": {},
     "output_type": "execute_result"
    }
   ],
   "source": [
    "velo"
   ]
  },
  {
   "cell_type": "code",
   "execution_count": null,
   "id": "500bfafb",
   "metadata": {},
   "outputs": [
    {
     "data": {
      "text/plain": [
       "array([[ 3.86776612e+01, -7.87124549e-05,  8.26327715e+00],\n",
       "       [ 3.88934575e+01,  2.99605631e-01,  8.95147288e+00],\n",
       "       [ 3.91024283e+01,  6.30476004e-01,  9.63338863e+00],\n",
       "       [ 3.93045401e+01,  9.92496277e-01,  1.03079719e+01],\n",
       "       [ 3.94996666e+01,  1.38549730e+00,  1.09739717e+01],\n",
       "       [ 3.96876849e+01,  1.80928432e+00,  1.16303274e+01],\n",
       "       [ 3.98686717e+01,  2.26383719e+00,  1.22759787e+01],\n",
       "       [ 4.00424109e+01,  2.74882324e+00,  1.29095675e+01],\n",
       "       [ 4.02088849e+01,  3.26409141e+00,  1.35302249e+01],\n",
       "       [ 4.03678796e+01,  3.80938211e+00,  1.41365897e+01],\n",
       "       [ 4.05194774e+01,  4.38462373e+00,  1.47276933e+01],\n",
       "       [ 4.06635609e+01,  4.98935113e+00,  1.53024660e+01],\n",
       "       [ 4.08000105e+01,  5.62349393e+00,  1.58596419e+01],\n",
       "       [ 4.09286041e+01,  6.28679126e+00,  1.63983446e+01],\n",
       "       [ 4.10495055e+01,  6.97909270e+00,  1.69173025e+01],\n",
       "       [ 4.11623783e+01,  7.70006803e+00,  1.74154380e+01],\n",
       "       [ 4.12671690e+01,  8.44970290e+00,  1.78917652e+01],\n",
       "       [ 4.13637103e+01,  9.22771521e+00,  1.83450988e+01],\n",
       "       [ 4.14519151e+01,  1.00340488e+01,  1.87743423e+01],\n",
       "       [ 4.15314760e+01,  1.08686841e+01,  1.91784908e+01],\n",
       "       [ 4.16022553e+01,  1.17314436e+01,  1.95565269e+01],\n",
       "       [ 4.16639838e+01,  1.26225845e+01,  1.99071263e+01],\n",
       "       [ 4.17164541e+01,  1.35419173e+01,  2.02293435e+01],\n",
       "       [ 4.17592196e+01,  1.44895932e+01,  2.05219199e+01],\n",
       "       [ 4.17919799e+01,  1.54658107e+01,  2.07839710e+01],\n",
       "       [ 4.18143785e+01,  1.64707168e+01,  2.10140984e+01],\n",
       "       [ 4.18258013e+01,  1.75047000e+01,  2.12112728e+01],\n",
       "       [ 4.18257606e+01,  1.85678954e+01,  2.13742400e+01],\n",
       "       [ 4.18136944e+01,  1.96606719e+01,  2.15018157e+01],\n",
       "       [ 4.17887601e+01,  2.07833296e+01,  2.15926828e+01],\n",
       "       [ 4.17503201e+01,  2.19363894e+01,  2.16457882e+01],\n",
       "       [ 4.16973479e+01,  2.31200887e+01,  2.16595503e+01],\n",
       "       [ 4.16291062e+01,  2.43348602e+01,  2.16328404e+01],\n",
       "       [ 4.15442605e+01,  2.55812212e+01,  2.15642958e+01],\n",
       "       [ 4.14417569e+01,  2.68592629e+01,  2.14523192e+01],\n",
       "       [ 4.13202289e+01,  2.81695170e+01,  2.12956666e+01],\n",
       "       [ 4.11782918e+01,  2.95120490e+01,  2.10927624e+01],\n",
       "       [ 4.10144421e+01,  3.08871221e+01,  2.08421929e+01],\n",
       "       [ 4.08270595e+01,  3.22945811e+01,  2.05423156e+01],\n",
       "       [ 4.06143140e+01,  3.37343119e+01,  2.01916552e+01],\n",
       "       [ 4.03743630e+01,  3.52060215e+01,  1.97885176e+01],\n",
       "       [ 4.01052675e+01,  3.67090980e+01,  1.93314870e+01],\n",
       "       [ 3.98049996e+01,  3.82427812e+01,  1.88188452e+01],\n",
       "       [ 3.94715608e+01,  3.98060233e+01,  1.82490740e+01],\n",
       "       [ 3.91025049e+01,  4.13972588e+01,  1.76204691e+01],\n",
       "       [ 3.86959449e+01,  4.30148596e+01,  1.69316487e+01],\n",
       "       [ 3.82494051e+01,  4.46566078e+01,  1.61809770e+01],\n",
       "       [ 3.77609280e+01,  4.63198594e+01,  1.53669755e+01],\n",
       "       [ 3.72282280e+01,  4.80016109e+01,  1.44883379e+01],\n",
       "       [ 3.66494185e+01,  4.96983714e+01,  1.35437544e+01],\n",
       "       [ 3.60225667e+01,  5.14061425e+01,  1.25320330e+01],\n",
       "       [ 3.53460317e+01,  5.31202008e+01,  1.14521198e+01],\n",
       "       [ 3.46182235e+01,  5.48355800e+01,  1.03032215e+01],\n",
       "       [ 3.38381430e+01,  5.65465754e+01,  9.08463122e+00],\n",
       "       [ 3.30049488e+01,  5.82470448e+01,  7.79585337e+00],\n",
       "       [ 3.21181038e+01,  5.99304267e+01,  6.43662589e+00],\n",
       "       [ 3.11777259e+01,  6.15895682e+01,  5.00694410e+00],\n",
       "       [ 3.01843359e+01,  6.32166688e+01,  3.50708287e+00],\n",
       "       [ 2.91389076e+01,  6.48040201e+01,  1.93761817e+00],\n",
       "       [ 2.80429969e+01,  6.63431825e+01,  2.99442145e-01],\n",
       "       [ 2.68989694e+01,  6.78255585e+01, -1.40621669e+00],\n",
       "       [ 2.57096184e+01,  6.92426793e+01, -3.17778702e+00],\n",
       "       [ 2.44783680e+01,  7.05856093e+01, -5.01344381e+00],\n",
       "       [ 2.32091649e+01,  7.18456551e+01, -6.91080911e+00],\n",
       "       [ 2.19068375e+01,  7.30144756e+01, -8.86735109e+00],\n",
       "       [ 2.05764633e+01,  7.40838155e+01, -1.08800956e+01],\n",
       "       [ 1.92236023e+01,  7.50458293e+01, -1.29458347e+01],\n",
       "       [ 1.78544097e+01,  7.58932974e+01, -1.50610517e+01],\n",
       "       [ 1.64751450e+01,  7.66196552e+01, -1.72217454e+01],\n",
       "       [ 1.50924521e+01,  7.72192989e+01, -1.94238570e+01],\n",
       "       [ 1.37127374e+01,  7.76871992e+01, -2.16632058e+01],\n",
       "       [ 1.23426279e+01,  7.80193748e+01, -2.39351347e+01],\n",
       "       [ 1.09883279e+01,  7.82131704e+01, -2.62350447e+01],\n",
       "       [ 9.65587002e+00,  7.82666096e+01, -2.85583436e+01],\n",
       "       [ 8.35058065e+00,  7.81791105e+01, -3.09002924e+01],\n",
       "       [ 7.07733565e+00,  7.79510955e+01, -3.32559569e+01],\n",
       "       [ 5.84004966e+00,  7.75840700e+01, -3.56208398e+01],\n",
       "       [ 4.64196983e+00,  7.70805625e+01, -3.79901395e+01],\n",
       "       [ 3.48530824e+00,  7.64440576e+01, -4.03595752e+01],\n",
       "       [ 2.37139509e+00,  7.56789951e+01, -4.27247342e+01],\n",
       "       [ 1.30058307e+00,  7.47903409e+01, -4.50815917e+01],\n",
       "       [ 2.72279183e-01,  7.37838534e+01, -4.74261428e+01],\n",
       "       [-7.15067106e-01,  7.26655073e+01, -4.97547123e+01],\n",
       "       [-1.66362973e+00,  7.14417227e+01, -5.20640617e+01],\n",
       "       [-2.57602606e+00,  7.01185786e+01, -5.43509008e+01],\n",
       "       [-3.45526887e+00,  6.87025012e+01, -5.66121753e+01],\n",
       "       [-4.30438423e+00,  6.71992647e+01, -5.88454496e+01],\n",
       "       [-5.12605397e+00,  6.56139817e+01, -6.10480035e+01],\n",
       "       [-5.92202509e+00,  6.39510980e+01, -6.32175936e+01],\n",
       "       [-6.69323992e+00,  6.22141756e+01, -6.53520328e+01],\n",
       "       [-7.43855288e+00,  6.04055171e+01, -6.74493575e+01]])"
      ]
     },
     "execution_count": 32,
     "metadata": {},
     "output_type": "execute_result"
    }
   ],
   "source": [
    "acel"
   ]
  },
  {
   "cell_type": "code",
   "execution_count": null,
   "id": "5bb4e1b1",
   "metadata": {},
   "outputs": [
    {
     "data": {
      "application/vnd.plotly.v1+json": {
       "config": {
        "plotlyServerURL": "https://plot.ly"
       },
       "data": [
        {
         "line": {
          "color": "darkblue",
          "width": 2
         },
         "marker": {
          "color": [
           0,
           0.06700505038731742,
           0.25709835210207643,
           0.5538127385775895,
           0.9406157455549761,
           1.4009849824844054,
           1.9184641714091974,
           2.4767432557031137,
           3.059724049745619,
           3.6515987051617977,
           4.2369048702840715,
           4.800579363683544,
           5.328090429517701,
           5.805400543521714,
           6.219132092389491,
           6.556566329499371,
           6.805715734663052,
           6.955379967144254,
           6.995257058010803,
           6.915909368424766,
           6.708853036355406,
           6.3665898067491185,
           5.882695595840298,
           5.251883309697621,
           4.46986641259735,
           3.5335632122257987,
           2.441158397372766,
           1.1919808804844758,
           -0.21338026633247845,
           -1.7730266393332146,
           -3.483803929436427,
           -5.34119392447649,
           -7.339422858037638,
           -9.471367242133029,
           -11.728487029211058,
           -14.100904556000415,
           -16.577407009038726,
           -19.14538488447978,
           -21.79094255100264,
           -24.498707284961807,
           -27.252081498522582,
           -30.03291168681478,
           -32.821970747519636,
           -35.5985175939242,
           -38.34051512392194,
           -41.02486320797117,
           -43.62702037088745,
           -46.12130133739719,
           -48.48083901356867,
           -50.67774805898766,
           -52.682804243659376,
           -54.466163129155156,
           -55.99666684383228,
           -57.242462888073916,
           -58.17092352987006,
           -58.74867801884283,
           -58.94170140584566,
           -58.715684565701565,
           -58.035577186718776,
           -56.86653334002697,
           -55.173276530762855,
           -52.920681525342594,
           -50.07377726421968,
           -46.59784696082291,
           -42.458749767984365,
           -37.62315277732828,
           -32.05828263557734,
           -25.732400965158654,
           -18.61518424416287,
           -10.677359141971914,
           -1.8912446651219532,
           7.7691380714621365,
           18.327938475649447,
           29.807484621903882,
           42.227883713636835,
           55.60704987431392,
           69.96087368624762,
           85.30267427126809,
           101.64321593099872,
           118.99094066200408,
           137.35153571159702,
           156.72818636439132,
           177.12165177236852,
           198.52984183855813,
           220.94811629249702,
           244.36926194149876,
           268.78364790712294,
           294.17861188532834,
           320.5395108087901,
           347.84864549142156,
           376.0858746530081
          ],
          "colorscale": [
           [
            0,
            "#440154"
           ],
           [
            0.1111111111111111,
            "#482878"
           ],
           [
            0.2222222222222222,
            "#3e4989"
           ],
           [
            0.3333333333333333,
            "#31688e"
           ],
           [
            0.4444444444444444,
            "#26828e"
           ],
           [
            0.5555555555555556,
            "#1f9e89"
           ],
           [
            0.6666666666666666,
            "#35b779"
           ],
           [
            0.7777777777777778,
            "#6ece58"
           ],
           [
            0.8888888888888888,
            "#b5de2b"
           ],
           [
            1,
            "#fde725"
           ]
          ],
          "size": 4
         },
         "type": "scatter3d",
         "x": [
          0,
          -0.1866850698133328,
          -0.7530355090386183,
          -1.7079689909820788,
          -3.0597004318259478,
          -4.8157425391951465,
          -6.982899990377897,
          -9.567272728045051,
          -12.574291399096257,
          -16.008735108131052,
          -19.87471656098291,
          -24.175746199223656,
          -28.914758922370982,
          -34.09417214623768,
          -39.71588301543174,
          -45.78132857410255,
          -52.29157001071794,
          -59.24731570904392,
          -66.64897882752844,
          -74.49675010628656,
          -82.79061966921243,
          -91.53050603619985,
          -100.71632093342717,
          -110.34788650221532,
          -120.4252296086686,
          -130.94843843987468,
          -141.91790420963264,
          -153.33425136549516,
          -165.19842168370394,
          -177.51179409209686,
          -190.2762072818689,
          -203.49400747519292,
          -217.16815933997378,
          -231.30213982358993,
          -245.9000463033932,
          -260.96666109822127,
          -276.5075324337392,
          -292.52873194190056,
          -309.037243414445,
          -326.0405747952296,
          -343.54679964556715,
          -361.56490031379553,
          -380.1041274739685,
          -399.174254863378,
          -418.785546429849,
          -438.9485226516058,
          -459.6737498382615,
          -480.9719196256466,
          -502.85343232071494,
          -525.3282261731281,
          -548.4059859853995,
          -572.0950574087674,
          -596.4029216679227,
          -621.3356035397779,
          -646.897356839195,
          -673.0903862783583,
          -699.9143831985004,
          -727.3663147208998,
          -755.4400433035697,
          -784.1260149679666,
          -813.4107135250101,
          -843.2762310572434,
          -873.7004391671411,
          -904.6561422529735,
          -936.1109142638899,
          -968.0271680401651,
          -1000.3615795309075,
          -1033.0651017482567,
          -1066.0828469589003,
          -1099.354303582607,
          -1132.8130701542243,
          -1166.386810312342,
          -1199.9980173822944,
          -1233.5635963400866,
          -1266.9959164166225,
          -1300.2025078928964,
          -1333.0869105277513,
          -1365.5490607309723,
          -1397.4856898305788,
          -1428.7909677432083,
          -1459.3574572426664,
          -1489.076076576738,
          -1517.8372258032853,
          -1545.5312116985892,
          -1572.0490707379588,
          -1597.2829327939744,
          -1621.126871239453,
          -1643.477581128937,
          -1664.2347374488177,
          -1683.301742322293,
          -1700.586303464081
         ],
         "y": [
          0,
          0.0009210565393269166,
          0.007485765577234333,
          0.025644088364986335,
          0.06166430984259956,
          0.12210342436828557,
          0.21378677762003975,
          0.3437690538910049,
          0.5193309906880832,
          0.7479151301508135,
          1.0371511853233524,
          1.3947882836967207,
          1.8286664336008833,
          2.346736356882416,
          2.956934967274845,
          3.667246064910815,
          4.485633306601312,
          5.4200171081101605,
          6.478151169527132,
          7.667797379887747,
          8.996439397522888,
          10.471382088308015,
          12.09969435858626,
          13.888120965057592,
          15.843050548473377,
          17.970509686756536,
          20.276010108045377,
          22.764556281615864,
          25.440548023559746,
          28.307757862668055,
          31.369230631610943,
          34.62720358653134,
          38.08299248811353,
          41.73694930256487,
          45.5883949010209,
          49.635454226756615,
          53.87498153909766,
          58.302364224356864,
          62.91172356684754,
          67.6954124300765,
          72.64415500552873,
          77.74683179048967,
          82.99027127763556,
          88.35947153018016,
          93.83698782783094,
          99.40313950573236,
          105.03590089966671,
          110.71073502898481,
          116.40036505699241,
          122.07477603702961,
          127.70134172509904,
          133.2445917952275,
          138.6659380585509,
          143.92419369311256,
          148.97515094196402,
          153.7717647244502,
          158.26446963276467,
          162.40082878748572,
          166.12624178323853,
          169.3836658880415,
          172.11429819635026,
          174.2574646530986,
          175.75132868919394,
          176.53320561734847,
          176.53978382276446,
          175.70776512772554,
          173.9746322198677,
          171.27871009938286,
          167.56011403944638,
          162.76131443615498,
          156.82763612023098,
          149.7079905373744,
          141.35533248881865,
          131.727485353943,
          120.78733890059809,
          108.50382003290271,
          94.85209887484586,
          79.81410928302165,
          63.37892065320784,
          45.54316239573195,
          26.311058255478745,
          5.694945447391779,
          -16.284671610425587,
          -39.5992685370696,
          -64.2121795954627,
          -90.0783229635033,
          -117.14473051852592,
          -145.35026746886882,
          -174.62635208308765,
          -204.89684378661065,
          -236.0779368845031
         ],
         "z": [
          0,
          0.06700505038731742,
          0.25709835210207643,
          0.5538127385775895,
          0.9406157455549761,
          1.4009849824844054,
          1.9184641714091974,
          2.4767432557031137,
          3.059724049745619,
          3.6515987051617977,
          4.2369048702840715,
          4.800579363683544,
          5.328090429517701,
          5.805400543521714,
          6.219132092389491,
          6.556566329499371,
          6.805715734663052,
          6.955379967144254,
          6.995257058010803,
          6.915909368424766,
          6.708853036355406,
          6.3665898067491185,
          5.882695595840298,
          5.251883309697621,
          4.46986641259735,
          3.5335632122257987,
          2.441158397372766,
          1.1919808804844758,
          -0.21338026633247845,
          -1.7730266393332146,
          -3.483803929436427,
          -5.34119392447649,
          -7.339422858037638,
          -9.471367242133029,
          -11.728487029211058,
          -14.100904556000415,
          -16.577407009038726,
          -19.14538488447978,
          -21.79094255100264,
          -24.498707284961807,
          -27.252081498522582,
          -30.03291168681478,
          -32.821970747519636,
          -35.5985175939242,
          -38.34051512392194,
          -41.02486320797117,
          -43.62702037088745,
          -46.12130133739719,
          -48.48083901356867,
          -50.67774805898766,
          -52.682804243659376,
          -54.466163129155156,
          -55.99666684383228,
          -57.242462888073916,
          -58.17092352987006,
          -58.74867801884283,
          -58.94170140584566,
          -58.715684565701565,
          -58.035577186718776,
          -56.86653334002697,
          -55.173276530762855,
          -52.920681525342594,
          -50.07377726421968,
          -46.59784696082291,
          -42.458749767984365,
          -37.62315277732828,
          -32.05828263557734,
          -25.732400965158654,
          -18.61518424416287,
          -10.677359141971914,
          -1.8912446651219532,
          7.7691380714621365,
          18.327938475649447,
          29.807484621903882,
          42.227883713636835,
          55.60704987431392,
          69.96087368624762,
          85.30267427126809,
          101.64321593099872,
          118.99094066200408,
          137.35153571159702,
          156.72818636439132,
          177.12165177236852,
          198.52984183855813,
          220.94811629249702,
          244.36926194149876,
          268.78364790712294,
          294.17861188532834,
          320.5395108087901,
          347.84864549142156,
          376.0858746530081
         ]
        }
       ],
       "layout": {
        "margin": {
         "b": 10,
         "l": 10,
         "r": 20,
         "t": 10
        },
        "scene": {
         "xaxis": {
          "nticks": 2,
          "range": [
           -750,
           750
          ]
         },
         "yaxis": {
          "nticks": 2,
          "range": [
           -500,
           500
          ]
         },
         "zaxis": {
          "nticks": 2,
          "range": [
           0,
           1500
          ]
         }
        },
        "template": {
         "data": {
          "bar": [
           {
            "error_x": {
             "color": "#2a3f5f"
            },
            "error_y": {
             "color": "#2a3f5f"
            },
            "marker": {
             "line": {
              "color": "#E5ECF6",
              "width": 0.5
             },
             "pattern": {
              "fillmode": "overlay",
              "size": 10,
              "solidity": 0.2
             }
            },
            "type": "bar"
           }
          ],
          "barpolar": [
           {
            "marker": {
             "line": {
              "color": "#E5ECF6",
              "width": 0.5
             },
             "pattern": {
              "fillmode": "overlay",
              "size": 10,
              "solidity": 0.2
             }
            },
            "type": "barpolar"
           }
          ],
          "carpet": [
           {
            "aaxis": {
             "endlinecolor": "#2a3f5f",
             "gridcolor": "white",
             "linecolor": "white",
             "minorgridcolor": "white",
             "startlinecolor": "#2a3f5f"
            },
            "baxis": {
             "endlinecolor": "#2a3f5f",
             "gridcolor": "white",
             "linecolor": "white",
             "minorgridcolor": "white",
             "startlinecolor": "#2a3f5f"
            },
            "type": "carpet"
           }
          ],
          "choropleth": [
           {
            "colorbar": {
             "outlinewidth": 0,
             "ticks": ""
            },
            "type": "choropleth"
           }
          ],
          "contour": [
           {
            "colorbar": {
             "outlinewidth": 0,
             "ticks": ""
            },
            "colorscale": [
             [
              0,
              "#0d0887"
             ],
             [
              0.1111111111111111,
              "#46039f"
             ],
             [
              0.2222222222222222,
              "#7201a8"
             ],
             [
              0.3333333333333333,
              "#9c179e"
             ],
             [
              0.4444444444444444,
              "#bd3786"
             ],
             [
              0.5555555555555556,
              "#d8576b"
             ],
             [
              0.6666666666666666,
              "#ed7953"
             ],
             [
              0.7777777777777778,
              "#fb9f3a"
             ],
             [
              0.8888888888888888,
              "#fdca26"
             ],
             [
              1,
              "#f0f921"
             ]
            ],
            "type": "contour"
           }
          ],
          "contourcarpet": [
           {
            "colorbar": {
             "outlinewidth": 0,
             "ticks": ""
            },
            "type": "contourcarpet"
           }
          ],
          "heatmap": [
           {
            "colorbar": {
             "outlinewidth": 0,
             "ticks": ""
            },
            "colorscale": [
             [
              0,
              "#0d0887"
             ],
             [
              0.1111111111111111,
              "#46039f"
             ],
             [
              0.2222222222222222,
              "#7201a8"
             ],
             [
              0.3333333333333333,
              "#9c179e"
             ],
             [
              0.4444444444444444,
              "#bd3786"
             ],
             [
              0.5555555555555556,
              "#d8576b"
             ],
             [
              0.6666666666666666,
              "#ed7953"
             ],
             [
              0.7777777777777778,
              "#fb9f3a"
             ],
             [
              0.8888888888888888,
              "#fdca26"
             ],
             [
              1,
              "#f0f921"
             ]
            ],
            "type": "heatmap"
           }
          ],
          "heatmapgl": [
           {
            "colorbar": {
             "outlinewidth": 0,
             "ticks": ""
            },
            "colorscale": [
             [
              0,
              "#0d0887"
             ],
             [
              0.1111111111111111,
              "#46039f"
             ],
             [
              0.2222222222222222,
              "#7201a8"
             ],
             [
              0.3333333333333333,
              "#9c179e"
             ],
             [
              0.4444444444444444,
              "#bd3786"
             ],
             [
              0.5555555555555556,
              "#d8576b"
             ],
             [
              0.6666666666666666,
              "#ed7953"
             ],
             [
              0.7777777777777778,
              "#fb9f3a"
             ],
             [
              0.8888888888888888,
              "#fdca26"
             ],
             [
              1,
              "#f0f921"
             ]
            ],
            "type": "heatmapgl"
           }
          ],
          "histogram": [
           {
            "marker": {
             "pattern": {
              "fillmode": "overlay",
              "size": 10,
              "solidity": 0.2
             }
            },
            "type": "histogram"
           }
          ],
          "histogram2d": [
           {
            "colorbar": {
             "outlinewidth": 0,
             "ticks": ""
            },
            "colorscale": [
             [
              0,
              "#0d0887"
             ],
             [
              0.1111111111111111,
              "#46039f"
             ],
             [
              0.2222222222222222,
              "#7201a8"
             ],
             [
              0.3333333333333333,
              "#9c179e"
             ],
             [
              0.4444444444444444,
              "#bd3786"
             ],
             [
              0.5555555555555556,
              "#d8576b"
             ],
             [
              0.6666666666666666,
              "#ed7953"
             ],
             [
              0.7777777777777778,
              "#fb9f3a"
             ],
             [
              0.8888888888888888,
              "#fdca26"
             ],
             [
              1,
              "#f0f921"
             ]
            ],
            "type": "histogram2d"
           }
          ],
          "histogram2dcontour": [
           {
            "colorbar": {
             "outlinewidth": 0,
             "ticks": ""
            },
            "colorscale": [
             [
              0,
              "#0d0887"
             ],
             [
              0.1111111111111111,
              "#46039f"
             ],
             [
              0.2222222222222222,
              "#7201a8"
             ],
             [
              0.3333333333333333,
              "#9c179e"
             ],
             [
              0.4444444444444444,
              "#bd3786"
             ],
             [
              0.5555555555555556,
              "#d8576b"
             ],
             [
              0.6666666666666666,
              "#ed7953"
             ],
             [
              0.7777777777777778,
              "#fb9f3a"
             ],
             [
              0.8888888888888888,
              "#fdca26"
             ],
             [
              1,
              "#f0f921"
             ]
            ],
            "type": "histogram2dcontour"
           }
          ],
          "mesh3d": [
           {
            "colorbar": {
             "outlinewidth": 0,
             "ticks": ""
            },
            "type": "mesh3d"
           }
          ],
          "parcoords": [
           {
            "line": {
             "colorbar": {
              "outlinewidth": 0,
              "ticks": ""
             }
            },
            "type": "parcoords"
           }
          ],
          "pie": [
           {
            "automargin": true,
            "type": "pie"
           }
          ],
          "scatter": [
           {
            "fillpattern": {
             "fillmode": "overlay",
             "size": 10,
             "solidity": 0.2
            },
            "type": "scatter"
           }
          ],
          "scatter3d": [
           {
            "line": {
             "colorbar": {
              "outlinewidth": 0,
              "ticks": ""
             }
            },
            "marker": {
             "colorbar": {
              "outlinewidth": 0,
              "ticks": ""
             }
            },
            "type": "scatter3d"
           }
          ],
          "scattercarpet": [
           {
            "marker": {
             "colorbar": {
              "outlinewidth": 0,
              "ticks": ""
             }
            },
            "type": "scattercarpet"
           }
          ],
          "scattergeo": [
           {
            "marker": {
             "colorbar": {
              "outlinewidth": 0,
              "ticks": ""
             }
            },
            "type": "scattergeo"
           }
          ],
          "scattergl": [
           {
            "marker": {
             "colorbar": {
              "outlinewidth": 0,
              "ticks": ""
             }
            },
            "type": "scattergl"
           }
          ],
          "scattermapbox": [
           {
            "marker": {
             "colorbar": {
              "outlinewidth": 0,
              "ticks": ""
             }
            },
            "type": "scattermapbox"
           }
          ],
          "scatterpolar": [
           {
            "marker": {
             "colorbar": {
              "outlinewidth": 0,
              "ticks": ""
             }
            },
            "type": "scatterpolar"
           }
          ],
          "scatterpolargl": [
           {
            "marker": {
             "colorbar": {
              "outlinewidth": 0,
              "ticks": ""
             }
            },
            "type": "scatterpolargl"
           }
          ],
          "scatterternary": [
           {
            "marker": {
             "colorbar": {
              "outlinewidth": 0,
              "ticks": ""
             }
            },
            "type": "scatterternary"
           }
          ],
          "surface": [
           {
            "colorbar": {
             "outlinewidth": 0,
             "ticks": ""
            },
            "colorscale": [
             [
              0,
              "#0d0887"
             ],
             [
              0.1111111111111111,
              "#46039f"
             ],
             [
              0.2222222222222222,
              "#7201a8"
             ],
             [
              0.3333333333333333,
              "#9c179e"
             ],
             [
              0.4444444444444444,
              "#bd3786"
             ],
             [
              0.5555555555555556,
              "#d8576b"
             ],
             [
              0.6666666666666666,
              "#ed7953"
             ],
             [
              0.7777777777777778,
              "#fb9f3a"
             ],
             [
              0.8888888888888888,
              "#fdca26"
             ],
             [
              1,
              "#f0f921"
             ]
            ],
            "type": "surface"
           }
          ],
          "table": [
           {
            "cells": {
             "fill": {
              "color": "#EBF0F8"
             },
             "line": {
              "color": "white"
             }
            },
            "header": {
             "fill": {
              "color": "#C8D4E3"
             },
             "line": {
              "color": "white"
             }
            },
            "type": "table"
           }
          ]
         },
         "layout": {
          "annotationdefaults": {
           "arrowcolor": "#2a3f5f",
           "arrowhead": 0,
           "arrowwidth": 1
          },
          "autotypenumbers": "strict",
          "coloraxis": {
           "colorbar": {
            "outlinewidth": 0,
            "ticks": ""
           }
          },
          "colorscale": {
           "diverging": [
            [
             0,
             "#8e0152"
            ],
            [
             0.1,
             "#c51b7d"
            ],
            [
             0.2,
             "#de77ae"
            ],
            [
             0.3,
             "#f1b6da"
            ],
            [
             0.4,
             "#fde0ef"
            ],
            [
             0.5,
             "#f7f7f7"
            ],
            [
             0.6,
             "#e6f5d0"
            ],
            [
             0.7,
             "#b8e186"
            ],
            [
             0.8,
             "#7fbc41"
            ],
            [
             0.9,
             "#4d9221"
            ],
            [
             1,
             "#276419"
            ]
           ],
           "sequential": [
            [
             0,
             "#0d0887"
            ],
            [
             0.1111111111111111,
             "#46039f"
            ],
            [
             0.2222222222222222,
             "#7201a8"
            ],
            [
             0.3333333333333333,
             "#9c179e"
            ],
            [
             0.4444444444444444,
             "#bd3786"
            ],
            [
             0.5555555555555556,
             "#d8576b"
            ],
            [
             0.6666666666666666,
             "#ed7953"
            ],
            [
             0.7777777777777778,
             "#fb9f3a"
            ],
            [
             0.8888888888888888,
             "#fdca26"
            ],
            [
             1,
             "#f0f921"
            ]
           ],
           "sequentialminus": [
            [
             0,
             "#0d0887"
            ],
            [
             0.1111111111111111,
             "#46039f"
            ],
            [
             0.2222222222222222,
             "#7201a8"
            ],
            [
             0.3333333333333333,
             "#9c179e"
            ],
            [
             0.4444444444444444,
             "#bd3786"
            ],
            [
             0.5555555555555556,
             "#d8576b"
            ],
            [
             0.6666666666666666,
             "#ed7953"
            ],
            [
             0.7777777777777778,
             "#fb9f3a"
            ],
            [
             0.8888888888888888,
             "#fdca26"
            ],
            [
             1,
             "#f0f921"
            ]
           ]
          },
          "colorway": [
           "#636efa",
           "#EF553B",
           "#00cc96",
           "#ab63fa",
           "#FFA15A",
           "#19d3f3",
           "#FF6692",
           "#B6E880",
           "#FF97FF",
           "#FECB52"
          ],
          "font": {
           "color": "#2a3f5f"
          },
          "geo": {
           "bgcolor": "white",
           "lakecolor": "white",
           "landcolor": "#E5ECF6",
           "showlakes": true,
           "showland": true,
           "subunitcolor": "white"
          },
          "hoverlabel": {
           "align": "left"
          },
          "hovermode": "closest",
          "mapbox": {
           "style": "light"
          },
          "paper_bgcolor": "white",
          "plot_bgcolor": "#E5ECF6",
          "polar": {
           "angularaxis": {
            "gridcolor": "white",
            "linecolor": "white",
            "ticks": ""
           },
           "bgcolor": "#E5ECF6",
           "radialaxis": {
            "gridcolor": "white",
            "linecolor": "white",
            "ticks": ""
           }
          },
          "scene": {
           "xaxis": {
            "backgroundcolor": "#E5ECF6",
            "gridcolor": "white",
            "gridwidth": 2,
            "linecolor": "white",
            "showbackground": true,
            "ticks": "",
            "zerolinecolor": "white"
           },
           "yaxis": {
            "backgroundcolor": "#E5ECF6",
            "gridcolor": "white",
            "gridwidth": 2,
            "linecolor": "white",
            "showbackground": true,
            "ticks": "",
            "zerolinecolor": "white"
           },
           "zaxis": {
            "backgroundcolor": "#E5ECF6",
            "gridcolor": "white",
            "gridwidth": 2,
            "linecolor": "white",
            "showbackground": true,
            "ticks": "",
            "zerolinecolor": "white"
           }
          },
          "shapedefaults": {
           "line": {
            "color": "#2a3f5f"
           }
          },
          "ternary": {
           "aaxis": {
            "gridcolor": "white",
            "linecolor": "white",
            "ticks": ""
           },
           "baxis": {
            "gridcolor": "white",
            "linecolor": "white",
            "ticks": ""
           },
           "bgcolor": "#E5ECF6",
           "caxis": {
            "gridcolor": "white",
            "linecolor": "white",
            "ticks": ""
           }
          },
          "title": {
           "x": 0.05
          },
          "xaxis": {
           "automargin": true,
           "gridcolor": "white",
           "linecolor": "white",
           "ticks": "",
           "title": {
            "standoff": 15
           },
           "zerolinecolor": "white",
           "zerolinewidth": 2
          },
          "yaxis": {
           "automargin": true,
           "gridcolor": "white",
           "linecolor": "white",
           "ticks": "",
           "title": {
            "standoff": 15
           },
           "zerolinecolor": "white",
           "zerolinewidth": 2
          }
         }
        },
        "width": 700
       }
      }
     },
     "metadata": {},
     "output_type": "display_data"
    }
   ],
   "source": [
    "import numpy as np\n",
    "import plotly.graph_objects as go\n",
    "\n",
    "\n",
    "x=[]\n",
    "y=[]\n",
    "z=[]\n",
    "\n",
    "for i in range(len(traj)):\n",
    "    x.append(traj[i][0])\n",
    "    y.append(traj[i][1])\n",
    "    z.append(traj[i][2])\n",
    "\n",
    "fig = go.Figure(data=go.Scatter3d(\n",
    "    x=x, y=y, z=z,\n",
    "    marker=dict(\n",
    "        size=4,\n",
    "        color=z,\n",
    "        colorscale='Viridis',\n",
    "    ),\n",
    "    line=dict(\n",
    "        color='darkblue',\n",
    "        width=2\n",
    "    )\n",
    "))\n",
    "\n",
    "\n",
    "fig.update_layout(\n",
    "    scene = dict(\n",
    "        xaxis = dict(nticks=2, range=[-750,750],),\n",
    "        yaxis = dict(nticks=2, range=[-500,500],),\n",
    "        zaxis = dict(nticks=2, range=[0,1500],),),\n",
    "    width=700,\n",
    "    margin=dict(r=20, l=10, b=10, t=10))\n",
    "\n",
    "\n",
    "fig.show()"
   ]
  },
  {
   "cell_type": "code",
   "execution_count": null,
   "id": "c8e5ca4c",
   "metadata": {
    "scrolled": false
   },
   "outputs": [
    {
     "data": {
      "text/html": [
       "\n",
       "        <iframe\n",
       "            width=\"810px\"\n",
       "            height=\"650px\"\n",
       "            src=\"earth.html\"\n",
       "            frameborder=\"0\"\n",
       "            allowfullscreen\n",
       "            \n",
       "        ></iframe>\n",
       "        "
      ],
      "text/markdown": [
       "\n",
       "### Child components\n",
       "\n",
       "- `Grav`: Gravity\n",
       "- `Atmo`: Atmosphere\n",
       "- `Rocket`: Rocket\n",
       "- `Traj`: Trajectory"
      ],
      "text/plain": [
       "earth - Earth"
      ]
     },
     "execution_count": 34,
     "metadata": {},
     "output_type": "execute_result"
    }
   ],
   "source": [
    "earth"
   ]
  },
  {
   "cell_type": "code",
   "execution_count": null,
   "id": "fac03b30",
   "metadata": {},
   "outputs": [],
   "source": []
  }
 ],
 "metadata": {
  "kernelspec": {
   "display_name": "psc",
   "language": "python",
   "name": "python3"
  },
  "language_info": {
   "codemirror_mode": {
    "name": "ipython",
    "version": 3
   },
   "file_extension": ".py",
   "mimetype": "text/x-python",
   "name": "python",
   "nbconvert_exporter": "python",
   "pygments_lexer": "ipython3",
   "version": "3.10.4"
  },
  "vscode": {
   "interpreter": {
    "hash": "756df94b4d22402393e8df6ec39ece82b7d0eb29c215af24100290b3ed3bf877"
   }
  }
 },
 "nbformat": 4,
 "nbformat_minor": 5
}
