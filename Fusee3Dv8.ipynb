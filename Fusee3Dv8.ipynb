{
 "cells": [
  {
   "cell_type": "code",
   "execution_count": 95,
   "id": "3d13e997",
   "metadata": {},
   "outputs": [],
   "source": [
    "from cosapp.base import System, Port, BaseConnector\n",
    "import numpy as np\n",
    "from cosapp.drivers import RungeKutta, NonLinearSolver\n",
    "import plotly.graph_objs as go\n",
    "from cosapp.recorders import DataFrameRecorder\n",
    "import plotly.express as px\n",
    "import matplotlib.pyplot as plt"
   ]
  },
  {
   "cell_type": "markdown",
   "id": "21da6755",
   "metadata": {},
   "source": [
    "# Rotation Matrix"
   ]
  },
  {
   "cell_type": "code",
   "execution_count": 96,
   "id": "7ba9181c",
   "metadata": {},
   "outputs": [],
   "source": [
    "def RotMat3D(ang):\n",
    "    \n",
    "    #ang[0] = phi, ang[1] = theta, ang[2] = psi\n",
    "    \n",
    "    l1 = np.array([np.cos(ang[2])*np.cos(ang[1]), -np.sin(ang[2])*np.cos(ang[0]) + np.cos(ang[2])*np.sin(ang[1])*np.sin(ang[0]),\n",
    "                    np.sin(ang[2])*np.sin(ang[0]) + np.cos(ang[2])*np.sin(ang[1])*np.cos(ang[0])])\n",
    "    l2 = np.array([np.sin(ang[2])*np.cos(ang[1]),  np.cos(ang[2])*np.cos(ang[0]) + np.sin(ang[2])*np.sin(ang[1])*np.sin(ang[0]),\n",
    "                   -np.cos(ang[2])*np.sin(ang[0]) + np.sin(ang[2])*np.sin(ang[1])*np.cos(ang[0])])\n",
    "    l3 = np.array([-np.sin(ang[1]), np.cos(ang[1])*np.sin(ang[0]), np.cos(ang[1])*np.cos(ang[0])])\n",
    "    \n",
    "    A = np.round(np.array([l1,l2,l3]), 5)\n",
    "    \n",
    "    return A"
   ]
  },
  {
   "cell_type": "markdown",
   "id": "55c6ad8c",
   "metadata": {},
   "source": [
    "# Ports"
   ]
  },
  {
   "cell_type": "code",
   "execution_count": 97,
   "id": "fbcc8896",
   "metadata": {},
   "outputs": [],
   "source": [
    "class PosPort(Port):\n",
    "    \"\"\"Position Port \"\"\"\n",
    "    def setup(self):\n",
    "        self.add_variable('val', np.zeros(3), desc = \"Velocity Components\", unit = 'm')\n",
    "        #self.add_variable('ang', np.zeros(3), desc = \"Axes' Euler's Angles\", unit = '')\n",
    "        \n",
    "\n",
    "    class Connector(BaseConnector):\n",
    "        \"\"\"Custom connector for `PosPort` objects\n",
    "        \"\"\"\n",
    "        def __init__(self, name: str, sink: Port, source: Port, *args, **kwargs):\n",
    "            super().__init__(name, sink, source)\n",
    "\n",
    "        def transfer(self) -> None:\n",
    "            sink = self.sink\n",
    "            source = self.source\n",
    "            \n",
    "            if sink.owner.parent == source.owner:\n",
    "                sink.val = np.matmul(RotMat3D(sink.owner[f'{sink.owner.name}_ang']), source.val)\n",
    "\n",
    "            elif sink.owner == source.owner.parent:\n",
    "                sink.val = np.matmul(RotMat3D(-source.owner[f'{source.owner.name}_ang']), source.val)\n",
    "                \n",
    "            else:\n",
    "                sink.val = source.val"
   ]
  },
  {
   "cell_type": "code",
   "execution_count": 98,
   "id": "fa448c42",
   "metadata": {},
   "outputs": [],
   "source": [
    "class VelPort(Port):\n",
    "    \"\"\"Velocity Port \"\"\"\n",
    "    def setup(self):\n",
    "        self.add_variable('val', np.zeros(3), desc = \"Velocity Components\", unit = 'm/s')\n",
    "        #self.add_variable('ang', np.zeros(3), desc = \"Axes' Euler's Angles\", unit = '')\n",
    "        \n",
    "\n",
    "    class Connector(BaseConnector):\n",
    "        \"\"\"Custom connector for `VelPort` objects\n",
    "        \"\"\"\n",
    "        def __init__(self, name: str, sink: Port, source: Port, *args, **kwargs):\n",
    "            super().__init__(name, sink, source)\n",
    "\n",
    "        def transfer(self) -> None:\n",
    "            sink = self.sink\n",
    "            source = self.source\n",
    "            \n",
    "            if sink.owner.parent == source.owner:\n",
    "                sink.val = np.matmul(RotMat3D(sink.owner[f'{sink.owner.name}_ang']), source.val)\n",
    "\n",
    "            elif sink.owner == source.owner.parent:\n",
    "                sink.val = np.matmul(RotMat3D(-source.owner[f'{source.owner.name}_ang']), source.val)\n",
    "                \n",
    "            else:\n",
    "                sink.val = source.val"
   ]
  },
  {
   "cell_type": "code",
   "execution_count": 99,
   "id": "25508a25",
   "metadata": {},
   "outputs": [],
   "source": [
    "class AclPort(Port):\n",
    "    \"\"\"Acceleration Port \"\"\"\n",
    "    def setup(self):\n",
    "        self.add_variable('val', np.zeros(3), desc = \"Acceleration Components\", unit = 'm/s**2')\n",
    "        #self.add_variable('ang', np.zeros(3), desc = \"Axes' Euler's Angles\", unit = '')\n",
    "        \n",
    "\n",
    "    class Connector(BaseConnector):\n",
    "        \"\"\"Custom connector for `AclPort` objects\n",
    "        \"\"\"\n",
    "        def __init__(self, name: str, sink: Port, source: Port, *args, **kwargs):\n",
    "            super().__init__(name, sink, source)\n",
    "\n",
    "        def transfer(self) -> None:\n",
    "            sink = self.sink\n",
    "            source = self.source\n",
    "            \n",
    "            if sink.owner.parent == source.owner:\n",
    "                sink.val = np.matmul(RotMat3D(sink.owner[f'{sink.owner.name}_ang']), source.val)\n",
    "\n",
    "            elif sink.owner == source.owner.parent:\n",
    "                sink.val = np.matmul(RotMat3D(-source.owner[f'{source.owner.name}_ang']), source.val)\n",
    "                \n",
    "            else:\n",
    "                sink.val = source.val"
   ]
  },
  {
   "cell_type": "markdown",
   "id": "4988b874",
   "metadata": {},
   "source": [
    "# Global System"
   ]
  },
  {
   "cell_type": "code",
   "execution_count": 100,
   "id": "0669f69a",
   "metadata": {},
   "outputs": [],
   "source": [
    "class Earth(System):\n",
    "    \n",
    "    def setup(self):\n",
    "        \n",
    "        #Earth children\n",
    "        self.add_child(Rocket('Rocket'))\n",
    "        self.add_child(Trajectory('Traj'))\n",
    "        self.add_child(Gravity('Grav'))\n",
    "        self.add_child(Atmosphere('Atmo'))\n",
    "        \n",
    "        self.connect(self.Rocket, self.Traj, {'v_out.val' : 'v'})\n",
    "        self.connect(self.Rocket, self.Grav, ['g'])\n",
    "        self.connect(self.Rocket, self.Atmo, ['P', 'V_wind', 'rho'])\n",
    "        self.connect(self.Grav, self.Traj, {'r_in' : 'r_out'})\n",
    "        self.connect(self.Atmo, self.Traj, {'r_in' : 'r_out'})\n",
    "        \n",
    "        #Execution order\n",
    "        self.exec_order = ['Grav', 'Atmo', 'Rocket', 'Traj']\n",
    "        \n",
    "        "
   ]
  },
  {
   "cell_type": "markdown",
   "id": "3ae6c6a3",
   "metadata": {},
   "source": [
    "## Earth Children\n",
    "\n",
    "Vectors are given in the Earth-fixed reference frame"
   ]
  },
  {
   "cell_type": "code",
   "execution_count": 101,
   "id": "0b64aec5",
   "metadata": {},
   "outputs": [],
   "source": [
    "class Rocket(System):\n",
    "    \n",
    "    def setup(self):\n",
    "        \n",
    "        #System orientation\n",
    "        self.add_inward('Rocket_ang', np.zeros(3), desc = \"Earth Euler Angles\", unit = '')\n",
    "        \n",
    "        #Engine propulsive debt\n",
    "        self.add_inward('qp', 10., desc = \"Engine's Propulsive Debt\", unit = 'kg/s')\n",
    "        \n",
    "        #Rocket children\n",
    "        self.add_child(Kinematics('Kin'), pulling = ['v_out'])\n",
    "        self.add_child(Dynamics('Dyn'), pulling = ['g'])\n",
    "        self.add_child(Thrust('Thrust'), pulling = ['P', 'qp'])\n",
    "        self.add_child(Geometry('Geom'), pulling = ['qp'])\n",
    "        self.add_child(Aerodynamics('Aero'), pulling = ['V_wind', 'rho'])\n",
    "        \n",
    "        #Child-Child connections\n",
    "        self.connect(self.Kin, self.Dyn, {'Kin_ang' : 'Dyn_ang', 'v_out' : 'v_in', 'av_out' : 'av_in', 'a': 'a', 'aa' : 'aa'})\n",
    "        self.connect(self.Kin, self.Aero, {'v_out' : 'v_in', 'Kin_ang' : 'Aero_ang'})\n",
    "        self.connect(self.Dyn, self.Thrust, ['Fp', 'Mp'])\n",
    "        self.connect(self.Dyn, self.Geom, {'m' : 'm_out', 'I' : 'I'})\n",
    "        self.connect(self.Dyn, self.Aero, ['Fa', 'Ma'])\n",
    "        self.connect(self.Geom, self.Aero, ['S_ref', 'gc'])\n",
    "        \n",
    "        #Execution order\n",
    "        self.exec_order = ['Geom', 'Thrust', 'Aero', 'Dyn', 'Kin']\n"
   ]
  },
  {
   "cell_type": "code",
   "execution_count": 102,
   "id": "2226af78",
   "metadata": {},
   "outputs": [],
   "source": [
    "class Trajectory(System):\n",
    "    \n",
    "    def setup(self):\n",
    "        \n",
    "        #Rocket inputs\n",
    "        self.add_inward('v', np.zeros(3), desc = \"Rocket Velocity\", unit = 'm/s')\n",
    "        \n",
    "        #Trajectory transients\n",
    "        self.add_transient('r', der = 'v', desc = \"Rocket Position\")\n",
    "        \n",
    "        #Trajectory outputs\n",
    "        self.add_outward('r_out', np.zeros(3), desc = \"Rocket Position\", unit = 'm')\n",
    "        \n",
    "    def compute(self):\n",
    "        \n",
    "        self.r_out = self.r\n",
    "        "
   ]
  },
  {
   "cell_type": "code",
   "execution_count": 103,
   "id": "16699fe5",
   "metadata": {},
   "outputs": [],
   "source": [
    "class Gravity(System):\n",
    "    \n",
    "    def setup(self):\n",
    "        \n",
    "        #System constants\n",
    "        self.add_inward('G', 6.6743*10**(-11), desc = \"Gravitational Constant\", unit = 'N*m**2/kg**2')\n",
    "        self.add_inward('M', 5.972*10**24, desc = \"Earth's Mass\", unit = 'kg')\n",
    "        self.add_inward('R', 6.371*10**6, desc = \"Earth's Radius\", unit = 'm')\n",
    "        \n",
    "        #Trajectory inputs\n",
    "        self.add_inward('r_in', np.zeros(3), desc = \"Rocket Position\", unit = 'm')\n",
    "        \n",
    "        #Gravity outputs\n",
    "        self.add_output(AclPort, 'g')\n",
    "        \n",
    "    def compute(self):\n",
    "        \n",
    "        self.g.val = np.array([0., 0., -self.G*self.M/(self.R + self.r_in[-1])**2])\n"
   ]
  },
  {
   "cell_type": "code",
   "execution_count": 104,
   "id": "6abd8b44",
   "metadata": {},
   "outputs": [],
   "source": [
    "class Atmosphere(System):\n",
    "    \n",
    "    def setup(self):\n",
    "        \n",
    "        #System orientation\n",
    "        self.add_inward('Atmo_ang', np.zeros(3), desc = \"Earth Euler Angles\", unit = '')\n",
    "        \n",
    "        #Atmosphere children\n",
    "        self.add_child(Density('Dens'), pulling = ['r_in', 'rho'])\n",
    "        self.add_child(Pressure('Pres'), pulling = ['r_in', 'P'])\n",
    "        self.add_child(Wind('Wind'), pulling = ['V_wind'])\n",
    "        \n",
    "        #Execution order\n",
    "        self.exec_order = ['Dens', 'Pres', 'Wind']\n",
    "    \n",
    "    "
   ]
  },
  {
   "cell_type": "markdown",
   "id": "11869a5b",
   "metadata": {},
   "source": [
    "## Rocket Children\n",
    "\n",
    "Vectors are given in the rocket-fixed reference frame"
   ]
  },
  {
   "cell_type": "code",
   "execution_count": 105,
   "id": "f64a7a24",
   "metadata": {},
   "outputs": [],
   "source": [
    "class Kinematics(System):\n",
    "    \n",
    "    def setup(self):\n",
    "        \n",
    "        #System orientation\n",
    "        self.add_outward('Kin_ang', np.zeros(3), desc = \"Rocket Euler Angles\", unit = '')\n",
    "        \n",
    "        #Dynamics inputs\n",
    "        self.add_inward('a', np.zeros(3), desc = \"Rocket Acceleration\", unit = 'm/s**2')\n",
    "        self.add_inward('aa', np.zeros(3), desc = \"Rocket Angular Acceleration\", unit = '1/s**2')\n",
    "        \n",
    "        #Kinematics transients\n",
    "        self.add_transient('v', der = 'a', desc = \"Rocket Velocity\")\n",
    "        self.add_transient('av', der = 'aa', desc = \"Rocket Angular Velocity\")\n",
    "        self.add_transient('ar', der = 'av', desc = \"Rocket Angular Position\")\n",
    "        \n",
    "        #Kinematics outputs\n",
    "        self.add_output(VelPort, 'v_out')\n",
    "        self.add_outward('av_out', np.zeros(3), desc = \"Rocket Angular Velocity\", unit = '1/s')\n",
    "        \n",
    "    def compute(self):\n",
    "        \n",
    "        self.v_out.val = self.v\n",
    "        self.av_out = self.av\n",
    "        self.Kin_ang = self.ar\n",
    "        \n"
   ]
  },
  {
   "cell_type": "code",
   "execution_count": 106,
   "id": "bbfc6c7a",
   "metadata": {},
   "outputs": [],
   "source": [
    "class Dynamics(System):\n",
    "    \n",
    "    def setup(self):\n",
    "        \n",
    "        #System orientation\n",
    "        self.add_inward('Dyn_ang', np.zeros(3), desc = \"Rocket Euler Angles\", unit = '')\n",
    "        \n",
    "        #Kinematics inputs\n",
    "        self.add_input(VelPort, 'v_in')\n",
    "        self.add_inward('av_in', np.zeros(3), desc = \"Rocket Angular Velocity\", unit = '1/s')\n",
    "        \n",
    "        #Thrust inputs\n",
    "        self.add_inward('Fp', np.zeros(3), desc = \"Thrust Force\", unit = 'N')\n",
    "        self.add_inward('Mp', np.zeros(3), desc = \"Thrust Moment\", unit = 'N*m')\n",
    "        \n",
    "        #AeroForces inputs\n",
    "        self.add_inward('Fa', np.zeros(3), desc = \"Thrust Force\", unit = 'N')\n",
    "        self.add_inward('Ma', np.zeros(3), desc = \"Thrust Moment\", unit = 'N*m')\n",
    "        \n",
    "        #Geometry inputs\n",
    "        self.add_inward('m', 100., desc = \"Rocket Mass\", unit = 'kg')\n",
    "        self.add_inward('I', np.array([10., 100., 100.]), desc = \"Rocket Moments of Inertia\", unit = 'kg*m**2')\n",
    "        \n",
    "        #Gravity inputs\n",
    "        self.add_input(AclPort, 'g')\n",
    "        \n",
    "        #Dynamics outputs\n",
    "        self.add_outward('a', np.zeros(3), desc = \"Rocket Acceleration\", unit = 'm/s**2')\n",
    "        self.add_outward('aa', np.zeros(3), desc = \"Rocket Angular Acceleration\", unit = '1/s**2')\n",
    "        \n",
    "    def compute(self):\n",
    "        \n",
    "        v = self.v_in.val\n",
    "        av = self.av_in\n",
    "        \n",
    "        self.a[0] = (self.Fp[0] + self.Fa[0])/self.m + self.g.val[0] + av[2]*v[1] - av[1]*v[2]\n",
    "        self.a[1] = (self.Fp[1] + self.Fa[1])/self.m + self.g.val[1] + av[0]*v[2] - av[2]*v[0]\n",
    "        self.a[2] = (self.Fp[2] + self.Fa[2])/self.m + self.g.val[2] + av[1]*v[0] - av[0]*v[1]\n",
    "        \n",
    "        self.aa[0] = (self.Mp[0] + self.Ma[0] + (self.I[1] - self.I[2])*av[1]*av[2])/self.I[0]\n",
    "        self.aa[1] = (self.Mp[1] + self.Ma[1] + (self.I[2] - self.I[0])*av[2]*av[0])/self.I[1]\n",
    "        self.aa[2] = (self.Mp[2] + self.Ma[2] + (self.I[0] - self.I[1])*av[0]*av[1])/self.I[2]\n",
    "        \n",
    "        "
   ]
  },
  {
   "cell_type": "code",
   "execution_count": 107,
   "id": "fb530def",
   "metadata": {},
   "outputs": [],
   "source": [
    "class Thrust(System):\n",
    "    \n",
    "    def setup(self):\n",
    "        \n",
    "        #System constants\n",
    "        self.add_inward('g0', 9.81, desc = \"Gravity at Earth's Surface\", unit = 'm/s**2')\n",
    "        self.add_inward('isp', 100., desc = \"Specific Impulsion in vacuum\", unit = 's')\n",
    "        \n",
    "        #Rocket inputs\n",
    "        self.add_inward('qp', 10., desc = \"Engine's Propulsive Debt\", unit = 'kg/s')\n",
    "        \n",
    "        #Pressure inputs\n",
    "        self.add_inward('P', 100000., desc = \"Atmospheric Pressure at Rocket's Height\", unit = 'Pa')\n",
    "        \n",
    "        #Geometry inputs\n",
    "        self.add_inward('S', 0.01, desc = \"Propeller Area\", unit = 'm**2')\n",
    "        \n",
    "        #Thrust outputs\n",
    "        self.add_outward('Fp', np.zeros(3), desc = \"Thrust Force\", unit = 'N')\n",
    "        self.add_outward('Mp', np.zeros(3), desc = \"Thrust Moment\", unit = 'N*m')\n",
    "        \n",
    "    def compute(self):\n",
    "        \n",
    "        self.Fp[0] = self.qp*self.g0*self.isp - self.P*self.S\n",
    "        self.Fp[1] = 0.\n",
    "        self.Fp[2] = 0.\n",
    "        \n",
    "        self.Mp[0] = 0.\n",
    "        self.Mp[1] = 0.\n",
    "        self.Mp[2] = 0.\n",
    "        \n",
    "        "
   ]
  },
  {
   "cell_type": "code",
   "execution_count": 108,
   "id": "c46e7cf6",
   "metadata": {},
   "outputs": [],
   "source": [
    "class Geometry(System):\n",
    "    \n",
    "    def setup(self):\n",
    "        \n",
    "        #Geometry children\n",
    "        self.add_child(Mass('Mass'), pulling = ['m_out', 'qp'])\n",
    "        self.add_child(Inertia('Inertia'), pulling = ['I'])\n",
    "        self.add_child(Dimensions('Dime'), pulling = ['S', 'S_ref'])\n",
    "        self.add_child(CenterOfGravity('CoG'), pulling = ['gc'])\n",
    "        \n",
    "        #Children-children connections\n",
    "        self.connect(self.Dime, self.CoG, ['l'])\n",
    "        self.connect(self.Dime, self.Inertia, ['l', 'r_cyl'])\n",
    "        self.connect(self.Mass, self.Inertia, {'m_out' : 'm_in'})\n",
    "        \n",
    "        #Execution order\n",
    "        self.exec_order = ['Dime', 'Mass', 'Inertia', 'CoG']\n",
    "    "
   ]
  },
  {
   "cell_type": "code",
   "execution_count": 109,
   "id": "783cb6e7",
   "metadata": {},
   "outputs": [],
   "source": [
    "class Aerodynamics(System):\n",
    "    \n",
    "    def setup(self):\n",
    "        \n",
    "        #System Orientation\n",
    "        self.add_inward('Aero_ang', np.zeros(3), desc = \"Rocket Euler Angles\", unit = '')\n",
    "        \n",
    "        #Aerodynamics children\n",
    "        self.add_child(AeroForces('AeroForces'), pulling = ['Fa', 'Ma', 'rho', 'S_ref', 'gc'])\n",
    "        self.add_child(RelativeSpeed('RelSpeed'), pulling = ['v_in', 'V_wind'])\n",
    "        self.add_child(Angles('Angles'))\n",
    "        self.add_child(Coefficients('Coeff'))\n",
    "        self.add_child(CenterOfPressure('CoP'))\n",
    "        \n",
    "        #Children-children connections\n",
    "        self.connect(self.RelSpeed, self.Angles, ['V_rel'])\n",
    "        self.connect(self.Angles, self.Coeff, ['alpha', 'beta'])\n",
    "        self.connect(self.AeroForces, self.RelSpeed, ['V_rel'])\n",
    "        self.connect(self.AeroForces, self.Coeff, ['C'])\n",
    "        self.connect(self.AeroForces, self.CoP, ['gf'])\n",
    "        \n",
    "        \n",
    "        #Execution order\n",
    "        self.exec_order = ['RelSpeed', 'CoP', 'Angles', 'Coeff', 'AeroForces']\n",
    "    "
   ]
  },
  {
   "cell_type": "markdown",
   "id": "f1ca5817",
   "metadata": {},
   "source": [
    "## Atmosphere Children\n",
    "\n",
    "All vectors are given in the wind-fixed frame of reference"
   ]
  },
  {
   "cell_type": "code",
   "execution_count": 110,
   "id": "f6771249",
   "metadata": {},
   "outputs": [],
   "source": [
    "class Density(System):\n",
    "    \n",
    "    def setup(self):\n",
    "        \n",
    "        #System constants\n",
    "        self.add_inward('rho0', 1.225, desc = \"Air Density at Sea Level\", unit = 'kg/m**3')\n",
    "        \n",
    "        #Trajectory inputs\n",
    "        self.add_inward('r_in', np.zeros(3), desc = \"Rocket's Position\", unit = 'm')\n",
    "        \n",
    "        #Density outputs\n",
    "        self.add_outward('rho', 1.225, desc = \"Air Density at Rocket's Height\", unit = 'kg/m**3')\n",
    "        \n",
    "    def compute(self):\n",
    "        \n",
    "        self.rho = self.rho0 * (20000. - self.r_in[-1]) / (20000. + self.r_in[-1])\n",
    "        "
   ]
  },
  {
   "cell_type": "code",
   "execution_count": 111,
   "id": "6d398576",
   "metadata": {},
   "outputs": [],
   "source": [
    "class Pressure(System):\n",
    "    \n",
    "    def setup(self):\n",
    "        \n",
    "        #System constants\n",
    "        self.add_inward('P0', 101325., desc = \"Atmospheric Pressure at Sea Level\", unit = 'Pa')\n",
    "        \n",
    "        #Trajectory inputs\n",
    "        self.add_inward('r_in', np.zeros(3), desc = \"Rocket's Position\", unit = 'm')\n",
    "        \n",
    "        #Pressure outputs\n",
    "        self.add_outward('P', 101325., desc = \"Atmospheric Pressure at Rocket's Height\", unit = 'Pa')\n",
    "        \n",
    "    def compute(self):\n",
    "        \n",
    "        self.P = self.P0 * (20000. - self.r_in[-1]) / (20000. + self.r_in[-1])\n"
   ]
  },
  {
   "cell_type": "code",
   "execution_count": 112,
   "id": "63748fec",
   "metadata": {},
   "outputs": [],
   "source": [
    "class Wind(System):\n",
    "    \n",
    "    def setup(self):\n",
    "        \n",
    "        #System orientation\n",
    "        self.add_inward('Wind_ang', np.array([0., 0., np.pi/6]))\n",
    "        \n",
    "        #Wind inputs\n",
    "        self.add_inward('V', 5., desc = \"Wind Velocity\", unit = 'm/s')\n",
    "        \n",
    "        #Wind outputs\n",
    "        self.add_output(VelPort, 'V_wind')\n",
    "        \n",
    "    def compute(self):\n",
    "        \n",
    "        self.V_wind.val = np.array([self.V, 0., 0.])\n",
    "        "
   ]
  },
  {
   "cell_type": "markdown",
   "id": "e4dd96cc",
   "metadata": {},
   "source": [
    "## Geometry Children"
   ]
  },
  {
   "cell_type": "code",
   "execution_count": 113,
   "id": "2666e70a",
   "metadata": {},
   "outputs": [],
   "source": [
    "class Mass(System):\n",
    "    \n",
    "    def setup(self):\n",
    "        \n",
    "        #System constants\n",
    "        self.add_inward('m0', 100., desc = \"Rocket's Initial Mass\", unit = 'kg')\n",
    "        self.add_inward('qp', 10., desc = \"Engine's Propulsive Debt\", unit = 'kg/s')\n",
    "        self.add_inward('qi', 0., desc = \"Engine's Inertial Debt\", unit = 'kg/s')\n",
    "        self.add_inward('dmdt', 0., desc = \"Mass' Rate of Change\", unit = 'kg/s')\n",
    "        \n",
    "        #System transients\n",
    "        self.add_transient('m', der = \"dmdt\", desc = \"Rocket Mass\")\n",
    "        \n",
    "        self.add_outward('m_out', 100., desc = \"Rocket Mass\", unit = 'kg')\n",
    "        \n",
    "    def compute(self):\n",
    "        \n",
    "        self.dmdt = -(self.qp + self.qi)\n",
    "        self.m_out = self.m\n",
    "    \n",
    "    "
   ]
  },
  {
   "cell_type": "code",
   "execution_count": 114,
   "id": "1d21f932",
   "metadata": {},
   "outputs": [],
   "source": [
    "class Inertia(System):\n",
    "    \n",
    "    def setup(self):\n",
    "        \n",
    "        #Mass inputs\n",
    "        self.add_inward('m_in', 100., desc = \"Rocket Mass\", unit = 'kg')\n",
    "        \n",
    "        #Dimensions inputs\n",
    "        self.add_inward('l', 10., desc = \"Rocket Length\", unit = 'm')\n",
    "        self.add_inward('r_cyl', 0.05, desc = \"Rocket Radius\", unit = 'm')\n",
    "        \n",
    "        #Inertia outputs\n",
    "        self.add_outward('I', np.zeros(3), desc = \"Rocket Moments of Inertia\", unit = 'kg*m**2')\n",
    "        \n",
    "    def compute(self):\n",
    "        \n",
    "        self.I[0] = self.m_in*self.r_cyl**2/2\n",
    "        self.I[1] = self.m_in*self.l**2/12\n",
    "        self.I[2] = self.m_in*self.l**2/12\n",
    "        \n",
    "        "
   ]
  },
  {
   "cell_type": "code",
   "execution_count": 115,
   "id": "9a82cbeb",
   "metadata": {},
   "outputs": [],
   "source": [
    "class Dimensions(System):\n",
    "    \n",
    "    def setup(self):\n",
    "        \n",
    "        #Dimensions outputs\n",
    "        self.add_outward('l', 10., desc = \"Rocket Length\", unit = 'm')\n",
    "        self.add_outward('r_cyl', 0.05, desc = \"Rocket Radius\", unit = 'm')\n",
    "        self.add_outward('S', 0.01, desc = \"Propeller Surface\", unit = 'm**2')\n",
    "        self.add_outward('S_ref', 1., desc = \"Rocket Surface of Reference\", unit = 'm**2')\n",
    "        \n",
    "    def compute(self):\n",
    "        \n",
    "        self.S_ref = np.pi*self.r_cyl**2\n",
    "        "
   ]
  },
  {
   "cell_type": "code",
   "execution_count": 116,
   "id": "194dd243",
   "metadata": {},
   "outputs": [],
   "source": [
    "class CenterOfGravity(System):\n",
    "    \n",
    "    def setup(self):\n",
    "        \n",
    "        #Dimensions inputs\n",
    "        self.add_inward('l', 10., desc = \"Rocket Length\", unit = 'm')\n",
    "        \n",
    "        #CenterOfGravity outputs\n",
    "        self.add_outward('gc', np.zeros(3), desc = \"GC Distance\", unit = 'm')  #Distance between the propellers and the CoG\n",
    "        \n",
    "    def compute(self):\n",
    "        \n",
    "        self.gc = np.array([0., 0., self.l/2])\n",
    "        "
   ]
  },
  {
   "cell_type": "markdown",
   "id": "6ba08be9",
   "metadata": {},
   "source": [
    "## Aerodynamics Children\n",
    "\n",
    "All vectors are given in the velocity-fixed reference frame"
   ]
  },
  {
   "cell_type": "code",
   "execution_count": 117,
   "id": "64be7d61",
   "metadata": {},
   "outputs": [],
   "source": [
    "class AeroForces(System):\n",
    "    \n",
    "    def setup(self):\n",
    "        \n",
    "        #Density inputs\n",
    "        self.add_inward('rho', 1., desc = \"Air Density\", unit = 'kg/m**3')\n",
    "        \n",
    "        #Geometry inputs\n",
    "        self.add_inward('S_ref', 1., desc = \"Rocket Surface of Reference\", unit = 'm**2')\n",
    "        \n",
    "        #RelativeSpeed inputs\n",
    "        self.add_inward('V_rel', np.zeros(3), desc = \"Relative Speed\", unit = 'm/s')\n",
    "        \n",
    "        #Coefficients inputs\n",
    "        self.add_inward('C', np.zeros(3), desc = \"Aerodynamics Coefficients\", unit = '')\n",
    "        \n",
    "        #CenterOfPressure inputs\n",
    "        self.add_inward('gf', np.zeros(3), desc = \"Rocket Center of Pressure\", unit = 'm')\n",
    "        \n",
    "        #CenterOfGravity inputs\n",
    "        self.add_inward('gc', np.zeros(3), desc = \"Rocket Center of Mass\", unit = 'm')\n",
    "        \n",
    "        #AeroForces outputs\n",
    "        self.add_outward('Fa', np.zeros(3), desc = \"Aerodynamics Forces\", unit = 'N')\n",
    "        self.add_outward('Ma', np.zeros(3), desc = \"Aerodynamics Moments\", unit = 'N*m')\n",
    "        \n",
    "    def compute(self):\n",
    "        \n",
    "        dl = self.gf - self.gc\n",
    "        \n",
    "        self.Fa[0] = -0.5*self.rho*self.S_ref*self.V_rel[0]**2*self.C[0]\n",
    "        self.Fa[1] =  0.5*self.rho*self.S_ref*self.V_rel[1]**2*self.C[1]\n",
    "        self.Fa[2] = -0.5*self.rho*self.S_ref*self.V_rel[2]**2*self.C[2]\n",
    "        \n",
    "        self.Ma[0] = 0.5*self.rho*self.S_ref*self.V_rel[0]**2*self.C[0]*dl[0]\n",
    "        self.Ma[1] = 0.5*self.rho*self.S_ref*self.V_rel[1]**2*self.C[1]*dl[1]\n",
    "        self.Ma[2] = 0.5*self.rho*self.S_ref*self.V_rel[2]**2*self.C[2]*dl[2]\n",
    "    "
   ]
  },
  {
   "cell_type": "code",
   "execution_count": 118,
   "id": "22af0424",
   "metadata": {},
   "outputs": [],
   "source": [
    "class RelativeSpeed(System):\n",
    "    \n",
    "    def setup(self):\n",
    "        \n",
    "        #System orientation\n",
    "        self.add_inward('RelSpeed_ang', np.zeros(3), desc = \"Rocket Euler Angles\", unit = '')\n",
    "        \n",
    "        #Kinematics inputs\n",
    "        self.add_input(VelPort, 'v_in')\n",
    "        \n",
    "        #Wind inputs\n",
    "        self.add_input(VelPort, 'V_wind')\n",
    "        \n",
    "        #RelativeSpeed outputs\n",
    "        self.add_outward('V_rel', np.zeros(3), desc = \"Relative Velocity\", unit = 'm/s')\n",
    "        \n",
    "    def compute(self):\n",
    "        \n",
    "        self.V_rel = self.V_wind.val - self.v_in.val\n",
    "        \n",
    "    "
   ]
  },
  {
   "cell_type": "code",
   "execution_count": 119,
   "id": "f5d6822b",
   "metadata": {},
   "outputs": [],
   "source": [
    "class Angles(System):\n",
    "    \n",
    "    def setup(self):\n",
    "        \n",
    "        #RelativeSpeed inputs\n",
    "        self.add_inward('V_rel', np.zeros(3), desc = \"Relative Velocity\", unit = 'm/s')\n",
    "        \n",
    "        #Angles outputs\n",
    "        self.add_outward('alpha', 0., desc = \"Angle of Attack\", unit = '')\n",
    "        self.add_outward('beta', 0., desc = \"Angle of Bank\", unit = '')\n",
    "        \n",
    "    def compute(self):\n",
    "        \n",
    "        self.alpha = np.arcsin(self.V_rel[2]/np.linalg.norm(self.V_rel))\n",
    "        self.beta = np.arcsin(self.V_rel[1]/np.linalg.norm(self.V_rel))\n",
    "        "
   ]
  },
  {
   "cell_type": "code",
   "execution_count": 120,
   "id": "7f1c5112",
   "metadata": {},
   "outputs": [],
   "source": [
    "class Coefficients(System):\n",
    "    \n",
    "    def setup(self):\n",
    "        \n",
    "        #System inputs\n",
    "        self.add_inward('Cx0', 1., desc = \"X Axis Initial Aerodynamic Coefficient\", unit = '')\n",
    "        self.add_inward('Cy0', 0., desc = \"Y Axis Initial Aerodynamic Coefficient\", unit = '')\n",
    "        self.add_inward('Cz0', 0., desc = \"Z Axis Initial Aerodynamic Coefficient\", unit = '')\n",
    "        \n",
    "        self.add_inward('Cy_beta', 1., desc = \"Cy Rate of Change\", unit = '')\n",
    "        self.add_inward('Cz_alpha', 1., desc = \"Cz Rate of Change\", unit = '')\n",
    "        \n",
    "        #Angles inputs\n",
    "        self.add_inward('alpha', 0., desc = \"Angle of Attack\", unit = '')\n",
    "        self.add_inward('beta', 0., desc = \"Angle of Bank\", unit = '')\n",
    "        \n",
    "        #Coefficients outputs\n",
    "        self.add_outward('C', np.zeros(3), desc = \"Aerodynamics Coefficient\", unit = '')\n",
    "        \n",
    "    def compute(self):\n",
    "        \n",
    "        self.C[1] = self.Cy0 + self.Cy_beta*self.beta\n",
    "        self.C[2] = self.Cz0 + self.Cz_alpha*self.alpha\n",
    "        self.C[0] = self.Cx0 + 0.5*self.C[2]*self.alpha\n",
    "    "
   ]
  },
  {
   "cell_type": "code",
   "execution_count": 121,
   "id": "290b9387",
   "metadata": {},
   "outputs": [],
   "source": [
    "class CenterOfPressure(System):\n",
    "    \n",
    "    def setup(self):\n",
    "        \n",
    "        #CenterOfPressure outputs\n",
    "        self.add_outward('gf', np.array([0., 0., 8.]), desc = \"GF Distance\", unit = 'm')  #Distance between propellers and CoP\n",
    "        \n",
    "    "
   ]
  },
  {
   "cell_type": "markdown",
   "id": "697bd37c",
   "metadata": {},
   "source": [
    "# Main Function"
   ]
  },
  {
   "cell_type": "code",
   "execution_count": 122,
   "id": "4d80380d",
   "metadata": {},
   "outputs": [],
   "source": [
    "#Main function\n",
    "\n",
    "#Time-step\n",
    "dt = 0.01\n",
    "\n",
    "#Create System\n",
    "earth = Earth('earth')\n",
    "\n",
    "#Add RungeKutta driver\n",
    "driver = earth.add_driver(RungeKutta(order=4, dt=dt))\n",
    "driver.time_interval = (0, 9)\n",
    "\n",
    "#Add NonLinearSolver driver\n",
    "solver = driver.add_child(NonLinearSolver('solver', factor=1))\n",
    "\n",
    "\n",
    "# Add a recorder to capture time evolution in a dataframe\n",
    "driver.add_recorder(\n",
    "    DataFrameRecorder(includes=['Traj.r', 'Rocket.Kin.v', 'Rocket.Kin.a']),\n",
    "    period=.1,\n",
    ")\n",
    "\n",
    "#Initial conditions and constants\n",
    "\n",
    "driver.set_scenario(\n",
    "    init = {\n",
    "        'Traj.r' : np.zeros(3),\n",
    "        'Rocket.Kin.v' : np.zeros(3),\n",
    "        'Rocket.Kin.ar' : np.array([0., np.pi/2 + 1, 0.]),\n",
    "        'Rocket.Kin.av' : 0.*np.array([np.pi/20, np.pi/20, 0.]),\n",
    "        'Rocket.Geom.Mass.m' : 200.\n",
    "    })\n",
    "\n",
    "\n",
    "earth.run_drivers()"
   ]
  },
  {
   "cell_type": "code",
   "execution_count": 123,
   "id": "8bf7050f",
   "metadata": {},
   "outputs": [],
   "source": [
    "data = driver.recorder.export_data()\n",
    "data = data.drop(['Section', 'Status', 'Error code'], axis=1)\n",
    "time = np.asarray(data['time'])\n",
    "traj = np.asarray(data['Traj.r'].tolist())\n",
    "velo = np.asarray(data['Rocket.Kin.v'].tolist())\n",
    "acel = np.asarray(data['Rocket.Kin.a'].tolist())"
   ]
  },
  {
   "cell_type": "code",
   "execution_count": 124,
   "id": "6f13fa95",
   "metadata": {},
   "outputs": [
    {
     "data": {
      "text/plain": [
       "array([[ 0.00000000e+00,  0.00000000e+00,  0.00000000e+00],\n",
       "       [-2.19933039e-02, -3.25297907e-07,  1.70084666e-01],\n",
       "       [-8.81196006e-02, -6.81500768e-07,  6.81805399e-01],\n",
       "       [-1.98600047e-01,  3.21102016e-07,  1.53737622e+00],\n",
       "       [-3.53658064e-01,  5.05284975e-06,  2.73902980e+00],\n",
       "       [-5.53519178e-01,  1.61224404e-05,  4.28901745e+00],\n",
       "       [-7.98410923e-01,  3.58772504e-05,  6.18960925e+00],\n",
       "       [-1.08856279e+00,  6.79405216e-05,  8.44309418e+00],\n",
       "       [-1.42420625e+00,  1.15163684e-04,  1.10517803e+01],\n",
       "       [-1.80557471e+00,  1.81683141e-04,  1.40179949e+01],\n",
       "       [-2.23290355e+00,  2.71161917e-04,  1.73440849e+01],\n",
       "       [-2.70643016e+00,  3.87106264e-04,  2.10324166e+01],\n",
       "       [-3.22639390e+00,  4.94650669e-04,  2.50853765e+01],\n",
       "       [-3.79303617e+00,  6.35002757e-04,  2.95053708e+01],\n",
       "       [-4.40660042e+00,  8.12711267e-04,  3.42948262e+01],\n",
       "       [-5.06733212e+00,  1.03327217e-03,  3.94561900e+01],\n",
       "       [-5.77547887e+00,  1.30222585e-03,  4.49919299e+01],\n",
       "       [-6.53129033e+00,  1.62531751e-03,  5.09045347e+01],\n",
       "       [-7.33501831e+00,  2.00840727e-03,  5.71965143e+01],\n",
       "       [-8.18691675e+00,  2.45792642e-03,  6.38704002e+01],\n",
       "       [-9.08724178e+00,  2.98038390e-03,  7.09287451e+01],\n",
       "       [-1.00362517e+01,  3.58271309e-03,  7.83741239e+01],\n",
       "       [-1.10342070e+01,  4.27200130e-03,  8.62091334e+01],\n",
       "       [-1.20813706e+01,  4.97969998e-03,  9.44363929e+01],\n",
       "       [-1.31780074e+01,  5.77889981e-03,  1.03058544e+02],\n",
       "       [-1.43243847e+01,  6.68436753e-03,  1.12078252e+02],\n",
       "       [-1.55207722e+01,  7.70465602e-03,  1.21498204e+02],\n",
       "       [-1.67674420e+01,  8.84817883e-03,  1.31321112e+02],\n",
       "       [-1.80646684e+01,  1.01241976e-02,  1.41549709e+02],\n",
       "       [-1.94127281e+01,  1.15420894e-02,  1.52186756e+02],\n",
       "       [-2.08119004e+01,  1.31118456e-02,  1.63235036e+02],\n",
       "       [-2.22624670e+01,  1.47596883e-02,  1.74697355e+02],\n",
       "       [-2.37647120e+01,  1.65434699e-02,  1.86576546e+02],\n",
       "       [-2.53189221e+01,  1.85062457e-02,  1.98875467e+02],\n",
       "       [-2.69253865e+01,  2.06589367e-02,  2.11597000e+02],\n",
       "       [-2.85843971e+01,  2.30133983e-02,  2.24744056e+02],\n",
       "       [-3.02962483e+01,  2.55814636e-02,  2.38319568e+02],\n",
       "       [-3.20612372e+01,  2.83759268e-02,  2.52326498e+02],\n",
       "       [-3.38796637e+01,  3.12758048e-02,  2.66767834e+02],\n",
       "       [-3.57518301e+01,  3.44116208e-02,  2.81646591e+02],\n",
       "       [-3.76780419e+01,  3.78094553e-02,  2.96965813e+02],\n",
       "       [-3.96586071e+01,  4.14832382e-02,  3.12728570e+02],\n",
       "       [-4.16938365e+01,  4.54476692e-02,  3.28937961e+02],\n",
       "       [-4.37840441e+01,  4.97153417e-02,  3.45597114e+02],\n",
       "       [-4.59295465e+01,  5.41353599e-02,  3.62709186e+02],\n",
       "       [-4.81306633e+01,  5.88883985e-02,  3.80277363e+02],\n",
       "       [-5.03877173e+01,  6.39914181e-02,  3.98304861e+02],\n",
       "       [-5.27010342e+01,  6.94616939e-02,  4.16794927e+02],\n",
       "       [-5.50709427e+01,  7.53171075e-02,  4.35750838e+02],\n",
       "       [-5.74977749e+01,  8.14222379e-02,  4.55175903e+02],\n",
       "       [-5.99818659e+01,  8.79031759e-02,  4.75073463e+02],\n",
       "       [-6.25235540e+01,  9.48209555e-02,  4.95446890e+02],\n",
       "       [-6.51231810e+01,  1.02196073e-01,  5.16299589e+02],\n",
       "       [-6.77810917e+01,  1.10045470e-01,  5.37634999e+02],\n",
       "       [-7.04976346e+01,  1.18178222e-01,  5.59456593e+02],\n",
       "       [-7.32731616e+01,  1.26827909e-01,  5.81767877e+02],\n",
       "       [-7.61080279e+01,  1.36016823e-01,  6.04572392e+02],\n",
       "       [-7.90025924e+01,  1.45768290e-01,  6.27873717e+02],\n",
       "       [-8.19572177e+01,  1.55934575e-01,  6.51675464e+02],\n",
       "       [-8.49722700e+01,  1.66639602e-01,  6.75981284e+02],\n",
       "       [-8.80481192e+01,  1.77977195e-01,  7.00794862e+02],\n",
       "       [-9.11851390e+01,  1.89972951e-01,  7.26119925e+02],\n",
       "       [-9.43837072e+01,  2.02467641e-01,  7.51960236e+02],\n",
       "       [-9.76442052e+01,  2.15596760e-01,  7.78319599e+02],\n",
       "       [-1.00967019e+02,  2.29462898e-01,  8.05201855e+02],\n",
       "       [-1.04352537e+02,  2.44090913e-01,  8.32610891e+02],\n",
       "       [-1.07801155e+02,  2.59238688e-01,  8.60550630e+02],\n",
       "       [-1.11313270e+02,  2.75208690e-01,  8.89025041e+02],\n",
       "       [-1.14889285e+02,  2.92033331e-01,  9.18038134e+02],\n",
       "       [-1.18529606e+02,  3.09591301e-01,  9.47593966e+02],\n",
       "       [-1.22234645e+02,  3.27922033e-01,  9.77696634e+02],\n",
       "       [-1.26004817e+02,  3.47203946e-01,  1.00835029e+03],\n",
       "       [-1.29840545e+02,  3.67382713e-01,  1.03955911e+03],\n",
       "       [-1.33742252e+02,  3.88354704e-01,  1.07132735e+03],\n",
       "       [-1.37710369e+02,  4.10382585e-01,  1.10365930e+03],\n",
       "       [-1.41745332e+02,  4.33443637e-01,  1.13655928e+03],\n",
       "       [-1.45847581e+02,  4.57363361e-01,  1.17003169e+03],\n",
       "       [-1.50017561e+02,  4.82452878e-01,  1.20408098e+03],\n",
       "       [-1.54255723e+02,  5.08654928e-01,  1.23871162e+03],\n",
       "       [-1.58562525e+02,  5.35856792e-01,  1.27392818e+03],\n",
       "       [-1.62938426e+02,  5.64352342e-01,  1.30973525e+03],\n",
       "       [-1.67383896e+02,  5.94009283e-01,  1.34613749e+03],\n",
       "       [-1.71899407e+02,  6.24857410e-01,  1.38313962e+03],\n",
       "       [-1.76485439e+02,  6.57133582e-01,  1.42074641e+03],\n",
       "       [-1.81142477e+02,  6.90573095e-01,  1.45896270e+03],\n",
       "       [-1.85871013e+02,  7.25463607e-01,  1.49779339e+03],\n",
       "       [-1.90671544e+02,  7.61815845e-01,  1.53724345e+03],\n",
       "       [-1.95544576e+02,  7.99504218e-01,  1.57731788e+03],\n",
       "       [-2.00490618e+02,  8.38867888e-01,  1.61802180e+03],\n",
       "       [-2.05510191e+02,  8.79622587e-01,  1.65936036e+03],\n",
       "       [-2.10603817e+02,  9.22084692e-01,  1.70133880e+03]])"
      ]
     },
     "execution_count": 124,
     "metadata": {},
     "output_type": "execute_result"
    }
   ],
   "source": [
    "traj"
   ]
  },
  {
   "cell_type": "code",
   "execution_count": 125,
   "id": "d819ef95",
   "metadata": {},
   "outputs": [
    {
     "data": {
      "text/plain": [
       "array([[ 0.00000000e+00,  0.00000000e+00,  0.00000000e+00],\n",
       "       [ 3.43230486e+00, -5.31980596e-06,  9.80747085e-02],\n",
       "       [ 6.88676645e+00,  6.30816483e-07,  1.96137978e-01],\n",
       "       [ 1.03635726e+01,  2.61271341e-05,  2.94193663e-01],\n",
       "       [ 1.38629107e+01,  7.90298553e-05,  3.92244934e-01],\n",
       "       [ 1.73849690e+01,  1.55319226e-04,  4.90293441e-01],\n",
       "       [ 2.09299365e+01,  2.65419290e-04,  5.88340084e-01],\n",
       "       [ 2.44980044e+01,  4.06328147e-04,  6.86385391e-01],\n",
       "       [ 2.80893652e+01,  5.87050495e-04,  7.84429694e-01],\n",
       "       [ 3.17042137e+01,  8.04579609e-04,  8.82473215e-01],\n",
       "       [ 3.53427465e+01,  1.06569297e-03,  9.80516106e-01],\n",
       "       [ 3.90051623e+01,  1.37207900e-03,  1.07855847e+00],\n",
       "       [ 4.26916616e+01,  1.72493510e-03,  1.17660040e+00],\n",
       "       [ 4.64024471e+01,  2.12743438e-03,  1.27464193e+00],\n",
       "       [ 5.01377238e+01,  2.58489909e-03,  1.37268313e+00],\n",
       "       [ 5.38976986e+01,  3.09793457e-03,  1.47072401e+00],\n",
       "       [ 5.76825806e+01,  3.66898254e-03,  1.56876461e+00],\n",
       "       [ 6.14925815e+01,  4.30085388e-03,  1.66680494e+00],\n",
       "       [ 6.53279148e+01,  4.99738833e-03,  1.76484502e+00],\n",
       "       [ 6.91887965e+01,  5.76084045e-03,  1.86288486e+00],\n",
       "       [ 7.30754453e+01,  6.59450234e-03,  1.96092446e+00],\n",
       "       [ 7.69880818e+01,  7.50107078e-03,  2.05896382e+00],\n",
       "       [ 8.09269294e+01,  8.48396012e-03,  2.15700296e+00],\n",
       "       [ 8.48922140e+01,  9.54566894e-03,  2.25504186e+00],\n",
       "       [ 8.88841639e+01,  1.06897472e-02,  2.35308053e+00],\n",
       "       [ 9.29030103e+01,  1.19198171e-02,  2.45111897e+00],\n",
       "       [ 9.69489868e+01,  1.32385945e-02,  2.54915718e+00],\n",
       "       [ 1.01022330e+02,  1.46506736e-02,  2.64719514e+00],\n",
       "       [ 1.05123279e+02,  1.61586019e-02,  2.74523285e+00],\n",
       "       [ 1.09252076e+02,  1.77661563e-02,  2.84327032e+00],\n",
       "       [ 1.13408966e+02,  1.94762183e-02,  2.94130752e+00],\n",
       "       [ 1.17594198e+02,  2.12948677e-02,  3.03934446e+00],\n",
       "       [ 1.21808022e+02,  2.32238574e-02,  3.13738113e+00],\n",
       "       [ 1.26050692e+02,  2.52673258e-02,  3.23541752e+00],\n",
       "       [ 1.30322467e+02,  2.74303267e-02,  3.33345362e+00],\n",
       "       [ 1.34623607e+02,  2.97163767e-02,  3.43148943e+00],\n",
       "       [ 1.38954375e+02,  3.21304042e-02,  3.52952493e+00],\n",
       "       [ 1.43315041e+02,  3.46758056e-02,  3.62756011e+00],\n",
       "       [ 1.47705875e+02,  3.73580488e-02,  3.72559497e+00],\n",
       "       [ 1.52127151e+02,  4.01817301e-02,  3.82362950e+00],\n",
       "       [ 1.56579148e+02,  4.31507403e-02,  3.92166368e+00],\n",
       "       [ 1.61062149e+02,  4.62707224e-02,  4.01969751e+00],\n",
       "       [ 1.65576439e+02,  4.95466194e-02,  4.11773098e+00],\n",
       "       [ 1.70122310e+02,  5.29830046e-02,  4.21576407e+00],\n",
       "       [ 1.74700055e+02,  5.65847387e-02,  4.31379677e+00],\n",
       "       [ 1.79309972e+02,  6.03584458e-02,  4.41182908e+00],\n",
       "       [ 1.83952365e+02,  6.43090793e-02,  4.50986098e+00],\n",
       "       [ 1.88627542e+02,  6.84422162e-02,  4.60789246e+00],\n",
       "       [ 1.93335813e+02,  7.27634052e-02,  4.70592351e+00],\n",
       "       [ 1.98077496e+02,  7.72788244e-02,  4.80395412e+00],\n",
       "       [ 2.02852913e+02,  8.19941387e-02,  4.90198427e+00],\n",
       "       [ 2.07662389e+02,  8.69166304e-02,  5.00001396e+00],\n",
       "       [ 2.12506256e+02,  9.20519293e-02,  5.09804317e+00],\n",
       "       [ 2.17384852e+02,  9.74069613e-02,  5.19607188e+00],\n",
       "       [ 2.22298517e+02,  1.02987988e-01,  5.29410010e+00],\n",
       "       [ 2.27247601e+02,  1.08801430e-01,  5.39212779e+00],\n",
       "       [ 2.32232456e+02,  1.14855010e-01,  5.49015496e+00],\n",
       "       [ 2.37253443e+02,  1.21156128e-01,  5.58818159e+00],\n",
       "       [ 2.42310926e+02,  1.27711204e-01,  5.68620766e+00],\n",
       "       [ 2.47405278e+02,  1.34529118e-01,  5.78423316e+00],\n",
       "       [ 2.52536877e+02,  1.41616146e-01,  5.88225808e+00],\n",
       "       [ 2.57706107e+02,  1.48981359e-01,  5.98028241e+00],\n",
       "       [ 2.62913360e+02,  1.56631553e-01,  6.07830612e+00],\n",
       "       [ 2.68159036e+02,  1.64576657e-01,  6.17632922e+00],\n",
       "       [ 2.73443540e+02,  1.72824008e-01,  6.27435168e+00],\n",
       "       [ 2.78767286e+02,  1.81382280e-01,  6.37237348e+00],\n",
       "       [ 2.84130695e+02,  1.90260835e-01,  6.47039462e+00],\n",
       "       [ 2.89534197e+02,  1.99469075e-01,  6.56841509e+00],\n",
       "       [ 2.94978229e+02,  2.09015785e-01,  6.66643486e+00],\n",
       "       [ 3.00463239e+02,  2.18910128e-01,  6.76445392e+00],\n",
       "       [ 3.05989679e+02,  2.29162294e-01,  6.86247226e+00],\n",
       "       [ 3.11558016e+02,  2.39781714e-01,  6.96048986e+00],\n",
       "       [ 3.17168722e+02,  2.50779348e-01,  7.05850670e+00],\n",
       "       [ 3.22822280e+02,  2.62165237e-01,  7.15652278e+00],\n",
       "       [ 3.28519185e+02,  2.73949822e-01,  7.25453808e+00],\n",
       "       [ 3.34259939e+02,  2.86144594e-01,  7.35255257e+00],\n",
       "       [ 3.40045058e+02,  2.98760307e-01,  7.45056625e+00],\n",
       "       [ 3.45875066e+02,  3.11808452e-01,  7.54857910e+00],\n",
       "       [ 3.51750501e+02,  3.25300607e-01,  7.64659111e+00],\n",
       "       [ 3.57671912e+02,  3.39248936e-01,  7.74460225e+00],\n",
       "       [ 3.63639861e+02,  3.53665537e-01,  7.84261252e+00],\n",
       "       [ 3.69654920e+02,  3.68562778e-01,  7.94062189e+00],\n",
       "       [ 3.75717679e+02,  3.83953789e-01,  8.03863035e+00],\n",
       "       [ 3.81828738e+02,  3.99851490e-01,  8.13663788e+00],\n",
       "       [ 3.87988712e+02,  4.16268270e-01,  8.23464446e+00],\n",
       "       [ 3.94198231e+02,  4.33219588e-01,  8.33265009e+00],\n",
       "       [ 4.00457940e+02,  4.50717113e-01,  8.43065473e+00],\n",
       "       [ 4.06768501e+02,  4.68777071e-01,  8.52865839e+00],\n",
       "       [ 4.13130591e+02,  4.87413710e-01,  8.62666102e+00],\n",
       "       [ 4.19544905e+02,  5.06641756e-01,  8.72466263e+00],\n",
       "       [ 4.26012154e+02,  5.26475774e-01,  8.82266319e+00]])"
      ]
     },
     "execution_count": 125,
     "metadata": {},
     "output_type": "execute_result"
    }
   ],
   "source": [
    "velo"
   ]
  },
  {
   "cell_type": "code",
   "execution_count": 126,
   "id": "500bfafb",
   "metadata": {},
   "outputs": [
    {
     "data": {
      "text/plain": [
       "array([[ 3.42128695e+01, -7.87126118e-05,  9.80791682e-01],\n",
       "       [ 3.44335211e+01, -9.12008840e-06,  9.80686339e-01],\n",
       "       [ 3.46560253e+01,  1.36520384e-04,  9.80587729e-01],\n",
       "       [ 3.48804090e+01,  4.21822969e-04,  9.80531091e-01],\n",
       "       [ 3.51066680e+01,  6.41222151e-04,  9.80496947e-01],\n",
       "       [ 3.53348122e+01,  8.89100559e-04,  9.80474641e-01],\n",
       "       [ 3.55648571e+01,  1.26151531e-03,  9.80459067e-01],\n",
       "       [ 3.57968205e+01,  1.56075205e-03,  9.80447610e-01],\n",
       "       [ 3.60307208e+01,  1.98239450e-03,  9.80438823e-01],\n",
       "       [ 3.62665774e+01,  2.42776157e-03,  9.80431845e-01],\n",
       "       [ 3.65044101e+01,  2.79840831e-03,  9.80426137e-01],\n",
       "       [ 3.67442389e+01,  3.29066294e-03,  9.80421342e-01],\n",
       "       [ 3.69860845e+01,  3.80638845e-03,  9.80417219e-01],\n",
       "       [ 3.72299679e+01,  4.24755631e-03,  9.80413596e-01],\n",
       "       [ 3.74759104e+01,  4.81082071e-03,  9.80410348e-01],\n",
       "       [ 3.77239338e+01,  5.39831163e-03,  9.80407383e-01],\n",
       "       [ 3.79740603e+01,  6.01041982e-03,  9.80404630e-01],\n",
       "       [ 3.82263124e+01,  6.64758993e-03,  9.80402035e-01],\n",
       "       [ 3.84807134e+01,  7.31031445e-03,  9.80399556e-01],\n",
       "       [ 3.87372866e+01,  7.99912899e-03,  9.80397157e-01],\n",
       "       [ 3.89960561e+01,  8.71460861e-03,  9.80394813e-01],\n",
       "       [ 3.92570464e+01,  9.45736490e-03,  9.80392499e-01],\n",
       "       [ 3.95202824e+01,  1.02280437e-02,  9.80390197e-01],\n",
       "       [ 3.97857896e+01,  1.10273236e-02,  9.80387891e-01],\n",
       "       [ 4.00535941e+01,  1.18559132e-02,  9.80385569e-01],\n",
       "       [ 4.03237224e+01,  1.27145518e-02,  9.80383219e-01],\n",
       "       [ 4.05962016e+01,  1.36040073e-02,  9.80380831e-01],\n",
       "       [ 4.08710596e+01,  1.46232714e-02,  9.80378397e-01],\n",
       "       [ 4.11483247e+01,  1.55767758e-02,  9.80375909e-01],\n",
       "       [ 4.14280259e+01,  1.65635673e-02,  9.80373362e-01],\n",
       "       [ 4.17101927e+01,  1.76827179e-02,  9.80370748e-01],\n",
       "       [ 4.19948556e+01,  1.87387421e-02,  9.80368064e-01],\n",
       "       [ 4.22820457e+01,  1.98307649e-02,  9.80365305e-01],\n",
       "       [ 4.25717945e+01,  2.10579367e-02,  9.80362466e-01],\n",
       "       [ 4.28641348e+01,  2.22248530e-02,  9.80359543e-01],\n",
       "       [ 4.31590995e+01,  2.35289097e-02,  9.80356534e-01],\n",
       "       [ 4.34567233e+01,  2.47747563e-02,  9.80353435e-01],\n",
       "       [ 4.37570405e+01,  2.61598403e-02,  9.80350242e-01],\n",
       "       [ 4.40600872e+01,  2.74888660e-02,  9.80346954e-01],\n",
       "       [ 4.43659003e+01,  2.89593322e-02,  9.80343568e-01],\n",
       "       [ 4.46745171e+01,  3.04741895e-02,  9.80340081e-01],\n",
       "       [ 4.49859763e+01,  3.19364177e-02,  9.80336491e-01],\n",
       "       [ 4.53003178e+01,  3.35435948e-02,  9.80332796e-01],\n",
       "       [ 4.56175818e+01,  3.51987553e-02,  9.80328993e-01],\n",
       "       [ 4.59378101e+01,  3.69031524e-02,  9.80325082e-01],\n",
       "       [ 4.62610457e+01,  3.86580678e-02,  9.80321059e-01],\n",
       "       [ 4.65873324e+01,  4.03666246e-02,  9.80316923e-01],\n",
       "       [ 4.69167155e+01,  4.22265380e-02,  9.80312673e-01],\n",
       "       [ 4.72492414e+01,  4.41409893e-02,  9.80308306e-01],\n",
       "       [ 4.75849578e+01,  4.61113780e-02,  9.80303822e-01],\n",
       "       [ 4.79239137e+01,  4.81391335e-02,  9.80299217e-01],\n",
       "       [ 4.82661596e+01,  5.03239010e-02,  9.80294491e-01],\n",
       "       [ 4.86117473e+01,  5.24708028e-02,  9.80289643e-01],\n",
       "       [ 4.89607301e+01,  5.46795481e-02,  9.80284670e-01],\n",
       "       [ 4.93131630e+01,  5.69516928e-02,  9.80279571e-01],\n",
       "       [ 4.96691022e+01,  5.92888259e-02,  9.80274345e-01],\n",
       "       [ 5.00286064e+01,  6.17907510e-02,  9.80268991e-01],\n",
       "       [ 5.03917353e+01,  6.42627617e-02,  9.80263506e-01],\n",
       "       [ 5.07585502e+01,  6.68047308e-02,  9.80257889e-01],\n",
       "       [ 5.11291154e+01,  6.95165634e-02,  9.80252139e-01],\n",
       "       [ 5.15034956e+01,  7.22036629e-02,  9.80246255e-01],\n",
       "       [ 5.18817592e+01,  7.50641849e-02,  9.80240235e-01],\n",
       "       [ 5.22639749e+01,  7.80017862e-02,  9.80234078e-01],\n",
       "       [ 5.26502150e+01,  8.09201642e-02,  9.80227782e-01],\n",
       "       [ 5.30405539e+01,  8.40175835e-02,  9.80221346e-01],\n",
       "       [ 5.34350671e+01,  8.71978189e-02,  9.80214769e-01],\n",
       "       [ 5.38338340e+01,  9.04628617e-02,  9.80208049e-01],\n",
       "       [ 5.42369358e+01,  9.37165721e-02,  9.80201185e-01],\n",
       "       [ 5.46444567e+01,  9.71573698e-02,  9.80194175e-01],\n",
       "       [ 5.50564833e+01,  1.00689198e-01,  9.80187018e-01],\n",
       "       [ 5.54731053e+01,  1.04314218e-01,  9.80179713e-01],\n",
       "       [ 5.58944152e+01,  1.08034633e-01,  9.80172258e-01],\n",
       "       [ 5.63205088e+01,  1.11852694e-01,  9.80164653e-01],\n",
       "       [ 5.67514849e+01,  1.15868865e-01,  9.80156894e-01],\n",
       "       [ 5.71874452e+01,  1.19889154e-01,  9.80148982e-01],\n",
       "       [ 5.76284966e+01,  1.24014122e-01,  9.80140915e-01],\n",
       "       [ 5.80747479e+01,  1.28344375e-01,  9.80132691e-01],\n",
       "       [ 5.85263117e+01,  1.32686077e-01,  9.80124308e-01],\n",
       "       [ 5.89833061e+01,  1.37139939e-01,  9.80115767e-01],\n",
       "       [ 5.94458513e+01,  1.41806720e-01,  9.80107064e-01],\n",
       "       [ 5.99140740e+01,  1.46590908e-01,  9.80098199e-01],\n",
       "       [ 6.03881029e+01,  1.51397057e-01,  9.80089170e-01],\n",
       "       [ 6.08680732e+01,  1.56424248e-01,  9.80079976e-01],\n",
       "       [ 6.13541245e+01,  1.61577149e-01,  9.80070614e-01],\n",
       "       [ 6.18464019e+01,  1.66858646e-01,  9.80061085e-01],\n",
       "       [ 6.23450541e+01,  1.72173532e-01,  9.80051386e-01],\n",
       "       [ 6.28502371e+01,  1.77721127e-01,  9.80041516e-01],\n",
       "       [ 6.33621120e+01,  1.83504505e-01,  9.80031473e-01],\n",
       "       [ 6.38808454e+01,  1.89330508e-01,  9.80021256e-01],\n",
       "       [ 6.44066123e+01,  1.95300500e-01,  9.80010863e-01],\n",
       "       [ 6.49395920e+01,  2.01417768e-01,  9.80000293e-01]])"
      ]
     },
     "execution_count": 126,
     "metadata": {},
     "output_type": "execute_result"
    }
   ],
   "source": [
    "acel"
   ]
  },
  {
   "cell_type": "code",
   "execution_count": 128,
   "id": "5bb4e1b1",
   "metadata": {},
   "outputs": [
    {
     "data": {
      "application/vnd.plotly.v1+json": {
       "config": {
        "plotlyServerURL": "https://plot.ly"
       },
       "data": [
        {
         "line": {
          "color": "darkblue",
          "width": 2
         },
         "marker": {
          "color": [
           0,
           0.17008466596022456,
           0.681805399356407,
           1.5373762182978592,
           2.739029795137693,
           4.289017450058909,
           6.189609253580332,
           8.443094183455841,
           11.051780301956123,
           14.017994942374733,
           17.344084901501926,
           21.03241663671503,
           25.085376466908045,
           29.505370777526224,
           34.294826229426455,
           39.45618997161085,
           44.99192985803956,
           50.904534668538396,
           57.196514333951,
           63.870400165673935,
           70.92874508971795,
           78.37412388543756,
           86.20913342907866,
           94.4363929422599,
           103.05854424565396,
           112.07825201803429,
           121.49820406071312,
           131.32111156779268,
           141.54970940219735,
           152.1867563779635,
           163.23503554864172,
           174.69735450234555,
           186.57654566359753,
           198.87546660217546,
           211.59700034897838,
           224.74405571961745,
           238.3195676457023,
           252.32649751433178,
           266.76783351547897,
           281.6465909985734,
           296.9658128376518,
           312.7285698057347,
           328.93796095912666,
           345.59711403136214,
           362.7091858374787,
           380.2773626892618,
           398.3048608213183,
           416.794926828533,
           435.7508381156492,
           455.1759033592778,
           475.07346298261973,
           495.44688964328543,
           516.2995887350417,
           537.6349989039635,
           559.4565925792076,
           581.7678765195353,
           604.5723923754302,
           627.8737172679773,
           651.6754643848876,
           675.9812835948658,
           700.7948620797697,
           726.119924986473,
           751.9602360986806,
           778.3195985300754,
           805.2018554383469,
           832.6108907621693,
           860.5506299812233,
           889.0250409008752,
           918.038134461692,
           947.5939655753175,
           977.6966339881425,
           1008.3502851727088,
           1039.5591112493873,
           1071.3273519381617,
           1103.659295542986,
           1136.5592799687158,
           1170.031693774037,
           1204.0809772589298,
           1238.7116235915655,
           1273.9281799727823,
           1309.7352488430615,
           1346.1374891308294,
           1383.1396175458183,
           1420.7464099191218,
           1458.9627025914538,
           1497.7933938513452,
           1537.2434454268082,
           1577.3178840318108,
           1618.0218029704088,
           1659.360363800535,
           1701.3387980606242
          ],
          "colorscale": [
           [
            0,
            "#440154"
           ],
           [
            0.1111111111111111,
            "#482878"
           ],
           [
            0.2222222222222222,
            "#3e4989"
           ],
           [
            0.3333333333333333,
            "#31688e"
           ],
           [
            0.4444444444444444,
            "#26828e"
           ],
           [
            0.5555555555555556,
            "#1f9e89"
           ],
           [
            0.6666666666666666,
            "#35b779"
           ],
           [
            0.7777777777777778,
            "#6ece58"
           ],
           [
            0.8888888888888888,
            "#b5de2b"
           ],
           [
            1,
            "#fde725"
           ]
          ],
          "size": 4
         },
         "type": "scatter3d",
         "x": [
          0,
          -0.021993303871947516,
          -0.08811960058153753,
          -0.19860004669865672,
          -0.35365806367607944,
          -0.5535191783827911,
          -0.7984109226225646,
          -1.0885627946798522,
          -1.4242062504259745,
          -1.805574706096054,
          -2.232903549797597,
          -2.706430155004096,
          -3.2263938971156594,
          -3.7930361720290575,
          -4.406600415705661,
          -5.067332122793513,
          -5.775478868533714,
          -6.531290330299769,
          -7.335018309498431,
          -8.186916754018077,
          -9.087241781496758,
          -10.036251702785897,
          -11.034207046594721,
          -12.08137058437617,
          -13.17800735477532,
          -14.324384689992128,
          -15.520772243231425,
          -16.76744201587321,
          -18.064668380623605,
          -19.41272811452704,
          -20.811900429900508,
          -22.26246699775833,
          -23.764711978877322,
          -25.3189220619421,
          -26.925386485128392,
          -28.584397080657187,
          -30.296248290778273,
          -32.06123722416254,
          -33.87966366503308,
          -35.75183013919307,
          -37.678041917665475,
          -39.65860707984075,
          -41.69383654538747,
          -43.784044106404735,
          -45.92954647345499,
          -48.13066331583821,
          -50.38771731144778,
          -52.7010341833607,
          -55.07094274447168,
          -57.4977749434666,
          -59.98186591722309,
          -62.523554040398764,
          -65.1231809674197,
          -67.78109169904505,
          -70.49763461762419,
          -73.27316155952802,
          -76.10802785851175,
          -79.00259240250968,
          -81.95721772358233,
          -84.97226999756293,
          -88.04811918340651,
          -91.18513903470271,
          -94.3837071988785,
          -97.64420523952622,
          -100.96701875946701,
          -104.35253748347982,
          -107.80115524595782,
          -111.31327018097966,
          -114.88928474293402,
          -118.52960580190468,
          -122.23464473140436,
          -126.004817489342,
          -129.84054471816413,
          -133.7422518398527,
          -137.71036917824796,
          -141.74533201764217,
          -145.84758073512984,
          -150.0175609038275,
          -154.2557234352582,
          -158.5625246044797,
          -162.93842632408908,
          -167.3838961035215,
          -171.89940732198667,
          -176.48543923146542,
          -181.14247720681598,
          -185.87101288448446,
          -190.67154417019884,
          -195.5445756226793,
          -200.4906183651203,
          -205.51019052906602,
          -210.60381712494106
         ],
         "y": [
          0,
          -3.2529790714979265e-7,
          -6.815007683609062e-7,
          3.2110201573843844e-7,
          0.000005052849748189764,
          0.00001612244039643647,
          0.00003587725039198365,
          0.00006794052155469633,
          0.00011516368402303069,
          0.00018168314060197473,
          0.0002711619174260242,
          0.0003871062639807328,
          0.0004946506687715983,
          0.0006350027573587187,
          0.0008127112674957174,
          0.0010332721725741854,
          0.0013022258457907007,
          0.0016253175085993218,
          0.002008407274384114,
          0.002457926416462356,
          0.002980383904234019,
          0.0035827130905555444,
          0.0042720013022683025,
          0.004979699983717029,
          0.00577889981136946,
          0.006684367529965877,
          0.007704656019387713,
          0.008848178833898872,
          0.010124197581021696,
          0.011542089400890475,
          0.01311184556168,
          0.01475968833029716,
          0.016543469878533727,
          0.018506245683868286,
          0.0206589367460809,
          0.023013398319400698,
          0.0255814636332806,
          0.028375926750594662,
          0.031275804795599466,
          0.03441162081837138,
          0.037809455325803765,
          0.04148323819086362,
          0.045447669181292824,
          0.04971534166423299,
          0.0541353599414583,
          0.058888398517350844,
          0.0639914180955234,
          0.06946169391020099,
          0.07531710752236906,
          0.0814222378597931,
          0.08790317591443576,
          0.09482095550265443,
          0.10219607286419768,
          0.11004547043142306,
          0.11817822164641281,
          0.12682790881096645,
          0.13601682319943645,
          0.1457682901720247,
          0.15593457529258548,
          0.16663960212702175,
          0.17797719467361806,
          0.18997295092411665,
          0.2024676407131151,
          0.21559675957852528,
          0.22946289783428095,
          0.2440909133605719,
          0.25923868844761755,
          0.2752086902704877,
          0.2920333313679006,
          0.3095913009001343,
          0.327922033455323,
          0.34720394583801795,
          0.367382712888736,
          0.3883547038784228,
          0.4103825849028425,
          0.43344363731160457,
          0.4573633606535194,
          0.48245287781228663,
          0.5086549284595016,
          0.5358567919395056,
          0.5643523421679932,
          0.5940092834508798,
          0.6248574096647773,
          0.6571335818828187,
          0.6905730949268387,
          0.7254636066303861,
          0.7618158445793656,
          0.7995042175107335,
          0.8388678881136579,
          0.8796225865632968,
          0.9220846923564625
         ],
         "z": [
          0,
          0.17008466596022456,
          0.681805399356407,
          1.5373762182978592,
          2.739029795137693,
          4.289017450058909,
          6.189609253580332,
          8.443094183455841,
          11.051780301956123,
          14.017994942374733,
          17.344084901501926,
          21.03241663671503,
          25.085376466908045,
          29.505370777526224,
          34.294826229426455,
          39.45618997161085,
          44.99192985803956,
          50.904534668538396,
          57.196514333951,
          63.870400165673935,
          70.92874508971795,
          78.37412388543756,
          86.20913342907866,
          94.4363929422599,
          103.05854424565396,
          112.07825201803429,
          121.49820406071312,
          131.32111156779268,
          141.54970940219735,
          152.1867563779635,
          163.23503554864172,
          174.69735450234555,
          186.57654566359753,
          198.87546660217546,
          211.59700034897838,
          224.74405571961745,
          238.3195676457023,
          252.32649751433178,
          266.76783351547897,
          281.6465909985734,
          296.9658128376518,
          312.7285698057347,
          328.93796095912666,
          345.59711403136214,
          362.7091858374787,
          380.2773626892618,
          398.3048608213183,
          416.794926828533,
          435.7508381156492,
          455.1759033592778,
          475.07346298261973,
          495.44688964328543,
          516.2995887350417,
          537.6349989039635,
          559.4565925792076,
          581.7678765195353,
          604.5723923754302,
          627.8737172679773,
          651.6754643848876,
          675.9812835948658,
          700.7948620797697,
          726.119924986473,
          751.9602360986806,
          778.3195985300754,
          805.2018554383469,
          832.6108907621693,
          860.5506299812233,
          889.0250409008752,
          918.038134461692,
          947.5939655753175,
          977.6966339881425,
          1008.3502851727088,
          1039.5591112493873,
          1071.3273519381617,
          1103.659295542986,
          1136.5592799687158,
          1170.031693774037,
          1204.0809772589298,
          1238.7116235915655,
          1273.9281799727823,
          1309.7352488430615,
          1346.1374891308294,
          1383.1396175458183,
          1420.7464099191218,
          1458.9627025914538,
          1497.7933938513452,
          1537.2434454268082,
          1577.3178840318108,
          1618.0218029704088,
          1659.360363800535,
          1701.3387980606242
         ]
        }
       ],
       "layout": {
        "margin": {
         "b": 10,
         "l": 10,
         "r": 20,
         "t": 10
        },
        "scene": {
         "xaxis": {
          "nticks": 2,
          "range": [
           -750,
           750
          ]
         },
         "yaxis": {
          "nticks": 2,
          "range": [
           -500,
           500
          ]
         },
         "zaxis": {
          "nticks": 2,
          "range": [
           0,
           1500
          ]
         }
        },
        "template": {
         "data": {
          "bar": [
           {
            "error_x": {
             "color": "#2a3f5f"
            },
            "error_y": {
             "color": "#2a3f5f"
            },
            "marker": {
             "line": {
              "color": "#E5ECF6",
              "width": 0.5
             },
             "pattern": {
              "fillmode": "overlay",
              "size": 10,
              "solidity": 0.2
             }
            },
            "type": "bar"
           }
          ],
          "barpolar": [
           {
            "marker": {
             "line": {
              "color": "#E5ECF6",
              "width": 0.5
             },
             "pattern": {
              "fillmode": "overlay",
              "size": 10,
              "solidity": 0.2
             }
            },
            "type": "barpolar"
           }
          ],
          "carpet": [
           {
            "aaxis": {
             "endlinecolor": "#2a3f5f",
             "gridcolor": "white",
             "linecolor": "white",
             "minorgridcolor": "white",
             "startlinecolor": "#2a3f5f"
            },
            "baxis": {
             "endlinecolor": "#2a3f5f",
             "gridcolor": "white",
             "linecolor": "white",
             "minorgridcolor": "white",
             "startlinecolor": "#2a3f5f"
            },
            "type": "carpet"
           }
          ],
          "choropleth": [
           {
            "colorbar": {
             "outlinewidth": 0,
             "ticks": ""
            },
            "type": "choropleth"
           }
          ],
          "contour": [
           {
            "colorbar": {
             "outlinewidth": 0,
             "ticks": ""
            },
            "colorscale": [
             [
              0,
              "#0d0887"
             ],
             [
              0.1111111111111111,
              "#46039f"
             ],
             [
              0.2222222222222222,
              "#7201a8"
             ],
             [
              0.3333333333333333,
              "#9c179e"
             ],
             [
              0.4444444444444444,
              "#bd3786"
             ],
             [
              0.5555555555555556,
              "#d8576b"
             ],
             [
              0.6666666666666666,
              "#ed7953"
             ],
             [
              0.7777777777777778,
              "#fb9f3a"
             ],
             [
              0.8888888888888888,
              "#fdca26"
             ],
             [
              1,
              "#f0f921"
             ]
            ],
            "type": "contour"
           }
          ],
          "contourcarpet": [
           {
            "colorbar": {
             "outlinewidth": 0,
             "ticks": ""
            },
            "type": "contourcarpet"
           }
          ],
          "heatmap": [
           {
            "colorbar": {
             "outlinewidth": 0,
             "ticks": ""
            },
            "colorscale": [
             [
              0,
              "#0d0887"
             ],
             [
              0.1111111111111111,
              "#46039f"
             ],
             [
              0.2222222222222222,
              "#7201a8"
             ],
             [
              0.3333333333333333,
              "#9c179e"
             ],
             [
              0.4444444444444444,
              "#bd3786"
             ],
             [
              0.5555555555555556,
              "#d8576b"
             ],
             [
              0.6666666666666666,
              "#ed7953"
             ],
             [
              0.7777777777777778,
              "#fb9f3a"
             ],
             [
              0.8888888888888888,
              "#fdca26"
             ],
             [
              1,
              "#f0f921"
             ]
            ],
            "type": "heatmap"
           }
          ],
          "heatmapgl": [
           {
            "colorbar": {
             "outlinewidth": 0,
             "ticks": ""
            },
            "colorscale": [
             [
              0,
              "#0d0887"
             ],
             [
              0.1111111111111111,
              "#46039f"
             ],
             [
              0.2222222222222222,
              "#7201a8"
             ],
             [
              0.3333333333333333,
              "#9c179e"
             ],
             [
              0.4444444444444444,
              "#bd3786"
             ],
             [
              0.5555555555555556,
              "#d8576b"
             ],
             [
              0.6666666666666666,
              "#ed7953"
             ],
             [
              0.7777777777777778,
              "#fb9f3a"
             ],
             [
              0.8888888888888888,
              "#fdca26"
             ],
             [
              1,
              "#f0f921"
             ]
            ],
            "type": "heatmapgl"
           }
          ],
          "histogram": [
           {
            "marker": {
             "pattern": {
              "fillmode": "overlay",
              "size": 10,
              "solidity": 0.2
             }
            },
            "type": "histogram"
           }
          ],
          "histogram2d": [
           {
            "colorbar": {
             "outlinewidth": 0,
             "ticks": ""
            },
            "colorscale": [
             [
              0,
              "#0d0887"
             ],
             [
              0.1111111111111111,
              "#46039f"
             ],
             [
              0.2222222222222222,
              "#7201a8"
             ],
             [
              0.3333333333333333,
              "#9c179e"
             ],
             [
              0.4444444444444444,
              "#bd3786"
             ],
             [
              0.5555555555555556,
              "#d8576b"
             ],
             [
              0.6666666666666666,
              "#ed7953"
             ],
             [
              0.7777777777777778,
              "#fb9f3a"
             ],
             [
              0.8888888888888888,
              "#fdca26"
             ],
             [
              1,
              "#f0f921"
             ]
            ],
            "type": "histogram2d"
           }
          ],
          "histogram2dcontour": [
           {
            "colorbar": {
             "outlinewidth": 0,
             "ticks": ""
            },
            "colorscale": [
             [
              0,
              "#0d0887"
             ],
             [
              0.1111111111111111,
              "#46039f"
             ],
             [
              0.2222222222222222,
              "#7201a8"
             ],
             [
              0.3333333333333333,
              "#9c179e"
             ],
             [
              0.4444444444444444,
              "#bd3786"
             ],
             [
              0.5555555555555556,
              "#d8576b"
             ],
             [
              0.6666666666666666,
              "#ed7953"
             ],
             [
              0.7777777777777778,
              "#fb9f3a"
             ],
             [
              0.8888888888888888,
              "#fdca26"
             ],
             [
              1,
              "#f0f921"
             ]
            ],
            "type": "histogram2dcontour"
           }
          ],
          "mesh3d": [
           {
            "colorbar": {
             "outlinewidth": 0,
             "ticks": ""
            },
            "type": "mesh3d"
           }
          ],
          "parcoords": [
           {
            "line": {
             "colorbar": {
              "outlinewidth": 0,
              "ticks": ""
             }
            },
            "type": "parcoords"
           }
          ],
          "pie": [
           {
            "automargin": true,
            "type": "pie"
           }
          ],
          "scatter": [
           {
            "fillpattern": {
             "fillmode": "overlay",
             "size": 10,
             "solidity": 0.2
            },
            "type": "scatter"
           }
          ],
          "scatter3d": [
           {
            "line": {
             "colorbar": {
              "outlinewidth": 0,
              "ticks": ""
             }
            },
            "marker": {
             "colorbar": {
              "outlinewidth": 0,
              "ticks": ""
             }
            },
            "type": "scatter3d"
           }
          ],
          "scattercarpet": [
           {
            "marker": {
             "colorbar": {
              "outlinewidth": 0,
              "ticks": ""
             }
            },
            "type": "scattercarpet"
           }
          ],
          "scattergeo": [
           {
            "marker": {
             "colorbar": {
              "outlinewidth": 0,
              "ticks": ""
             }
            },
            "type": "scattergeo"
           }
          ],
          "scattergl": [
           {
            "marker": {
             "colorbar": {
              "outlinewidth": 0,
              "ticks": ""
             }
            },
            "type": "scattergl"
           }
          ],
          "scattermapbox": [
           {
            "marker": {
             "colorbar": {
              "outlinewidth": 0,
              "ticks": ""
             }
            },
            "type": "scattermapbox"
           }
          ],
          "scatterpolar": [
           {
            "marker": {
             "colorbar": {
              "outlinewidth": 0,
              "ticks": ""
             }
            },
            "type": "scatterpolar"
           }
          ],
          "scatterpolargl": [
           {
            "marker": {
             "colorbar": {
              "outlinewidth": 0,
              "ticks": ""
             }
            },
            "type": "scatterpolargl"
           }
          ],
          "scatterternary": [
           {
            "marker": {
             "colorbar": {
              "outlinewidth": 0,
              "ticks": ""
             }
            },
            "type": "scatterternary"
           }
          ],
          "surface": [
           {
            "colorbar": {
             "outlinewidth": 0,
             "ticks": ""
            },
            "colorscale": [
             [
              0,
              "#0d0887"
             ],
             [
              0.1111111111111111,
              "#46039f"
             ],
             [
              0.2222222222222222,
              "#7201a8"
             ],
             [
              0.3333333333333333,
              "#9c179e"
             ],
             [
              0.4444444444444444,
              "#bd3786"
             ],
             [
              0.5555555555555556,
              "#d8576b"
             ],
             [
              0.6666666666666666,
              "#ed7953"
             ],
             [
              0.7777777777777778,
              "#fb9f3a"
             ],
             [
              0.8888888888888888,
              "#fdca26"
             ],
             [
              1,
              "#f0f921"
             ]
            ],
            "type": "surface"
           }
          ],
          "table": [
           {
            "cells": {
             "fill": {
              "color": "#EBF0F8"
             },
             "line": {
              "color": "white"
             }
            },
            "header": {
             "fill": {
              "color": "#C8D4E3"
             },
             "line": {
              "color": "white"
             }
            },
            "type": "table"
           }
          ]
         },
         "layout": {
          "annotationdefaults": {
           "arrowcolor": "#2a3f5f",
           "arrowhead": 0,
           "arrowwidth": 1
          },
          "autotypenumbers": "strict",
          "coloraxis": {
           "colorbar": {
            "outlinewidth": 0,
            "ticks": ""
           }
          },
          "colorscale": {
           "diverging": [
            [
             0,
             "#8e0152"
            ],
            [
             0.1,
             "#c51b7d"
            ],
            [
             0.2,
             "#de77ae"
            ],
            [
             0.3,
             "#f1b6da"
            ],
            [
             0.4,
             "#fde0ef"
            ],
            [
             0.5,
             "#f7f7f7"
            ],
            [
             0.6,
             "#e6f5d0"
            ],
            [
             0.7,
             "#b8e186"
            ],
            [
             0.8,
             "#7fbc41"
            ],
            [
             0.9,
             "#4d9221"
            ],
            [
             1,
             "#276419"
            ]
           ],
           "sequential": [
            [
             0,
             "#0d0887"
            ],
            [
             0.1111111111111111,
             "#46039f"
            ],
            [
             0.2222222222222222,
             "#7201a8"
            ],
            [
             0.3333333333333333,
             "#9c179e"
            ],
            [
             0.4444444444444444,
             "#bd3786"
            ],
            [
             0.5555555555555556,
             "#d8576b"
            ],
            [
             0.6666666666666666,
             "#ed7953"
            ],
            [
             0.7777777777777778,
             "#fb9f3a"
            ],
            [
             0.8888888888888888,
             "#fdca26"
            ],
            [
             1,
             "#f0f921"
            ]
           ],
           "sequentialminus": [
            [
             0,
             "#0d0887"
            ],
            [
             0.1111111111111111,
             "#46039f"
            ],
            [
             0.2222222222222222,
             "#7201a8"
            ],
            [
             0.3333333333333333,
             "#9c179e"
            ],
            [
             0.4444444444444444,
             "#bd3786"
            ],
            [
             0.5555555555555556,
             "#d8576b"
            ],
            [
             0.6666666666666666,
             "#ed7953"
            ],
            [
             0.7777777777777778,
             "#fb9f3a"
            ],
            [
             0.8888888888888888,
             "#fdca26"
            ],
            [
             1,
             "#f0f921"
            ]
           ]
          },
          "colorway": [
           "#636efa",
           "#EF553B",
           "#00cc96",
           "#ab63fa",
           "#FFA15A",
           "#19d3f3",
           "#FF6692",
           "#B6E880",
           "#FF97FF",
           "#FECB52"
          ],
          "font": {
           "color": "#2a3f5f"
          },
          "geo": {
           "bgcolor": "white",
           "lakecolor": "white",
           "landcolor": "#E5ECF6",
           "showlakes": true,
           "showland": true,
           "subunitcolor": "white"
          },
          "hoverlabel": {
           "align": "left"
          },
          "hovermode": "closest",
          "mapbox": {
           "style": "light"
          },
          "paper_bgcolor": "white",
          "plot_bgcolor": "#E5ECF6",
          "polar": {
           "angularaxis": {
            "gridcolor": "white",
            "linecolor": "white",
            "ticks": ""
           },
           "bgcolor": "#E5ECF6",
           "radialaxis": {
            "gridcolor": "white",
            "linecolor": "white",
            "ticks": ""
           }
          },
          "scene": {
           "xaxis": {
            "backgroundcolor": "#E5ECF6",
            "gridcolor": "white",
            "gridwidth": 2,
            "linecolor": "white",
            "showbackground": true,
            "ticks": "",
            "zerolinecolor": "white"
           },
           "yaxis": {
            "backgroundcolor": "#E5ECF6",
            "gridcolor": "white",
            "gridwidth": 2,
            "linecolor": "white",
            "showbackground": true,
            "ticks": "",
            "zerolinecolor": "white"
           },
           "zaxis": {
            "backgroundcolor": "#E5ECF6",
            "gridcolor": "white",
            "gridwidth": 2,
            "linecolor": "white",
            "showbackground": true,
            "ticks": "",
            "zerolinecolor": "white"
           }
          },
          "shapedefaults": {
           "line": {
            "color": "#2a3f5f"
           }
          },
          "ternary": {
           "aaxis": {
            "gridcolor": "white",
            "linecolor": "white",
            "ticks": ""
           },
           "baxis": {
            "gridcolor": "white",
            "linecolor": "white",
            "ticks": ""
           },
           "bgcolor": "#E5ECF6",
           "caxis": {
            "gridcolor": "white",
            "linecolor": "white",
            "ticks": ""
           }
          },
          "title": {
           "x": 0.05
          },
          "xaxis": {
           "automargin": true,
           "gridcolor": "white",
           "linecolor": "white",
           "ticks": "",
           "title": {
            "standoff": 15
           },
           "zerolinecolor": "white",
           "zerolinewidth": 2
          },
          "yaxis": {
           "automargin": true,
           "gridcolor": "white",
           "linecolor": "white",
           "ticks": "",
           "title": {
            "standoff": 15
           },
           "zerolinecolor": "white",
           "zerolinewidth": 2
          }
         }
        },
        "width": 700
       }
      }
     },
     "metadata": {},
     "output_type": "display_data"
    }
   ],
   "source": [
    "import numpy as np\n",
    "import plotly.graph_objects as go\n",
    "\n",
    "\n",
    "x=[]\n",
    "y=[]\n",
    "z=[]\n",
    "\n",
    "for i in range(len(traj)):\n",
    "    x.append(traj[i][0])\n",
    "    y.append(traj[i][1])\n",
    "    z.append(traj[i][2])\n",
    "\n",
    "fig = go.Figure(data=go.Scatter3d(\n",
    "    x=x, y=y, z=z,\n",
    "    marker=dict(\n",
    "        size=4,\n",
    "        color=z,\n",
    "        colorscale='Viridis',\n",
    "    ),\n",
    "    line=dict(\n",
    "        color='darkblue',\n",
    "        width=2\n",
    "    )\n",
    "))\n",
    "\n",
    "\n",
    "fig.update_layout(\n",
    "    scene = dict(\n",
    "        xaxis = dict(nticks=2, range=[-750,750],),\n",
    "        yaxis = dict(nticks=2, range=[-500,500],),\n",
    "        zaxis = dict(nticks=2, range=[0,1500],),),\n",
    "    width=700,\n",
    "    margin=dict(r=20, l=10, b=10, t=10))\n",
    "\n",
    "\n",
    "fig.show()"
   ]
  },
  {
   "cell_type": "code",
   "execution_count": 33,
   "id": "c8e5ca4c",
   "metadata": {
    "scrolled": false
   },
   "outputs": [
    {
     "data": {
      "text/html": [
       "\n",
       "        <iframe\n",
       "            width=\"810px\"\n",
       "            height=\"650px\"\n",
       "            src=\"earth.html\"\n",
       "            frameborder=\"0\"\n",
       "            allowfullscreen\n",
       "        ></iframe>\n",
       "        "
      ],
      "text/markdown": [
       "\n",
       "### Child components\n",
       "\n",
       "- `Grav`: Gravity\n",
       "- `Atmo`: Atmosphere\n",
       "- `Rocket`: Rocket\n",
       "- `Traj`: Trajectory"
      ],
      "text/plain": [
       "earth - Earth"
      ]
     },
     "execution_count": 33,
     "metadata": {},
     "output_type": "execute_result"
    }
   ],
   "source": [
    "earth"
   ]
  },
  {
   "cell_type": "code",
   "execution_count": null,
   "id": "fac03b30",
   "metadata": {},
   "outputs": [],
   "source": []
  }
 ],
 "metadata": {
  "kernelspec": {
   "display_name": "base",
   "language": "python",
   "name": "python3"
  },
  "language_info": {
   "codemirror_mode": {
    "name": "ipython",
    "version": 3
   },
   "file_extension": ".py",
   "mimetype": "text/x-python",
   "name": "python",
   "nbconvert_exporter": "python",
   "pygments_lexer": "ipython3",
   "version": "3.8.8"
  },
  "vscode": {
   "interpreter": {
    "hash": "40d3a090f54c6569ab1632332b64b2c03c39dcf918b08424e98f38b5ae0af88f"
   }
  }
 },
 "nbformat": 4,
 "nbformat_minor": 5
}
