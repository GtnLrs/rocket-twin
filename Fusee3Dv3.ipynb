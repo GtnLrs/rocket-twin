{
 "cells": [
  {
   "cell_type": "code",
   "execution_count": 1,
   "id": "e7ece4ff",
   "metadata": {},
   "outputs": [],
   "source": [
    "from cosapp.base import System, Port, BaseConnector\n",
    "import numpy as np\n",
    "from cosapp.drivers import RungeKutta\n",
    "import plotly.graph_objs as go\n",
    "from cosapp.recorders import DataFrameRecorder\n",
    "import plotly.express as px\n",
    "import matplotlib.pyplot as plt"
   ]
  },
  {
   "cell_type": "code",
   "execution_count": 2,
   "id": "9660e236",
   "metadata": {},
   "outputs": [],
   "source": [
    "def RotMat2D(theta):\n",
    "    \n",
    "    A = np.array([[np.cos(theta), -np.sin(theta)], [np.sin(theta), np.cos(theta)]])\n",
    "            \n",
    "    return A\n",
    "\n",
    "def RotMat3D(ang):\n",
    "    \n",
    "    #ang[0] = phi, ang[1] = theta, ang[2] = psi\n",
    "    \n",
    "    l1 = np.array([np.cos(ang[2])*np.cos(ang[1]), -np.sin(ang[2])*np.cos(ang[0]) + np.cos(ang[2])*np.sin(ang[1])*np.sin(ang[0]),\n",
    "                    np.sin(ang[2])*np.sin(ang[0]) + np.cos(ang[2])*np.sin(ang[1])*np.cos(ang[0])])\n",
    "    l2 = np.array([np.sin(ang[2])*np.cos(ang[1]),  np.cos(ang[2])*np.cos(ang[0]) + np.sin(ang[2])*np.sin(ang[1])*np.sin(ang[0]),\n",
    "                   -np.cos(ang[2])*np.sin(ang[0]) + np.sin(ang[2])*np.sin(ang[1])*np.cos(ang[0])])\n",
    "    l3 = np.array([-np.sin(ang[1]), np.cos(ang[1])*np.sin(ang[0]), np.cos(ang[1])*np.cos(ang[0])])\n",
    "    \n",
    "    A = np.round(np.array([l1,l2,l3]), 5)\n",
    "    #print(A)\n",
    "    \n",
    "    return A"
   ]
  },
  {
   "cell_type": "code",
   "execution_count": 3,
   "id": "f9db477e",
   "metadata": {},
   "outputs": [],
   "source": [
    "class RotPort2(Port):\n",
    "    \"\"\"Position Port \"\"\"\n",
    "    def setup(self):\n",
    "        self.add_variable('val', np.zeros(2))\n",
    "        self.add_variable('ang', 0.)\n",
    "        \n",
    "\n",
    "    class Connector(BaseConnector):\n",
    "        \"\"\"Custom connector for `PosPort` objects\n",
    "        \"\"\"\n",
    "        def __init__(self, name: str, sink: Port, source: Port, *args, **kwargs):\n",
    "            super().__init__(name, sink, source)\n",
    "\n",
    "        def transfer(self) -> None:\n",
    "            sink = self.sink\n",
    "            source = self.source\n",
    "            \n",
    "            sink.val = np.matmul(RotMat2D(-source.ang), source.val)\n",
    "            \n",
    "            #if sink.owner.parent == source.owner:\n",
    "                #sink.pos = np.matmul(RotMat2D(source.ang), source.pos)\n",
    "\n",
    "            #if sink.owner == source.owner.parent:\n",
    "                #sink.pos = np.matmul(RotMat2D(-source.ang), source.pos)\n",
    "                \n",
    "class RotPort3(Port):\n",
    "    \"\"\"Position Port \"\"\"\n",
    "    def setup(self):\n",
    "        self.add_variable('val', np.zeros(3))\n",
    "        self.add_variable('ang', np.zeros(3))\n",
    "        \n",
    "\n",
    "    class Connector(BaseConnector):\n",
    "        \"\"\"Custom connector for `PosPort` objects\n",
    "        \"\"\"\n",
    "        def __init__(self, name: str, sink: Port, source: Port, *args, **kwargs):\n",
    "            super().__init__(name, sink, source)\n",
    "\n",
    "        def transfer(self) -> None:\n",
    "            sink = self.sink\n",
    "            source = self.source\n",
    "            \n",
    "            sink.val = np.matmul(RotMat3D(-source.ang), source.val)\n",
    "            \n",
    "            #if sink.owner.parent == source.owner:\n",
    "                #sink.pos = np.matmul(RotMat2D(source.ang), source.pos)\n",
    "\n",
    "            #if sink.owner == source.owner.parent:\n",
    "                #sink.pos = np.matmul(RotMat2D(-source.ang), source.pos)"
   ]
  },
  {
   "cell_type": "code",
   "execution_count": 4,
   "id": "de015ecb",
   "metadata": {},
   "outputs": [],
   "source": [
    "class Rocket(System):\n",
    "    \n",
    "    def setup(self):\n",
    "        \n",
    "        #Parent-Child connections\n",
    "        self.add_child(Dynamics('Dyn'), pulling = ['a', 'aa', 'av', 'm'])\n",
    "        self.add_child(Thrust('Thrust'))\n",
    "        self.add_child(Mass('Mass'), pulling = ['dmdt', 'm0'])\n",
    "        self.add_child(Inertia('Inertia'), pulling = ['m', 'm0'])\n",
    "        self.add_child(Gravity('Grav'), pulling = ['ar'])\n",
    "        self.add_child(Atmosphere('Atmo'))\n",
    "        self.add_child(Trajectory('Traj'), pulling = ['v_out'])\n",
    "        \n",
    "        #Child-Child connections\n",
    "        self.connect(self.Dyn, self.Thrust, ['Fp', 'Mp'])\n",
    "        self.connect(self.Dyn, self.Inertia, ['I'])\n",
    "        self.connect(self.Dyn, self.Grav, ['g'])\n",
    "        self.connect(self.Traj, self.Grav, ['r'])\n",
    "        self.connect(self.Traj, self.Atmo, ['r'])\n",
    "        self.connect(self.Thrust, self.Atmo, ['P'])\n",
    "        \n",
    "        #Kinematic variables\n",
    "        self.add_transient('v', der = 'a.val')\n",
    "        self.add_transient('av', der = 'aa.val')\n",
    "        self.add_transient('ar', der = 'av')\n",
    "        self.add_transient('m', der = 'dmdt')\n",
    "        \n",
    "        #Execution order\n",
    "        self.exec_order = ['Mass', 'Inertia', 'Grav', 'Atmo', 'Thrust', 'Dyn', 'Traj']\n",
    "        \n",
    "    def compute(self):\n",
    "        \n",
    "        self.v_out.val = self.v\n",
    "        self.v_out.ang = self.ar\n",
    "    \n",
    "    "
   ]
  },
  {
   "cell_type": "code",
   "execution_count": 5,
   "id": "511d5be9",
   "metadata": {},
   "outputs": [],
   "source": [
    "class Dynamics(System):\n",
    "    \n",
    "    def setup(self):\n",
    "        \n",
    "        #Rocket inputs\n",
    "        self.add_inward('v', np.zeros(3), desc = \"Rocket's Velocity\")\n",
    "        self.add_inward('av', np.zeros(3), desc = \"Rocket's Angular Velocity\")\n",
    "        \n",
    "        #Thrust inputs\n",
    "        self.add_input(RotPort3, 'Fp')\n",
    "        self.add_input(RotPort3, 'Mp')\n",
    "        \n",
    "        #Mass inputs\n",
    "        self.add_inward('m', 100.)\n",
    "        \n",
    "        #Inertia inputs\n",
    "        self.add_inward('I', np.ones(3))\n",
    "        \n",
    "        #Gravity inputs\n",
    "        self.add_input(RotPort3, 'g')\n",
    "        \n",
    "        #Thrust outputs\n",
    "        self.add_output(RotPort3, 'a')\n",
    "        self.add_output(RotPort3, 'aa')\n",
    "        \n",
    "        \n",
    "    def compute(self):\n",
    "        \n",
    "        self.a.val[0] = (self.Fp.val[0])/self.m + self.g.val[0] + self.av[2]*self.v[1] - self.av[1]*self.v[2]\n",
    "        self.a.val[1] = (self.Fp.val[1])/self.m + self.g.val[1] + self.av[0]*self.v[2] - self.av[2]*self.v[0]\n",
    "        self.a.val[2] = (self.Fp.val[2])/self.m + self.g.val[2] + self.av[1]*self.v[0] - self.av[0]*self.v[1]\n",
    "        \n",
    "        self.aa.val[0] = (self.Mp.val[0] + (self.I[1] - self.I[2])*self.av[1]*self.av[2])/self.I[0]\n",
    "        self.aa.val[1] = (self.Mp.val[1] + (self.I[2] - self.I[0])*self.av[2]*self.av[0])/self.I[1]\n",
    "        self.aa.val[2] = (self.Mp.val[2] + (self.I[0] - self.I[1])*self.av[0]*self.av[1])/self.I[2]\n",
    "        "
   ]
  },
  {
   "cell_type": "code",
   "execution_count": 6,
   "id": "42df1bfa",
   "metadata": {},
   "outputs": [],
   "source": [
    "class Thrust(System):\n",
    "    \n",
    "    def setup(self):\n",
    "        \n",
    "        #System Constants\n",
    "        self.add_inward('g0', 9.81, desc = \"Gravity on Earth's Surface\", unit = 'm/s**2')\n",
    "        \n",
    "        #Rocket inputs\n",
    "        self.add_inward('qp', 10., desc = \"Engine's Propulsive Debit\", unit = 'kg/s')\n",
    "        self.add_inward('isp', 100., desc = \"Specific Impulsion in Vacuum\", unit = 's')\n",
    "        self.add_inward('gc', 1., desc = \"GC Distance\")\n",
    "        self.add_inward('S_ref', 0.01, desc = \"Surface of Reference\")\n",
    "        \n",
    "        #Atmosphere inputs\n",
    "        self.add_inward('P', 101325., desc = \"Atmospheric Pression at Rocket's Height\")\n",
    "        \n",
    "        #Thrust outputs\n",
    "        self.add_output(RotPort3, 'Fp')\n",
    "        self.add_output(RotPort3, 'Mp')\n",
    "        \n",
    "        \n",
    "    def compute(self):\n",
    "        \n",
    "        self.Fp.val[0] = self.qp*self.g0*self.isp - self.P*self.S_ref\n",
    "        self.Fp.val[1] = 0.\n",
    "        self.Fp.val[2] = 0.\n",
    "        \n",
    "        self.Mp.val[0] = 0.\n",
    "        self.Mp.val[1] = 0.\n",
    "        self.Mp.val[2] = 0.\n",
    "        \n",
    "        "
   ]
  },
  {
   "cell_type": "code",
   "execution_count": 7,
   "id": "defebce2",
   "metadata": {},
   "outputs": [],
   "source": [
    "class Mass(System):\n",
    "    \n",
    "    def setup(self):\n",
    "        \n",
    "        #Rocket inputs\n",
    "        self.add_inward('m0', 100., desc = \"Rocket's Initial Mass\")\n",
    "        self.add_inward('qp', 8., desc = \"Engine's Propulsive Debt\")\n",
    "        self.add_inward('qi', 2., desc = \"Engine's Inertial Debt\")\n",
    "        self.add_inward('m', 1., desc = \"Rocket Mass\")\n",
    "        \n",
    "        #Mass outputs\n",
    "        self.add_outward('dmdt', 1., desc = \"Rocket Mass' Rate of Change\")\n",
    "        \n",
    "    def compute(self):\n",
    "        \n",
    "        self.dmdt = -(self.qp + self.qi)\n",
    "    "
   ]
  },
  {
   "cell_type": "code",
   "execution_count": 8,
   "id": "f8834af6",
   "metadata": {},
   "outputs": [],
   "source": [
    "class Inertia(System):\n",
    "    \n",
    "    def setup(self):\n",
    "        \n",
    "        #Rocket inputs\n",
    "        self.add_inward('m0', 100., desc = \"Rocket's Initial Mass\")\n",
    "        self.add_inward('m', 100., desc = \"Rocket Mass\")\n",
    "        self.add_inward('I0', np.array([10., 100., 100.]), desc = \"Rocket's Initial Moments of Inertia\")\n",
    "        \n",
    "        #Inertia outputs\n",
    "        self.add_outward('I', np.ones(3), desc = \"Rocket's Moments of Inertia\")\n",
    "        \n",
    "    def compute(self):\n",
    "        \n",
    "        self.I = self.I0*self.m/self.m0\n",
    "    "
   ]
  },
  {
   "cell_type": "code",
   "execution_count": 9,
   "id": "aa2c80dd",
   "metadata": {},
   "outputs": [],
   "source": [
    "class Gravity(System):\n",
    "    \n",
    "    def setup(self):\n",
    "        \n",
    "        #System Constants\n",
    "        self.add_inward('G', 6.6743*10**(-11), desc = \"Gravitational Constant\")\n",
    "        self.add_inward('M', 5.972*10**24, desc = \"Earth's Mass\")\n",
    "        self.add_inward('R', 6.371*10**6, desc = \"Earth's Radius\")\n",
    "        \n",
    "        #Rocket inputs\n",
    "        self.add_inward('ar', np.zeros(3), desc = \"Rocket's Angular Position\")\n",
    "        \n",
    "        #Trajectory inputs\n",
    "        self.add_inward('r', np.zeros(3), desc = \"Rocket's Position\")\n",
    "        \n",
    "        #Gravity outputs\n",
    "        self.add_output(RotPort3, 'g')\n",
    "        \n",
    "    def compute(self):\n",
    "        \n",
    "        self.g.val = np.array([0., 0., -self.G*self.M/(self.R + self.r[-1])**2])\n",
    "        self.g.ang = -self.ar\n",
    "        \n",
    "        \n",
    "        "
   ]
  },
  {
   "cell_type": "code",
   "execution_count": 10,
   "id": "594480dc",
   "metadata": {},
   "outputs": [],
   "source": [
    "class Atmosphere(System):\n",
    "    \n",
    "    def setup(self):\n",
    "        \n",
    "        #System constants\n",
    "        self.add_inward('rho0', 1.225, desc = \"Air Density at Sea Level\")\n",
    "        self.add_inward('P0', 101325., desc = \"Atmospheric Pressure at Sea Level\")\n",
    "        self.add_inward('V', 0., desc = \"Wind speed\")\n",
    "        self.add_inward('eps', 0., desc = \"Wind Direction\")\n",
    "        \n",
    "        #Rocket inputs\n",
    "        self.add_inward('ar', np.zeros(3), desc = \"Rocket's Angular Position\")\n",
    "        \n",
    "        #Trajectory inputs\n",
    "        self.add_inward('r', np.zeros(3), desc = \"Rocket's Position\")\n",
    "        \n",
    "        #Atmosphere outputs\n",
    "        self.add_outward('rho', 1.225, desc = \"Air Density at Rocket's Height\")\n",
    "        self.add_outward('P', 101325., desc = \"Atmospheric Pressure at Rocket's Height\")\n",
    "        self.add_output(RotPort3, 'V_wind')\n",
    "        \n",
    "    def compute(self):\n",
    "        \n",
    "        self.rho = self.rho0 * (20000. - self.r[-1]) / (20000. + self.r[-1])\n",
    "        self.P = self.P0 * (20000. - self.r[-1]) / (20000. + self.r[-1])\n",
    "        self.V_wind.val = self.V\n",
    "        self.V_wind.ang = -(self.ar + np.array([0., 0., self.eps]))\n",
    "    "
   ]
  },
  {
   "cell_type": "code",
   "execution_count": 11,
   "id": "8a2868ef",
   "metadata": {},
   "outputs": [
    {
     "ename": "IndentationError",
     "evalue": "expected an indented block (214757741.py, line 5)",
     "output_type": "error",
     "traceback": [
      "\u001b[1;36m  File \u001b[1;32m\"C:\\Users\\Lucs\\AppData\\Local\\Temp\\ipykernel_9888\\214757741.py\"\u001b[1;36m, line \u001b[1;32m5\u001b[0m\n\u001b[1;33m    \u001b[0m\n\u001b[1;37m    ^\u001b[0m\n\u001b[1;31mIndentationError\u001b[0m\u001b[1;31m:\u001b[0m expected an indented block\n"
     ]
    }
   ],
   "source": [
    "class Aerodynamics(System):\n",
    "    \n",
    "    \n",
    "    \n",
    "    "
   ]
  },
  {
   "cell_type": "code",
   "execution_count": 13,
   "id": "2f02a719",
   "metadata": {},
   "outputs": [],
   "source": [
    "class Trajectory(System):\n",
    "    \n",
    "    def setup(self):\n",
    "        \n",
    "        #Rocket inputs\n",
    "        self.add_input(RotPort3, 'v_out')\n",
    "        self.add_transient('r', der = 'v_out.val')\n",
    "        \n",
    "        "
   ]
  },
  {
   "cell_type": "code",
   "execution_count": 14,
   "id": "9fe5214b",
   "metadata": {},
   "outputs": [],
   "source": [
    "#Main function\n",
    "\n",
    "#Time-step\n",
    "dt = 0.01\n",
    "\n",
    "#Add RungeKutta driver\n",
    "rocket = Rocket('rocket')\n",
    "driver = rocket.add_driver(RungeKutta(order=4, dt=dt))\n",
    "driver.time_interval = (0, 9)\n",
    "\n",
    "# Add a recorder to capture time evolution in a dataframe\n",
    "driver.add_recorder(\n",
    "    DataFrameRecorder(includes=['Traj.r', 'v', 'a.val', 'ar', 'av', 'aa.val']),\n",
    "    period=1,\n",
    ")\n",
    "\n",
    "#Initial conditions and constants\n",
    "driver.set_scenario(\n",
    "    init = {\n",
    "        'v' : np.zeros(3),\n",
    "        'ar' : np.array([0., np.pi/2, 0.]),\n",
    "        'av' : 0.*np.array([np.pi/20, np.pi/20, 0.])\n",
    "    })\n",
    "\n",
    "\n",
    "rocket.run_drivers()"
   ]
  },
  {
   "cell_type": "code",
   "execution_count": 19,
   "id": "47311f83",
   "metadata": {},
   "outputs": [
    {
     "data": {
      "text/html": [
       "\n",
       "        <iframe\n",
       "            width=\"810px\"\n",
       "            height=\"650px\"\n",
       "            src=\"rocket.html\"\n",
       "            frameborder=\"0\"\n",
       "            allowfullscreen\n",
       "            \n",
       "        ></iframe>\n",
       "        "
      ],
      "text/markdown": [
       "\n",
       "### Child components\n",
       "\n",
       "- `Mass`: Mass\n",
       "- `Inertia`: Inertia\n",
       "- `Grav`: Gravity\n",
       "- `Atmo`: Atmosphere\n",
       "- `Thrust`: Thrust\n",
       "- `Dyn`: Dynamics\n",
       "- `Traj`: Trajectory\n",
       "\n",
       "### Inputs\n",
       "\n",
       "- `inwards`: ExtensiblePort\n",
       "<div class='cosapp-port-table' style='margin-left: 25px; margin-top: -12px'><style type='text/css'>.cosapp-port-table >table >thead{display: none}.cosapp-port-table tbody tr{background: rgba(255, 255, 255, 0)!important}.cosapp-port-table tbody tr:hover{background: #e1f5fe!important}.cosapp-port-table >table {margin-left: unset; margin-right: unset}</style>\n",
       "\n",
       "|  |  |\n",
       "---|---\n",
       "  **av** &#128274;&#128274; : [0. 0. 0.] | Rocket's Angular Velocity\n",
       "  **m** &#128274;&#128274; : 10 |\n",
       "  **m0** &#128274;&#128274; : 100 | Rocket's Initial Mass\n",
       "  **ar** &#128274;&#128274; : [0.         1.57079633 0.        ] | Rocket's Angular Position\n",
       "  **Grav_r** &#128274;&#128274; : [   0.            0.         5564.04355413] | Rocket's Position\n",
       "  **v** &#128274;&#128274; : [1988.45944084    0.            0.        ] | Transient variable defined as d(v)/dt = a.val\n",
       "</div>\n",
       "\n",
       "- `v_out`: RotPort3\n",
       "<div class='cosapp-port-table' style='margin-left: 25px; margin-top: -12px'><style type='text/css'>.cosapp-port-table >table >thead{display: none}.cosapp-port-table tbody tr{background: rgba(255, 255, 255, 0)!important}.cosapp-port-table tbody tr:hover{background: #e1f5fe!important}.cosapp-port-table >table {margin-left: unset; margin-right: unset}</style>\n",
       "\n",
       "|  |  |\n",
       "---|---\n",
       "  **val**: [1988.45944084    0.            0.        ] |\n",
       "  **ang**: [0.         1.57079633 0.        ] |\n",
       "</div>\n",
       "\n",
       "\n",
       "### Outputs\n",
       "\n",
       "- `outwards`: ExtensiblePort\n",
       "<div class='cosapp-port-table' style='margin-left: 25px; margin-top: -12px'><style type='text/css'>.cosapp-port-table >table >thead{display: none}.cosapp-port-table tbody tr{background: rgba(255, 255, 255, 0)!important}.cosapp-port-table tbody tr:hover{background: #e1f5fe!important}.cosapp-port-table >table {margin-left: unset; margin-right: unset}</style>\n",
       "\n",
       "|  |  |\n",
       "---|---\n",
       "  **dmdt**: -10 | Rocket Mass' Rate of Change\n",
       "</div>\n",
       "\n",
       "- `a`: RotPort3\n",
       "<div class='cosapp-port-table' style='margin-left: 25px; margin-top: -12px'><style type='text/css'>.cosapp-port-table >table >thead{display: none}.cosapp-port-table tbody tr{background: rgba(255, 255, 255, 0)!important}.cosapp-port-table tbody tr:hover{background: #e1f5fe!important}.cosapp-port-table >table {margin-left: unset; margin-right: unset}</style>\n",
       "\n",
       "|  |  |\n",
       "---|---\n",
       "  **val**: [913.97916261   0.           0.        ] |\n",
       "  **ang**: [0. 0. 0.] |\n",
       "</div>\n",
       "\n",
       "- `aa`: RotPort3\n",
       "<div class='cosapp-port-table' style='margin-left: 25px; margin-top: -12px'><style type='text/css'>.cosapp-port-table >table >thead{display: none}.cosapp-port-table tbody tr{background: rgba(255, 255, 255, 0)!important}.cosapp-port-table tbody tr:hover{background: #e1f5fe!important}.cosapp-port-table >table {margin-left: unset; margin-right: unset}</style>\n",
       "\n",
       "|  |  |\n",
       "---|---\n",
       "  **val**: [0. 0. 0.] |\n",
       "  **ang**: [0. 0. 0.] |\n",
       "</div>\n"
      ],
      "text/plain": [
       "rocket - Rocket"
      ]
     },
     "execution_count": 19,
     "metadata": {},
     "output_type": "execute_result"
    }
   ],
   "source": [
    "rocket"
   ]
  },
  {
   "cell_type": "code",
   "execution_count": 15,
   "id": "1fa409f8",
   "metadata": {},
   "outputs": [],
   "source": [
    "data = driver.recorder.export_data()\n",
    "data = data.drop(['Section', 'Status', 'Error code'], axis=1)\n",
    "time = np.asarray(data['time'])\n",
    "traj = np.asarray(data['Traj.r'].tolist())\n",
    "velo = np.asarray(data['v'].tolist())\n",
    "acel = np.asarray(data['a.val'].tolist())\n",
    "atraj = np.asarray(data['ar'].tolist())\n",
    "avelo = np.asarray(data['av'].tolist())\n",
    "aacel = np.asarray(data['aa.val'].tolist())"
   ]
  },
  {
   "cell_type": "code",
   "execution_count": 16,
   "id": "a1302e91",
   "metadata": {},
   "outputs": [
    {
     "data": {
      "text/plain": [
       "array([[   0.        ,    0.        ,    0.        ],\n",
       "       [   0.        ,    0.        ,   40.62151012],\n",
       "       [   0.        ,    0.        ,  169.4226479 ],\n",
       "       [   0.        ,    0.        ,  398.88001963],\n",
       "       [   0.        ,    0.        ,  745.20774882],\n",
       "       [   0.        ,    0.        , 1230.26996893],\n",
       "       [   0.        ,    0.        , 1885.06322534],\n",
       "       [   0.        ,    0.        , 2756.81935115],\n",
       "       [   0.        ,    0.        , 3926.21692966],\n",
       "       [   0.        ,    0.        , 5564.04355413]])"
      ]
     },
     "execution_count": 16,
     "metadata": {},
     "output_type": "execute_result"
    }
   ],
   "source": [
    "traj"
   ]
  },
  {
   "cell_type": "code",
   "execution_count": 17,
   "id": "21090f83",
   "metadata": {},
   "outputs": [
    {
     "data": {
      "text/plain": [
       "array([[   0.        ,    0.        ,    0.        ],\n",
       "       [  82.87775655,    0.        ,    0.        ],\n",
       "       [ 176.78572985,    0.        ,    0.        ],\n",
       "       [ 284.80114527,    0.        ,    0.        ],\n",
       "       [ 411.44433188,    0.        ,    0.        ],\n",
       "       [ 563.73945321,    0.        ,    0.        ],\n",
       "       [ 753.47519433,    0.        ,    0.        ],\n",
       "       [1002.78473644,    0.        ,    0.        ],\n",
       "       [1361.43008102,    0.        ,    0.        ],\n",
       "       [1988.45944084,    0.        ,    0.        ]])"
      ]
     },
     "execution_count": 17,
     "metadata": {},
     "output_type": "execute_result"
    }
   ],
   "source": [
    "velo"
   ]
  },
  {
   "cell_type": "code",
   "execution_count": 18,
   "id": "a099b24b",
   "metadata": {},
   "outputs": [
    {
     "data": {
      "text/plain": [
       "array([[ 78.14752657,   0.        ,   0.        ],\n",
       "       [ 87.96745881,   0.        ,   0.        ],\n",
       "       [100.3527057 ,   0.        ,   0.        ],\n",
       "       [116.41520199,   0.        ,   0.        ],\n",
       "       [138.00808637,   0.        ,   0.        ],\n",
       "       [168.46748539,   0.        ,   0.        ],\n",
       "       [214.46838404,   0.        ,   0.        ],\n",
       "       [291.59669946,   0.        ,   0.        ],\n",
       "       [446.65673253,   0.        ,   0.        ],\n",
       "       [913.97916261,   0.        ,   0.        ]])"
      ]
     },
     "execution_count": 18,
     "metadata": {},
     "output_type": "execute_result"
    }
   ],
   "source": [
    "acel"
   ]
  },
  {
   "cell_type": "code",
   "execution_count": null,
   "id": "4c1f7de6",
   "metadata": {},
   "outputs": [],
   "source": [
    "atraj"
   ]
  },
  {
   "cell_type": "code",
   "execution_count": null,
   "id": "ae38ea0f",
   "metadata": {},
   "outputs": [],
   "source": [
    "avelo"
   ]
  },
  {
   "cell_type": "code",
   "execution_count": null,
   "id": "dfe8b46b",
   "metadata": {},
   "outputs": [],
   "source": [
    "aacel"
   ]
  },
  {
   "cell_type": "code",
   "execution_count": null,
   "id": "061451a8",
   "metadata": {},
   "outputs": [],
   "source": [
    "#Animation - Center of Mass Movement\n",
    "\n",
    "fig=go.Figure(go.Scatter(x=[traj[0,0]], y=[traj[0,2]], mode=\"markers\", marker = dict(color=\"red\", size=10), name='Testing Points'))\n",
    "fig.update_layout(title='Center of Gravity Movement',\n",
    "                  title_x=0.5,\n",
    "                  width=600, height=600, \n",
    "                  xaxis_title='Ground Level', \n",
    "                  yaxis_title='Height',\n",
    "                  yaxis_range=(0,4000),\n",
    "                  xaxis_range=(0,4000), #you generate y-values for i =0, ...99, \n",
    "                                      #that are assigned, by default, to x-values 0, 1, ..., 99\n",
    "                  \n",
    "                  updatemenus=[dict(buttons = [dict(\n",
    "                                               args = [None, {\"frame\": {\"duration\": 10000*dt, \n",
    "                                                                        \"redraw\": True},\n",
    "                                                              \"fromcurrent\": True, \n",
    "                                                              \"transition\": {\"duration\": 10}}],\n",
    "                                               label = \"Play\",\n",
    "                                               method = \"animate\")],\n",
    "                                type='buttons',\n",
    "                                showactive=False,\n",
    "                                y=1,\n",
    "                                x=1.12,\n",
    "                                xanchor='right',\n",
    "                                yanchor='top')])\n",
    "\n",
    "\n",
    "                                          \n",
    "                    \n",
    "frames= [go.Frame(data=[go.Scatter(x=[traj[i,0]],y=[traj[i,2]])]) for i in range(len(traj[:,0]))]\n",
    "fig.update(frames=frames)\n",
    "\n",
    "fig.show()"
   ]
  },
  {
   "cell_type": "code",
   "execution_count": null,
   "id": "6aa65520",
   "metadata": {},
   "outputs": [],
   "source": [
    "plt.scatter(traj[:,0], traj[:,2])"
   ]
  },
  {
   "cell_type": "code",
   "execution_count": null,
   "id": "15841c90",
   "metadata": {},
   "outputs": [],
   "source": [
    "traj[:,2]"
   ]
  },
  {
   "cell_type": "code",
   "execution_count": null,
   "id": "449b4c0f",
   "metadata": {},
   "outputs": [],
   "source": [
    "traj[:,0]"
   ]
  },
  {
   "cell_type": "code",
   "execution_count": null,
   "id": "053db903",
   "metadata": {},
   "outputs": [],
   "source": []
  }
 ],
 "metadata": {
  "kernelspec": {
   "display_name": "Python 3 (ipykernel)",
   "language": "python",
   "name": "python3"
  },
  "language_info": {
   "codemirror_mode": {
    "name": "ipython",
    "version": 3
   },
   "file_extension": ".py",
   "mimetype": "text/x-python",
   "name": "python",
   "nbconvert_exporter": "python",
   "pygments_lexer": "ipython3",
   "version": "3.9.13"
  }
 },
 "nbformat": 4,
 "nbformat_minor": 5
}
